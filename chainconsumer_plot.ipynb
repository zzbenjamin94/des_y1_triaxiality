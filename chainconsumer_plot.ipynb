{
 "cells": [
  {
   "cell_type": "code",
   "execution_count": null,
   "id": "948025c6-281a-4414-ad95-e616da679142",
   "metadata": {},
   "outputs": [],
   "source": [
    "#Make a chain consumer plot\n",
    "#from chainconsumer import ChainConsumer\n",
    "import numpy as np\n",
    "import matplotlib as mpl\n",
    "import matplotlib.pyplot as plt\n",
    "\n",
    "\n",
    "from matplotlib import rc\n",
    "import matplotlib\n",
    "#plt.rc('text', usetex=True)\n",
    "#mpl.rcParams['text.usetex'] = False\n",
    "#plt.rc('text', usetex=False)\n",
    "#matplotlib.use('TkAgg')"
   ]
  },
  {
   "cell_type": "code",
   "execution_count": null,
   "id": "9609fa41-c511-4184-8f53-bb3276808f3b",
   "metadata": {},
   "outputs": [],
   "source": [
    "import numpy as np\n",
    "from chainconsumer import ChainConsumer\n",
    "\n",
    "mean = [0.0, 4.0]\n",
    "data = np.random.multivariate_normal(mean, [[1.0, 0.7], [0.7, 1.5]], size=100000)\n",
    "\n",
    "c = ChainConsumer()\n",
    "c.add_chain(data, parameters=[\"$x_1$\", \"$x_2$\"])\n",
    "c.plotter.plot(filename=\"example.png\", figsize=\"column\", truth=mean)\n",
    "plt.show()"
   ]
  },
  {
   "cell_type": "code",
   "execution_count": null,
   "id": "53316684-473c-44dc-8b13-ab96eb490ab8",
   "metadata": {},
   "outputs": [],
   "source": []
  },
  {
   "cell_type": "raw",
   "id": "4d0150a7-0253-4e3c-88b3-7076eb37d6c8",
   "metadata": {},
   "source": [
    "mcmc_dir='chains/'+'p_lmda_cosi_all_model2'\n",
    "As=np.genfromtxt(mcmc_dir+'/Chain_0/A_0.txt')\n",
    "Bs=np.genfromtxt(mcmc_dir+'/Chain_0/B.txt')\n",
    "sig0s=np.genfromtxt(mcmc_dir+'/Chain_0/sigma0.txt')\n",
    "print(np.mean(As), np.std(As))\n",
    "print(np.mean(Bs), np.std(Bs))\n",
    "print(np.mean(sig0s), np.std(sig0s))\n",
    "\n",
    "# plot the parameter constraints\n",
    "c = ChainConsumer()\n",
    "data=np.vstack( (As, Bs, sig0s) ).T\n",
    "c.add_chain(data, parameters=[r\"$A$\", r\"$B$\", r\"$\\sigma_0$\"], name='All bins')\n",
    "c.configure(colors=['k'], linestyles=[\":\"], shade=[True], shade_alpha=[0.5])\n",
    "c.plotter.plot()\n",
    "#plt.show()"
   ]
  },
  {
   "cell_type": "code",
   "execution_count": null,
   "id": "7e25cdee-9f6a-43cb-ad35-f0ec2ad348ba",
   "metadata": {},
   "outputs": [],
   "source": []
  }
 ],
 "metadata": {
  "kernelspec": {
   "display_name": "myLSST",
   "language": "python",
   "name": "mylsst"
  },
  "language_info": {
   "codemirror_mode": {
    "name": "ipython",
    "version": 3
   },
   "file_extension": ".py",
   "mimetype": "text/x-python",
   "name": "python",
   "nbconvert_exporter": "python",
   "pygments_lexer": "ipython3",
   "version": "3.6.13"
  }
 },
 "nbformat": 4,
 "nbformat_minor": 5
}
