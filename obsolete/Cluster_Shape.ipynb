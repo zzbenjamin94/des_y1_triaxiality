{
 "cells": [
  {
   "cell_type": "markdown",
   "metadata": {},
   "source": [
    "# Shape of Galaxy Cluster from Galaxy Catalog"
   ]
  },
  {
   "cell_type": "markdown",
   "metadata": {},
   "source": [
    "#### Matching galaxies onto clusters.\n",
    "Extract positional information from galaxies and match them to same host cluster. \n",
    "Need to convert RA, DEC, Z or whatever coordinates into X,Y,Z\n",
    "\n",
    "#### Axes finding algorithm\n",
    "Use simplied inertia tensor\n",
    "Eigenvectors are axes\n",
    "Eigenvalues take square root are length per unit mass (how to divide by mass?) Total mass of all galaxies?\n",
    "To simplify, take mass of all galaxies to be 1, so that not weighted by mass"
   ]
  },
  {
   "cell_type": "markdown",
   "metadata": {},
   "source": [
    "## Matching galaxies to clusters"
   ]
  },
  {
   "cell_type": "code",
   "execution_count": 1,
   "metadata": {
    "collapsed": true
   },
   "outputs": [],
   "source": [
    "import numpy as np\n",
    "\n",
    "# import pyplot and set some parameters to make plots prettier\n",
    "import matplotlib.pyplot as plt\n",
    "from code.plot_utils import plot_pretty\n",
    "plot_pretty()\n",
    "\n",
    "# setup notebook for inline figures\n",
    "%matplotlib inline\n",
    "\n",
    "from mpl_toolkits.mplot3d import Axes3D"
   ]
  },
  {
   "cell_type": "code",
   "execution_count": 2,
   "metadata": {
    "collapsed": false
   },
   "outputs": [
    {
     "name": "stdout",
     "output_type": "stream",
     "text": [
      "Number of clusters is  24243\n",
      "Number of host clusters galaxies matched onto is  24243\n",
      "Number of galaxis is  1564350\n"
     ]
    }
   ],
   "source": [
    "from code.setup.setup import data_home_dir\n",
    "import pyfits\n",
    "#Read http://pythonhosted.org/pyfits/\n",
    "\n",
    "datadir = data_home_dir()\n",
    "\n",
    "#RedMapper Galaxy cluster data\n",
    "redM_data = datadir+'buzzard-0_1.6_y3_run_redmapper_v6.4.20_lgt20_vl02_catalog.fit'\n",
    "redM_list = pyfits.open(redM_data)\n",
    "redM_data = redM_list[1].data\n",
    "print \"Number of clusters is \", len(redM_data)\n",
    "\n",
    "#Galaxy File\n",
    "gal_data = datadir+'buzzard-0_1.6_y3_run_redmapper_v6.4.20_lgt20_vl02_catalog_members.fit'\n",
    "gal_list = pyfits.open(gal_data)\n",
    "gal_data = gal_list[1].data\n",
    "\n",
    "#test the number of unique clusters on galaxies\n",
    "gal_match_cl = gal_data['MEM_MATCH_ID']\n",
    "a = np.unique(gal_match_cl)\n",
    "print 'Number of host clusters galaxies matched onto is ', len(a)\n",
    "print \"Number of galaxis is \", len(gal_data)"
   ]
  },
  {
   "cell_type": "code",
   "execution_count": 3,
   "metadata": {
    "collapsed": true
   },
   "outputs": [],
   "source": [
    "#Convert from (RA, DEC, Z) to (X, Y, Z) in order to build Cartesian inertial tensor. \n",
    "#Add coordinates onto the existing gal_dat and redM_data records array\n",
    "from astropy.cosmology import FlatLambdaCDM #as cosmo #H0 = 67.7\n",
    "from astropy.coordinates import SkyCoord\n",
    "from astropy import units as u\n",
    "import pickle\n",
    "\n",
    "#Define cosmology\n",
    "h = 0.7\n",
    "cosmo = FlatLambdaCDM(H0=h*100, Om0=0.3, Tcmb0=2.725)\n",
    "\n",
    "#Convert coordinates\n",
    "#vec = hp.ang2vec(angle[0],angle[1])\n",
    "gal_RA = np.copy(gal_data['RA']); gal_DEC = np.copy(gal_data['DEC']); gal_Z = np.copy(gal_data['ZSPEC'])\n",
    "gal_R = np.copy(gal_data['R']); gal_match_ID = gal_data['MEM_MATCH_ID']\n",
    "redM_RA = np.copy(redM_data['RA']); redM_DEC = np.copy(redM_data['DEC']); \n",
    "redM_Z = np.copy(redM_data['Z']); redM_ID=redM_data['MEM_MATCH_ID']\n",
    "\n",
    "redM_comv = cosmo.comoving_distance(redM_Z)"
   ]
  },
  {
   "cell_type": "code",
   "execution_count": 21,
   "metadata": {
    "collapsed": false
   },
   "outputs": [
    {
     "name": "stdout",
     "output_type": "stream",
     "text": [
      "Check coordinates\n"
     ]
    }
   ],
   "source": [
    "#Array that matches galaxies with clusters. Each cluster entry should have rx, ry, rz for each galaxy.\n",
    "\n",
    "#Find matching galaxies to a cluster\n",
    "#Change from RA, DEC, Z to rx, ry, rz. Need to figure out the line of sight direction. \n",
    "#Write a function for the shape tensor. \n",
    "\n",
    "#For Galaxies selection. Using DM particles. No longer needed.\n",
    "\n",
    "\"\"\"\n",
    "gal_sel = (gal_match_ID == redM_ID[0])\n",
    "gal_data_sel = gal_data[gal_sel]\n",
    "gal_Z_sel = gal_Z[gal_sel]\n",
    "num_mem_gal = len(gal_data_sel)\n",
    "\n",
    "#build coordinate system\n",
    "centr = SkyCoord(redM_RA[0]*u.degree, redM_DEC[0]*u.degree, distance=redM_comv[0]*u.Mpc, frame='icrs')\n",
    "centr.representation = 'cartesian'\n",
    "gal_comv = cosmo.comoving_distance(gal_data_sel['Z']) #!Should use ZSPEC for true distance, but use Z for projected assuming same as cluster center\n",
    "gal_coord = SkyCoord(gal_data_sel['RA']*u.degree, gal_data_sel['DEC']*u.degree, distance=gal_comv*u.Mpc, frame='icrs')\n",
    "gal_coord.representation = 'cartesian'\n",
    "\n",
    "#Converting astopy coordinates to number array\n",
    "gal_coord_x = gal_coord.x.value; gal_coord_y = gal_coord.y.value; gal_coord_z = gal_coord.z.value\n",
    "centr_x = centr.x.value; centr_y = centr.y.value; centr_z = centr.z.value\n",
    "\"\"\"\n",
    "print \"Check coordinates\"\n",
    "#Check if SkyCoord icrs frame has same X,Y,Z as hp.vec2ang"
   ]
  },
  {
   "cell_type": "code",
   "execution_count": 25,
   "metadata": {
    "collapsed": true
   },
   "outputs": [],
   "source": [
    "\"\"\"\n",
    "Updated April 16, 2018\n",
    "Follow convention of Ken Osato: Use reduced quadropole moment to find axis ratio of ellipsoidal cluster\n",
    "1. Project onto principle axes spitted out by quadropole tensor\n",
    "2. Do not remove particles. Particles chosen for those inside Rvir\n",
    "3. Use Reduced tensor\n",
    "4. q, s refer to ratio of minor to major, and intermediate to major axis\n",
    "\n",
    "Returns:\n",
    "converge -- Boolean\n",
    "[a,b,c] -- normalized major, intermediate, minor axes lengths (only ratio matters in reduced tensor)\n",
    "[lx, ly, lz] -- direction of minor, intermediate, major in original (non-rotated) basis\n",
    "\"\"\"\n",
    "\n",
    "def quad_moment(ptcl_coord, centr, rvir):\n",
    "    centr_x = centr[0]; centr_y = centr[1]; centr_z = centr[2]\n",
    "    ptcl_coord_x = ptcl_coord[0]; ptcl_coord_y = ptcl_coord[1]; ptcl_coord_z = ptcl_coord[2]\n",
    "\n",
    "    rx = ptcl_coord_x - centr_x; ry = ptcl_coord_y - centr_y; rz = ptcl_coord_z - centr_z \n",
    "\n",
    "    R_range = np.sqrt(rx**2. + ry**2. + rz**2.)\n",
    "    #rmax = np.sqrt(np.max(r_mem_ptcl[:,3]))\n",
    "    #print \"Number of particles before selection is \", len(rx)\n",
    "    \n",
    "    #Choose particles inside Rvir\n",
    "    ptcl_range = np.where(R_range < rvir)\n",
    "    rx = rx[ptcl_range]; ry = ry[ptcl_range]; rz = rz[ptcl_range]\n",
    "     \n",
    "    num_mem_ptcl = len(rx)\n",
    "    #print \"Number of particles inside virial radius is \", num_mem_ptcl\n",
    "\n",
    "    #Building quadrupole tensor. \n",
    "    Rp = np.sqrt(rx**2. + ry**2. + rz**2.)\n",
    "    r = np.matrix([rx,ry,rz])\n",
    "    r_rdu = r/Rp\n",
    "    M_rdu = r_rdu*r_rdu.T #Initial quadrupole tensor before iteration\n",
    "\n",
    "    #Finding eigvec, eigval\n",
    "    M_eigval, M_eigvec = np.linalg.eig(M_rdu)\n",
    "    sort_eigval = np.argsort(M_eigval)[::-1]\n",
    "    a, b, c = np.sqrt(M_eigval[sort_eigval]/num_mem_ptcl) #a, b, c major, intermediate, minor\n",
    "    lx, ly, lz = M_eigvec.T[sort_eigval][::-1] #lx, ly, lz minor, intermediate, major (order reversed from a, b, c)\n",
    "    lx = np.array(lx)[0]; ly = np.array(ly)[0]; lz = np.array(lz)[0]\n",
    "    \n",
    "    #Sanity check\n",
    "    \"\"\"\n",
    "    print \"r_rdu\", r_rdu\n",
    "    check_eig = M_rdu.dot(lx) - num_mem_ptcl*c**2.*lx\n",
    "    print \"M_rdu.dot(lx) \", np.dot(np.array(M_rdu), lx)\n",
    "    print \"check_eig \", check_eig\n",
    "    print \"lx is \", lx\n",
    "    print \"M_eigvec.T[sort_eigval], \", M_eigvec.T[sort_eigval]\n",
    "    print \"M_eigvec[:,0] \", M_eigvec[:,0]\n",
    "    print \"M_eigvec[sort_eigval] \", M_eigvec[sort_eigval]\n",
    "    print \"M_eigvec\", M_eigvec\n",
    "    print \"sort_eigval \", sort_eigval\n",
    "    \"\"\"\n",
    "    \n",
    "    #Initial conditions\n",
    "    q_prev = 1.; s_prev = 1.\n",
    "    converge = False\n",
    "    conv_iter = 0\n",
    "\n",
    "    P_tot = np.eye(3) #the multiplicative product of all projections done over each iteration\n",
    "    while (not converge) & (conv_iter < 100):\n",
    "        #Change of basis\n",
    "        P_axis = np.matrix([lx,ly,lz])\n",
    "        P_tot = P_axis*P_tot\n",
    "        r_proj = P_axis*r\n",
    "        rx = np.array(r_proj[0,:])[0]; ry = np.array(r_proj[1,:])[0]; rz = np.array(r_proj[2,:])[0]\n",
    "\n",
    "        #New iteration\n",
    "        q_cur = c/a; s_cur = b/a #Osato conventaion\n",
    "        Rp = np.sqrt((rx/q_cur)**2. + (ry/s_cur)**2. + rz**2.)\n",
    "        r = np.matrix([rx, ry, rz])\n",
    "        r_rdu = r/Rp\n",
    "        M_rdu = r_rdu*r_rdu.T\n",
    "        M_eigval, M_eigvec = np.linalg.eig(M_rdu)\n",
    "        sort_eigval = np.argsort(M_eigval)[::-1]\n",
    "        a, b, c = np.sqrt(M_eigval[sort_eigval]/num_mem_ptcl)\n",
    "        lx, ly, lz = M_eigvec.T[sort_eigval][::-1]\n",
    "        lx = np.array(lx)[0]; ly = np.array(ly)[0]; lz = np.array(lz)[0]\n",
    "        \n",
    "        #test converge\n",
    "        conv_err = 1e-6\n",
    "        conv_s = np.abs(1 - s_cur/s_prev); conv_q = np.abs(1 - q_cur/q_prev)\n",
    "        converge = (conv_s < conv_err) & (conv_q < conv_err)\n",
    "        #print \"Conv_s, conv_q \", conv_s, conv_q\n",
    "        #print \"Number of particles \", len(rx)\n",
    "        #print \"a, b, c \", a, b, c\n",
    "        #print \"q, s are \", q_cur, s_cur  \n",
    "        #print \"lx\", lx\n",
    "        #print 'converge is ', converge\n",
    "        #print '\\n'\n",
    "        conv_iter += 1\n",
    "        q_prev = q_cur; s_prev = s_cur\n",
    "    \n",
    "    #find lx, ly, lz in original basis\n",
    "    P_inv = np.linalg.inv(P_tot)\n",
    "    l_new_basis = np.matrix([lx,ly,lz]).T\n",
    "    l_orig_basis = np.transpose(P_inv*l_new_basis)\n",
    "    lx_orig = l_orig_basis[0]; ly_orig = l_orig_basis[1]; lz_orig = l_orig_basis[2]\n",
    "    \n",
    "    \n",
    "    return converge, [a,b,c], [lx_orig, ly_orig, lz_orig]"
   ]
  },
  {
   "cell_type": "code",
   "execution_count": 26,
   "metadata": {
    "collapsed": false
   },
   "outputs": [
    {
     "name": "stdout",
     "output_type": "stream",
     "text": [
      "True [0.5773504279935158, 0.31355738012861206, 0.23943732103822274] [matrix([[ 0.73342967,  0.67975759, -0.00324522]]), matrix([[ 0.00301255, -0.00802432, -0.99996327]]), matrix([[ 0.67975866, -0.73339295,  0.00793308]])]\n"
     ]
    }
   ],
   "source": [
    "from code.Heidi_read_halo_particles import read_halo_ptcl\n",
    "#For testing the quad_moment function\n",
    "\n",
    "ra = 64.3599024; dec = 16.68787569;\n",
    "x_cen = 273.26001; y_cen = 569.31482; z_cen = 189.31299\n",
    "red_cen = 0.23191588\n",
    "chi_cen = np.sqrt(x_cen**2 + y_cen**2 + z_cen**2)\n",
    "rbin = int(chi_cen//25)\n",
    "rvir = 2.549908\n",
    "\n",
    "\n",
    "x, y, z = read_halo_ptcl(ra, dec, red_cen, x_cen, y_cen, z_cen, Rmax=rvir)\n",
    "ptcl_coord = [x,y,z]; centr = [x_cen, y_cen, z_cen]\n",
    "#print ptcl_coord, centr\n",
    "\n",
    "converge, axes_len, axes_dir = quad_moment(ptcl_coord, centr, rvir)\n",
    "print converge, axes_len, axes_dir\n",
    "    "
   ]
  },
  {
   "cell_type": "code",
   "execution_count": 12,
   "metadata": {
    "collapsed": false
   },
   "outputs": [
    {
     "name": "stdout",
     "output_type": "stream",
     "text": [
      "[[0 0 1]\n",
      " [0 0 1]\n",
      " [0 0 1]]\n",
      "1\n"
     ]
    }
   ],
   "source": []
  },
  {
   "cell_type": "code",
   "execution_count": null,
   "metadata": {
    "collapsed": true
   },
   "outputs": [],
   "source": []
  }
 ],
 "metadata": {
  "anaconda-cloud": {},
  "kernelspec": {
   "display_name": "Python [conda root]",
   "language": "python",
   "name": "conda-root-py"
  },
  "language_info": {
   "codemirror_mode": {
    "name": "ipython",
    "version": 2
   },
   "file_extension": ".py",
   "mimetype": "text/x-python",
   "name": "python",
   "nbconvert_exporter": "python",
   "pygments_lexer": "ipython2",
   "version": "2.7.14"
  }
 },
 "nbformat": 4,
 "nbformat_minor": 1
}
