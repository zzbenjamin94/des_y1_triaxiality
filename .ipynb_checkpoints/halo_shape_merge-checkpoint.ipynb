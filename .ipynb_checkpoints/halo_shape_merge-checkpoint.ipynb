{
 "cells": [
  {
   "cell_type": "markdown",
   "metadata": {},
   "source": [
    "## Combine files from different redshift into a single file\n",
    "Combines halo_shape_highz.npy and halo_shape_lowz.npy into a single halos_shape_allz.npy.\n",
    "Can apply also to the randomly sampled halos or halo_shape with adaptive features. "
   ]
  },
  {
   "cell_type": "code",
   "execution_count": 4,
   "metadata": {
    "collapsed": true
   },
   "outputs": [],
   "source": [
    "import numpy as np\n",
    "\n",
    "# import pyplot and set some parameters to make plots prettier\n",
    "import matplotlib.pyplot as plt\n",
    "from tools.plot_utils import plot_pretty\n",
    "plot_pretty()\n",
    "%matplotlib inline\n",
    "\n",
    "from mpl_toolkits.mplot3d import Axes3D\n",
    "#from tools.halo_shape_calc import quad_moment\n",
    "#from tools.lightcone_query_ra_dec import query_file, read_radial_bin\n",
    "from tools.setup.setup import home_dir\n",
    "import pyfits\n",
    "datadir = home_dir() + 'output/buzzard/halo_shape/'"
   ]
  },
  {
   "cell_type": "code",
   "execution_count": 7,
   "metadata": {
    "collapsed": false
   },
   "outputs": [
    {
     "name": "stdout",
     "output_type": "stream",
     "text": [
      "Created from halo_shape_highz.npy record array\n",
      "Number of halos is 22039\n",
      "Created from halo_shape_lowz.npy record array\n",
      "Number of halos is 1958\n",
      "total number of redMapper selected halos initially is 23997\n",
      "Number of halos is 23997\n",
      "Highest redshift is  0.766272\n",
      "halo_shape saved\n"
     ]
    }
   ],
   "source": [
    "#Combining data for redMapper selected halos\n",
    "try:\n",
    "    filename = 'halo_shape_highz.npy'\n",
    "    halo_shape_highz = np.load(datadir+filename)\n",
    "except IOError:\n",
    "    print\"Error: File {0} cannot be opened\".format(filename)\n",
    "else:\n",
    "    print\"Created from {} record array\".format(filename)\n",
    "    print \"Number of halos is {}\".format(len(halo_shape_highz))\n",
    "    \n",
    "try:\n",
    "    filename = 'halo_shape_lowz.npy'\n",
    "    halo_shape_lowz = np.load(datadir+filename)\n",
    "except IOError:\n",
    "    print\"Error: File {0} cannot be opened\".format(filename)\n",
    "else:\n",
    "    print \"Created from {} record array\".format(filename)\n",
    "    print \"Number of halos is {}\".format(len(halo_shape_lowz))\n",
    "    \n",
    "halo_shape = np.hstack((halo_shape_lowz, halo_shape_highz))\n",
    "print \"total number of redMapper selected halos initially is {}\".format(len(halo_shape))\n",
    "print \"Number of halos is {}\".format(len(halo_shape))\n",
    "print \"Highest redshift is \", np.max(halo_shape['redshift'])\n",
    "\n",
    "np.save(datadir+'halo_shape_allz.npy', halo_shape)\n",
    "print \"halo_shape saved\""
   ]
  },
  {
   "cell_type": "code",
   "execution_count": null,
   "metadata": {
    "collapsed": true
   },
   "outputs": [],
   "source": []
  }
 ],
 "metadata": {
  "anaconda-cloud": {},
  "kernelspec": {
   "display_name": "Python [conda env:anaconda2]",
   "language": "python",
   "name": "conda-env-anaconda2-py"
  },
  "language_info": {
   "codemirror_mode": {
    "name": "ipython",
    "version": 2
   },
   "file_extension": ".py",
   "mimetype": "text/x-python",
   "name": "python",
   "nbconvert_exporter": "python",
   "pygments_lexer": "ipython2",
   "version": "2.7.14"
  }
 },
 "nbformat": 4,
 "nbformat_minor": 1
}
