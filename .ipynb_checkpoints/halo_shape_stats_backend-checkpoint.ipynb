{
 "cells": [
  {
   "cell_type": "markdown",
   "metadata": {},
   "source": [
    "## Backend process of statistical processes for halo shapes\n",
    "### Zhuowen Zhang, created Aug. 15, 2018"
   ]
  },
  {
   "cell_type": "code",
   "execution_count": 7,
   "metadata": {
    "collapsed": true
   },
   "outputs": [],
   "source": [
    "# import pyplot and set some parameters to make plots prettier\n",
    "import matplotlib.pyplot as plt\n",
    "\n",
    "from glob import glob\n",
    "import numpy as np\n",
    "import healpy as hp\n",
    "import struct\n",
    "\n",
    "import sys\n",
    "sys.path.append('/home/zzbenjamin94/Desktop/Astronomy/Research/DES_Galaxy_Cluster')\n",
    "from tools.setup.setup import home_dir\n",
    "from tools.kmeans_radec import kmeans, kmeans_sample\n",
    "import pyfits\n",
    "datadir = home_dir()+'output/buzzard/halo_shape/'\n",
    "            \n",
    "    \n",
    "'''\n",
    "Uses the kmeans method to split the sky into different patches and run jackknife resampling on the \n",
    "user-inputted statistic to find the mean and standard error of said statistic. \n",
    "\n",
    "Parameters\n",
    "-----------\n",
    "ncen: Number of centers to split sky into. \n",
    "halos_coord: Array of [N,2] in RA, DEC\n",
    "stats: Array of [num_stats]\n",
    "bins_ind: List of arrays that contains indices of \"stats\" parameters in each bin. Output of halo_bin_stat(). \n",
    "\n",
    "\n",
    "Output:\n",
    "----------\n",
    "kmeans_bin_mean: [num_bin] array of mean in each bin\n",
    "kmeans_bin_SE: [num_bin] array of standard error in each bin\n",
    "'''\n",
    "def kmeans_stats(ncen, halos_coord, stat, bins_ind):\n",
    "    #Sanity checks\n",
    "    assert all([len(halos_coord), len(stat)]), \"Number of halos not equal number of statistics.\"\n",
    "    \n",
    "    #output arrays\n",
    "    num_bins = len(bins_ind)\n",
    "    stat_bin_SE = np.zeros(num_bins)\n",
    "    stat_bin_mean = np.zeros(num_bins)\n",
    "    \n",
    "    #kmeans centers and coordinates \n",
    "    km = kmeans_sample(halos_coord, ncen, verbose=0)\n",
    "    km_centers = km.get_centers()\n",
    "    km_labels= km.find_nearest(halos_coord)\n",
    "    km_ncen = km.get_ncen()\n",
    "    \n",
    "\n",
    "    for i in range(num_bins):\n",
    "        stat_jk_list= []\n",
    "        for j in range(km_ncen):\n",
    "            jackknife_cut = np.where(km_labels != j)[0]\n",
    "            jackknife_cut = np.intersect1d(jackknife_cut, bins_ind[i])\n",
    "            stat_bin_cut = stat[jackknife_cut]            \n",
    "            stat_jk_list.append(stat_bin_cut)\n",
    "            \n",
    "        stat_jk_list = np.asarray(stat_jk_list)\n",
    "    \n",
    "        #Jackknife estimator of SE and mean\n",
    "        stat_rdu_arr = np.array([np.mean(stat_jk_list[x]) for x in range(len(stat_jk_list))])\n",
    "        stat_jk_mean = np.mean(stat_rdu_arr)\n",
    "        stat_jk_var = np.var(stat_rdu_arr, ddof=1)\n",
    "        stat_jk_std = np.std(stat_rdu_arr, ddof=1)\n",
    "        stat_jk_SE = (km_ncen-1)/np.sqrt(km_ncen)*stat_jk_std\n",
    "        stat_bin_mean[i] = stat_jk_mean; stat_bin_SE[i] = stat_jk_SE\n",
    "        \n",
    "    return stat_bin_SE, stat_bin_mean\n",
    "    "
   ]
  },
  {
   "cell_type": "code",
   "execution_count": 11,
   "metadata": {
    "collapsed": false
   },
   "outputs": [
    {
     "name": "stdout",
     "output_type": "stream",
     "text": [
      "[1 2 3 4 5 5 5 5 5]\n"
     ]
    }
   ],
   "source": [
    "a = np.array([1,2,3,4])\n",
    "b = np.array([5,5,5,5,5])\n",
    "print np.concatenate((a,b))"
   ]
  },
  {
   "cell_type": "code",
   "execution_count": null,
   "metadata": {
    "collapsed": true
   },
   "outputs": [],
   "source": []
  }
 ],
 "metadata": {
  "anaconda-cloud": {},
  "kernelspec": {
   "display_name": "Python [conda env:anaconda2]",
   "language": "python",
   "name": "conda-env-anaconda2-py"
  },
  "language_info": {
   "codemirror_mode": {
    "name": "ipython",
    "version": 2
   },
   "file_extension": ".py",
   "mimetype": "text/x-python",
   "name": "python",
   "nbconvert_exporter": "python",
   "pygments_lexer": "ipython2",
   "version": "2.7.14"
  }
 },
 "nbformat": 4,
 "nbformat_minor": 1
}
