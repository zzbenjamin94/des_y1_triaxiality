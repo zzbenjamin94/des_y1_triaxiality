{
 "cells": [
  {
   "cell_type": "markdown",
   "metadata": {},
   "source": [
    "# Shape of Galaxy Cluster from Galaxy Catalog"
   ]
  },
  {
   "cell_type": "markdown",
   "metadata": {},
   "source": [
    "#### Matching galaxies onto clusters.\n",
    "Extract positional information from galaxies and match them to same host cluster. \n",
    "Need to convert RA, DEC, Z or whatever coordinates into X,Y,Z\n",
    "\n",
    "#### Axes finding algorithm\n",
    "Use simplied inertia tensor\n",
    "Eigenvectors are axes\n",
    "Eigenvalues take square root are length per unit mass (how to divide by mass?) Total mass of all galaxies?\n",
    "To simplify, take mass of all galaxies to be 1, so that not weighted by mass"
   ]
  },
  {
   "cell_type": "markdown",
   "metadata": {},
   "source": [
    "## Matching galaxies to clusters"
   ]
  },
  {
   "cell_type": "code",
   "execution_count": 1,
   "metadata": {
    "collapsed": true
   },
   "outputs": [],
   "source": [
    "import numpy as np\n",
    "\n",
    "# import pyplot and set some parameters to make plots prettier\n",
    "import matplotlib.pyplot as plt\n",
    "from code.plot_utils import plot_pretty\n",
    "plot_pretty()\n",
    "\n",
    "# setup notebook for inline figures\n",
    "%matplotlib inline"
   ]
  },
  {
   "cell_type": "code",
   "execution_count": 7,
   "metadata": {
    "collapsed": false
   },
   "outputs": [
    {
     "name": "stdout",
     "output_type": "stream",
     "text": [
      "Number of clusters is  24243\n",
      "Number of host clusters galaxies matched onto is  24243\n",
      "Number of galaxis is  1564350\n"
     ]
    }
   ],
   "source": [
    "from code.setup.setup import data_home_dir\n",
    "import pyfits\n",
    "#Read http://pythonhosted.org/pyfits/\n",
    "\n",
    "datadir = data_home_dir()\n",
    "\n",
    "#RedMapper Galaxy cluster data\n",
    "redM_data = datadir+'buzzard-0_1.6_y3_run_redmapper_v6.4.20_lgt20_vl02_catalog.fit'\n",
    "redM_list = pyfits.open(redM_data)\n",
    "redM_data = redM_list[1].data\n",
    "print \"Number of clusters is \", len(redM_data)\n",
    "\n",
    "#Galaxy File\n",
    "gal_data = datadir+'buzzard-0_1.6_y3_run_redmapper_v6.4.20_lgt20_vl02_catalog_members.fit'\n",
    "gal_list = pyfits.open(gal_data)\n",
    "gal_data = gal_list[1].data\n",
    "\n",
    "#test the number of unique clusters on galaxies\n",
    "gal_match_cl = gal_data['MEM_MATCH_ID']\n",
    "a = np.unique(gal_match_cl)\n",
    "print 'Number of host clusters galaxies matched onto is ', len(a)\n",
    "print \"Number of galaxis is \", len(gal_data)"
   ]
  },
  {
   "cell_type": "code",
   "execution_count": 35,
   "metadata": {
    "collapsed": false
   },
   "outputs": [
    {
     "name": "stdout",
     "output_type": "stream",
     "text": [
      "0.0802219739922\n",
      "3.02677036873 Mpc\n"
     ]
    }
   ],
   "source": [
    "#Convert from (RA, DEC, Z) to (X, Y, Z) in order to build Cartesian inertial tensor. \n",
    "#Add coordinates onto the existing gal_dat and redM_data records array\n",
    "\n",
    "import healpy as hp\n",
    "from astropy.cosmology import FlatLambdaCDM #as cosmo #H0 = 67.7\n",
    "from astropy.coordinates import SkyCoord\n",
    "from astropy import units as u\n",
    "\n",
    "#Define cosmology\n",
    "h = 0.7\n",
    "cosmo = FlatLambdaCDM(H0=h*100, Om0=0.3, Tcmb0=2.725)\n",
    "\n",
    "#Convert coordinates\n",
    "#vec = hp.ang2vec(angle[0],angle[1])\n",
    "gal_RA = np.copy(gal_data['RA']); gal_DEC = np.copy(gal_data['DEC']); gal_Z = np.copy(gal_data['Z'])\n",
    "gal_R = np.copy(gal_data['R'])\n",
    "\n",
    "redM_RA = np.copy(redM_data['RA']); redM_DEC = np.copy(redM_data['DEC']); redM_Z = np.copy(redM_data['Z'])\n",
    "\n",
    "#Testing coordiate and columns of Galaxy files. \n",
    "#centr=SkyCoord(330.90201256691824, -40.96969770529347, frame='icrs', unit='deg')\n",
    "#coord=SkyCoord(331.00506217417757, -40.98927410258909, frame='icrs', unit='deg')\n",
    "#ang_sep=centr.separation(coord).degree#*u.arcminute\n",
    "#print ang_sep\n",
    "#print cosmo.comoving_distance(0.58563524)*np.tan(np.deg2rad(ang_sep))\n",
    "\n"
   ]
  },
  {
   "cell_type": "code",
   "execution_count": null,
   "metadata": {
    "collapsed": true
   },
   "outputs": [],
   "source": []
  }
 ],
 "metadata": {
  "anaconda-cloud": {},
  "kernelspec": {
   "display_name": "Python [conda root]",
   "language": "python",
   "name": "conda-root-py"
  },
  "language_info": {
   "codemirror_mode": {
    "name": "ipython",
    "version": 2
   },
   "file_extension": ".py",
   "mimetype": "text/x-python",
   "name": "python",
   "nbconvert_exporter": "python",
   "pygments_lexer": "ipython2",
   "version": "2.7.12"
  }
 },
 "nbformat": 4,
 "nbformat_minor": 1
}
