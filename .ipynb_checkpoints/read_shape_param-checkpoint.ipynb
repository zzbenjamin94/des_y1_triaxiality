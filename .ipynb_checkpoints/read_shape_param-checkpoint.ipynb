{
 "cells": [
  {
   "cell_type": "markdown",
   "metadata": {},
   "source": [
    "## Extract shape parameters from halo_shape.npy"
   ]
  },
  {
   "cell_type": "code",
   "execution_count": 1,
   "metadata": {
    "collapsed": true
   },
   "outputs": [],
   "source": [
    "import numpy as np\n",
    "from tools.setup.setup import tools_home_dir, data_home_dir, home_dir\n",
    "import pyfits\n",
    "datadir = home_dir() +'output/buzzard/halo_shape/' \n",
    "toolsdir = tools_home_dir()"
   ]
  },
  {
   "cell_type": "code",
   "execution_count": 47,
   "metadata": {
    "collapsed": false
   },
   "outputs": [],
   "source": [
    "'''\n",
    "Takes halo_shape.npy, formatted according to format:\n",
    "halos_shape = np.zeros(halos_num, dtype={'names':('halos_ID', 'richness', 'M200b', 'Rvir', 'redshift',\\\n",
    "            'axes_len', 'axes_dir', 'halos_dir', 'halos_RA', 'halos_DEC', 'converge'),\\\n",
    "            'formats':('i', 'f', 'f','f','f','(3,)f','(3,3)f','(3,)f', 'f', 'f', 'i')}),\n",
    "            \n",
    "and outputs relevant shape parameters such as axis direction and ratio having filtered through\n",
    "the shape convergence criteria and mass cuts. \n",
    "            \n",
    "Input: halos_shape record array\n",
    "Output: \n",
    "q: minor-major axis ratio\n",
    "s: intermediate-major axis ratio\n",
    "halos_M: mass of halos in Msun/h\n",
    "cos_i: absolute value of the cosine of major axis with LOS. \n",
    "'''\n",
    "\n",
    "def read_shape_param(halos_shape):\n",
    "    \n",
    "    #input an structured array\n",
    "    assert type(halos_shape)==np.ndarray, \"Must input a record array\" \n",
    "           \n",
    "    #IO Errors and Exceptions\n",
    "    arr_names = ('halos_ID', 'richness', 'M200b', 'Rvir', 'redshift',\\\n",
    "            'axes_len', 'axes_dir', 'halos_dir', 'halos_RA', 'halos_DEC', 'converge')\n",
    "    assert halos_shape.dtype.names == arr_names, \"Array not in the right format\"\n",
    "    \n",
    "    #Convergence and mass cuts\n",
    "    #check properties of halos with shapes not converged\n",
    "    ind_not_conv = np.where(halos_shape['converge'] == False)\n",
    "    #print 'Positions not converge:', np.where(halos_shape['converge'] != 1)\n",
    "    conv_cut = np.where(halos_shape['converge']==True)\n",
    "    halos_shape = halos_shape[conv_cut]\n",
    "    #print 'After cut positions not converged:', np.where(halos_shape['converge'] != 1)\n",
    "    m_cut = np.where(halos_shape['M200b'] < 1e15)\n",
    "    halos_shape = halos_shape[m_cut]\n",
    "    halos_num = len(halos_shape)\n",
    "    print 'Number of halos after cuts is ', halos_num\n",
    "\n",
    "\n",
    "    #Relevant quantities to extract and plot\n",
    "    ########################################\n",
    "\n",
    "    #Axis len and dir\n",
    "    halos_ID = halos_shape['halos_ID']\n",
    "    halos_RA = halos_shape['halos_RA']; halos_DEC = halos_shape['halos_DEC']\n",
    "    halos_coord = np.array([halos_RA, halos_DEC]).T\n",
    "    axes_len = halos_shape['axes_len']\n",
    "    axes_dir = halos_shape['axes_dir']\n",
    "    halos_dir = halos_shape['halos_dir']\n",
    "    q = axes_len[:,2]/axes_len[:,0]\n",
    "    s = axes_len[:,1]/axes_len[:,0]\n",
    "\n",
    "    #Mass\n",
    "    halos_M = halos_shape['M200b']\n",
    "\n",
    "    #Orientation PDF\n",
    "    major_dir = axes_dir[:,2,:]\n",
    "\n",
    "    #absolute value of cosine of axis between major axis and LOS\n",
    "    #For redMapper selected halos\n",
    "    cos_i = np.zeros(halos_num) #cos(i) in lingo of Osato 2017\n",
    "    for i in range(halos_num):\n",
    "        halos_dir_mag = np.linalg.norm(halos_dir[i])\n",
    "        major_mag = np.linalg.norm(major_dir[i]);\n",
    "        cos_i[i] = np.abs(np.dot(major_dir[i],halos_dir[i])/(halos_dir_mag * major_mag))\n",
    "    \n",
    "    \n",
    "    return q, s, halos_M, cos_i"
   ]
  },
  {
   "cell_type": "markdown",
   "metadata": {},
   "source": [
    "### Testing"
   ]
  },
  {
   "cell_type": "code",
   "execution_count": 48,
   "metadata": {
    "collapsed": false
   },
   "outputs": [
    {
     "name": "stdout",
     "output_type": "stream",
     "text": [
      "Created from halo_shape_allz.npy record array\n",
      "Number of halos is 23997\n",
      "Number of halos after cuts is  23668\n",
      "q is  [0.54870254 0.43705603 0.7527743  0.4857175  0.50815797 0.5238312\n",
      " 0.42640147 0.6149537  0.44612443 0.71275944]\n",
      "s is  [0.7392921  0.52165    0.8734162  0.70215815 0.6758097  0.6085641\n",
      " 0.5313474  0.66393316 0.67677504 0.9151998 ]\n",
      "halos_M is  [9.8773e+14 1.9594e+14 1.3703e+14 8.3717e+14 3.6090e+14 9.3318e+14\n",
      " 4.6806e+14 2.7785e+14 8.4969e+14 2.6998e+14]\n",
      "cos_i is  [0.68086159 0.64942515 0.8197673  0.73269928 0.77144027 0.8391028\n",
      " 0.62828821 0.85923558 0.91945285 0.71749258]\n"
     ]
    }
   ],
   "source": [
    "if __name__==\"__main__\":    \n",
    "    try:\n",
    "        filename = 'halo_shape_allz.npy'\n",
    "        halos_shape_noadapt = np.load(datadir+filename)\n",
    "    except IOError:\n",
    "        print \"Error: File {0} cannot be opened\".format(filename)\n",
    "    else:\n",
    "        print \"Created from {} record array\".format(filename)\n",
    "        print \"Number of halos is {}\".format(len(halos_shape_noadapt))\n",
    "\n",
    "    \n",
    "    q, s, halos_M, cos_i = read_shape_param(halos_shape_noadapt)\n",
    "    print \"q is \", q[0:10]\n",
    "    print \"s is \", s[0:10]\n",
    "    print \"halos_M is \", halos_M[0:10]\n",
    "    print \"cos_i is \", cos_i[0:10]"
   ]
  },
  {
   "cell_type": "code",
   "execution_count": null,
   "metadata": {
    "collapsed": true
   },
   "outputs": [],
   "source": []
  },
  {
   "cell_type": "code",
   "execution_count": null,
   "metadata": {
    "collapsed": true
   },
   "outputs": [],
   "source": []
  }
 ],
 "metadata": {
  "kernelspec": {
   "display_name": "Python [conda env:anaconda2]",
   "language": "python",
   "name": "conda-env-anaconda2-py"
  },
  "language_info": {
   "codemirror_mode": {
    "name": "ipython",
    "version": 2
   },
   "file_extension": ".py",
   "mimetype": "text/x-python",
   "name": "python",
   "nbconvert_exporter": "python",
   "pygments_lexer": "ipython2",
   "version": "2.7.14"
  }
 },
 "nbformat": 4,
 "nbformat_minor": 1
}
