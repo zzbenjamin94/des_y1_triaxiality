{
 "cells": [
  {
   "cell_type": "markdown",
   "metadata": {},
   "source": [
    "# Project with Yuanyuan on Orientational Bias in Cluster Mass\n",
    "### Created Jan, 2018\n",
    "### Zhuowen Zhang\n",
    "\n",
    "Update April 29, 2018: Halo files are halos_unique in Buzzard Y3 to get rid of overlapping halos in boxes with overlapping regions. Mass definition is M200b. Cosmology used for comoving distance measurements reflect \n",
    "Buzzard cosmology. "
   ]
  },
  {
   "cell_type": "code",
   "execution_count": 2,
   "metadata": {
    "collapsed": false
   },
   "outputs": [],
   "source": [
    "import numpy as np\n",
    "\n",
    "# import pyplot and set some parameters to make plots prettier\n",
    "import matplotlib.pyplot as plt\n",
    "from tools.plot_utils import plot_pretty\n",
    "plot_pretty()\n",
    "\n",
    "# setup notebook for inline figures\n",
    "%matplotlib inline"
   ]
  },
  {
   "cell_type": "code",
   "execution_count": 3,
   "metadata": {
    "collapsed": false
   },
   "outputs": [
    {
     "name": "stdout",
     "output_type": "stream",
     "text": [
      "Number of clusters is  24243\n"
     ]
    }
   ],
   "source": [
    "from tools.setup.setup import data_home_dir\n",
    "import pyfits\n",
    "#Read http://pythonhosted.org/pyfits/\n",
    "\n",
    "datadir = data_home_dir()\n",
    "\n",
    "#RedMapper Galaxy cluster data\n",
    "redM_data = datadir+'buzzard_halo/redmapper/'+'buzzard-0_1.6_y3_run_redmapper_v6.4.20_lgt20_vl02_catalog.fit'\n",
    "redM_list = pyfits.open(redM_data)\n",
    "redM_data = redM_list[1].data\n",
    "\n",
    "print \"Number of clusters is \", len(redM_data)"
   ]
  },
  {
   "cell_type": "markdown",
   "metadata": {},
   "source": [
    "### Extracting Halo and Cluster Files\n",
    "From buzzard and Chinchilla in Slac_Stanford simulation repository"
   ]
  },
  {
   "cell_type": "code",
   "execution_count": 4,
   "metadata": {
    "collapsed": false
   },
   "outputs": [],
   "source": [
    "#Check rotation code for halos\n",
    "import healpy as hp\n",
    "import fitsio\n",
    "from tools.setup.setup import tools_home_dir\n",
    "import pickle\n",
    "\n",
    "\n",
    "toolsdir = tools_home_dir()\n",
    "\n",
    "rotfile = toolsdir+'desy3_irot.pkl'\n",
    "with open(rotfile, 'r') as fp:\n",
    "    rmat = pickle.load(fp)\n",
    "\n",
    "angle = np.array([[np.pi/2,0.,np.pi,np.pi/2,0.,np.pi],[0.,0.,0.,np.pi/2,np.pi/2,np.pi/2]])\n",
    "vec = hp.ang2vec(angle[0],angle[1])\n",
    "rvec = np.dot(rmat, vec.T).T\n",
    "rangle = np.asarray(hp.vec2ang(rvec))\n",
    "\n",
    "#Rotate the angles back\n",
    "my_vec = np.dot(np.linalg.inv(rmat),rvec.T).T\n",
    "my_angle = np.asarray(hp.vec2ang(my_vec))"
   ]
  },
  {
   "cell_type": "code",
   "execution_count": 5,
   "metadata": {
    "collapsed": false
   },
   "outputs": [
    {
     "name": "stdout",
     "output_type": "stream",
     "text": [
      "number of rows in halo_data/halos_data (initial)  1016772\n",
      "Halo file number  1\n",
      "Halo file number  17\n",
      "Halo file number  19\n",
      "Halo file number  2\n",
      "Halo file number  21\n",
      "Halo file number  22\n",
      "Halo file number  23\n",
      "Halo file number  26\n",
      "Halo file number  27\n",
      "Halo file number  3\n",
      "Halo file number  4\n",
      "Halo file number  5\n",
      "Halo file number  6\n",
      "Halo file number  7\n"
     ]
    }
   ],
   "source": [
    "#Reading halo files\n",
    "halo_filenum = [0,1,17,19,2,21,22,23,26,27,3,4,5,6,7]\n",
    "halo_iter = np.shape(halo_filenum)[0]\n",
    "\n",
    "#halos_data, the rec_array that combines all halo files, reads from first halo file, and then stacks to it.\n",
    "halo_data = datadir+'buzzard_halo/chinchilla/'+'Chinchilla-0_halos_unique.'+str(halo_filenum[0])+'.fits'\n",
    "halo_list = pyfits.open(halo_data)\n",
    "cols = halo_list[1].data.columns\n",
    "halos_data = pyfits.FITS_rec.from_columns(cols) #stores as record array\n",
    "\n",
    "#check that halos_data match halo_data\n",
    "print 'number of rows in halo_data/halos_data (initial) ', len(halos_data) \n",
    "\n",
    "#check that files_num has rows totaling the number of rows combined from each halo file\n",
    "tot_row = np.append(0,halos_data.shape[0])\n",
    "\n",
    "#Iterate through rest of halo files. Each iteration creates a new and updated halos_file record array\n",
    "#with new rows added that correspond to data from each halo file.\n",
    "for i in xrange(1,halo_iter):\n",
    "    halo_data = datadir+'buzzard_halo/chinchilla/'+'Chinchilla-0_halos_unique.'+str(halo_filenum[i])+'.fits'\n",
    "    halo_list = pyfits.open(halo_data)\n",
    "    halo_data = halo_list[1].data\n",
    "\n",
    "    nrows1 = halos_data.shape[0]\n",
    "    nrows2 = halo_data.shape[0]\n",
    "    nrows = nrows1 + nrows2\n",
    "    tot_row = np.append(tot_row, nrows)\n",
    "    \n",
    "    #Warning: from_columns appends rows to halos_data, but does not update column array. Need to manually \n",
    "    #copy data each time. Inefficient code, but will do. \n",
    "    copy_halos_data = pyfits.FITS_rec.copy(halos_data) #Need to make copy of previous halos_data\n",
    "    halos_data = pyfits.FITS_rec.from_columns(halos_data, nrows=nrows, fill=False) #Warning: Does not update column data in halos_data\n",
    "       \n",
    "    #Fill in the extra rows with data from new halo file\n",
    "    for colname in halo_data.columns.names:\n",
    "        halos_data[colname][:nrows1] = copy_halos_data[colname]\n",
    "        halos_data[colname][nrows1:] = halo_data[colname]\n",
    "    print \"Halo file number \", halo_filenum[i]\n"
   ]
  },
  {
   "cell_type": "code",
   "execution_count": 6,
   "metadata": {
    "collapsed": false
   },
   "outputs": [
    {
     "name": "stdout",
     "output_type": "stream",
     "text": [
      "Number of rows match. It is  12198813\n"
     ]
    }
   ],
   "source": [
    "#Check that halos_file is combining the files properly.\n",
    "#For more info on record arrays, pyFITS:\n",
    "#https://pythonhosted.org/pyfits/usage/table.html#table-data-as-a-record-array\n",
    "#http://pythonhosted.org/pyfits/api/tables.html#pyfits.FITS_rec\n",
    "\n",
    "#Check 1: Field values match that in the last halo file read\n",
    "test_num = 14\n",
    "halo_data = datadir+'buzzard_halo/chinchilla/'+'Chinchilla-0_halos_unique.'+str(halo_filenum[test_num])+'.fits'\n",
    "halo_list = pyfits.open(halo_data)\n",
    "halo_data = halo_list[1].data\n",
    "\n",
    "#Check 2: The length of halos_file equals that of all halo_file rows combined.\n",
    "if tot_row[-1] == len(halos_data):\n",
    "    print \"Number of rows match. It is \", len(halos_data)\n"
   ]
  },
  {
   "cell_type": "markdown",
   "metadata": {},
   "source": [
    "## Randomly select halos"
   ]
  },
  {
   "cell_type": "code",
   "execution_count": 7,
   "metadata": {
    "collapsed": false
   },
   "outputs": [
    {
     "name": "stdout",
     "output_type": "stream",
     "text": [
      "/home/zzbenjamin94/Desktop/Astronomy/Research/DES_Galaxy_Cluster\n",
      "True\n"
     ]
    }
   ],
   "source": [
    "import os\n",
    "print os.getcwd()\n",
    "print os.path.exists('/home/zzbenjamin94/Desktop/Astronomy/Research/DES_Galaxy_Cluster/output')"
   ]
  },
  {
   "cell_type": "code",
   "execution_count": 8,
   "metadata": {
    "collapsed": false
   },
   "outputs": [],
   "source": [
    "import numpy.random as rand\n",
    "from tools.setup.setup import home_dir\n",
    "\n",
    "home_dir = home_dir()\n",
    "\n",
    "#First apply a redshift cut, and then randomly select in that redshift. \n",
    "halos_cut = np.where((halos_data['Z']<0.90) & (halos_data['M200b'] > 1e13))\n",
    "halos_rand = halos_data[halos_cut]\n",
    "\n",
    "#Select 100,000 random samples\n",
    "num_rand = 10000\n",
    "rand_samp = rand.randint(0,len(halos_rand), num_rand)\n",
    "halos_rand = halos_rand[rand_samp]\n",
    "\n",
    "#Retreive columns\n",
    "halos_rand_ID = halos_rand['ID']; halos_rand_RA = halos_rand['RA'] \n",
    "halos_rand_DEC = halos_rand['DEC']; halos_rand_z = halos_rand['Z']\n",
    "halos_rand_M = halos_rand['M200b']; halos_rand_Rvir = halos_rand['RVIR'] #in kpc\n",
    "halos_rand_X = halos_rand['PX']; halos_rand_Y = halos_rand['PY']; halos_rand_Z = halos_rand['PZ']\n",
    "\n",
    "#Need to convert Radius to MPC for units to work in the read_halo_particle code\n",
    "halos_rand_Rvir /= 1000\n",
    "\n",
    "name_str = ('halos_ID','halos_RA', 'halos_DEC', 'halos_z', 'halos_X', \\\n",
    "            'halos_Y', 'halos_Z', 'halos_M', 'halos_Rvir')\n",
    "outfile = open(home_dir +'/output/buzzard/halo_rand_allz.dat','w')\n",
    "outfile.write('%12s %12s %12s %12s %12s %12s %12s %12s %12s \\n'%name_str)\n",
    "for i in range(num_rand):\n",
    "    outfile.write('%12d %12g %12g %12g %12g %12g %12g %12g %12g\\n' \\\n",
    "                  %(halos_rand_ID[i], halos_rand_RA[i], halos_rand_DEC[i], halos_rand_z[i], \\\n",
    "                   halos_rand_X[i], halos_rand_Y[i], halos_rand_Z[i], halos_rand_M[i], halos_rand_Rvir[i]))\n",
    "outfile.close()\n"
   ]
  },
  {
   "cell_type": "code",
   "execution_count": 8,
   "metadata": {
    "collapsed": false
   },
   "outputs": [],
   "source": [
    "#Test the redshift and comoving distance\n",
    "from colossus.cosmology import cosmology\n",
    "\n",
    "#Q? Parameters need to change?\n",
    "# define a vector of cosmological parameters of Via Lactea II cosmology:    \n",
    "h = 0.70\n",
    "my_cosmo = {'flat': True, 'H0': h*100, 'Om0': 0.238, 'Ob0': 0.045714, 'sigma8': 0.74, 'ns': 0.951}\n",
    "# set my_cosmo to be the current cosmology\n",
    "cosmo = cosmology.setCosmology('my_cosmo', my_cosmo)   \n",
    "halos_rand_comv_cosmo = cosmo.comovingDistance(0.0, halos_rand_z[0:20])\n",
    "halos_rand_comv = np.sqrt(halos_rand_X**2. + halos_rand_Y**2. + halos_rand_Z**2.)"
   ]
  },
  {
   "cell_type": "code",
   "execution_count": 9,
   "metadata": {
    "collapsed": false
   },
   "outputs": [],
   "source": [
    "#Rotate the halo files\n",
    "import healpy as hp\n",
    "import fitsio\n",
    "from tools.setup.setup import tools_home_dir\n",
    "import pickle\n",
    "\n",
    "toolsdir = tools_home_dir()\n",
    "\n",
    "#file containing the rotation matrix \n",
    "rotfile = toolsdir+'desy3_irot.pkl'\n",
    "\n",
    "with open(rotfile, 'r') as fp:\n",
    "    rmat = pickle.load(fp)\n",
    "\n",
    "halos_posvec = np.transpose([halos_data['PX'], halos_data['PY'], halos_data['PZ']])\n",
    "halos_rposvec = np.dot(rmat, halos_posvec.T).T\n",
    "\n",
    "#convert to angular coords (in Radians)\n",
    "theta, phi = hp.vec2ang(halos_rposvec)\n",
    "halos_data['DEC'] = np.pi/2 - theta\n",
    "halos_data['RA'] = phi\n",
    "\n",
    "#print 'Halos DEC and RA \\n', halos_data['DEC'], '\\n', halos_data['RA']"
   ]
  },
  {
   "cell_type": "markdown",
   "metadata": {},
   "source": [
    "## Halo and cluster matching algorithm\n"
   ]
  },
  {
   "cell_type": "code",
   "execution_count": null,
   "metadata": {
    "collapsed": false
   },
   "outputs": [],
   "source": [
    "#Distance calculations for proximity matching\n",
    "from colossus.cosmology import cosmology\n",
    "\n",
    "#Conform to Buzzard cosmology\n",
    "h = 0.70\n",
    "my_cosmo = {'flat': True, 'H0': h*100, 'Om0': 0.286, 'Ob0': 0.045714, 'sigma8': 0.82, \\\n",
    "            'ns': 0.951, 'Neff':3.04}\n",
    "# set my_cosmo to be the current cosmology\n",
    "cosmo = cosmology.setCosmology('my_cosmo', my_cosmo)   \n",
    "\n",
    "#Set to transverse or line of sight comoving distance? Can't tell. \n",
    "#comoving_r = cosmo.comovingDistance(zmin, zmax, transverse=True)"
   ]
  },
  {
   "cell_type": "code",
   "execution_count": null,
   "metadata": {
    "collapsed": false
   },
   "outputs": [],
   "source": [
    "#Cut off halos with mass less than 10^13 M_sun\n",
    "mass_cutoff = halos_data['M200b'] > 1e13\n",
    "halos_data = halos_data[mass_cutoff]\n",
    "print \"After mass cut of M > 1e13 M_sun number of halos is \", len(halos_data)"
   ]
  },
  {
   "cell_type": "code",
   "execution_count": null,
   "metadata": {
    "collapsed": false
   },
   "outputs": [],
   "source": [
    "#Rotate the halo files\n",
    "import healpy as hp\n",
    "import fitsio\n",
    "from tools.setup.setup import tools_home_dir\n",
    "import pickle\n",
    "\n",
    "toolsdir = tools_home_dir()\n",
    "\n",
    "#file containing the rotation matrix \n",
    "rotfile = toolsdir+'desy3_irot.pkl'\n",
    "\n",
    "with open(rotfile, 'r') as fp:\n",
    "    rmat = pickle.load(fp)\n",
    "    \n",
    "#Read Test halos data\n",
    "#halo_data = datadir+'Chinchilla-1_halos_lensed.'+str(halo_filenum[7])+'.fits'\n",
    "#halo_list = pyfits.open(halo_data)\n",
    "#cols = halo_list[1].data.columns\n",
    "#halos_data = pyfits.FITS_rec.from_columns(cols) #stores as record array\n",
    "\n",
    "halos_posvec = np.transpose([halos_data['PX'], halos_data['PY'], halos_data['PZ']])\n",
    "\n",
    "halos_rposvec = np.dot(rmat, halos_posvec.T).T\n",
    "\n",
    "#convert to angular coords (in Radians)\n",
    "theta, phi = hp.vec2ang(halos_rposvec)\n",
    "halos_data['DEC'] = np.pi/2 - theta\n",
    "halos_data['RA'] = phi\n",
    "\n",
    "print 'Halos DEC and RA \\n', halos_data['DEC'], '\\n', halos_data['RA']"
   ]
  },
  {
   "cell_type": "code",
   "execution_count": null,
   "metadata": {
    "collapsed": false
   },
   "outputs": [],
   "source": [
    "#Parameters for matching\n",
    "redM_ID = redM_data['MEM_MATCH_ID']\n",
    "redM_RA = np.copy(redM_data['RA']); redM_DEC = np.copy(redM_data['DEC']); redM_z = np.copy(redM_data['Z_LAMBDA']) \n",
    "redM_lmda = np.copy(redM_data['LAMBDA_CHISQ']); \n",
    "\n",
    "halos_ID = halos_data['ID']; halos_RA = np.copy(halos_data['RA']) \n",
    "halos_DEC = np.copy(halos_data['DEC']); halos_z = np.copy(halos_data['Z'])\n",
    "halos_M = np.copy(halos_data['M200b']); halos_Rvir = np.copy(halos_data['RVIR']) #in kpc\n",
    "halos_X = np.copy(halos_data['PX']); halos_Y = np.copy(halos_data['PY']); halos_Z = np.copy(halos_data['PZ'])\n",
    "\n",
    "\n",
    "#Convert RA, DEC to radians for redMapper. \n",
    "redM_RA *= np.pi/180.; redM_DEC *= np.pi/180.\n",
    "\n",
    "#Convert from z to comoving distance in fiducial cosmology\n",
    "redM_comvr = cosmo.comovingDistance(0.0,redM_z)\n",
    "halos_comvr = cosmo.comovingDistance(0.0, halos_z)"
   ]
  },
  {
   "cell_type": "code",
   "execution_count": null,
   "metadata": {
    "collapsed": false
   },
   "outputs": [],
   "source": [
    "#Scatter plot to inspect that halos match clusters\n",
    "plt.figure(figsize=(4,3))\n",
    "plt.scatter(redM_RA, redM_DEC, c='r', s=7, marker='o',linewidth=0.0, label='redMapper')\n",
    "plt.scatter(halos_RA[::500], halos_DEC[::500], c='b', marker='.', s=7, linewidth=0.0, alpha=0.2, label='rotated halos')\n",
    "plt.xlabel('RA (Rad)'); plt.ylabel('DEC (Rad)')\n",
    "plt.legend(fontsize=8, loc='upper center')\n",
    "plt.title('Position of halos and clusters')\n",
    "plt.tight_layout()\n",
    "#plt.savefig('halo_cluster_pos.png')\n",
    "plt.show()"
   ]
  },
  {
   "cell_type": "code",
   "execution_count": null,
   "metadata": {
    "collapsed": false
   },
   "outputs": [],
   "source": []
  },
  {
   "cell_type": "code",
   "execution_count": null,
   "metadata": {
    "collapsed": false
   },
   "outputs": [],
   "source": [
    "#Cluster matching algorithm: Go down list of halos, \n",
    "#from most to least massive, and find potential cluster matches\n",
    "\n",
    "#Find sorted indices for halos_M\n",
    "halos_sort=np.asarray(sorted(range(len(halos_M)),key=lambda x:halos_M[x],reverse=True))\n",
    "print \"Number of halos is \", halos_sort.shape[0]\n",
    "\n",
    "cl_match_ind = np.array([]) #indices of (potentially) matched clusters \n",
    "cl_uniq_ind = np.array([]) #unique indices to select uniquely matched clusters\n",
    "for i in range(halos_sort.shape[0]):\n",
    "    cur_halo_RA = halos_RA[halos_sort[i]]; cur_halo_DEC = halos_DEC[halos_sort[i]]\n",
    "    cur_halo_comvr = halos_comvr[halos_sort[i]]; cur_halo_z = halos_z[halos_sort[i]]\n",
    "    \n",
    "    #Assume clusters that fall into this redshift range have the same redshift as the halo. \n",
    "    #Find the distance to the halo according to this assumption, and find ones local to the halo.\n",
    "    \n",
    "    #Find clusters within redshift bin of +/- 0.1 \n",
    "    zbin = 0.05\n",
    "    zbin_cl_ind = np.asarray(np.where(np.abs(cur_halo_z-redM_z)<zbin))\n",
    "    \n",
    "    #Filter clusters in redshift proximity region\n",
    "    redM_DEC_zfilt = redM_DEC[zbin_cl_ind]; redM_RA_zfilt = redM_RA[zbin_cl_ind]\n",
    "    \n",
    "    #Angle difference from RA, DEC using spherical law of cosines\n",
    "    d_lmda = redM_RA_zfilt - cur_halo_RA\n",
    "    d_Sigma = np.arccos(np.sin(redM_DEC_zfilt)*np.sin(cur_halo_DEC)+\\\n",
    "                        np.cos(redM_DEC_zfilt)*np.cos(cur_halo_DEC)*np.cos(d_lmda))\n",
    "    \n",
    "    #comoving distance between halo and clusters from law of cosines for clusters in same comoving distance\n",
    "    d_cmvr = np.sqrt(2*cur_halo_comvr**2.*(1.-np.cos(d_Sigma)))\n",
    "    \n",
    "    #find eligible local clusters based on proxmity, and remove repeat cluster already taken by higher mass halos\n",
    "    max_d_cmvr = 1.0 #set to 1Mpc\n",
    "    loc_cl_ind = zbin_cl_ind[np.where(d_cmvr<max_d_cmvr)]\n",
    "    loc_cl_ind = np.setdiff1d(loc_cl_ind, cl_uniq_ind) #remove clusters already taken by higher mass halos\n",
    "    \n",
    "    #if local clusters present find richest one\n",
    "    if np.size(loc_cl_ind) > 0:\n",
    "        cur_cl_match_ind = loc_cl_ind[np.argmax(redM_lmda[loc_cl_ind])]\n",
    "        cl_uniq_ind= np.append(cl_uniq_ind, cur_cl_match_ind)\n",
    "    else:\n",
    "        cur_cl_match_ind = -1 #-1 for no match\n",
    "        \n",
    "    cl_match_ind = np.concatenate((cl_match_ind, [cur_cl_match_ind]))\n",
    "    \n",
    "    if i%1e5 == 0:\n",
    "        print \"Matching halo number \", i\n",
    "        #print 'cl_match indices are ', np.where(cl_match_ind > -1)\n",
    "        #print 'd_cmvr ', d_cmvr[0:50]\n",
    "        #print 'zbin_cl_ind is ', zbin_cl_ind\n",
    "        \n",
    "        #Check for duplicates\n",
    "        #print 'Unique clusters indices are', cl_uniq_ind\n",
    "        #dupes = [x for n, x in enumerate(cl_uniq_ind) if x in cl_uniq_ind[:n]]\n",
    "        #print 'Duplicate clusters are ', dupes # [[1], [3]]\n",
    "\n",
    "print 'Number of clusters matched to halos are ', np.shape(np.where(cl_match_ind>-1))[1]\n"
   ]
  },
  {
   "cell_type": "code",
   "execution_count": null,
   "metadata": {
    "collapsed": false
   },
   "outputs": [],
   "source": [
    "#Sample test of mass richness using matched clusters only\n",
    "halos_match_ind = np.where(cl_match_ind != -1)\n",
    "halos_M_match = halos_M[halos_sort[halos_match_ind]]\n",
    "#print halos_match_ind\n",
    "redM_lmda_match = redM_lmda[np.asarray(cl_match_ind[halos_match_ind],dtype=int)]\n",
    "plt.plot(halos_M_match, redM_lmda_match, '.', alpha=0.5)\n",
    "plt.xscale('log')\n",
    "plt.title('Halo-Cluster (match halos onto clusters only)')\n",
    "#plt.ylabel(r'Richness (\\lambda)'); plt.xlabel(r'Mass (M_\\odot)')\n",
    "#plt.tight_layout()\n",
    "#plt.savefig('Halo_Cluster_clmatch_only.png')\n",
    "plt.show()\n"
   ]
  },
  {
   "cell_type": "code",
   "execution_count": null,
   "metadata": {
    "collapsed": false
   },
   "outputs": [],
   "source": []
  },
  {
   "cell_type": "code",
   "execution_count": null,
   "metadata": {
    "collapsed": false
   },
   "outputs": [],
   "source": [
    "#Halo matching algorithm: Go down list of redMapper clusters and find potential halo matches\n",
    "#Repeat the same process for clusters. \n",
    "#Test and debug code. \n",
    "\n",
    "redM_sort=np.asarray(sorted(range(len(redM_lmda)),key=lambda x:redM_lmda[x],reverse=True))\n",
    "print 'Number of redMapper clusters are ', len(redM_sort)\n",
    "halos_match_ind = np.array([]) #indices of (potentially) matched halos \n",
    "halos_uniq_ind = np.array([])\n",
    "for i in range(redM_data.shape[0]):\n",
    "    cur_cl_RA = redM_RA[redM_sort[i]]; cur_cl_DEC = redM_DEC[redM_sort[i]]\n",
    "    cur_cl_comvr = redM_comvr[redM_sort[i]]; cur_cl_z = redM_z[redM_sort[i]]\n",
    "    \n",
    "    #Assume clusters that fall into this redshift range have the same redshift as the halo. \n",
    "    #Find the distance to the halo according to this assumption, and find ones local to the halo.\n",
    "    \n",
    "    #Find clusters within redshift bin of +/- 0.05 \n",
    "    zbin = 0.05\n",
    "    zbin_halos_ind = np.asarray(np.where(np.abs(halos_z-cur_cl_z)<zbin))\n",
    "    \n",
    "    #Filter clusters in redshift proximity region\n",
    "    halos_DEC_zfilt = halos_DEC[zbin_halos_ind]; halos_RA_zfilt = halos_RA[zbin_halos_ind]\n",
    "    \n",
    "    #Angle difference from RA, DEC using spherical law of cosines\n",
    "    d_lmda = halos_RA_zfilt - cur_cl_RA\n",
    "    d_Sigma = np.arccos(np.sin(halos_DEC_zfilt)*np.sin(cur_cl_DEC)+\\\n",
    "                        np.cos(halos_DEC_zfilt)*np.cos(cur_cl_DEC)*np.cos(d_lmda))\n",
    "    \n",
    "    #comoving distance between halo and clusters from law of cosines for clusters in same comoving distance\n",
    "    d_cmvr = np.sqrt(2*cur_cl_comvr**2.*(1.-np.cos(d_Sigma)))\n",
    "    \n",
    "    #find local clusters\n",
    "    max_d_cmvr = 1.0 #set to 1Mpc\n",
    "    loc_halos_ind = zbin_halos_ind[np.where(d_cmvr<max_d_cmvr)]\n",
    "    loc_halos_ind = np.setdiff1d(loc_halos_ind, halos_uniq_ind) #remove halos taken by richer clusters\n",
    "    \n",
    "    #if local halos present find most massive one\n",
    "    if np.size(loc_halos_ind) > 0:\n",
    "        cur_halos_match_ind = loc_halos_ind[np.argmax(halos_M[loc_halos_ind])]\n",
    "        halos_uniq_ind = np.append(halos_uniq_ind, cur_halos_match_ind)\n",
    "    else:\n",
    "        cur_halos_match_ind = -1 #-1 for no match\n",
    "        \n",
    "    halos_match_ind = np.concatenate((halos_match_ind, [cur_halos_match_ind]))\n",
    "    \n",
    "    if i%1e3 == 0:\n",
    "        print \"Matching cluster number \", i\n",
    "        #print 'Halo_match indices are ', np.where(halos_match_ind > -1)\n",
    "                              \n",
    "        #Check for duplicates\n",
    "        #print 'Unique halo indices are', halos_uniq_ind\n",
    "        #dupes = [x for n, x in enumerate(cl_uniq_ind) if x in cl_uniq_ind[:n]]\n",
    "        #print 'Duplicate clusters are ', dupes # [[1], [3]]\n",
    "\n",
    "print 'Number of halos matched to clusters are ', np.shape(np.where(halos_match_ind>-1))[1]                    "
   ]
  },
  {
   "cell_type": "code",
   "execution_count": null,
   "metadata": {
    "collapsed": false
   },
   "outputs": [],
   "source": [
    "clusters_match_ind = np.where(halos_match_ind != -1)\n",
    "redM_lmda_match = redM_lmda[redM_sort[clusters_match_ind]]\n",
    "#print halos_match_ind\n",
    "halos_M_match = halos_M[np.asarray(halos_match_ind[clusters_match_ind],dtype=int)]\n",
    "\n",
    "print np.shape(halos_M_match), np.shape(redM_lmda_match)\n",
    "plt.plot(halos_M_match, redM_lmda_match, '.', alpha=0.5)\n",
    "plt.xscale('log')\n",
    "plt.title('Halo-Cluster (match clusters onto halos only)')\n",
    "plt.ylabel(r'Richness ($\\lambda$)'); plt.xlabel(r'Mass ($M_\\odot$)')\n",
    "plt.tight_layout()\n",
    "#plt.savefig('Halo_Cluster_halosmatch_only.png')\n",
    "plt.show()"
   ]
  },
  {
   "cell_type": "markdown",
   "metadata": {},
   "source": [
    "### Debugging\n"
   ]
  },
  {
   "cell_type": "code",
   "execution_count": null,
   "metadata": {
    "collapsed": false
   },
   "outputs": [],
   "source": [
    "#Check that in cl_match_ind the clusters matched to halos are physically adjacent. Check for redshift.\n",
    "print \"Check for cl_match_ind matching \"\n",
    "cl_match_ind_full = np.where(cl_match_ind != -1)\n",
    "cl_zfilt = np.asarray(cl_match_ind[cl_match_ind_full], dtype=int)\n",
    "halos_z_sorted = np.asarray(halos_z[halos_sort])\n",
    "cl_zdiff =  halos_z_sorted[cl_match_ind_full] - redM_z[cl_zfilt]\n",
    "#print cl_zdiff[0:50]\n",
    "cl_z_excess = [x for i, x in enumerate(cl_zdiff) if x>0.05 ]\n",
    "print 'Redshifts differences outside of specified range: ', len(cl_z_excess), '\\n'\n",
    "\n",
    "#Repeat same code for halos\n",
    "print \"Check for halos_match_ind matching \"\n",
    "halos_match_ind_full = np.where(halos_match_ind != -1)\n",
    "halos_zfilt = np.asarray(halos_match_ind[halos_match_ind_full], dtype=int)\n",
    "redM_z_sorted = np.asarray(redM_z[redM_sort])\n",
    "halos_zdiff =  redM_z_sorted[halos_match_ind_full] - halos_z[halos_zfilt]\n",
    "#print halos_zdiff[0:50]\n",
    "halos_z_excess = [x for i, x in enumerate(halos_zdiff) if x>0.05 ]\n",
    "print 'Redshifts differences outside of specified range: ', len(halos_z_excess), '\\n'\n",
    "\n",
    "#See if the unsorting algorithm works as specified. cl_match_ind and halos_match_ind have indices sorted\n",
    "#by halo mass and cluster rank. Once again check for redshift. \n",
    "\n",
    "#Find unsorted halos to match to clusters\n",
    "print \"Check for redM_match_ind_unsorted matching \"\n",
    "a = np.asarray(cl_match_ind[cl_match_ind_full], dtype=int)\n",
    "b = np.asarray(halos_sort[cl_match_ind_full], dtype=int)\n",
    "cl_zdiff2 = halos_z[b] - redM_z[a]\n",
    "#print cl_zdiff2[0:50]\n",
    "cl_z_excess2 = [x for i, x in enumerate(cl_zdiff2) if x>0.05 ]\n",
    "print 'Redshifts differences outside of specified range: ', len(cl_z_excess2), '\\n'\n",
    "\n",
    "#Find unsorted clusters to match to halos\n",
    "print \"Check for halos_match_ind_unsorted matching \"\n",
    "c = np.asarray(halos_match_ind[halos_match_ind_full], dtype=int)\n",
    "d = np.asarray(redM_sort[halos_match_ind_full], dtype=int)\n",
    "halos_zdiff2 = redM_z[d] - halos_z[c]\n",
    "#print halos_zdiff2[0:50]\n",
    "halos_z_excess2 = [x for i, x in enumerate(halos_zdiff2) if x>0.05 ]\n",
    "print 'Redshifts differences outside of specified range: ', len(halos_z_excess2), '\\n'\n",
    "\n",
    "print 'Unsort full arrays and then check for match'\n",
    "cl_match_ind_unsorted = np.array(cl_match_ind, dtype=int)\n",
    "cl_match_ind_unsorted[halos_sort] = cl_match_ind\n",
    "\n",
    "uniq_match_ind = np.where(cl_match_ind_unsorted != -1) #these refer to unsorted halos\n",
    "uniq_match_val = cl_match_ind_unsorted[uniq_match_ind] #matched clusters to the unsorted halos\n",
    "cl_zdiff3 = halos_z[uniq_match_ind] - redM_z[uniq_match_val]\n",
    "#print cl_zdiff3[0:50]\n",
    "cl_z_excess3 = [x for i, x in enumerate(cl_zdiff3) if x>0.05 ]\n",
    "print 'Redshifts differences outside of specified range: ', len(cl_z_excess3), '\\n'\n",
    "\n",
    "print \"Check that uniq_match_ind are indeed same halos, albeit in wrong order\"\n",
    "a = halos_z[uniq_match_ind]\n",
    "b = halos_z_sorted[cl_match_ind_full]\n",
    "c = np.setdiff1d(a,b)\n",
    "print 'Different halos in sorted and unsorted (order does not matter)', len(c)\n"
   ]
  },
  {
   "cell_type": "markdown",
   "metadata": {},
   "source": [
    "### Uniqueness matching algorithm\n",
    "If a cluster matches onto a halo, and that halo matches onto the same cluster. "
   ]
  },
  {
   "cell_type": "code",
   "execution_count": null,
   "metadata": {
    "collapsed": false
   },
   "outputs": [],
   "source": [
    "cl_match_ind_unsorted = np.array(cl_match_ind, dtype=int)\n",
    "cl_match_ind_unsorted[halos_sort] = cl_match_ind\n",
    "halos_match_ind_unsorted = np.array(halos_match_ind, dtype=int)\n",
    "halos_match_ind_unsorted[redM_sort] = halos_match_ind\n",
    "\n",
    "uniq_match_ind = np.where(cl_match_ind_unsorted != -1) #these refer to unsorted halos\n",
    "uniq_match_val = cl_match_ind_unsorted[uniq_match_ind] #matched clusters to the unsorted halos\n",
    "nonuniq_match_val = [x for x in range(len(halos_match_ind_unsorted)) if x not in uniq_match_val] #assign all non_uniq halos to -1\n",
    "uniq_match_bool = halos_match_ind_unsorted[uniq_match_val] == uniq_match_ind\n",
    "uniq_match_bool = uniq_match_bool[0]\n",
    "print 'Number of one way clusters matched to halos are ', np.shape(halos_match_ind_unsorted[uniq_match_val])\n",
    "print 'Number of unique matches are ',np.shape(np.where(uniq_match_bool == True))\n",
    "\n",
    "a = np.array(halos_match_ind_unsorted[uniq_match_val])\n",
    "np.place(a , uniq_match_bool==False, -1)\n",
    "halos_match_ind_unsorted[uniq_match_val] = a\n",
    "halos_match_ind_unsorted[nonuniq_match_val] = -1\n",
    "halos_uniq_ind_unsorted = np.copy(halos_match_ind_unsorted)\n",
    "\n",
    "#Final cuts\n",
    "redM_cut = np.where(halos_uniq_ind_unsorted != -1)\n",
    "halos_cut = halos_uniq_ind_unsorted[redM_cut]\n",
    "\n",
    "print 'After cutting out non-unique matched number of unique matches are', np.shape(np.where(halos_uniq_ind_unsorted != -1))\n"
   ]
  },
  {
   "cell_type": "code",
   "execution_count": null,
   "metadata": {
    "collapsed": false
   },
   "outputs": [],
   "source": [
    "redM_lmda_uniq = redM_lmda[redM_cut]\n",
    "halos_M_uniq = halos_M[halos_cut]\n",
    "\n",
    "plt.plot(halos_M_uniq, redM_lmda_uniq, '.', alpha=0.5)\n",
    "plt.xscale('log')\n",
    "plt.title('Halo-Cluster (Uniquess two way matching)')\n",
    "plt.ylabel(r'Richness ($\\lambda$)'); plt.xlabel(r'Mass ($M_\\odot$)')\n",
    "plt.tight_layout()\n",
    "#plt.savefig('Halo_Cluster_unique.png')\n",
    "plt.show()"
   ]
  },
  {
   "cell_type": "markdown",
   "metadata": {
    "collapsed": false
   },
   "source": [
    "## Loading onto .dat file"
   ]
  },
  {
   "cell_type": "code",
   "execution_count": null,
   "metadata": {
    "collapsed": false
   },
   "outputs": [],
   "source": [
    "from tools.setup.setup import home_dir\n",
    "homedir = home_dir()\n",
    "\n",
    "redM_ID_cut = redM_ID[redM_cut]; redM_RA_cut = redM_RA[redM_cut]; redM_DEC_cut = redM_DEC[redM_cut]; redM_z_cut = redM_z[redM_cut]; redM_lmda_cut = redM_lmda[redM_cut]\n",
    "halos_ID_cut = halos_ID[halos_cut]; halos_RA_cut = halos_RA[halos_cut]; halos_DEC_cut = halos_DEC[halos_cut]; halos_z_cut = halos_z[halos_cut]; halos_M_cut = halos_M[halos_cut]\n",
    "halos_Rvir_cut = halos_Rvir[halos_cut]; halos_X_cut = halos_X[halos_cut]; halos_Y_cut = halos_Y[halos_cut]; halos_Z_cut = halos_Z[halos_cut]\n",
    "#RA,DEC are in rad. Convert back to degrees\n",
    "redM_RA_cut *= 180./np.pi; redM_DEC_cut *= 180./np.pi; halos_RA_cut *= 180./np.pi; halos_DEC_cut *= 180./np.pi\n",
    "\n",
    "#halos_RVir in Kpc/h. Convert to Mpc/h\n",
    "halos_Rvir_cut /= 1000\n",
    "\n",
    "name_str = ('redM_ID', 'redM_RA', 'redM_DEC', 'redM_z', 'redM_lmda', \\\n",
    "            'halos_ID', 'halos_RA', 'halos_DEC', 'halos_z', 'halos_X', 'halos_Y', 'halos_Z', \\\n",
    "            'halos_M', 'halos_Rvir')\n",
    "outfile = open(homedir+'/output/buzzard/halo_redM_matched.dat','w')\n",
    "outfile.write('%12s %12s %12s %12s %12s %12s %12s %12s %12s %12s %12s %12s %12s %12s \\n'%name_str)\n",
    "match_num = len(redM_ID_cut)\n",
    "for i in range(match_num):\n",
    "    outfile.write('%12d %12g %12g %12g %12g %12d %12g %12g %12g %12g %12g %12g %12g %12g\\n' \\\n",
    "                  %(redM_ID_cut[i], redM_RA_cut[i], redM_DEC_cut[i], redM_z_cut[i], redM_lmda_cut[i], \\\n",
    "                   halos_ID_cut[i], halos_RA_cut[i], halos_DEC_cut[i], halos_z_cut[i], \\\n",
    "                    halos_X_cut[i], halos_Y_cut[i], halos_Z_cut[i], halos_M_cut[i], halos_Rvir_cut[i]))\n",
    "\n",
    "outfile.close()"
   ]
  }
 ],
 "metadata": {
  "anaconda-cloud": {},
  "kernelspec": {
   "display_name": "Python [conda root]",
   "language": "python",
   "name": "conda-root-py"
  },
  "language_info": {
   "codemirror_mode": {
    "name": "ipython",
    "version": 2
   },
   "file_extension": ".py",
   "mimetype": "text/x-python",
   "name": "python",
   "nbconvert_exporter": "python",
   "pygments_lexer": "ipython2",
   "version": "2.7.14"
  }
 },
 "nbformat": 4,
 "nbformat_minor": 1
}
