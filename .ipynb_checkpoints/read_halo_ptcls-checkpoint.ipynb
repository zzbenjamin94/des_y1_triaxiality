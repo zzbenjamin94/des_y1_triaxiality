{
 "cells": [
  {
   "cell_type": "markdown",
   "metadata": {},
   "source": [
    "# Py. File for reading halo particles from Joe DeRose on NERSC.\n",
    "## Original code by Heidi, edited by Z. Zhang\n",
    "## First created March 6, 2018\n"
   ]
  },
  {
   "cell_type": "code",
   "execution_count": 1,
   "metadata": {
    "collapsed": true
   },
   "outputs": [],
   "source": [
    "# import pyplot and set some parameters to make plots prettier\n",
    "import matplotlib.pyplot as plt\n",
    "from code.plot_utils import plot_pretty\n",
    "plot_pretty()\n",
    "\n",
    "# setup notebook for inline figures\n",
    "%matplotlib inline\n",
    "\n",
    "from glob import glob\n",
    "import numpy as np\n",
    "import healpy as hp\n",
    "import struct\n",
    "\n",
    "from code.setup.setup import data_home_dir\n",
    "import pyfits\n",
    "datadir = data_home_dir()"
   ]
  },
  {
   "cell_type": "code",
   "execution_count": 2,
   "metadata": {
    "collapsed": false
   },
   "outputs": [
    {
     "data": {
      "text/plain": [
       "'\\nif __name__ == \"__main__\":\\n    ra_cen = 64.3599024\\n    dec_cen = 16.68787569\\n    red_cen = 0.23191588\\n    x_cen = 273.26001\\n    y_cen = 569.31482\\n    z_cen = 189.31299\\n    Rvir = 2.549908\\n    x, y, z = read_halo_ptcl(ra_cen, dec_cen, red_cen, x_cen, y_cen, z_cen, Rmax=Rvir)\\n    print(\\'np.shape(x)\\', np.shape(x))\\n    #plt.figure(figsize=(7,7))\\n    plt.scatter(x,y,s=1)\\n    plt.savefig(\\'../../plots/particles/particles_test2.png\\')\\n    outfile = open(\\'particles_test2.dat\\',\\'w\\')\\n    for i in range(len(x)):\\n        outfile.write(\\'%12g %12g %12g \\n\\'%(x[i],y[i],z[i]))\\n    outfile.close()\\n'"
      ]
     },
     "execution_count": 2,
     "metadata": {},
     "output_type": "execute_result"
    }
   ],
   "source": [
    "from code.lightcone_query_ra_dec import query_file, read_radial_bin\n",
    "### PARTICLES ####\n",
    "\n",
    "def read_halo_ptcl(ra_cen, dec_cen, red_cen, x_cen, y_cen, z_cen, Rmax):\n",
    "    #basepath = '/project/projectdirs/des/jderose/BCC/Chinchilla/Herd/Chinchilla-0/Lb1050/output/pixlc'\n",
    "    basepath = datadir\n",
    "    \n",
    "    chi_cen = np.sqrt(x_cen**2 + y_cen**2 + z_cen**2)\n",
    "\n",
    "    ang = (Rmax/chi_cen) * (180./np.pi) # angle to search particles (in degree)\n",
    "    #print('ang', ang)\n",
    "\n",
    "    x = [] # bad practice\n",
    "    y = [] # bad practice!\n",
    "    z = [] # bad practice!!\n",
    "    filename_exists = []\n",
    "\n",
    "    for ra_pm in [-ang,0,ang]: # some particle might be in another patch\n",
    "        for dec_pm in [-ang,0,ang]:\n",
    "            for chi_pm in [-Rmax,0,Rmax]:\n",
    "                filename = query_file(basepath, ra=ra_cen+ra_pm, dec=dec_cen+dec_pm, r=chi_cen+chi_pm)\n",
    "                if filename in filename_exists: \n",
    "                    #print('used')\n",
    "                    pass\n",
    "                else:\n",
    "                    filename_exists.append(filename)\n",
    "                    hdr, idx, pos = read_radial_bin(filename, read_pos=True)\n",
    "                    npart = len(pos)//3\n",
    "                    pos=pos.reshape(npart, 3)\n",
    "                    dist = np.sqrt((pos[:,0] - x_cen)**2 + (pos[:,1] - y_cen)**2 + (pos[:,2] - z_cen)**2)\n",
    "                    mask = (dist <= Rmax)\n",
    "                    #plt.scatter(pos[mask,0], pos[mask,1], s=1)\n",
    "                    x.extend(pos[mask,0].tolist()) # not append! \n",
    "                    y.extend(pos[mask,1].tolist())\n",
    "                    z.extend(pos[mask,2].tolist())\n",
    "\n",
    "    return np.array(x), np.array(y), np.array(z)\n",
    "    \n",
    "'''\n",
    "if __name__ == \"__main__\":\n",
    "    ra_cen = 64.3599024\n",
    "    dec_cen = 16.68787569\n",
    "    red_cen = 0.23191588\n",
    "    x_cen = 273.26001\n",
    "    y_cen = 569.31482\n",
    "    z_cen = 189.31299\n",
    "    Rvir = 2.549908\n",
    "    x, y, z = read_halo_ptcl(ra_cen, dec_cen, red_cen, x_cen, y_cen, z_cen, Rmax=Rvir)\n",
    "    print('np.shape(x)', np.shape(x))\n",
    "    #plt.figure(figsize=(7,7))\n",
    "    plt.scatter(x,y,s=1)\n",
    "    plt.savefig('../../plots/particles/particles_test2.png')\n",
    "    outfile = open('particles_test2.dat','w')\n",
    "    for i in range(len(x)):\n",
    "        outfile.write('%12g %12g %12g \\n'%(x[i],y[i],z[i]))\n",
    "    outfile.close()\n",
    "'''"
   ]
  },
  {
   "cell_type": "code",
   "execution_count": 3,
   "metadata": {
    "collapsed": false
   },
   "outputs": [
    {
     "name": "stdout",
     "output_type": "stream",
     "text": [
      "nside, pix, comv-distance, rbin  2 0 659.264594468 26\n",
      "Filename is snapshot_Lightcone_26_0\n"
     ]
    }
   ],
   "source": [
    "#Reading a sample file. Figuring out file number\n",
    "ra = 64.3599024; dec = 16.68787569;\n",
    "x_cen = 273.26001; y_cen = 569.31482; z_cen = 189.31299\n",
    "red_cen = 0.23191588\n",
    "chi_cen = np.sqrt(x_cen**2 + y_cen**2 + z_cen**2)\n",
    "rbin = int(chi_cen//25)\n",
    "rvir = 2.549908\n",
    "\n",
    "path = '{}snapshot_Lightcone_{}_0'.format(datadir, rbin)    \n",
    "hdr, idx = read_radial_bin(path)\n",
    "nside = hdr[2]\n",
    "\n",
    "pix = hp.ang2pix(nside, (90-dec)*np.pi / 180., ra * np.pi / 180., nest=True)\n",
    "\n",
    "filename = 'snapshot_Lightcone_{}_{}'.format(rbin, pix)\n",
    "print 'nside, pix, comv-distance, rbin ', nside, pix, chi_cen, rbin\n",
    "print 'Filename is', filename\n"
   ]
  },
  {
   "cell_type": "code",
   "execution_count": 5,
   "metadata": {
    "collapsed": false
   },
   "outputs": [
    {
     "name": "stdout",
     "output_type": "stream",
     "text": [
      "Position \n",
      "[[ 230.38188171  576.41125488  264.24661255]\n",
      " [ 246.97061157  565.98406982  268.4781189 ]\n",
      " [ 246.96478271  564.93823242  268.42935181]\n",
      " ..., \n",
      " [  24.75478554  515.39709473  422.57382202]\n",
      " [  25.01127815  513.13879395  423.96310425]\n",
      " [  23.36794853  487.5932312   452.41711426]]\n",
      "Velocity \n",
      "[[ 724.8236084   366.50933838 -128.40913391]\n",
      " [ 265.03048706  304.17819214  -10.83288479]\n",
      " [ 237.99021912  478.59320068  -66.00671387]\n",
      " ..., \n",
      " [  48.70364761  133.90708923  371.53451538]\n",
      " [  -3.73275232  133.15046692  337.63378906]\n",
      " [ -28.34686279  100.00749969  217.58757019]]\n",
      "Particle ID \n",
      "[569464356 634127560 634123359 ..., 332206520 338083718 351772915]\n",
      "True [0.57735042799351644, 0.31355738012861217, 0.23943732103822257] [array([  1.00000000e+00,  -1.88642438e-07,  -5.68892626e-08]), array([ -1.88642446e-07,  -1.00000000e+00,  -1.39913613e-07]), array([ -5.68892362e-08,   1.39913624e-07,  -1.00000000e+00])]\n"
     ]
    }
   ],
   "source": [
    "from code.halo_shape_calc import quad_moment\n",
    "#Reading a binary file. Do it yourself and see what parameters there are, how to extract them, and \n",
    "#how to scale up to reading many ~10,000 halo files. \n",
    "filename = datadir + 'snapshot_Lightcone_26_1'\n",
    "hdr, idx, pos, vel, ptcl_ID = read_radial_bin(filename, read_pos=True, read_vel=True, read_ids=True)\n",
    "npart = len(pos)//3\n",
    "pos=pos.reshape(npart, 3); vel = vel.reshape(npart,3)\n",
    "print 'Position \\n', pos\n",
    "print 'Velocity \\n', vel\n",
    "print 'Particle ID \\n', ptcl_ID\n",
    "\n",
    "#To do: Find orientation of this halo, and scale this up to all redMapper selected halos \n",
    "#Need shape algorithm, redMapper selected Halo data, \n",
    "\n",
    "x, y, z = read_halo_ptcl(ra, dec, red_cen, x_cen, y_cen, z_cen, Rmax=rvir)\n",
    "ptcl_coord = [x,y,z]; centr = [x_cen, y_cen, z_cen]\n",
    "#print ptcl_coord[0], centr[0], rvir\n",
    "#print ptcl_coord, centr\n",
    "converge, axes_len, axes_dir = quad_moment(ptcl_coord, centr, rvir)\n",
    "print converge, axes_len, axes_dir"
   ]
  },
  {
   "cell_type": "code",
   "execution_count": null,
   "metadata": {
    "collapsed": true
   },
   "outputs": [],
   "source": []
  }
 ],
 "metadata": {
  "anaconda-cloud": {},
  "kernelspec": {
   "display_name": "Python [conda root]",
   "language": "python",
   "name": "conda-root-py"
  },
  "language_info": {
   "codemirror_mode": {
    "name": "ipython",
    "version": 2
   },
   "file_extension": ".py",
   "mimetype": "text/x-python",
   "name": "python",
   "nbconvert_exporter": "python",
   "pygments_lexer": "ipython2",
   "version": "2.7.12"
  }
 },
 "nbformat": 4,
 "nbformat_minor": 1
}
