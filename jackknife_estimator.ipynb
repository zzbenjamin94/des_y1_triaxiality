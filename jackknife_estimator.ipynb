{
 "cells": [
  {
   "cell_type": "markdown",
   "metadata": {},
   "source": [
    "# Statistical Processing for Halo Distribution\n",
    "## Zhuowen Zhang, first created March 22, 2018\n"
   ]
  },
  {
   "cell_type": "code",
   "execution_count": 1,
   "metadata": {
    "collapsed": false
   },
   "outputs": [],
   "source": [
    "import numpy as np\n",
    "\n",
    "# import pyplot and set some parameters to make plots prettier\n",
    "import matplotlib.pyplot as plt\n",
    "from code.plot_utils import plot_pretty\n",
    "plot_pretty()\n",
    "%matplotlib inline\n",
    "\n",
    "from mpl_toolkits.mplot3d import Axes3D\n",
    "from code.halo_shape_calc import quad_moment\n",
    "from code.lightcone_query_ra_dec import query_file, read_radial_bin\n",
    "from code.setup.setup import data_home_dir\n",
    "from code.setup.setup import code_home_dir\n",
    "import pyfits\n",
    "datadir = data_home_dir()\n",
    "codedir = code_home_dir()\n",
    "\n",
    "\n",
    "import astropy.io.fits as pyfits\n",
    "import ConfigParser\n",
    "import healpy as hp\n",
    "import treecorr\n",
    "import os\n",
    "\n",
    "#kmeans_radec already installed in environment. No need to import \n",
    "#import code.kmeans_radec\n",
    "#from code.kmeans_radec import KMeans, kmeans_sample "
   ]
  },
  {
   "cell_type": "code",
   "execution_count": 54,
   "metadata": {
    "collapsed": false
   },
   "outputs": [],
   "source": [
    "#Import halo files\n",
    "halos_shape = np.load(datadir+'halos_shape.npy')\n",
    "#halos_shape = np.zeros(halos_num, dtype={'names':('halos_ID', 'richness', 'Mvir', 'Rvir', 'redshift', 'axes_len', \\\n",
    "#       'axes_dir', 'halos_dir', 'converge'),'formats':('i', 'f', 'f','f','f','(3,)f','(3,3)f','(3,)f','i')})\n",
    "\n",
    "#Apply convergence cut\n",
    "#print 'Positions not converge:', np.where(halos_shape['converge'] != 1)\n",
    "conv_cut = np.where(halos_shape['converge']==True)\n",
    "halos_shape = halos_shape[conv_cut]\n",
    "halos_num = len(halos_shape)\n",
    "\n",
    "#quantities to extract\n",
    "halos_RA = halos_shape['halos_RA']; halos_DEC = halos_shape['halos_DEC']\n",
    "halos_coord = np.array([halos_RA, halos_DEC]).T\n",
    "axes_len = halos_shape['axes_len']\n",
    "axes_dir = halos_shape['axes_dir']\n",
    "q = axes_len[:,2]/axes_len[:,0]\n",
    "s = axes_len[:,1]/axes_len[:,0]\n",
    "richness = halos_shape['richness']\n",
    "lmda_max = np.max(richness)\n",
    "\n",
    "#Find angle\n",
    "#Orientation PDF\n",
    "halos_dir = halos_shape['halos_dir']\n",
    "axes_dir = halos_shape['axes_dir']\n",
    "major_dir = axes_dir[:,2,:]\n",
    "\n",
    "#absolute value of cosine of axis between major axis and LOS\n",
    "cos_i = np.zeros(halos_num) #cos(i) in lingo of Osato 2017\n",
    "for i in range(halos_num):\n",
    "    halos_dir_mag = np.linalg.norm(halos_dir[i])\n",
    "    major_mag = np.linalg.norm(major_dir[i]);\n",
    "    cos_i[i] = np.abs(np.dot(major_dir[i],halos_dir[i])/(halos_dir_mag * major_mag))\n",
    "#convert cosine to angle in degrees\n",
    "angle_los_halo = np.arccos(cos_i)*180/np.pi"
   ]
  },
  {
   "cell_type": "code",
   "execution_count": 49,
   "metadata": {
    "collapsed": false
   },
   "outputs": [
    {
     "name": "stdout",
     "output_type": "stream",
     "text": [
      "X (1950, 2)  centers (5, 2)  tol=1e-05  maxiter=100\n",
      "26 iterations  cluster sizes: [541 747 662]\n",
      "Convergence is  True\n",
      "('copy of centers:', array([[126.58016968,  56.16757011],\n",
      "       [ 86.44126129,  18.70339335],\n",
      "       [ 42.14180756,  42.97402408],\n",
      "       [  0.        ,   0.        ],\n",
      "       [  0.        ,   0.        ]]))\n"
     ]
    }
   ],
   "source": [
    "from code.kmeans_radec import kmeans, kmeans_sample\n",
    "\n",
    "#First instantiate an instance of the class. Import the RA, DEC of the files and check for center. \n",
    "#To do: Halo file to import\n",
    "#Use Yuanyuan's code to compute mean and error on angle and ellipticities. \n",
    "\n",
    "ncen = 5\n",
    "cen_guess=np.zeros( (ncen, 2) )\n",
    "ra_guesses = cen_guess[:,0]\n",
    "dec_guesses = cen_guess[:,1]\n",
    "km=kmeans(halos_coord, cen_guess)\n",
    "#km.run(halos_coord, maxiter=100)\n",
    "\n",
    "\n",
    "# results are saved in attributes\n",
    "print \"Convergence is \", km.converged\n",
    "#print(km.centers, km.labels, km.distances)\n",
    "print(\"copy of centers:\",km.get_centers())"
   ]
  },
  {
   "cell_type": "code",
   "execution_count": 121,
   "metadata": {
    "collapsed": false
   },
   "outputs": [
    {
     "name": "stdout",
     "output_type": "stream",
     "text": [
      "Mean and standard error of statistic is 0.54166085 0.002824698860086466\n",
      "Mean and standard error of statistic is 0.5383905 0.0033114436938530634\n",
      "Mean and standard error of statistic is 0.5194659 0.003620615529311722\n",
      "Mean and standard error of statistic is 0.68912107 0.003745285391532665\n",
      "Mean and standard error of statistic is 0.6827589 0.0038391090066363974\n",
      "Mean and standard error of statistic is 0.6771741 0.004872881716897712\n",
      "Mean and standard error of statistic is 50.90227230831226 0.7503062364047726\n",
      "Mean and standard error of statistic is 49.71792598853078 0.6862504142601517\n",
      "Mean and standard error of statistic is 43.543743292561985 2.7147231603440622\n"
     ]
    }
   ],
   "source": [
    "#Jackknife Resampling\n",
    "#Jackknife reference: https://www.utdallas.edu/~herve/abdi-Jackknife2010-pretty.pdf\n",
    "#Extract quantities from km object\n",
    "ncen =10\n",
    "km = kmeans_sample(halos_coord, ncen, verbose=0)\n",
    "km_centers = km.get_centers()\n",
    "km_labels= km.find_nearest(halos_coord)\n",
    "km_ncen = km.get_ncen()\n",
    "\n",
    "#Check properties\n",
    "#print(\"found centers:\", len(km.centers))\n",
    "#print(\"converged?\", km.converged)\n",
    "#print(\"labels size:\", km.labels.size)\n",
    "#print(\"cluster sizes:\", np.bincount(km.labels))\n",
    "#print(\"shape of distances:\", km.distances.shape)\n",
    "\n",
    "#set richness bins\n",
    "lmda_bins = [[20,30],[30,50],[50,lmda_max]] #upper limit must match lower limit of next bin\n",
    "lmda_bins_ind = []\n",
    "for i, lmda_bin in enumerate(lmda_bins):\n",
    "    #print i, lmda_bin\n",
    "    lmda_bin_min = lmda_bin[0]; lmda_bin_max = lmda_bin[1]\n",
    "    lmda_pos = np.where((richness >= lmda_bin_min) & (richness < lmda_bin_max))\n",
    "    lmda_bins_ind.append(lmda_pos)\n",
    "num_bins = len(lmda_bins_ind)\n",
    "    \n",
    "#Build array of test statistics\n",
    "T_stat =[q, s, angle_los_halo]\n",
    "num_stat = len(T_stat)\n",
    "T_arr =np.zeros((num_stat,num_bins,3)) #3 for mean, number of samples, and SE. Model as Student-t \n",
    "\n",
    "#Array for test_statistics\n",
    "for i in range(num_stat):  \n",
    "    for j in range(num_bins):\n",
    "        T_jk_list = []\n",
    "        lmda_bin_min = lmda_bins[j][0]; lmda_bin_max = lmda_bins[j][1]\n",
    "        for k in range(km_ncen):\n",
    "        #    print 'Working on the No. %i Jacknife sample out of %i, richness %f to %f' \\\n",
    "        #            %(i, km.get_ncen(), lmda_min, lmda_max)\n",
    "            jackknife_cut = np.where((richness >= lmda_bin_min) & (richness <= lmda_bin_max) & (km_labels != k))\n",
    "            T_k_cut = T_stat[i][jackknife_cut]\n",
    "            T_jk_list.append(T_k_cut)\n",
    "        T_jk_list = np.asarray(T_jk_list)\n",
    "\n",
    "        #jackknife estimator of mean\n",
    "        T_rdu_arr = np.array([np.mean(T_jk_list[x]) for x in range(len(T_jk_list))]) #array of test statistic for ncen reduced jackknife sample\n",
    "        T_num_samp = len(T_rdu_arr) #Number of samples \n",
    "        T_jk_mean = np.mean(T_rdu_arr)\n",
    "        T_jk_var = np.var(T_rdu_arr, ddof=1)\n",
    "        T_jk_std = np.std(T_rdu_arr, ddof=1) #ddof = 1 so that divide by (N-1), sample standard deviation\n",
    "        T_jk_SE = (km_ncen-1.)/np.sqrt(km_ncen)*T_jk_std #std of the mean\n",
    "        print 'Mean and standard error of statistic is', T_jk_mean, T_jk_SE\n",
    "        #print 'Mean and standard error from biased sample is ', np.mean(q[lmda_bins_ind[2]]), \\\n",
    "        #                                           np.std(q[lmda_bins_ind[2]])/np.sqrt(len(q[lmda_bins_ind[2]]))\n",
    "            \n",
    "        #Save into T_arr\n",
    "        T_arr[i,j,0] = T_jk_mean; T_arr[i,j,1] = T_num_samp; T_arr[i,j,2] = T_jk_SE"
   ]
  },
  {
   "cell_type": "markdown",
   "metadata": {},
   "source": [
    "## Null hypothesis testing for different distributions "
   ]
  },
  {
   "cell_type": "code",
   "execution_count": 122,
   "metadata": {
    "collapsed": false
   },
   "outputs": [
    {
     "name": "stdout",
     "output_type": "stream",
     "text": [
      "0.002917200587062149\n",
      "(-0.005819917544661012, 0.005819917544661012)\n",
      "50.90227230831226 43.543743292561985 2.816501604064224\n",
      "2.6126486152650825 (-1.9866745405784678, 1.9866745405784678)\n"
     ]
    }
   ],
   "source": [
    "from scipy.stats import t\n",
    "#Compare with Student-t distribution\n",
    "print t.std(df=(km_ncen-1), scale = T_SE)\n",
    "print t.interval(0.95,df=(km_ncen-1), scale=T_SE)\n",
    "\n",
    "#Conduct a Student-t test for comparing means with unequal variances. \n",
    "#Reference: https://ocw.mit.edu/courses/mathematics/18-05-introduction-to-probability-and-statistics-spring-2014/readings/MIT18_05S14_Reading19.pdf\n",
    "#test q in bin 0 and bin 2\n",
    "\n",
    "#T_arr[num_stats,num_bins,3]. 3 for mean, number of samples, and SE.\n",
    "SE_x = T_arr[2,0,2]; SE_y = T_arr[2,2,2]; n_samp = T_arr[2,0,1]\n",
    "x_mean = T_arr[2,0,0]; y_mean = T_arr[2,2,0]\n",
    "SE_pool = np.sqrt(SE_x**2. + SE_y**2.)\n",
    "dof_pool = SE_pool**2./(SE_x**2./(n_samp*(n_samp-1.)) + SE_y**2./(n_samp*(n_samp-1.)))\n",
    "test_stat = (x_mean - y_mean)/SE_pool\n",
    "\n",
    "p_val = 0.05\n",
    "null_range = t.interval(1-p_val, df=dof_pool,loc=0,scale=1)\n",
    "print x_mean, y_mean, SE_pool\n",
    "print test_stat, null_range\n",
    "\n",
    "#Do this with q first to make easy your life. \n",
    "\n",
    "\n"
   ]
  },
  {
   "cell_type": "code",
   "execution_count": 143,
   "metadata": {
    "collapsed": false
   },
   "outputs": [
    {
     "data": {
      "text/plain": [
       "[Text(0,0,'$\\\\lambda \\\\in [20.0, 30.0)$'),\n",
       " Text(0,0,'$\\\\lambda \\\\in [30.0, 50.0)$'),\n",
       " Text(0,0,'$\\\\lambda \\\\in [50.0, 135.4)$')]"
      ]
     },
     "execution_count": 143,
     "metadata": {},
     "output_type": "execute_result"
    },
    {
     "data": {
      "image/png": "[encoded data removed]",
      "text/plain": [
       "<Figure size 432x216 with 3 Axes>"
      ]
     },
     "metadata": {},
     "output_type": "display_data"
    }
   ],
   "source": [
    "#Plotting error bars\n",
    "fig, axs = plt.subplots(1 ,num_stat, tight_layout=True, figsize=(6,3))\n",
    "\n",
    "#ax.fill_between(x, y1, y2, where=y2 >= y1, facecolor='green', interpolate=True)\n",
    "#ax.fill_between(x, y1, y2, where=y2 <= y1, facecolor='red', interpolate=True)\n",
    "yticks = [0.1, 0.4, 0.7]\n",
    "yticklabels = []\n",
    "xlabels = [r'$q$', r'$s$', r'angle $(i)$']\n",
    "for i, lmda_bin_i in enumerate(lmda_bins):\n",
    "    yticklabels_i = r'$\\lambda \\in [{:.1f}, {:.1f})$'.format(lmda_bin_i[0], lmda_bin_i[1])\n",
    "    yticklabels.append(yticklabels_i)\n",
    "#print yticklabels\n",
    "\n",
    "for i in range(num_stat):\n",
    "    #Consider as a next step combining ONLY datat that are consistent. \n",
    "    SE_combine = np.sqrt(np.sum([T_arr[i,x,2]**2. for x in range(num_bins)]))\n",
    "    stat_tot_num = np.sum([T_arr[i,x,1] for x in range(num_bins)])\n",
    "    mean_combine = np.sum([T_arr[i,x,0]*T_arr[i,x,1] for x in range(num_bins)])/stat_tot_num\n",
    "    axs[i].bar(mean_combine, height=1, width=SE_combine, alpha=0.2, color='gray')\n",
    "    axs[i].errorbar(T_arr[i,:,0],yticks, xerr=T_arr[i,:,2], fmt='o')\n",
    "    axs[i].set_xlabel(xlabels[i])\n",
    "    axs[i].set_yticks([])\n",
    "    axs[i].set_ylim((0,0.8))\n",
    "axs[0].set_yticks(yticks)\n",
    "axs[0].set_yticklabels(yticklabels)"
   ]
  },
  {
   "cell_type": "code",
   "execution_count": null,
   "metadata": {
    "collapsed": true
   },
   "outputs": [],
   "source": []
  },
  {
   "cell_type": "code",
   "execution_count": null,
   "metadata": {
    "collapsed": true
   },
   "outputs": [],
   "source": []
  }
 ],
 "metadata": {
  "anaconda-cloud": {},
  "kernelspec": {
   "display_name": "Python [conda root]",
   "language": "python",
   "name": "conda-root-py"
  },
  "language_info": {
   "codemirror_mode": {
    "name": "ipython",
    "version": 2
   },
   "file_extension": ".py",
   "mimetype": "text/x-python",
   "name": "python",
   "nbconvert_exporter": "python",
   "pygments_lexer": "ipython2",
   "version": "2.7.12"
  }
 },
 "nbformat": 4,
 "nbformat_minor": 1
}
