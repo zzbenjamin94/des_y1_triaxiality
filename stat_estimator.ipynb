{
 "cells": [
  {
   "cell_type": "markdown",
   "metadata": {},
   "source": [
    "# Statistical Processing for Halo Distribution\n",
    "## Zhuowen Zhang, first created March 22, 2018\n"
   ]
  },
  {
   "cell_type": "code",
   "execution_count": 97,
   "metadata": {
    "collapsed": false
   },
   "outputs": [],
   "source": [
    "import numpy as np\n",
    "\n",
    "# import pyplot and set some parameters to make plots prettier\n",
    "import matplotlib.pyplot as plt\n",
    "from code.plot_utils import plot_pretty\n",
    "plot_pretty()\n",
    "%matplotlib inline\n",
    "\n",
    "from mpl_toolkits.mplot3d import Axes3D\n",
    "from code.halo_shape_calc import quad_moment\n",
    "from code.lightcone_query_ra_dec import query_file, read_radial_bin\n",
    "from code.setup.setup import data_home_dir\n",
    "from code.setup.setup import code_home_dir\n",
    "import pyfits\n",
    "datadir = data_home_dir()\n",
    "codedir = code_home_dir()\n",
    "\n",
    "\n",
    "import astropy.io.fits as pyfits\n",
    "import ConfigParser\n",
    "import healpy as hp\n",
    "import treecorr\n",
    "import os"
   ]
  },
  {
   "cell_type": "markdown",
   "metadata": {},
   "source": [
    "## Importing Halo File\n",
    "If re-run sampling, for instance if you change the number of bins in mass pdf, or the mass cutoffs, you will need to start from here. "
   ]
  },
  {
   "cell_type": "code",
   "execution_count": 140,
   "metadata": {
    "collapsed": false
   },
   "outputs": [
    {
     "name": "stdout",
     "output_type": "stream",
     "text": [
      "Created from halos_shape_allz.npy record array\n",
      "Number of halos is 23997\n",
      "Created from halos_shape_rand.npy record array\n",
      "Number of halos is 100000\n"
     ]
    }
   ],
   "source": [
    "#Combining data for redMapper selected halos\n",
    "try:\n",
    "    filename = 'halos_shape_allz.npy'\n",
    "    halos_shape = np.load(datadir+filename)\n",
    "except IOError:\n",
    "    print\"Error: File {0} cannot be opened\".format(filename)\n",
    "else:\n",
    "    print\"Created from {} record array\".format(filename)\n",
    "    print \"Number of halos is {}\".format(len(halos_shape))\n",
    "\n",
    "    \n",
    "#Data for random halos. Use low-redshift ones for now\n",
    "#Todo: Combine low/high-z for random halos\n",
    "\n",
    "try:\n",
    "    filename = 'halos_shape_rand.npy'\n",
    "    halos_shape_rand = np.load(datadir+filename)\n",
    "except IOError:\n",
    "    print\"Error: File {0} cannot be opened\".format(filename)\n",
    "else:\n",
    "    print \"Created from {} record array\".format(filename)\n",
    "    print \"Number of halos is {}\".format(len(halos_shape_rand))"
   ]
  },
  {
   "cell_type": "markdown",
   "metadata": {},
   "source": [
    "## Extract relevant quantities from data"
   ]
  },
  {
   "cell_type": "markdown",
   "metadata": {},
   "source": [
    "#### For redMapper selected halos"
   ]
  },
  {
   "cell_type": "code",
   "execution_count": 141,
   "metadata": {
    "collapsed": false
   },
   "outputs": [
    {
     "name": "stdout",
     "output_type": "stream",
     "text": [
      "Number of halos after cuts is  23668\n"
     ]
    }
   ],
   "source": [
    "#check properties of halos with shapes not converged\n",
    "ind_not_conv = np.where(halos_shape['converge'] == False)\n",
    "\n",
    "#print 'Positions not converge:', np.where(halos_shape['converge'] != 1)\n",
    "conv_cut = np.where(halos_shape['converge']==True)\n",
    "halos_shape = halos_shape[conv_cut]\n",
    "#print 'After cut positions not converged:', np.where(halos_shape['converge'] != 1)\n",
    "m_cut = np.where(halos_shape['M200b'] < 1e15)\n",
    "halos_shape = halos_shape[m_cut]\n",
    "halos_num = len(halos_shape)\n",
    "print 'Number of halos after cuts is ', halos_num\n",
    "\n",
    "\n",
    "#Relevant quantities to extract and plot\n",
    "########################################\n",
    "\n",
    "#Axis len and dir\n",
    "halos_RA = halos_shape['halos_RA']; halos_DEC = halos_shape['halos_DEC']\n",
    "halos_coord = np.array([halos_RA, halos_DEC]).T\n",
    "axes_len = halos_shape['axes_len']\n",
    "axes_dir = halos_shape['axes_dir']\n",
    "halos_dir = halos_shape['halos_dir']\n",
    "q = axes_len[:,2]/axes_len[:,0]\n",
    "s = axes_len[:,1]/axes_len[:,0]\n",
    "\n",
    "#Mass\n",
    "halos_M = halos_shape['M200b']\n",
    "\n",
    "\n",
    "#Orientation PDF\n",
    "major_dir = axes_dir[:,2,:]\n",
    "\n",
    "#absolute value of cosine of axis between major axis and LOS\n",
    "#For redMapper selected halos\n",
    "cos_i = np.zeros(halos_num) #cos(i) in lingo of Osato 2017\n",
    "for i in range(halos_num):\n",
    "    halos_dir_mag = np.linalg.norm(halos_dir[i])\n",
    "    major_mag = np.linalg.norm(major_dir[i]);\n",
    "    cos_i[i] = np.abs(np.dot(major_dir[i],halos_dir[i])/(halos_dir_mag * major_mag))\n",
    "#convert cosine to angle in degrees\n",
    "#angle_los_halo = np.arccos(cos_i)*180/np.pi"
   ]
  },
  {
   "cell_type": "markdown",
   "metadata": {},
   "source": [
    "#### For randomly selected halos\n",
    "May need to redraw halos in random selection from each mass bin to re-produce identical mass pdf as redMapper"
   ]
  },
  {
   "cell_type": "code",
   "execution_count": 142,
   "metadata": {
    "collapsed": false
   },
   "outputs": [
    {
     "name": "stdout",
     "output_type": "stream",
     "text": [
      "Number of randomly selected halos after cuts is  76970\n"
     ]
    }
   ],
   "source": [
    "from numpy.random import choice\n",
    "\n",
    "#Extract random halos\n",
    "#check properties of halos with shapes not converged\n",
    "ind_not_conv_rand = np.where(halos_shape_rand['converge'] == False)\n",
    "\n",
    "#print 'Positions not converge:', np.where(halos_shape['converge'] != 1)\n",
    "conv_cut_rand = np.where(halos_shape_rand['converge']==True)\n",
    "halos_shape_rand = halos_shape_rand[conv_cut_rand]\n",
    "halos_num_rand = len(halos_shape_rand)\n",
    "#print 'After cut positions not converged:', np.where(halos_shape['converge'] != 1)\n",
    "print 'Number of randomly selected halos after cuts is ', halos_num_rand\n",
    "\n",
    "#mass\n",
    "halos_M_rand = halos_shape_rand['M200b']\n",
    "\n",
    "\n",
    "#bin the redMapper by mass\n",
    "num_bin = 40\n",
    "m_min = 13; m_max = 15\n",
    "n_mass_hist, lnmass_bin_edge = np.histogram(np.log10(halos_M), num_bin, range=(m_min, m_max))\n",
    "#Resampled statistics\n",
    "rand_resamp_ind = np.array([], dtype=int)\n",
    "\n",
    "for i in range(num_bin):\n",
    "    lnmass_bin_low = lnmass_bin_edge[i]; lnmass_bin_high = lnmass_bin_edge[i+1]\n",
    "    lnmass_bin_ind = np.where( (np.log10(halos_M_rand) < lnmass_bin_high) & \\\n",
    "                         (np.log10(halos_M_rand) >= lnmass_bin_low))[0]\n",
    "\n",
    "    #Draw samples from randomly selected halos to match redMapper.\n",
    "    #The two distributions may be off at large mass, so introduce arbitary cutoff at 10**13 and 10**15 Msun\n",
    "    #Should not affect distribution too much as >99% are in the 13-15 range\n",
    "    \n",
    "    #Resample the distribution in the mass range to match number of halos in redMapper\n",
    "    assert len(lnmass_bin_ind) >= 1, \"No halos in random in this mass range\"\n",
    "    lnmass_bin_resamp_ind = choice(lnmass_bin_ind, size=n_mass_hist[i])\n",
    "    rand_resamp_ind = np.concatenate((rand_resamp_ind, lnmass_bin_resamp_ind))\n",
    "\n",
    "#print rand_resamp_ind\n",
    "#halos_M_rand_resamp = halos_M_rand[rand_resamp_ind]\n",
    "#print len(halos_M_rand_resamp)\n",
    "    \n"
   ]
  },
  {
   "cell_type": "code",
   "execution_count": 143,
   "metadata": {
    "collapsed": false
   },
   "outputs": [
    {
     "name": "stdout",
     "output_type": "stream",
     "text": [
      "Number of resampled random halos is 23668\n",
      "Number of redMapper halos in M range 13-15 is  23668\n"
     ]
    }
   ],
   "source": [
    "#Resample the random halos according to mass pdf of redMapper\n",
    "halos_shape_rand = np.copy(halos_shape_rand[rand_resamp_ind])\n",
    "halos_num_rand = len(halos_shape_rand)\n",
    "print 'Number of resampled random halos is', halos_num_rand\n",
    "print 'Number of redMapper halos in M range 13-15 is ', np.sum(n_mass_hist)\n",
    "\n",
    "#Axis len and dir\n",
    "halos_RA_rand = halos_shape_rand['halos_RA']; halos_DEC_rand = halos_shape_rand['halos_DEC']\n",
    "halos_coord_rand = np.array([halos_RA_rand, halos_DEC_rand]).T\n",
    "axes_len_rand = halos_shape_rand['axes_len']\n",
    "axes_dir_rand = halos_shape_rand['axes_dir']\n",
    "halos_dir_rand = halos_shape_rand['halos_dir']\n",
    "q_rand = axes_len_rand[:,2]/axes_len_rand[:,0]\n",
    "s_rand = axes_len_rand[:,1]/axes_len_rand[:,0]\n",
    "\n",
    "#mass\n",
    "halos_M_rand = halos_shape_rand['M200b']\n",
    "\n",
    "#Orientation PDF\n",
    "major_dir_rand = axes_dir_rand[:,2,:]\n",
    "\n",
    "#Orientation\n",
    "cos_i_rand = np.zeros(halos_num_rand) #cos(i) in lingo of Osato 2017\n",
    "for i in range(halos_num_rand):\n",
    "    halos_dir_mag_rand = np.linalg.norm(halos_dir_rand[i])\n",
    "    major_mag_rand = np.linalg.norm(major_dir_rand[i]);\n",
    "    cos_i_rand[i] = np.abs(np.dot(major_dir_rand[i],halos_dir_rand[i])/(halos_dir_mag_rand * major_mag_rand))"
   ]
  },
  {
   "cell_type": "markdown",
   "metadata": {},
   "source": [
    "## Bins\n",
    "Bin by cosine and lambda"
   ]
  },
  {
   "cell_type": "code",
   "execution_count": 144,
   "metadata": {
    "collapsed": false
   },
   "outputs": [
    {
     "name": "stdout",
     "output_type": "stream",
     "text": [
      "Maximum richness after cuts is  273.968\n"
     ]
    }
   ],
   "source": [
    "##Cosine bins\n",
    "#Bin by cos_i\n",
    "cosi_num_bin = 5\n",
    "cosi_bin_edge = np.linspace(0,1,cosi_num_bin+1)\n",
    "cosi_bins = []\n",
    "for i in range(cosi_num_bin):\n",
    "    cosi_bins.append([cosi_bin_edge[i], cosi_bin_edge[i+1]])\n",
    "\n",
    "#Bin halos_shape by cosi bins\n",
    "cosi_bins_ind = []\n",
    "for i, cosi_bin in enumerate(cosi_bins):\n",
    "    cosi_bin_min = cosi_bin[0]; cosi_bin_max = cosi_bin[1]\n",
    "    cosi_pos = np.where((cos_i >= cosi_bin_min) & (cos_i < cosi_bin_max))\n",
    "    cosi_bins_ind.append(cosi_pos)  \n",
    "    \n",
    "#Richness bins\n",
    "richness = halos_shape['richness']\n",
    "lmda_max = np.max(richness)\n",
    "lmda_bins = [[20,30],[30,50],[50,lmda_max]] #upper limit must match lower limit of next bin\n",
    "num_lmda_bins = len(lmda_bins)\n",
    "print 'Maximum richness after cuts is ', lmda_max\n",
    "\n",
    "#Bin halos_shape by richness bins\n",
    "lmda_bins_ind = []\n",
    "for i, lmda_bin in enumerate(lmda_bins):\n",
    "    #print i, lmda_bin\n",
    "    lmda_bin_min = lmda_bin[0]; lmda_bin_max = lmda_bin[1]\n",
    "    lmda_pos = np.where((richness >= lmda_bin_min) & (richness < lmda_bin_max))\n",
    "    lmda_bins_ind.append(lmda_pos)"
   ]
  },
  {
   "cell_type": "markdown",
   "metadata": {},
   "source": [
    "## Testing ellipticity with mass relation"
   ]
  },
  {
   "cell_type": "markdown",
   "metadata": {},
   "source": [
    "#### Correlation between q and mass. "
   ]
  },
  {
   "cell_type": "code",
   "execution_count": 145,
   "metadata": {
    "collapsed": false
   },
   "outputs": [
    {
     "data": {
      "image/png": "[encoded data removed]",
      "text/plain": [
       "<Figure size 288x216 with 1 Axes>"
      ]
     },
     "metadata": {},
     "output_type": "display_data"
    }
   ],
   "source": [
    "from scipy.stats import sem\n",
    "#Test for random halos whether ellipticity q scales with mass. \n",
    "num_bin = 20\n",
    "m_min = 13; m_max = 15\n",
    "n_mass_hist, lnmass_bin_edge = np.histogram(np.log10(halos_M_rand), 20, range=(m_min, m_max))\n",
    "#plt.hist(halos_M_rand, num_bin, range=(m_min, m_max), log=True)\n",
    "#plt.show()\n",
    "\n",
    "q_mean_bin = np.zeros(num_bin)\n",
    "q_sem_bin = np.zeros(num_bin)\n",
    "for i in range(num_bin):\n",
    "    lnmass_bin_low = lnmass_bin_edge[i]; lnmass_bin_high = lnmass_bin_edge[i+1]\n",
    "    q_bin_ind = np.where( (np.log10(halos_M_rand) < lnmass_bin_high) & \\\n",
    "                         (np.log10(halos_M_rand) >= lnmass_bin_low))\n",
    "    q_mean_bin[i] = np.mean(q_rand[q_bin_ind])\n",
    "    q_sem_bin[i] = sem(q_rand[q_bin_ind])\n",
    "#print q_mean_bin\n",
    "#print q_sem_bin\n",
    "\n",
    "plt.figure(figsize=(4,3))\n",
    "plt.bar(lnmass_bin_edge[0:-1], q_mean_bin, width=0.05)\n",
    "plt.xlabel(r'Mass $\\log(M_\\odot)$')\n",
    "plt.ylabel('Mean $q$')\n",
    "plt.show()"
   ]
  },
  {
   "cell_type": "code",
   "execution_count": 146,
   "metadata": {
    "collapsed": false
   },
   "outputs": [
    {
     "data": {
      "image/png": "[encoded data removed]",
      "text/plain": [
       "<Figure size 288x216 with 1 Axes>"
      ]
     },
     "metadata": {},
     "output_type": "display_data"
    }
   ],
   "source": [
    "#Plot histogram to show resampling works\n",
    "plt.figure(figsize=(4,3))\n",
    "a, dummy1, c = plt.hist(np.log10(halos_M_rand), 40, range=(13,15), fill=False, histtype='step', linewidth=2, label='Resamp rand')\n",
    "b, dummy2, c= plt.hist(np.log10(halos_M),40,range=(13,15), fill=False, histtype='step', \\\n",
    "         linestyle='dotted', linewidth=2, label='RedMapper')\n",
    "plt.legend(loc='upper left', fontsize=8)\n",
    "plt.show()"
   ]
  },
  {
   "cell_type": "markdown",
   "metadata": {},
   "source": [
    "## KMeans Jackknife Code"
   ]
  },
  {
   "cell_type": "markdown",
   "metadata": {},
   "source": [
    "#### For redMapper selected halos"
   ]
  },
  {
   "cell_type": "code",
   "execution_count": 147,
   "metadata": {
    "collapsed": false
   },
   "outputs": [
    {
     "name": "stdout",
     "output_type": "stream",
     "text": [
      "X (23668, 2)  centers (5, 2)  tol=1e-05  maxiter=100\n",
      "43 iterations  cluster sizes: [4153 6461 6117 6937]\n",
      "Convergence is  True\n",
      "('copy of centers:', array([[145.36628723,  53.22717749],\n",
      "       [ 87.55173492,  15.5425553 ],\n",
      "       [ 84.43038177,  52.85417536],\n",
      "       [ 38.68504333,  38.89712127],\n",
      "       [  0.        ,   0.        ]]))\n"
     ]
    }
   ],
   "source": [
    "from code.kmeans_radec import kmeans, kmeans_sample\n",
    "\n",
    "#First instantiate an instance of the class. Import the RA, DEC of the files and check for center. \n",
    "#To do: Halo file to import\n",
    "#Use Yuanyuan's code to compute mean and error on angle and ellipticities. \n",
    "\n",
    "ncen = 5\n",
    "cen_guess=np.zeros( (ncen, 2) )\n",
    "ra_guesses = cen_guess[:,0]\n",
    "dec_guesses = cen_guess[:,1]\n",
    "km=kmeans(halos_coord, cen_guess)\n",
    "#km.run(halos_coord, maxiter=100)\n",
    "\n",
    "\n",
    "# results are saved in attributes\n",
    "print \"Convergence is \", km.converged\n",
    "#print(km.centers, km.labels, km.distances)\n",
    "print(\"copy of centers:\",km.get_centers())"
   ]
  },
  {
   "cell_type": "code",
   "execution_count": 148,
   "metadata": {
    "collapsed": false
   },
   "outputs": [],
   "source": [
    "#Jackknife Resampling\n",
    "#Jackknife reference: https://www.utdallas.edu/~herve/abdi-Jackknife2010-pretty.pdf\n",
    "#Extract quantities from km object\n",
    "ncen =40\n",
    "km = kmeans_sample(halos_coord, ncen, verbose=0)\n",
    "km_centers = km.get_centers()\n",
    "km_labels= km.find_nearest(halos_coord)\n",
    "km_ncen = km.get_ncen()\n",
    "\n",
    "#Check properties\n",
    "#print(\"found centers:\", len(km.centers))\n",
    "#print(\"converged?\", km.converged)\n",
    "#print(\"labels size:\", km.labels.size)\n",
    "#print(\"cluster sizes:\", np.bincount(km.labels))\n",
    "#print(\"shape of distances:\", km.distances.shape)\n",
    "\n",
    "\n",
    "#It's much better to build a record array or dictionary. \n",
    "#Each element outputs mean, number of samples and SE for each richness bin\n",
    "num_bins = len(cosi_bins)\n",
    "T_stat_arr = np.zeros(num_bins, dtype={'names':('q', 's', 'cos_i'),'formats':('(3,)f','(3,)f','(3,)f')})\n",
    "\n",
    "#Build dummy array of test statistics to import to T_stat_arr\n",
    "T_stat =[q, s, cos_i]\n",
    "num_stat = len(T_stat)\n",
    "T_arr =np.zeros((num_stat,num_bins,3)) #3 for mean, number of samples, and SE. Model as Student-t \n",
    "\n",
    "#Array for test_statistics\n",
    "for i, name in enumerate(T_stat_arr.dtype.names):  \n",
    "    for j in range(num_bins):\n",
    "        T_jk_list = []\n",
    "        cosi_bin_min = cosi_bins[j][0]; cosi_bin_max = cosi_bins[j][1]\n",
    "        for k in range(km_ncen):\n",
    "        #    print 'Working on the No. %i Jacknife sample out of %i, richness %f to %f' \\\n",
    "        #            %(i, km.get_ncen(), lmda_min, lmda_max)\n",
    "            jackknife_cut = np.where((cos_i >= cosi_bin_min) & (cos_i <= cosi_bin_max) & (km_labels != k))\n",
    "            T_k_cut = T_stat[i][jackknife_cut]\n",
    "            T_jk_list.append(T_k_cut)\n",
    "        T_jk_list = np.asarray(T_jk_list)\n",
    "\n",
    "        #jackknife estimator of mean\n",
    "        T_rdu_arr = np.array([np.mean(T_jk_list[x]) for x in range(len(T_jk_list))]) #array of test statistic for ncen reduced jackknife sample\n",
    "        T_num_samp = len(T_rdu_arr) #Number of samples \n",
    "        T_jk_mean = np.mean(T_rdu_arr)\n",
    "        T_jk_var = np.var(T_rdu_arr, ddof=1)\n",
    "        T_jk_std = np.std(T_rdu_arr, ddof=1) #ddof = 1 so that divide by (N-1), sample standard deviation\n",
    "        T_jk_SE = (km_ncen-1.)/np.sqrt(km_ncen)*T_jk_std #std of the mean\n",
    "        #print 'Mean and standard error of statistic is', T_jk_mean, T_jk_SE\n",
    "        #print 'Mean and standard error from biased sample is ', np.mean(q[lmda_bins_ind[2]]), \\\n",
    "        #                                           np.std(q[lmda_bins_ind[2]])/np.sqrt(len(q[lmda_bins_ind[2]]))\n",
    "            \n",
    "        #Save into T_arr\n",
    "        T_arr[i,j,0] = T_jk_mean; T_arr[i,j,1] = T_num_samp; T_arr[i,j,2] = T_jk_SE\n",
    "        T_stat_arr[j][name] = T_arr[i,j,:]  \n",
    "        #print T_stat_arr[j][name]\n",
    "        \n"
   ]
  },
  {
   "cell_type": "markdown",
   "metadata": {},
   "source": [
    "#### Randomly selected halos"
   ]
  },
  {
   "cell_type": "code",
   "execution_count": 149,
   "metadata": {
    "collapsed": false
   },
   "outputs": [
    {
     "name": "stdout",
     "output_type": "stream",
     "text": [
      "X (23668, 2)  centers (5, 2)  tol=1e-05  maxiter=100\n",
      "32 iterations  cluster sizes: [4995 4060 5611 4527 4475]\n"
     ]
    }
   ],
   "source": [
    "ncen = 5\n",
    "cen_guess=np.zeros( (ncen, 2) )\n",
    "ra_guesses = cen_guess[:,0]\n",
    "dec_guesses = cen_guess[:,1]\n",
    "km=kmeans(halos_coord_rand, cen_guess)\n",
    "\n",
    "\n",
    "###############################\n",
    "ncen =40\n",
    "km = kmeans_sample(halos_coord_rand, ncen, verbose=0)\n",
    "km_centers = km.get_centers()\n",
    "km_labels= km.find_nearest(halos_coord_rand)\n",
    "km_ncen = km.get_ncen()\n",
    "\n",
    "#It's much better to build a record array or dictionary. \n",
    "#Each element outputs mean, number of samples and SE for each richness bin\n",
    "T_stat_arr_rand = np.zeros(1, dtype={'names':('q', 's', 'cos_i'),'formats':('(3,)f','(3,)f','(3,)f')})\n",
    "\n",
    "#Build dummy array of test statistics to import to T_stat_arr\n",
    "T_stat =[q_rand, s_rand, cos_i_rand]\n",
    "num_stat = len(T_stat)\n",
    "T_arr_rand =np.zeros((num_stat,3)) #3 for mean, number of samples, and SE. Model as Student-t \n",
    "\n",
    "#Array for test_statistics\n",
    "for i, name in enumerate(T_stat_arr_rand.dtype.names):  \n",
    "    T_jk_list = []\n",
    "    for k in range(km_ncen):\n",
    "        jackknife_cut = np.where((km_labels != k))\n",
    "        T_k_cut = T_stat[i][jackknife_cut]\n",
    "        T_jk_list.append(T_k_cut)\n",
    "    T_jk_list = np.asarray(T_jk_list)\n",
    "\n",
    "    #jackknife estimator of mean\n",
    "    T_rdu_arr = np.array([np.mean(T_jk_list[x]) for x in range(len(T_jk_list))]) #array of test statistic for ncen reduced jackknife sample\n",
    "    T_num_samp = len(T_rdu_arr) #Number of samples \n",
    "    T_jk_mean = np.mean(T_rdu_arr)\n",
    "    T_jk_var = np.var(T_rdu_arr, ddof=1)\n",
    "    T_jk_std = np.std(T_rdu_arr, ddof=1) #ddof = 1 so that divide by (N-1), sample standard deviation\n",
    "    T_jk_SE = (km_ncen-1.)/np.sqrt(km_ncen)*T_jk_std #std of the mean\n",
    "    #print 'Mean and standard error of statistic is', T_jk_mean, T_jk_SE\n",
    "    T_arr_rand[i,0] = T_jk_mean; T_arr_rand[i,1] = T_num_samp; T_arr_rand[i,2] = T_jk_SE\n",
    "    T_stat_arr_rand[name] = T_arr_rand[i,:]  \n",
    "    \n",
    "    #print T_stat_arr_rand[name]\n"
   ]
  },
  {
   "cell_type": "markdown",
   "metadata": {},
   "source": [
    "## Null hypothesis testing for different distributions "
   ]
  },
  {
   "cell_type": "code",
   "execution_count": 150,
   "metadata": {
    "collapsed": false
   },
   "outputs": [
    {
     "name": "stdout",
     "output_type": "stream",
     "text": [
      "For p_val= 0.05 range of null hypothesis for t-Distribution is (array([-1.96148583, -1.96148583, -1.96148583, -1.96148583, -1.96148583]), array([1.96148583, 1.96148583, 1.96148583, 1.96148583, 1.96148583])) \n",
      "\n",
      "mean_x, SE_x is [0.53406984 0.5346099  0.53371394 0.5343223  0.5309394 ] [0.00143035 0.00166949 0.0013852  0.00136067 0.00125501]\n",
      "mean_y, SE_y is [0.54581517] [0.00146414]\n",
      "For parameter  q deviation in mean is  [-5.738234  -5.046128  -6.0038986 -5.7499156 -7.7139997] \n",
      "\n",
      "mean_x, SE_x is [0.68976945 0.6867019  0.6881747  0.6876602  0.6842396 ] [0.00183179 0.00164504 0.00193147 0.00169431 0.00141995]\n",
      "mean_y, SE_y is [0.6894693] [0.00181817]\n",
      "For parameter  s deviation in mean is  [ 0.11630268 -1.1286631  -0.48803088 -0.7279217  -2.2669206 ] \n",
      "\n",
      "mean_x, SE_x is [0.10165363 0.29868338 0.50320315 0.7034959  0.90585655] [0.00086273 0.00105057 0.00094436 0.00084116 0.00063484]\n",
      "mean_y, SE_y is [0.5061365] [0.00397563]\n",
      "For parameter  cos_i deviation in mean is  [-99.4265     -50.449497    -0.71785206  48.567154    99.28476   ] \n",
      "\n"
     ]
    }
   ],
   "source": [
    "from scipy.stats import t\n",
    "\n",
    "#Conduct a Student-t test for comparing means with unequal variances. \n",
    "#Reference: https://ocw.mit.edu/courses/mathematics/18-05-introduction-to-probability-and-statistics-spring-2014/readings/MIT18_05S14_Reading19.pdf\n",
    "\n",
    "\n",
    "p_val = 0.05\n",
    "null_range = t.interval(1-p_val, df=dof_pool,loc=0,scale=1)\n",
    "print 'For p_val=',p_val,'range of null hypothesis for t-Distribution is',null_range, '\\n'\n",
    "\n",
    "\n",
    "#Compare redMapper bins with random\n",
    "#Compare parameters in each bin in redMapper with the randomly selected sample\n",
    "for i, param in enumerate(T_stat_arr.dtype.names):\n",
    "    n_samp = T_stat_arr[param][:,1]\n",
    "    SE_x = T_stat_arr[param][:,2]; SE_y = T_stat_arr_rand[param][:,2]\n",
    "    mean_x = T_stat_arr[param][:,0]; mean_y = T_stat_arr_rand[param][:,0]\n",
    "    SE_pool = np.sqrt(SE_x**2. + SE_y**2.)\n",
    "    dof_pool = SE_pool**2./(SE_x**2./(n_samp*(n_samp-1.)) + SE_y**2./(n_samp*(n_samp-1.)))\n",
    "    test_stat = (mean_x - mean_y)/SE_pool\n",
    "    \n",
    "    \n",
    "    print 'mean_x, SE_x is', mean_x, SE_x\n",
    "    print 'mean_y, SE_y is', mean_y, SE_y\n",
    "    print 'For parameter ', param, 'deviation in mean is ',test_stat, '\\n'\n",
    "    "
   ]
  },
  {
   "cell_type": "code",
   "execution_count": 151,
   "metadata": {
    "collapsed": false
   },
   "outputs": [
    {
     "data": {
      "image/png": "[encoded data removed]",
      "text/plain": [
       "<Figure size 432x288 with 2 Axes>"
      ]
     },
     "metadata": {},
     "output_type": "display_data"
    }
   ],
   "source": [
    "#Plotting by cos_i bins\n",
    "fig, axs = plt.subplots(1, 2, tight_layout=True)\n",
    "num_bin = np.linspace(0.0,1.0,15) #num_bin = 13\n",
    "for i, cosi_bin_ind in enumerate(cosi_bins_ind):\n",
    "    cosi_bin_num = len(cosi_bin_ind[0])\n",
    "    cosi_bin_min = cosi_bins[i][0]; cosi_bin_max = cosi_bins[i][1]\n",
    "    \n",
    "    #Convert to probability in each bin\n",
    "    weights = np.ones_like(q[cosi_bin_ind], dtype=float)/cosi_bin_num * 100\n",
    "    #print weights\n",
    "    axs[0].hist(q[cosi_bin_ind], num_bin, density=False, fill=False, weights=weights, histtype='step', \\\n",
    "               label=r'${:.2f}< \\cos(i) < {:.2f}\\quad N = {:d}$'.format(cosi_bin_min, cosi_bin_max, cosi_bin_num)) \n",
    "\n",
    "    b =axs[1].hist(s[cosi_bin_ind], num_bin, density=False, fill=False, weights=weights, histtype='step', \\\n",
    "               label=r'${:.2f}< \\cos(i) < {:.2f}\\quad N = {:d}$'.format(cosi_bin_min, cosi_bin_max, cosi_bin_num)) \n",
    "    \n",
    "#Plotting random halos\n",
    "weights = np.ones_like(q_rand)/(len(q_rand)) * 100\n",
    "axs[0].hist(q_rand, num_bin, density=False, weights=weights, fill=True, histtype='step', color='0.3', \\\n",
    "               label='Randomly selected', alpha=0.25) \n",
    "weights = np.ones_like(s_rand)/(len(s_rand)) * 100\n",
    "a =axs[1].hist(s_rand, num_bin, density=False, weights=weights, fill=True, histtype='step', color='0.3', \\\n",
    "               label='Randomly selected', alpha=0.25) \n",
    "\n",
    "#Plot config   \n",
    "axs[0].set_xlabel(r'$q \\equiv \\frac{c}{a}$')\n",
    "axs[0].set_ylabel('$P(q)$')\n",
    "axs[0].set_title(r'Ellipticity: Minor to major axis ratio', fontsize=10)\n",
    "\n",
    "axs[0].set_ylim((0,60))\n",
    "axs[0].legend(loc='upper left', fontsize=8, frameon=False)\n",
    "\n",
    "axs[1].set_xlabel(r'$s \\equiv \\frac{b}{a}$')\n",
    "axs[1].set_ylabel('$P(s)$')\n",
    "axs[1].set_title(r'Ellipticity: Intermediate to major axis ratio', fontsize=10)\n",
    "#plt.savefig('ellipticity_032018.png')\n",
    "plt.show()\n"
   ]
  },
  {
   "cell_type": "code",
   "execution_count": 152,
   "metadata": {
    "collapsed": false
   },
   "outputs": [
    {
     "data": {
      "text/plain": [
       "[Text(0,0,'$\\\\cos(i) \\\\in [0.0, 0.2)$'),\n",
       " Text(0,0,'$\\\\cos(i) \\\\in [0.2, 0.4)$'),\n",
       " Text(0,0,'$\\\\cos(i) \\\\in [0.4, 0.6)$'),\n",
       " Text(0,0,'$\\\\cos(i) \\\\in [0.6, 0.8)$'),\n",
       " Text(0,0,'$\\\\cos(i) \\\\in [0.8, 1.0)$')]"
      ]
     },
     "execution_count": 152,
     "metadata": {},
     "output_type": "execute_result"
    },
    {
     "data": {
      "image/png": "[encoded data removed]",
      "text/plain": [
       "<Figure size 432x216 with 2 Axes>"
      ]
     },
     "metadata": {},
     "output_type": "display_data"
    }
   ],
   "source": [
    "#Plotting error bars\n",
    "#num_stat-1 to not show the cos_i mean\n",
    "fig, axs = plt.subplots(1 ,num_stat-1, tight_layout=True, figsize=(6,3))\n",
    "\n",
    "#ax.fill_between(x, y1, y2, where=y2 >= y1, facecolor='green', interpolate=True)\n",
    "#ax.fill_between(x, y1, y2, where=y2 <= y1, facecolor='red', interpolate=True)\n",
    "num_bins = len(cosi_bins)\n",
    "yticks = np.linspace(0.2,0.8 , num_bins)\n",
    "yticklabels = []\n",
    "xlabels = [r'$q$', r'$s$', r'$\\cos(i)$']\n",
    "for i, cosi_bin_i in enumerate(cosi_bins):\n",
    "    yticklabels_i = r'$\\cos(i) \\in [{:.1f}, {:.1f})$'.format(cosi_bin_i[0], cosi_bin_i[1])\n",
    "    yticklabels.append(yticklabels_i)\n",
    "\n",
    "for i, name in enumerate(T_stat_arr.dtype.names):\n",
    "    if name=='cos_i': #Don't plot cos_i. \n",
    "        continue\n",
    "\n",
    "    #Consider as a next step combining ONLY data that are consistent. \n",
    "    SE_combine = np.sqrt(np.sum([T_stat_arr[name][:,2]])) \n",
    "    stat_tot_num = np.sum([T_stat_arr[name][:,1]])\n",
    "    \n",
    "    axs[i].bar(T_stat_arr_rand[name][0,0], height=1, width=T_stat_arr_rand[name][0,2], alpha=0.2, color='gray',label='Randomly selected')\n",
    "    axs[i].errorbar(T_stat_arr[name][:,0],yticks, xerr=T_stat_arr[name][:,2], fmt='o', markersize=3, label='redMapper selected')\n",
    "    axs[i].set_xlabel(xlabels[i])\n",
    "    axs[i].set_yticks([])\n",
    "    axs[i].set_ylim((0.0,1.0))\n",
    "    \n",
    "axs[0].legend(fontsize=6, loc='best')\n",
    "axs[0].set_yticks(yticks)\n",
    "axs[0].set_yticklabels(yticklabels)\n"
   ]
  },
  {
   "cell_type": "code",
   "execution_count": null,
   "metadata": {
    "collapsed": true
   },
   "outputs": [],
   "source": []
  }
 ],
 "metadata": {
  "anaconda-cloud": {},
  "kernelspec": {
   "display_name": "Python [conda root]",
   "language": "python",
   "name": "conda-root-py"
  },
  "language_info": {
   "codemirror_mode": {
    "name": "ipython",
    "version": 2
   },
   "file_extension": ".py",
   "mimetype": "text/x-python",
   "name": "python",
   "nbconvert_exporter": "python",
   "pygments_lexer": "ipython2",
   "version": "2.7.14"
  }
 },
 "nbformat": 4,
 "nbformat_minor": 1
}
