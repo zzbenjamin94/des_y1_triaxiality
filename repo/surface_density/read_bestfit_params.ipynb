{
 "cells": [
  {
   "cell_type": "code",
   "execution_count": 1,
   "metadata": {
    "collapsed": true
   },
   "outputs": [],
   "source": [
    "import numpy as np\n",
    "import sys\n",
    "#sys.path.append('/home/zzbenjamin94/Desktop/Astronomy/Research/DES_Galaxy_Cluster')\n",
    "from tools.setup.setup import *\n",
    "home_dir = home_dir()\n",
    "datadir = data_home_dir()\n",
    "bigdatadir = bigdata_home_dir()\n",
    "\n",
    "# import pyplot and set some parameters to make plots prettier\n",
    "import matplotlib.pyplot as plt\n",
    "from tools.plot_utils import plot_pretty\n",
    "plot_pretty()\n",
    "\n",
    "# setup notebook for inline figures\n",
    "%matplotlib inline\n",
    "\n",
    "from tools.setup.setup import *\n",
    "import astropy.io.fits as fits\n",
    "#Read http://pythonhosted.org/pyfits/"
   ]
  },
  {
   "cell_type": "markdown",
   "metadata": {},
   "source": [
    "## Reading file information"
   ]
  },
  {
   "cell_type": "code",
   "execution_count": 2,
   "metadata": {
    "collapsed": true
   },
   "outputs": [],
   "source": [
    "#Write to file\n",
    "ds_tplt_dir = home_dir()+'output/deltasigma/'\n",
    "ds_tplt_file = ds_tplt_dir + 'fit_cauchy_sqr_errorbar.dat'\n",
    "ds_tplt = np.genfromtxt(ds_tplt_file, unpack=True)\n",
    "ds_tplt = ds_tplt.reshape(12, 4, 4)"
   ]
  },
  {
   "cell_type": "code",
   "execution_count": 3,
   "metadata": {
    "collapsed": false
   },
   "outputs": [
    {
     "name": "stdout",
     "output_type": "stream",
     "text": [
      "[[[ 0.0000000e+00  0.0000000e+00  0.0000000e+00  0.0000000e+00]\n",
      "  [ 3.4000000e-01  3.4000000e-01  3.4000000e-01  3.4000000e-01]\n",
      "  [ 5.0000000e-01  5.0000000e-01  5.0000000e-01  5.0000000e-01]\n",
      "  [ 7.0000000e-01  7.0000000e-01  7.0000000e-01  7.0000000e-01]]\n",
      "\n",
      " [[ 3.4000000e-01  3.4000000e-01  3.4000000e-01  3.4000000e-01]\n",
      "  [ 5.0000000e-01  5.0000000e-01  5.0000000e-01  5.0000000e-01]\n",
      "  [ 7.0000000e-01  7.0000000e-01  7.0000000e-01  7.0000000e-01]\n",
      "  [ 9.0000000e-01  9.0000000e-01  9.0000000e-01  9.0000000e-01]]\n",
      "\n",
      " [[ 5.0000000e+13  1.0000000e+14  2.0000000e+14  4.0000000e+14]\n",
      "  [ 5.0000000e+13  1.0000000e+14  2.0000000e+14  4.0000000e+14]\n",
      "  [ 5.0000000e+13  1.0000000e+14  2.0000000e+14  4.0000000e+14]\n",
      "  [ 5.0000000e+13  1.0000000e+14  2.0000000e+14  4.0000000e+14]]\n",
      "\n",
      " [[ 1.0000000e+14  2.0000000e+14  4.0000000e+14  1.0000000e+16]\n",
      "  [ 1.0000000e+14  2.0000000e+14  4.0000000e+14  1.0000000e+16]\n",
      "  [ 1.0000000e+14  2.0000000e+14  4.0000000e+14  1.0000000e+16]\n",
      "  [ 1.0000000e+14  2.0000000e+14  4.0000000e+14  1.0000000e+16]]\n",
      "\n",
      " [[-1.5662600e-01 -1.6803000e-01 -1.9683700e-01 -1.8994800e-01]\n",
      "  [-2.0407400e-01 -1.9046400e-01 -2.8092900e-01 -2.1006000e-02]\n",
      "  [-2.1239300e-01 -2.0322000e-01 -2.1403800e-01 -3.5887000e-02]\n",
      "  [-2.0871500e-01 -2.1268900e-01 -2.8668500e-01 -1.5806900e-01]]\n",
      "\n",
      " [[-1.1830000e-03 -1.0677000e-02  3.7339100e-01 -2.7052900e-01]\n",
      "  [ 2.6366800e-01  2.3770100e-01  9.5229900e-01 -2.6837700e-01]\n",
      "  [ 1.9023800e-01  1.0295500e-01  9.5087000e-02 -9.9629100e-01]\n",
      "  [ 2.0901100e-01  3.0486600e-01  6.5517500e-01 -1.1847230e+00]]\n",
      "\n",
      " [[ 9.0816000e-02  2.2196300e-01 -8.1837100e-01  1.3067780e+00]\n",
      "  [-4.8894200e-01 -4.7216600e-01 -2.0561150e+00 -6.8122400e-01]\n",
      "  [-1.7382400e-01  1.7313000e-02  2.1328200e-01  2.1879710e+00]\n",
      "  [-2.6274000e-01 -6.1155600e-01 -9.7522000e-01  3.5513370e+00]]\n",
      "\n",
      " [[ 4.8546500e-01  3.7541300e-01  1.1124550e+00 -4.5863300e-01]\n",
      "  [ 9.0944500e-01  8.8785300e-01  1.9130230e+00  1.5040090e+00]\n",
      "  [ 6.6891600e-01  5.4689200e-01  3.5020500e-01 -7.7974600e-01]\n",
      "  [ 7.3805000e-01  1.0295930e+00  1.1058730e+00 -1.8389770e+00]]\n",
      "\n",
      " [[ 1.3464530e+00  1.3249690e+00  1.2894400e+00  1.2453540e+00]\n",
      "  [ 1.3202450e+00  1.2611490e+00  1.3422500e+00  1.1455120e+00]\n",
      "  [ 1.2923580e+00  1.3068460e+00  1.2280040e+00  1.1481350e+00]\n",
      "  [ 1.2906610e+00  1.2895330e+00  1.2431850e+00  1.2608840e+00]]\n",
      "\n",
      " [[ 3.7754500e-01  5.9169600e-01  7.5748000e-01  1.5040870e+00]\n",
      "  [ 4.0260700e-01  7.8171500e-01  1.1406030e+00  1.3444340e+00]\n",
      "  [ 5.2378400e-01  7.8429900e-01  1.1255700e+00  1.5145760e+00]\n",
      "  [ 5.6424600e-01  9.3151700e-01  1.2225890e+00  1.9049510e+00]]\n",
      "\n",
      " [[ 8.5203503e+01  2.5580346e+01  3.4008847e+01  1.8551741e+01]\n",
      "  [ 6.5605008e+01  2.3623372e+01  2.5566687e+01  2.8903263e+01]\n",
      "  [ 9.1767755e+01  6.6490323e+01  4.8256955e+01  8.8200611e+01]\n",
      "  [ 9.9745247e+01  7.1862994e+01  3.3589224e+01  2.1297794e+01]]\n",
      "\n",
      " [[ 4.4000000e+01  4.4000000e+01  4.4000000e+01  4.4000000e+01]\n",
      "  [ 4.4000000e+01  4.4000000e+01  4.4000000e+01  4.4000000e+01]\n",
      "  [ 4.4000000e+01  4.4000000e+01  4.4000000e+01  4.4000000e+01]\n",
      "  [ 4.4000000e+01  4.4000000e+01  4.4000000e+01  4.4000000e+01]]]\n"
     ]
    }
   ],
   "source": [
    "print ds_tplt"
   ]
  },
  {
   "cell_type": "code",
   "execution_count": null,
   "metadata": {
    "collapsed": true
   },
   "outputs": [],
   "source": []
  }
 ],
 "metadata": {
  "anaconda-cloud": {},
  "kernelspec": {
   "display_name": "Python [conda env:anaconda2]",
   "language": "python",
   "name": "conda-env-anaconda2-py"
  },
  "language_info": {
   "codemirror_mode": {
    "name": "ipython",
    "version": 2
   },
   "file_extension": ".py",
   "mimetype": "text/x-python",
   "name": "python",
   "nbconvert_exporter": "python",
   "pygments_lexer": "ipython2",
   "version": "2.7.14"
  }
 },
 "nbformat": 4,
 "nbformat_minor": 1
}
