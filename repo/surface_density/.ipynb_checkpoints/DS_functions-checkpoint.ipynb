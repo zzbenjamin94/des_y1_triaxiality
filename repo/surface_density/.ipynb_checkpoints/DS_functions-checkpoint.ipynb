{
 "cells": [
  {
   "cell_type": "markdown",
   "metadata": {},
   "source": [
    "## Functions for $\\Delta\\Sigma$ calculation\n",
    "#### Zhuowen Zhang\n",
    "#### Created Sept. 5, 2018"
   ]
  },
  {
   "cell_type": "code",
   "execution_count": 1,
   "metadata": {
    "collapsed": true
   },
   "outputs": [],
   "source": [
    "import numpy as np\n",
    "\n",
    "# import pyplot and set some parameters to make plots prettier\n",
    "import matplotlib.pyplot as plt\n",
    "from tools.plot_utils import plot_pretty\n",
    "\n",
    "from pymc import *\n",
    "from pymc import DiscreteUniform, Normal, uniform_like, TruncatedNormal\n",
    "from pymc import Metropolis\n",
    "from numpy.random import randn\n",
    "import matplotlib.pyplot as plt\n",
    "from scipy.special import erf\n",
    "from chainconsumer import ChainConsumer\n",
    "from scipy.integrate import quad\n",
    "from scipy.integrate import romberg\n",
    "from scipy.interpolate import UnivariateSpline as spline\n",
    "\n",
    "import sys\n",
    "import pyfits\n",
    "sys.path.append('/home/zzbenjamin94/Desktop/Astronomy/Research/DES_Galaxy_Cluster')\n",
    "from tools.setup.setup import tools_home_dir, home_dir\n",
    "shapedir = home_dir()+'output/buzzard/halo_shape/'\n",
    "tpltdir = home_dir() + 'output/lmda_cosi_chains/'\n",
    "toolsdir = tools_home_dir()\n",
    "homedir = home_dir()"
   ]
  },
  {
   "cell_type": "markdown",
   "metadata": {},
   "source": [
    "### ln($\\Delta\\Sigma$) ratio template (from Heidi Wu)\n",
    "\n",
    "Extract infor from ds_tplt:\n",
    "* Columns 0-1: min and max redshift range\n",
    "* Columns 2-3: min and max mass range\n",
    "* Columns 4-9: the 6 parameters for Cauchy modeling\n",
    "* Column 10:   error \n",
    "* Column 11:   DOF"
   ]
  },
  {
   "cell_type": "code",
   "execution_count": 60,
   "metadata": {
    "collapsed": false
   },
   "outputs": [],
   "source": [
    "ds_tplt_dir = home_dir()+'output/deltasigma/'\n",
    "ds_tplt_file = ds_tplt_dir + 'fit_cauchy_sqr_errorbar.dat'\n",
    "ds_tplt = np.genfromtxt(ds_tplt_file, unpack=True)\n",
    "ds_tplt = ds_tplt.reshape(12, 4, 4)"
   ]
  },
  {
   "cell_type": "code",
   "execution_count": 57,
   "metadata": {
    "collapsed": false
   },
   "outputs": [],
   "source": [
    "'''\n",
    "Cauchy function fit for the DeltaSigma ratio including effects of Triaxiality. Template produced by Heidi\n",
    "mu: cos(i) as array in range 0-1\n",
    "x: = ln(rp) rp units of Mpc/h.\n",
    "z: redshift\n",
    "m: mass M200b/h in M_sun/h units\n",
    "\n",
    "Default set to lowest redshift and mass bins.\n",
    "'''\n",
    "\n",
    "def lnDS_ratio(mu, x, z=0, m=0):\n",
    "    global ds_tplt\n",
    "    z_min = ds_tplt[0]; z_max = ds_tplt[1]\n",
    "    m_min = ds_tplt[2]; m_max = ds_tplt[3]\n",
    "    \n",
    "    z_ind = np.searchsorted(z_max[:,0], z) #Controls columns\n",
    "    m_ind = np.searchsorted(m_max[0,:], m) #controls the rows\n",
    "    \n",
    "    #if higher than max value\n",
    "    if z_ind == len(z_max[:,0]): z_ind -= 1\n",
    "    if m_ind == len(m_max[:,0]): m_ind -= 1\n",
    "    \n",
    "    #Selecting parameters from bin\n",
    "    A0 = ds_tplt[4][m_ind, z_ind]\n",
    "    A1 = ds_tplt[5][m_ind, z_ind]\n",
    "    A2 = ds_tplt[6][m_ind, z_ind]\n",
    "    A3 = ds_tplt[7][m_ind, z_ind]\n",
    "    x0 = ds_tplt[8][m_ind, z_ind]\n",
    "    gamma = ds_tplt[9][m_ind, z_ind]\n",
    "    \n",
    "    print A0, A1, A2, A3, x0, gamma\n",
    "    \n",
    "    Ac_cosi = A0 + A1 * mu  + A2 * mu**2 + A3 * mu**3\n",
    "    lnDS_ratio = Ac_cosi*(1. - 1. / ((x - x0)**2 + gamma))\n",
    "    return lnDS_ratio"
   ]
  },
  {
   "cell_type": "code",
   "execution_count": 59,
   "metadata": {
    "collapsed": false
   },
   "outputs": [
    {
     "ename": "IndexError",
     "evalue": "index 4 is out of bounds for axis 0 with size 4",
     "output_type": "error",
     "traceback": [
      "\u001b[0;31m---------------------------------------------------------------------------\u001b[0m",
      "\u001b[0;31mIndexError\u001b[0m                                Traceback (most recent call last)",
      "\u001b[0;32m<ipython-input-59-0bc1fa3b7408>\u001b[0m in \u001b[0;36m<module>\u001b[0;34m()\u001b[0m\n\u001b[1;32m      1\u001b[0m \u001b[0mx\u001b[0m \u001b[0;34m=\u001b[0m \u001b[0mnp\u001b[0m\u001b[0;34m.\u001b[0m\u001b[0mlinspace\u001b[0m\u001b[0;34m(\u001b[0m\u001b[0;34m-\u001b[0m\u001b[0;36m1\u001b[0m\u001b[0;34m,\u001b[0m\u001b[0;36m3\u001b[0m\u001b[0;34m,\u001b[0m \u001b[0;36m100\u001b[0m\u001b[0;34m)\u001b[0m\u001b[0;34m\u001b[0m\u001b[0m\n\u001b[0;32m----> 2\u001b[0;31m \u001b[0mlnDS_tplt\u001b[0m \u001b[0;34m=\u001b[0m \u001b[0mlnDS_ratio\u001b[0m\u001b[0;34m(\u001b[0m\u001b[0;36m0.8\u001b[0m\u001b[0;34m,\u001b[0m \u001b[0mx\u001b[0m\u001b[0;34m,\u001b[0m \u001b[0mz\u001b[0m\u001b[0;34m=\u001b[0m\u001b[0;36m0.5\u001b[0m\u001b[0;34m,\u001b[0m \u001b[0mm\u001b[0m\u001b[0;34m=\u001b[0m\u001b[0;36m1.1e17\u001b[0m\u001b[0;34m)\u001b[0m\u001b[0;34m\u001b[0m\u001b[0m\n\u001b[0m\u001b[1;32m      3\u001b[0m \u001b[0;34m\u001b[0m\u001b[0m\n\u001b[1;32m      4\u001b[0m \u001b[0mplt\u001b[0m\u001b[0;34m.\u001b[0m\u001b[0mplot\u001b[0m\u001b[0;34m(\u001b[0m\u001b[0mx\u001b[0m\u001b[0;34m,\u001b[0m \u001b[0mlnDS_tplt\u001b[0m\u001b[0;34m)\u001b[0m\u001b[0;34m\u001b[0m\u001b[0m\n\u001b[1;32m      5\u001b[0m \u001b[0mplt\u001b[0m\u001b[0;34m.\u001b[0m\u001b[0mshow\u001b[0m\u001b[0;34m(\u001b[0m\u001b[0;34m)\u001b[0m\u001b[0;34m\u001b[0m\u001b[0m\n",
      "\u001b[0;32m<ipython-input-57-0a691d895f2f>\u001b[0m in \u001b[0;36mlnDS_ratio\u001b[0;34m(mu, x, z, m)\u001b[0m\n\u001b[1;32m     18\u001b[0m \u001b[0;34m\u001b[0m\u001b[0m\n\u001b[1;32m     19\u001b[0m     \u001b[0;31m#Selecting parameters from bin\u001b[0m\u001b[0;34m\u001b[0m\u001b[0;34m\u001b[0m\u001b[0m\n\u001b[0;32m---> 20\u001b[0;31m     \u001b[0mA0\u001b[0m \u001b[0;34m=\u001b[0m \u001b[0mds_tplt\u001b[0m\u001b[0;34m[\u001b[0m\u001b[0;36m4\u001b[0m\u001b[0;34m]\u001b[0m\u001b[0;34m[\u001b[0m\u001b[0mm_ind\u001b[0m\u001b[0;34m,\u001b[0m \u001b[0mz_ind\u001b[0m\u001b[0;34m]\u001b[0m\u001b[0;34m\u001b[0m\u001b[0m\n\u001b[0m\u001b[1;32m     21\u001b[0m     \u001b[0mA1\u001b[0m \u001b[0;34m=\u001b[0m \u001b[0mds_tplt\u001b[0m\u001b[0;34m[\u001b[0m\u001b[0;36m5\u001b[0m\u001b[0;34m]\u001b[0m\u001b[0;34m[\u001b[0m\u001b[0mm_ind\u001b[0m\u001b[0;34m,\u001b[0m \u001b[0mz_ind\u001b[0m\u001b[0;34m]\u001b[0m\u001b[0;34m\u001b[0m\u001b[0m\n\u001b[1;32m     22\u001b[0m     \u001b[0mA2\u001b[0m \u001b[0;34m=\u001b[0m \u001b[0mds_tplt\u001b[0m\u001b[0;34m[\u001b[0m\u001b[0;36m6\u001b[0m\u001b[0;34m]\u001b[0m\u001b[0;34m[\u001b[0m\u001b[0mm_ind\u001b[0m\u001b[0;34m,\u001b[0m \u001b[0mz_ind\u001b[0m\u001b[0;34m]\u001b[0m\u001b[0;34m\u001b[0m\u001b[0m\n",
      "\u001b[0;31mIndexError\u001b[0m: index 4 is out of bounds for axis 0 with size 4"
     ]
    }
   ],
   "source": [
    "x = np.linspace(-1,3, 100)\n",
    "lnDS_tplt = lnDS_ratio(0.8, x, z=0.5, m=1.1e17)\n",
    "\n",
    "plt.plot(x, lnDS_tplt)\n",
    "plt.show()"
   ]
  },
  {
   "cell_type": "markdown",
   "metadata": {},
   "source": [
    "### Find best fit model parameters"
   ]
  },
  {
   "cell_type": "markdown",
   "metadata": {},
   "source": [
    "#### Find lnA parameter"
   ]
  },
  {
   "cell_type": "code",
   "execution_count": 6,
   "metadata": {
    "collapsed": true
   },
   "outputs": [],
   "source": [
    "'''\n",
    "Finds the linear amplitude ln(A) in the richness-mass relation using model 3 for different cosine bins. \n",
    "Interpolates using spline.\n",
    "\n",
    "Files should be located in tpltdir and be names as 'p_lmda_cosi_'+str(i)+'_model3' where str(i) refers to the bin number\n",
    "\n",
    "Input\n",
    "--------------------\n",
    "tpltdir = file location as directory\n",
    "cosi_bins: array of bins in cosine in format [[low1, high1], [low2, high2], [low3, high3]]\n",
    "\n",
    "Returns:\n",
    "--------------------\n",
    "cosi_mid: the mid value for each cosine bin\n",
    "spl_lnA: spline of lnA using scipy.interpolate.UniveriateSpline\n",
    "lnA_fit: the actual values of lnA in each cosine bin\n",
    "'''\n",
    "\n",
    "def interpolate_A(tpltdir, cosi_bins):\n",
    "    num_bins = len(cosi_bins)\n",
    "    cosi_mid = np.zeros_like(cosi_bins)\n",
    "    \n",
    "    c = ChainConsumer()\n",
    "    for i in range(num_bins):\n",
    "        cosi_bin_min = cosi_bins[i][0]; cosi_bin_max = cosi_bins[i][1]; \n",
    "        cosi_mid[i] = (cosi_bin_min + cosi_bin_max)/2.\n",
    "        mcmc_folder = tpltdir + 'p_lmda_cosi_'+str(i)+'_model3'\n",
    "        As = np.genfromtxt(mcmc_folder+'/Chain_0/A.txt')\n",
    "        data = As\n",
    "        c.add_chain(data, parameters=[r\"$A$\"], name=r'Template for $cos(i)\\in[%.1f, %.1f)$'%(cosi_bin_min, cosi_bin_max))\n",
    "        c.configure(statistics=\"max_shortest\")\n",
    "\n",
    "    c_stats = c.analysis.get_summary()\n",
    "\n",
    "    lnA_fit = np.zeros(len(cosi_bins))\n",
    "    for i in range(len(c_stats)):\n",
    "        lnA_fit[i] = np.log(c_stats[i]['$A$'][1]) #mean value of A in each cosine bin. \n",
    "\n",
    "    #Build a spline model for lnA\n",
    "    cosi_mid = [0.1,0.3,0.5,0.7,0.9]\n",
    "    spl_lnA = spline(cosi_mid, lnA_fit)\n",
    "    return cosi_mid, spl_lnA, lnA_fit"
   ]
  },
  {
   "cell_type": "markdown",
   "metadata": {},
   "source": [
    "#### Global best fit for A, B, $\\sigma_0$"
   ]
  },
  {
   "cell_type": "code",
   "execution_count": 13,
   "metadata": {
    "collapsed": false
   },
   "outputs": [],
   "source": [
    "'''\n",
    "Finds global best fit for A, the amplitude of richness-mass, using model3\n",
    "\n",
    "File should be located in tpltdir and be named as 'p_lmda_cosi_all_model3'. \n",
    "\n",
    "Input\n",
    "--------------------\n",
    "tpltdir = file location as directory\n",
    "\n",
    "Returns:\n",
    "--------------------\n",
    "A_allfit: the global best fit posterior for A\n",
    "'''\n",
    "\n",
    "def bestfit_A(tpltdir):\n",
    "    c = ChainConsumer()\n",
    "    for i in range(len(cosi_bins)):\n",
    "        cosi_bin_min = cosi_bins[i][0]; cosi_bin_max = cosi_bins[i][1]\n",
    "        mcmc_folder = tpltdir + 'p_lmda_cosi_'+'all'+'_model3'\n",
    "\n",
    "        Bs=np.genfromtxt(mcmc_folder+'/Chain_0/A.txt')\n",
    "        #sig0s=np.genfromtxt(mcmc_folder+'/Chain_0/sigma0.txt')\n",
    "\n",
    "        data=Bs\n",
    "        c.add_chain(data, parameters=[r\"$A$\"], name=r'Template for A')\n",
    "\n",
    "        c.configure(statistics=\"max_shortest\")\n",
    "        #c.plotter.plot(filename=\"p_lmda_cosi_%i_chains.png\"%i, figsize=\"column\")\n",
    "\n",
    "    '''\n",
    "    funk = c_posterior[i][\"$A$\"] reads the A parameter statistic of the i-th chain. \n",
    "    The statistic is read as array of min, mean, max values of statistic (e.g. max_shhortest),\n",
    "    so that funk[1], for instance,  is the mean value of A in the ith chain. \n",
    "    '''    \n",
    "    c_stats = c.analysis.get_summary() \n",
    "    A_allfit =    c_stats[0][\"$A$\"][1]\n",
    "    return A_allfit\n",
    "\n",
    "\n",
    "'''\n",
    "Finds global best fit for B, the slope of richness-mass, using model2\n",
    "\n",
    "File should be located in tpltdir and be named as 'p_lmda_cosi_all_model2'. \n",
    "\n",
    "Input\n",
    "--------------------\n",
    "tpltdir = file location as directory\n",
    "\n",
    "Returns:\n",
    "--------------------\n",
    "B_allfit: the global best fit posterior for B\n",
    "'''\n",
    "\n",
    "def bestfit_B(tpltdir):\n",
    "    c = ChainConsumer()\n",
    "    for i in range(len(cosi_bins)):\n",
    "        cosi_bin_min = cosi_bins[i][0]; cosi_bin_max = cosi_bins[i][1]\n",
    "        mcmc_folder = tpltdir + 'p_lmda_cosi_'+'all'+'_model2'\n",
    "\n",
    "        Bs=np.genfromtxt(mcmc_folder+'/Chain_0/B.txt')\n",
    "        #sig0s=np.genfromtxt(mcmc_folder+'/Chain_0/sigma0.txt')\n",
    "\n",
    "        data=Bs\n",
    "        c.add_chain(data, parameters=[r\"$B$\"], name=r'Template for B')\n",
    "\n",
    "        c.configure(statistics=\"max_shortest\")\n",
    "        #c.plotter.plot(filename=\"p_lmda_cosi_%i_chains.png\"%i, figsize=\"column\")\n",
    "\n",
    "    '''\n",
    "    funk = c_posterior[i][\"$A$\"] reads the A parameter statistic of the i-th chain. \n",
    "    The statistic is read as array of min, mean, max values of statistic (e.g. max_shhortest),\n",
    "    so that funk[1], for instance,  is the mean value of A in the ith chain. \n",
    "    '''    \n",
    "    c_stats = c.analysis.get_summary() \n",
    "    B_allfit =    c_stats[0][\"$B$\"][1]\n",
    "    return B_allfit\n",
    "\n",
    "######################################################################################\n",
    "\n",
    "'''\n",
    "Finds global best fit for sig0, the intrinsic scatter of richness-mass, using model2\n",
    "File should be located in tpltdir and be named as 'p_lmda_cosi_all_model2'. \n",
    "\n",
    "Input\n",
    "--------------------\n",
    "tpltdir = file location as directory\n",
    "\n",
    "Returns:\n",
    "--------------------\n",
    "sig0_allfit: the global best fit posterior for B\n",
    "'''\n",
    "\n",
    "def bestfit_sig0(tpltdir):\n",
    "    c = ChainConsumer()\n",
    "    for i in range(len(cosi_bins)):\n",
    "        cosi_bin_min = cosi_bins[i][0]; cosi_bin_max = cosi_bins[i][1]\n",
    "        mcmc_folder = tpltdir + 'p_lmda_cosi_'+'all'+'_model2'\n",
    "\n",
    "        Bs=np.genfromtxt(mcmc_folder+'/Chain_0/B.txt')\n",
    "        sig0s=np.genfromtxt(mcmc_folder+'/Chain_0/sigma0.txt')\n",
    "\n",
    "        data=sig0s\n",
    "        c.add_chain(data, parameters=[r\"$\\sigma_0$\"], name=r'Template for $\\sigma_0$')\n",
    "\n",
    "        c.configure(statistics=\"max_shortest\")\n",
    "        #c.plotter.plot(filename=\"p_lmda_cosi_%i_chains.png\"%i, figsize=\"column\")\n",
    "\n",
    "    '''\n",
    "    funk = c_posterior[i][\"$A$\"] reads the A parameter statistic of the i-th chain. \n",
    "    The statistic is read as array of min, mean, max values of statistic (e.g. max_shhortest),\n",
    "    so that funk[1], for instance,  is the mean value of A in the ith chain. \n",
    "    '''    \n",
    "    c_stats = c.analysis.get_summary() \n",
    "    sig0_allfit = c_stats[0][\"$\\sigma_0$\"][1]\n",
    "    return sig0_allfit"
   ]
  },
  {
   "cell_type": "markdown",
   "metadata": {},
   "source": [
    "### Run best fit parameters to input to function *prob_lambda()*"
   ]
  },
  {
   "cell_type": "code",
   "execution_count": 14,
   "metadata": {
    "collapsed": false
   },
   "outputs": [],
   "source": [
    "cosi_num_bin = 5\n",
    "cosi_bin_edge = np.linspace(0,1,cosi_num_bin+1)\n",
    "cosi_bins = []\n",
    "for i in range(cosi_num_bin):\n",
    "    cosi_bins.append([cosi_bin_edge[i], cosi_bin_edge[i+1]])\n",
    "    \n",
    "cosi_mid, spl_lnA, data_lnA = interpolate_A(tpltdir, cosi_bins)\n",
    "\n",
    "lnA_allfit = np.log(bestfit_A(tpltdir))\n",
    "B_allfit = bestfit_B(tpltdir)\n",
    "sig0_allfit = bestfit_sig0(tpltdir)"
   ]
  },
  {
   "cell_type": "markdown",
   "metadata": {},
   "source": [
    "### $P(\\lambda | M, \\mu)$ using best fit values of model parameter for richness-mass\n",
    "Calcuates the standard deviation of ln$\\lambda$ from mean value using the richness-mass relation and scatter. Assumes log-normal scatter. Finds the probablility of producing said value of lnl for given mass. "
   ]
  },
  {
   "cell_type": "code",
   "execution_count": 19,
   "metadata": {
    "collapsed": false
   },
   "outputs": [],
   "source": [
    "###TODO: Import this code when come back. \n",
    "\n",
    "from scipy.stats import norm\n",
    "'''\n",
    "Finding P(lambda| M, mu), the probability density of finding lambda for given M and mu=cosi\n",
    "lnl: np.log(lmda), lmda richness\n",
    "lnM: np.log(M), M in solar masses Msun/h; must be same length as lnl\n",
    "mu: cosi from 0 to 1. Default is None for no orientation dependence\n",
    "'''\n",
    "\n",
    "def prob_lambda(lnl, lnM, mu=None):\n",
    "    global B_allfit\n",
    "    global lnA_allfit\n",
    "    global sig0_allfit\n",
    "    #B_allfit =  0.8602009214007833        #stat_cosi[1][0,0] #Take from model2\n",
    "    #sig0_allfit = 0.4600783573747457    #stat_cosi[2][0,0] #Taken from model2\n",
    "    \n",
    "    assert len(lnl) == len(lnM), \"lnl and lnM must be same length\"\n",
    "    \n",
    "    if mu != None:\n",
    "        mean_lnl = spl_lnA(mu) + B_allfit*(lnM-14*np.log(10))\n",
    "        var_lnl= sig0_allfit**2+(np.exp(mean_lnl)-1)/(np.exp(2*mean_lnl))\n",
    "        stddev_lnl = np.sqrt(var_lnl)\n",
    "    else: \n",
    "        mean_lnl = lnA_allfit + B_allfit*(lnM-14*np.log(10))\n",
    "        var_lnl= sig0_allfit**2+(np.exp(mean_lnl)-1)/(np.exp(2*mean_lnl))\n",
    "        stddev_lnl = np.sqrt(var_lnl)\n",
    "    \n",
    "    pdf = norm.pdf(lnl, loc = mean_lnl, scale = stddev_lnl)\n",
    "    return pdf"
   ]
  },
  {
   "cell_type": "markdown",
   "metadata": {},
   "source": [
    "### Testing code "
   ]
  },
  {
   "cell_type": "code",
   "execution_count": 40,
   "metadata": {
    "collapsed": false
   },
   "outputs": [
    {
     "data": {
      "image/png": "[encoded data removed]",
      "text/plain": [
       "<Figure size 216x144 with 1 Axes>"
      ]
     },
     "metadata": {},
     "output_type": "display_data"
    },
    {
     "data": {
      "image/png": "[encoded data removed]",
      "text/plain": [
       "<Figure size 216x144 with 1 Axes>"
      ]
     },
     "metadata": {},
     "output_type": "display_data"
    },
    {
     "name": "stdout",
     "output_type": "stream",
     "text": [
      "best fit B is  0.8672562498926204\n",
      "best fit sig0 is  0.4646067757219166\n"
     ]
    }
   ],
   "source": [
    "if __name__==\"__main__\":\n",
    "    import sys\n",
    "    sys.path.append('/home/zzbenjamin94/Desktop/Astronomy/Research/DES_Galaxy_Cluster')\n",
    "    from mpl_toolkits.mplot3d import Axes3D\n",
    "    from tools.setup.setup import tools_home_dir, home_dir\n",
    "    import pyfits\n",
    "    shapedir = home_dir()+'output/buzzard/halo_shape/'\n",
    "    tpltdir = home_dir() + 'output/lmda_cosi_chains/'\n",
    "    toolsdir = tools_home_dir()\n",
    "    homedir = home_dir()\n",
    "    \n",
    "    #Test the DS template\n",
    "    x = np.linspace(-2,2,100)\n",
    "    DS_template = np.exp(lnDS_ratio(0.9, x))\n",
    "    plt.figure(figsize=(3,2))\n",
    "    plt.plot(x, DS_template)\n",
    "    plt.title(r'ln($\\Delta\\Sigma$) ratio template (Heidi)', fontsize=9)\n",
    "    plt.show()\n",
    "    \n",
    "    #Bin by cosine\n",
    "    from repo.halo_shape.read_shape_param import halo_bin_stat\n",
    "    #Bin by cosine\n",
    "    cosi_num_bin = 5\n",
    "    cosi_bin_edge = np.linspace(0,1,cosi_num_bin+1)\n",
    "    cosi_bins = []\n",
    "    for i in range(cosi_num_bin):\n",
    "        cosi_bins.append([cosi_bin_edge[i], cosi_bin_edge[i+1]])\n",
    "        \n",
    "        \n",
    "    #Testing interpolate_lnA\n",
    "    cosi_mid, spl_lnA, data_lnA = interpolate_A(tpltdir, cosi_bins)\n",
    "    x = np.linspace(0,1,100)\n",
    "    plt.figure(figsize=(3,2))\n",
    "    plt.plot(x, spl_lnA(x))\n",
    "    plt.plot(cosi_mid, data_lnA, 'o')\n",
    "    plt.title('best fit lnA for richness-mass', fontsize=9)\n",
    "    plt.show()\n",
    "    \n",
    "    B_allfit = bestfit_B(tpltdir)\n",
    "    sig0_allfit = bestfit_sig0(tpltdir)\n",
    "    print \"best fit B is \", B_allfit\n",
    "    print \"best fit sig0 is \", sig0_allfit\n"
   ]
  }
 ],
 "metadata": {
  "anaconda-cloud": {},
  "kernelspec": {
   "display_name": "Python [conda root]",
   "language": "python",
   "name": "conda-root-py"
  },
  "language_info": {
   "codemirror_mode": {
    "name": "ipython",
    "version": 2
   },
   "file_extension": ".py",
   "mimetype": "text/x-python",
   "name": "python",
   "nbconvert_exporter": "python",
   "pygments_lexer": "ipython2",
   "version": "2.7.14"
  }
 },
 "nbformat": 4,
 "nbformat_minor": 1
}
