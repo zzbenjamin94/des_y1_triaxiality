{
 "cells": [
  {
   "cell_type": "code",
   "execution_count": 2,
   "metadata": {
    "collapsed": true
   },
   "outputs": [],
   "source": [
    "import numpy as np\n",
    "import sys\n",
    "sys.path.append('/home/zzbenjamin94/Desktop/Astronomy/Research/DES_Galaxy_Cluster')\n",
    "\n",
    "# import pyplot and set some parameters to make plots prettier\n",
    "import matplotlib.pyplot as plt\n",
    "from tools.plot_utils import plot_pretty\n",
    "plot_pretty()\n",
    "\n",
    "# setup notebook for inline figures\n",
    "%matplotlib inline\n",
    "\n",
    "#paths \n",
    "from tools.setup.setup import data_home_dir, home_dir\n",
    "import astropy.io.fits as fits\n",
    "datadir = data_home_dir()\n",
    "homedir = home_dir()"
   ]
  },
  {
   "cell_type": "markdown",
   "metadata": {},
   "source": [
    "## Importing Catalogs\n",
    "\n",
    "**Note** \n",
    "\n",
    "The halorun and redM need to have the same mass cut. This is because miscentered halos are the complementary halos to the centered ones. If redM has smaller masscut than halroun, then redM halos with M < halorun_masscut will automatically be labled \"miscentered\", but really then weren't in the halorun catalog. "
   ]
  },
  {
   "cell_type": "markdown",
   "metadata": {},
   "source": [
    "#### Import halos matched redM\n",
    "Apply mass cut to match the halorun mass cut of 5e13"
   ]
  },
  {
   "cell_type": "code",
   "execution_count": 3,
   "metadata": {
    "collapsed": false
   },
   "outputs": [
    {
     "name": "stdout",
     "output_type": "stream",
     "text": [
      "Names of redM_matched halo column data are:\n",
      "('redM_ID', 'redM_RA', 'redM_DEC', 'redM_z', 'redM_lmda', 'halos_ID', 'halos_RA', 'halos_DEC', 'halos_z', 'halos_X', 'halos_Y', 'halos_Z', 'halos_M200b', 'halos_Mvir', 'halos_Rvir') \n",
      "\n",
      "Number of halos read is  23998\n",
      "After mass cut of 5e+13 number of halos in redM_halos is 19967\n"
     ]
    }
   ],
   "source": [
    "#Import the redMaPPer catalog\n",
    "homedir = home_dir()\n",
    "redM_dir = homedir + 'output/buzzard/'+'halo_redM_matched.dat'\n",
    "\n",
    "#Field names of the files from first row of file. Shoule be:\n",
    "#('redM_ID', 'redM_RA', 'redM_DEC', 'redM_z', 'redM_lmda', 'halos_ID', 'halos_RA', 'halos_DEC', \n",
    "#'halos_z', 'halos_X', 'halos_Y', 'halos_Z', 'halos_M200b', 'halos_Mvir', 'halos_Rvir')\n",
    "redM_halos = np.genfromtxt(redM_dir, dtype =\"i, f8, f8, f8, f8, i, f8, f8, f8, f8, f8, f8, f8, f8, f8\", \\\n",
    "                  unpack=True, usecols=range(0,15), names=True)\n",
    "redM_halos = redM_halos.view(np.recarray)\n",
    "\n",
    "print \"Names of redM_matched halo column data are:\"\n",
    "print redM_halos.dtype.names, \"\\n\"\n",
    "print \"Number of halos read is \", len(redM_halos)\n",
    "\n",
    "#Apply mass cut\n",
    "masscut = 5e13\n",
    "masscut_ind = np.where(redM_halos.halos_M200b >= masscut)[0]\n",
    "redM_halos = redM_halos[masscut_ind]\n",
    "print \"After mass cut of {:2g} number of halos in redM_halos is {}\".format(masscut, len(redM_halos))"
   ]
  },
  {
   "cell_type": "markdown",
   "metadata": {},
   "source": [
    "#### Import halorun catalog and match to redM by ID\n",
    "There seems to be halos missing in halorun that are in the regular redM run. Halorun mass cut at 5e13, redM at 1e13. M200 in the halorun catalog refers to Mvir. "
   ]
  },
  {
   "cell_type": "code",
   "execution_count": 4,
   "metadata": {
    "collapsed": false
   },
   "outputs": [
    {
     "name": "stdout",
     "output_type": "stream",
     "text": [
      "Names of columns in hrun_data are: \n",
      "\n",
      "['HALOID', 'Mvir', 'R200', 'MEM_MATCH_ID', 'RA', 'DEC', 'Z', 'P_BCG', 'Z_LAMBDA', 'LAMBDA_CHISQ', 'LAMBDA_CHISQ_E', 'LAMBDA_CHISQ_ZORIG', 'SCALEVAL', 'LAMBDA_ZRED', 'LAMBDA_ZRED_E', 'MASKFRAC', 'GEOMASKFRAC', 'R_LAMBDA', 'R_MASK', 'Z_LAMBDA_E', 'NCROSS', 'Z_LAMBDA_NITER', 'DLAMBDA_DZ', 'DLAMBDA_DZ2', 'DLAMBDAVAR_DZ', 'DLAMBDAVAR_DZ2', 'C_LAMBDA', 'C_LAMBDA_ERR', 'MAG_LAMBDA_ERR', 'PZBINS', 'PZ', 'Z_LAMBDA_RAW', 'Z_LAMBDA_E_RAW', 'BCG_SPEC_Z', 'LIM_EXPTIME', 'LIM_LIMMAG_DERED', 'LIM_LIMMAG', 'LIM_LIMMAG_HARD', 'ra_cent', 'dec_cent', 'p_cen', 'p_sat', 'ID_CENT', 'M200B']\n",
      "\n",
      "Number of halos is 144508\n",
      "After mass cut of 5e+13 number of halos in hrun is 144508\n"
     ]
    }
   ],
   "source": [
    "#Import the halorun catalog\n",
    "hrun_dir = datadir + 'halo_run/'+'buzzard-0_1.6_y3_run_halos_lambda_chisq_chto_fullhalo_final_chto.fit'\n",
    "hrun_list = fits.open(hrun_dir)\n",
    "hrun_data = hrun_list[1].data\n",
    "\n",
    "#Checking FITS into\n",
    "#hrun_list.info()\n",
    "print \"Names of columns in hrun_data are: \\n\"\n",
    "print hrun_data.names\n",
    "\n",
    "#Converting FITS files into record array\n",
    "hrun_data = np.array(hrun_data, dtype=hrun_data.dtype)\n",
    "hrun_data = hrun_data.view(np.recarray)\n",
    "\n",
    "print \"\\nNumber of halos is\", len(hrun_data)\n",
    "\n",
    "#Apply mass cut\n",
    "masscut = 5e13\n",
    "masscut_ind = np.where(hrun_data.M200B >= masscut)[0]\n",
    "hrun_data = hrun_data[masscut_ind]\n",
    "print \"After mass cut of {:2g} number of halos in hrun is {}\".format(masscut, len(hrun_data))"
   ]
  },
  {
   "cell_type": "code",
   "execution_count": 5,
   "metadata": {
    "collapsed": false
   },
   "outputs": [
    {
     "name": "stdout",
     "output_type": "stream",
     "text": [
      "Number of halorun objects matched to redM_halos are  19407\n"
     ]
    }
   ],
   "source": [
    "#Matching to the redM_halos by ID\n",
    "matched_haloID = np.intersect1d(hrun_data.HALOID, redM_halos.halos_ID)\n",
    "matched_ind = [i for (i,x) in enumerate(hrun_data.HALOID) if x in matched_haloID]\n",
    "hrun_data = hrun_data[matched_ind] #filter by matched redM objects\n",
    "print \"Number of halorun objects matched to redM_halos are \", len(hrun_data)"
   ]
  },
  {
   "cell_type": "markdown",
   "metadata": {},
   "source": [
    "#### Matching galaxy members to the redM_halos\n",
    "* Import the cluster catalog with centering info\n",
    "* Find ones with matching ID\n",
    "* Information needed: (RA, DEC, Z) of all five central galaxy candidates, P_cent.\n",
    "\n",
    "Use the vl02 catalog. vl50 is missing MEM_MATCH_IDs that the redM_halos catalog has. \n",
    "\n",
    "Use the buzzard-0 catalog. That's they run for the redM_halos. "
   ]
  },
  {
   "cell_type": "code",
   "execution_count": 7,
   "metadata": {
    "collapsed": false
   },
   "outputs": [
    {
     "name": "stdout",
     "output_type": "stream",
     "text": [
      "Names of redM_matched halo column data are:\n",
      "('MEM_MATCH_ID', 'RA', 'DEC', 'MODEL_MAG', 'MODEL_MAGERR', 'REFMAG', 'REFMAG_ERR', 'ZRED', 'ZRED_E', 'ZRED_CHISQ', 'BCG_SPEC_Z', 'Z_SPEC_INIT', 'Z_INIT', 'Z', 'LAMBDA_CHISQ', 'LAMBDA_CHISQ_E', 'LAMBDA_ZRED', 'LAMBDA_ZRED_E', 'R_LAMBDA', 'SCALEVAL', 'MASKFRAC', 'GEOMASKFRAC', 'C_LAMBDA', 'C_LAMBDA_ERR', 'MAG_LAMBDA_ERR', 'CHISQ', 'Z_LAMBDA', 'Z_LAMBDA_E', 'Z_LAMBDA_NITER', 'EBV_MEAN', 'LNLAMLIKE', 'LNBCGLIKE', 'LNLIKE', 'PZBINS', 'PZ', 'NCROSS', 'RMASK', 'RA_ORIG', 'DEC_ORIG', 'W', 'DLAMBDA_DZ', 'DLAMBDA_DZ2', 'DLAMBDAVAR_DZ', 'DLAMBDAVAR_DZ2', 'LAMBDA_CHISQ_C', 'LAMBDA_CHISQ_CE', 'NCENT', 'NCENT_GOOD', 'RA_CENT', 'DEC_CENT', 'ID_CENT', 'LAMBDA_CHISQ_CENT', 'ZLAMBDA_CENT', 'P_BCG', 'P_CEN', 'Q_CEN', 'P_FG', 'Q_MISS', 'P_SAT', 'P_C', 'BCG_ILUM', 'ILUM', 'Z_LAMBDA_RAW', 'Z_LAMBDA_E_RAW', 'LIM_EXPTIME', 'LIM_LIMMAG_DERED', 'LIM_LIMMAG', 'LIM_LIMMAG_HARD') \n",
      "\n",
      "Number of halos read is  24243\n",
      "Number of redM objects matched to redM_halos are  19967\n"
     ]
    }
   ],
   "source": [
    "#Import the redMaPPer galaxy catalog\n",
    "homedir = home_dir()\n",
    "redM_gal_dir = homedir + 'data/buzzard_halo/redM/'+'buzzard-0_1.6_y3_run_redmapper_v6.4.20_lgt20_vl02_catalog.fit'\n",
    "\n",
    "redM_gal_list = fits.open(redM_gal_dir)\n",
    "redM_gal_data = redM_gal_list[1].data\n",
    "redM_gal_data = redM_gal_data.view(np.recarray)\n",
    "\n",
    "print \"Names of redM_matched halo column data are:\"\n",
    "print redM_gal_data.dtype.names, \"\\n\"\n",
    "print \"Number of halos read is \", len(redM_gal_data)\n",
    "\n",
    "#Matching to the redM_halos. MEM_MATCH_ID\n",
    "matched_memID = np.intersect1d(redM_gal_data['MEM_MATCH_ID'], redM_halos['redM_ID'])\n",
    "matched_ind = [i for (i,x) in enumerate(redM_gal_data['MEM_MATCH_ID']) if x in matched_memID]\n",
    "redM_gal_data = redM_gal_data[matched_ind] #filter by matched redM objects\n",
    "print \"Number of redM objects matched to redM_halos are \", len(redM_gal_data)"
   ]
  },
  {
   "cell_type": "markdown",
   "metadata": {},
   "source": [
    "## Identifying miscentered cluster\n",
    "* Begin with a binary approach of whether miscentered or not. \n",
    "* Level of miscentered can be further characterized by the distance of miscentered galaxy to the true central galaxy. This is a next step.\n",
    "\n",
    "Questions:\n",
    "* What to do if halorun catalog does not have all the halos that redM has?\n",
    "    * We don't necessarily have to throw away, but if there's a way to easily match arrays of different sizes that will solve our problem. \n",
    "    * Figure out why the miscentering delta_R_3d distribution doesn't have a peak at R=0? \n",
    "    * RA, DEC with galaxies catalog has exact match. Don't understand why no exact match for redM_halos.\n",
    "    "
   ]
  },
  {
   "cell_type": "code",
   "execution_count": 9,
   "metadata": {
    "collapsed": false
   },
   "outputs": [
    {
     "name": "stdout",
     "output_type": "stream",
     "text": [
      "3305 3.6981368\n",
      "3.2916745507094447e-07\n",
      "0.0\n",
      "-3.61574e+06\n"
     ]
    }
   ],
   "source": [
    "#Finding mismatch between RA, DEC, Z in halorun versus redM_galaxy\n",
    "from astropy.coordinates import SkyCoord\n",
    "from astropy import units as u\n",
    "from astropy.cosmology import WMAP9 as cosmo\n",
    "from astropy.coordinates import SkyCoord\n",
    "\n",
    "#Finding nearest neighbor to the halorun catalog.\n",
    "def find_nearest(array, value):\n",
    "    array = np.asarray(array)\n",
    "    idx = (np.abs(array - value)).argmin()\n",
    "    return idx, array[idx]\n",
    "\n",
    "#Using find_nearest iterate through the array and find index of matched ones, also index of unmatched. \n",
    "#Go through the richness-mass template finder. \n",
    "\n",
    "#Testing match of specific halo using index testn\n",
    "testn = 5765\n",
    "ind, RA_val = find_nearest(redM_halos.redM_RA, hrun_data.RA[testn])\n",
    "print ind, RA_val\n",
    "print RA_val -  hrun_data.RA[testn]\n",
    "print hrun_data.DEC[testn] - redM_gal_data.DEC[ind]\n",
    "#print hrun_data.Z[testn] - redM_gal_data.Z[ind] #Some error in redshift\n",
    "print \"{:2g}\".format(hrun_data.M200B[testn] - redM_halos.halos_M200b[ind]) #Small error in masses"
   ]
  },
  {
   "cell_type": "code",
   "execution_count": 10,
   "metadata": {
    "collapsed": false
   },
   "outputs": [
    {
     "name": "stdout",
     "output_type": "stream",
     "text": [
      "Number of centered clusters are 10752\n"
     ]
    }
   ],
   "source": [
    "#Match halos by RA only.\n",
    "#It's better to use the redM catalog. topcat is able to find matches. Sort this out in the afternoon.\n",
    "centered_ind = []\n",
    "for i, cur_cl in enumerate(redM_halos):\n",
    "    cur_RA = cur_cl.redM_RA\n",
    "    cur_DEC = cur_cl.redM_DEC\n",
    "    ind, RA_val = find_nearest(hrun_data.RA, cur_RA)\n",
    "    DEC_val = hrun_data.DEC[ind]\n",
    "    if (np.abs(RA_val - cur_RA) < 1e-5) & (np.abs(DEC_val - cur_DEC) < 1e-5) \\\n",
    "    & (np.abs(cur_cl.halos_M200b - hrun_data.M200B[ind]) < 1e12): #Rounding error \n",
    "        centered_ind.append(i)\n",
    "print \"Number of centered clusters are\", len(centered_ind)"
   ]
  },
  {
   "cell_type": "code",
   "execution_count": 11,
   "metadata": {
    "collapsed": false
   },
   "outputs": [],
   "source": [
    "#Extract the centered halos\n",
    "#Two files. One is centered ID, other is miscentered ID. \n",
    "\n",
    "#Centered ID, create column in a file. \n",
    "cent_haloID = redM_halos[centered_ind].halos_ID\n",
    "\n",
    "#Miscentered ID\n",
    "##?? This might be problematic: Some of \"miscentered\" are not in halorun, so they might not really be miscentered. \n",
    "miscent_ind = [i for i, x in enumerate(range(len(redM_halos))) if x not in centered_ind]\n",
    "miscent_haloID = redM_halos[miscent_ind].halos_ID"
   ]
  },
  {
   "cell_type": "markdown",
   "metadata": {},
   "source": [
    "## Saving into files "
   ]
  },
  {
   "cell_type": "code",
   "execution_count": 13,
   "metadata": {
    "collapsed": false
   },
   "outputs": [
    {
     "name": "stdout",
     "output_type": "stream",
     "text": [
      "Saved pickle files.\n"
     ]
    }
   ],
   "source": [
    "#Store the centering IDs as pickle module\n",
    "import pickle\n",
    "\n",
    "with open('cent_haloID.data', 'wb') as filehandle:  \n",
    "    # store the data as binary data stream\n",
    "    pickle.dump(cent_haloID, filehandle)\n",
    "\n",
    "with open('miscent_haloID.data', 'wb') as filehandle:  \n",
    "    # store the data as binary data stream\n",
    "    pickle.dump(miscent_haloID, filehandle)\n",
    "    \n",
    "print \"Saved pickle files.\""
   ]
  },
  {
   "cell_type": "markdown",
   "metadata": {},
   "source": []
  }
 ],
 "metadata": {
  "anaconda-cloud": {},
  "kernelspec": {
   "display_name": "Python [conda env:anaconda2]",
   "language": "python",
   "name": "conda-env-anaconda2-py"
  },
  "language_info": {
   "codemirror_mode": {
    "name": "ipython",
    "version": 2
   },
   "file_extension": ".py",
   "mimetype": "text/x-python",
   "name": "python",
   "nbconvert_exporter": "python",
   "pygments_lexer": "ipython2",
   "version": "2.7.14"
  }
 },
 "nbformat": 4,
 "nbformat_minor": 1
}
