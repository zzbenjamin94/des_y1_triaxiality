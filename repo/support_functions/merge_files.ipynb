{
 "cells": [
  {
   "cell_type": "code",
   "execution_count": 2,
   "metadata": {
    "collapsed": false
   },
   "outputs": [],
   "source": [
    "import numpy as np\n",
    "import sys\n",
    "sys.path.append('/home/zzbenjamin94/Desktop/Astronomy/Research/DES_Galaxy_Cluster')\n",
    "\n",
    "# import pyplot and set some parameters to make plots prettier\n",
    "import matplotlib.pyplot as plt\n",
    "from tools.plot_utils import plot_pretty\n",
    "import pickle\n",
    "plot_pretty()\n",
    "\n",
    "# setup notebook for inline figures\n",
    "%matplotlib inline\n",
    "\n",
    "from tools.setup.setup import data_home_dir, home_dir, bigdata_home_dir\n",
    "import astropy.io.fits as fits\n",
    "\n",
    "datadir = data_home_dir()\n",
    "homedir = home_dir()\n",
    "bigdatadir = bigdata_home_dir()"
   ]
  },
  {
   "cell_type": "markdown",
   "metadata": {},
   "source": [
    "## This part for merging the projection file. "
   ]
  },
  {
   "cell_type": "code",
   "execution_count": 241,
   "metadata": {
    "collapsed": false
   },
   "outputs": [
    {
     "name": "stdout",
     "output_type": "stream",
     "text": [
      "Names of columns in hrun_data are: \n",
      "\n",
      "['HALOID', 'MVIR', 'MEM_MATCH_ID', 'RA', 'DEC', 'Z', 'P_BCG', 'Z_LAMBDA', 'LAMBDA_CHISQ', 'LAMBDA_CHISQ_E', 'LAMBDA_CHISQ_ZORIG', 'SCALEVAL', 'LAMBDA_ZRED', 'LAMBDA_ZRED_E', 'MASKFRAC', 'GEOMASKFRAC', 'R_LAMBDA', 'R_MASK', 'Z_LAMBDA_E', 'NCROSS', 'Z_LAMBDA_NITER', 'DLAMBDA_DZ', 'DLAMBDA_DZ2', 'DLAMBDAVAR_DZ', 'DLAMBDAVAR_DZ2', 'C_LAMBDA', 'C_LAMBDA_ERR', 'MAG_LAMBDA_ERR', 'PZBINS', 'Z_LAMBDA_RAW', 'Z_LAMBDA_E_RAW', 'BCG_SPEC_Z', 'LIM_EXPTIME', 'LIM_LIMMAG_DERED', 'LIM_LIMMAG', 'LIM_LIMMAG_HARD', 'ra_cent', 'dec_cent', 'p_cen', 'p_sat', 'ID_CENT', 'M200B', 'RVIR', 'PX', 'PY', 'PZ']\n",
      "\n",
      " Number of halos is 144507\n"
     ]
    }
   ],
   "source": [
    "halos_dir = datadir + 'halo_run/'+'halorun_buzzardunique_matched.fits'\n",
    "halos_list = fits.open(halos_dir)\n",
    "halos_data = halos_list[1].data\n",
    "\n",
    "#Checking FITS into\n",
    "#hrun_list.info()\n",
    "print \"Names of columns in hrun_data are: \\n\"\n",
    "halos_data.names[1] = 'Mvir'\n",
    "print halos_data.names\n",
    "\n",
    "#Converting FITS files into record array\n",
    "halos_data = np.array(halos_data, dtype=halos_data.dtype)\n",
    "halos_data = halos_data.view(np.recarray)\n",
    "\n",
    "print \"\\n Number of halos is\", len(halos_data)\n"
   ]
  },
  {
   "cell_type": "code",
   "execution_count": 242,
   "metadata": {
    "collapsed": true
   },
   "outputs": [],
   "source": [
    "#Rotate the PX, PY, PZ. RA, DEC taken from halo run and are already rotated. \n",
    "#Rotate the halo files\n",
    "import healpy as hp\n",
    "import fitsio\n",
    "from tools.setup.setup import tools_home_dir\n",
    "import pickle\n",
    "\n",
    "toolsdir = tools_home_dir()\n",
    "\n",
    "#file containing the rotation matrix \n",
    "rotfile = toolsdir+'desy3_irot.pkl'\n",
    "\n",
    "with open(rotfile, 'r') as fp:\n",
    "    rmat = pickle.load(fp)\n",
    "\n",
    "halos_posvec = np.array([halos_data['PX'], halos_data['PY'], halos_data['PZ']])\n",
    "halos_rposvec = np.dot(rmat, halos_posvec)\n",
    "\n",
    "#Rotate the Cartesian positions.\n",
    "halos_X = halos_rposvec[0]; halos_Y = halos_rposvec[1]; halos_Z = halos_rposvec[2]"
   ]
  },
  {
   "cell_type": "code",
   "execution_count": 243,
   "metadata": {
    "collapsed": false
   },
   "outputs": [
    {
     "name": "stdout",
     "output_type": "stream",
     "text": [
      "[3.396857 3.028247 2.900238 ... 0.819929 0.791169 0.804954]\n"
     ]
    }
   ],
   "source": [
    "#HOW to write to the FITS file?\n",
    "#Something to do next and the run the halo_shape program. \n",
    "from astropy.io import fits\n",
    "hdul = fits.open(halos_dir)\n",
    "hdul[1].data['PX'] = halos_X; hdul[1].data['PY'] = halos_Y; hdul[1].data['PZ'] = halos_Z\n",
    "\n",
    "#From kpc to Mpc\n",
    "hdul[1].data['RVIR'] /= 1000\n",
    "print hdul[1].data['RVIR']\n",
    "\n",
    "hdul.writeto('halorun_buzzardunique_rotated.fits')"
   ]
  },
  {
   "cell_type": "markdown",
   "metadata": {
    "collapsed": true
   },
   "source": [
    "## This part for merging hrun and Buzzard by haloID"
   ]
  },
  {
   "cell_type": "code",
   "execution_count": 244,
   "metadata": {
    "collapsed": false
   },
   "outputs": [
    {
     "name": "stdout",
     "output_type": "stream",
     "text": [
      "Names of columns in halos_data are: \n",
      "\n",
      "['ID', 'DESCID', 'MVIR', 'VMAX', 'VRMS', 'RVIR', 'RS', 'NP', 'PX', 'PY', 'PZ', 'VX', 'VY', 'VZ', 'JX', 'JY', 'JZ', 'SPIN', 'RS_KLYPIN', 'MVIR_ALL', 'M200B', 'M200C', 'M500C', 'M2500C', 'XOFF', 'VOFF', 'SPIN_BULLOCK', 'B_TO_A', 'C_TO_A', 'PID', 'LUMTOT', 'LUM20', 'LBCG', 'NGALS', 'N18', 'N19', 'N20', 'N21', 'N22', 'Z', 'RA', 'DEC']\n",
      "\n",
      " Number of halos is 12198813\n"
     ]
    }
   ],
   "source": [
    "halos_dir = datadir + 'buzzard_halo/chinchilla/Chinchilla-0_halos_unique_all.fits'\n",
    "halos_list = fits.open(halos_dir)\n",
    "halos_data = halos_list[1].data\n",
    "\n",
    "#Checking FITS into\n",
    "#hrun_list.info()\n",
    "print \"Names of columns in halos_data are: \\n\"\n",
    "print halos_data.names\n",
    "\n",
    "#Converting FITS files into record array\n",
    "#halos_data = np.array(halos_data, dtype=halos_data.dtype)\n",
    "#halos_data = halos_data.view(np.recarray)\n",
    "\n",
    "print \"\\n Number of halos is\", len(halos_data.ID)"
   ]
  },
  {
   "cell_type": "code",
   "execution_count": 245,
   "metadata": {
    "collapsed": false
   },
   "outputs": [
    {
     "name": "stdout",
     "output_type": "stream",
     "text": [
      "Names of columns in halos_data are: \n",
      "\n",
      "['HALOID', 'Mvir', 'R200', 'MEM_MATCH_ID', 'RA', 'DEC', 'Z', 'P_BCG', 'Z_LAMBDA', 'LAMBDA_CHISQ', 'LAMBDA_CHISQ_E', 'LAMBDA_CHISQ_ZORIG', 'SCALEVAL', 'LAMBDA_ZRED', 'LAMBDA_ZRED_E', 'MASKFRAC', 'GEOMASKFRAC', 'R_LAMBDA', 'R_MASK', 'Z_LAMBDA_E', 'NCROSS', 'Z_LAMBDA_NITER', 'DLAMBDA_DZ', 'DLAMBDA_DZ2', 'DLAMBDAVAR_DZ', 'DLAMBDAVAR_DZ2', 'C_LAMBDA', 'C_LAMBDA_ERR', 'MAG_LAMBDA_ERR', 'PZBINS', 'PZ', 'Z_LAMBDA_RAW', 'Z_LAMBDA_E_RAW', 'BCG_SPEC_Z', 'LIM_EXPTIME', 'LIM_LIMMAG_DERED', 'LIM_LIMMAG', 'LIM_LIMMAG_HARD', 'ra_cent', 'dec_cent', 'p_cen', 'p_sat', 'ID_CENT', 'M200B']\n",
      "\n",
      " Number of halos is 144508\n"
     ]
    }
   ],
   "source": [
    "hrun_dir = datadir + '/halo_run/buzzard-0_1.6_y3_run_halos_lambda_chisq_chto_fullhalo_final_chto.fit'\n",
    "hrun_list = fits.open(hrun_dir)\n",
    "hrun_data = hrun_list[1].data\n",
    "\n",
    "#Checking FITS into\n",
    "#hrun_list.info()\n",
    "print \"Names of columns in halos_data are: \\n\"\n",
    "print hrun_data.names\n",
    "\n",
    "#Converting FITS files into record array\n",
    "#hrun_data = np.array(hrun_data, dtype=hrun_data.dtype)\n",
    "#hrun_data = hrun_data.view(np.recarray)\n",
    "\n",
    "print \"\\n Number of halos is\", len(hrun_data)"
   ]
  },
  {
   "cell_type": "markdown",
   "metadata": {},
   "source": [
    "#### Cuts and filters"
   ]
  },
  {
   "cell_type": "code",
   "execution_count": 9,
   "metadata": {
    "collapsed": false
   },
   "outputs": [
    {
     "name": "stdout",
     "output_type": "stream",
     "text": [
      "After mass cut of M > 5e13 M_sun number of halos is  540434\n"
     ]
    }
   ],
   "source": [
    "#Cut off halos with mass less than 5*10^13 M_sun\n",
    "mass_cutoff = halos_data['M200B'] > 5e13\n",
    "halos_data = halos_data[mass_cutoff]\n",
    "print \"After mass cut of M > 5e13 M_sun number of halos is \", len(halos_data)"
   ]
  },
  {
   "cell_type": "code",
   "execution_count": 11,
   "metadata": {
    "collapsed": false
   },
   "outputs": [
    {
     "name": "stdout",
     "output_type": "stream",
     "text": [
      "Before halocut but after mass cut number of halos in halos_data is  540434\n",
      "After halocut number of halos in halos_data is  144507\n",
      "Before unique cut number of halos in hrun is  144508\n",
      "After unique cut number of halos in hrun is  144508\n",
      "Before halocut but after mass cut number of halos in hrun_data is  144508\n",
      "After halocut number of halos in hrun_data is  144507\n",
      "After halocut  144507  out of  144507 halos in halos_data are in hrun_data\n",
      "After halocut  144507  out of  144507 halos in hrun_data are in halos_data\n"
     ]
    }
   ],
   "source": [
    "#Find all HALOID matches.\n",
    "#Append the lensed RA, DEC to the FITS data file of the original. We need the original for X, Y, Z rotation. \n",
    "#Makes things much easier. \n",
    "\n",
    "print \"Before halocut but after mass cut number of halos in halos_data is \", len(halos_data)\n",
    "halos_matched_bool = np.isin(halos_data['ID'], hrun_data['HALOID'])\n",
    "halocut = np.where(halos_matched_bool == True)[0]\n",
    "halos_data = halos_data[halocut]\n",
    "print \"After halocut number of halos in halos_data is \", len(halos_data)\n",
    "\n",
    "#Halo_Run catalog has repeating halos. Clean that up\n",
    "print \"Before unique cut number of halos in hrun is \", len(hrun_data)\n",
    "unique_ID, unique_ind = np.unique(hrun_data['HALOID'], return_index=True)\n",
    "hrun_data = hrun_data[unique_ind]\n",
    "print \"After unique cut number of halos in hrun is \", len(hrun_data)\n",
    "\n",
    "print \"Before halocut but after mass cut number of halos in hrun_data is \", len(hrun_data)\n",
    "halos_matched_bool = np.isin(hrun_data['HALOID'], halos_data['ID'])\n",
    "halocut = np.where(halos_matched_bool == True)[0]\n",
    "hrun_data = hrun_data[halocut]\n",
    "print \"After halocut number of halos in hrun_data is \", len(hrun_data)\n",
    "\n",
    "#Check that all IDs are one-to-one matched\n",
    "ID_matched_bool = np.isin(halos_data['ID'], hrun_data['HALOID'])\n",
    "ID_matched_num = len(ID_matched_bool)\n",
    "print \"After halocut \", ID_matched_num, \" out of \", len(halos_data), \"halos in halos_data are in hrun_data\"\n",
    "ID_matched_bool = np.isin(hrun_data['HALOID'], halos_data['ID'])\n",
    "ID_matched_num = len(ID_matched_bool)\n",
    "print \"After halocut \", ID_matched_num, \" out of \", len(hrun_data), \"halos in hrun_data are in halos_data\""
   ]
  },
  {
   "cell_type": "code",
   "execution_count": 12,
   "metadata": {
    "collapsed": false
   },
   "outputs": [
    {
     "name": "stdout",
     "output_type": "stream",
     "text": [
      "After sorting, IDs in hrun are: \n",
      "[    760306    2166226    2166663 ... 1010781934 1010782194 1010782295] \n",
      "\n",
      "After sorting, IDs in redM_halos are: \n",
      "[    760306    2166226    2166663 ... 1010781934 1010782194 1010782295] \n",
      "\n",
      "(array([], dtype=int64),)\n",
      "(array([], dtype=int64),)\n"
     ]
    }
   ],
   "source": [
    "#Sort the arrays by order of ID. That way the indices match. \n",
    "#For hrun\n",
    "ID_sort = np.argsort(hrun_data['HALOID'])\n",
    "hrun_data = hrun_data[ID_sort]\n",
    "print \"After sorting, IDs in hrun are: \"\n",
    "print hrun_data['HALOID'], \"\\n\"\n",
    "\n",
    "#For redM_halos\n",
    "ID_sort = np.argsort(halos_data['ID'])\n",
    "halos_data = halos_data[ID_sort]\n",
    "print \"After sorting, IDs in redM_halos are: \"\n",
    "print halos_data['ID'], \"\\n\"\n",
    "\n",
    "print np.where(np.isin(halos_data['ID'], hrun_data['HALOID']) == False)\n",
    "print np.where(np.isin(hrun_data['HALOID'], halos_data['ID'], ) == False)"
   ]
  },
  {
   "cell_type": "markdown",
   "metadata": {},
   "source": [
    "### Matching full halo catalog to hrun catalog\n",
    "\n",
    "Appending the halorun lensed RA, DEC parameters onto the sim halo catalog.\n",
    "\n",
    "Creates a new FITS file. \n",
    "\n",
    "The number of rows is before filter. This is problematic. "
   ]
  },
  {
   "cell_type": "code",
   "execution_count": null,
   "metadata": {
    "collapsed": true
   },
   "outputs": [],
   "source": [
    "orig_cols = halos_data.columns\n",
    "new_cols = fits.ColDefs([ \\\n",
    "    fits.Column(name='RA_obs', format='D', array=hrun_data.RA), \\\n",
    "    fits.Column(name='DEC_obs', format='D', array=hrun_data.DEC), \\\n",
    "    fits.Column(name='LAMBDA_CHISQ_hrun', format='D', array=hrun_data.LAMBDA_CHISQ)])\n",
    "        \n",
    "#hdu = fits.BinTableHDU.from_columns(orig_cols + new_cols)\n",
    "#print orig_cols\n",
    "#hdu.writeto('Chinchilla-0_unique_all_mergehrun.fits')"
   ]
  },
  {
   "cell_type": "markdown",
   "metadata": {
    "collapsed": true
   },
   "source": [
    "# Merging truth BCG with Chinchilla-0"
   ]
  },
  {
   "cell_type": "markdown",
   "metadata": {},
   "source": [
    "## Importing files"
   ]
  },
  {
   "cell_type": "code",
   "execution_count": 3,
   "metadata": {
    "collapsed": false
   },
   "outputs": [
    {
     "ename": "IOError",
     "evalue": "[Errno 2] No such file or directory: '/home/zzbenjamin94/Desktop/Astronomy/Research/DES_Galaxy_Cluster/data//buzzard_halo/truth_galaxy/BCG_info.data'",
     "output_type": "error",
     "traceback": [
      "\u001b[0;31m---------------------------------------------------------------------------\u001b[0m",
      "\u001b[0;31mIOError\u001b[0m                                   Traceback (most recent call last)",
      "\u001b[0;32m<ipython-input-3-22da3d9ee5b8>\u001b[0m in \u001b[0;36m<module>\u001b[0;34m()\u001b[0m\n\u001b[1;32m      1\u001b[0m \u001b[0mBCG_filename\u001b[0m \u001b[0;34m=\u001b[0m \u001b[0mdatadir\u001b[0m \u001b[0;34m+\u001b[0m \u001b[0;34m'/buzzard_halo/truth_galaxy/'\u001b[0m\u001b[0;34m+\u001b[0m\u001b[0;34m'BCG_info.data'\u001b[0m\u001b[0;34m\u001b[0m\u001b[0m\n\u001b[0;32m----> 2\u001b[0;31m \u001b[0mBCG_file\u001b[0m \u001b[0;34m=\u001b[0m \u001b[0mopen\u001b[0m\u001b[0;34m(\u001b[0m\u001b[0mBCG_filename\u001b[0m\u001b[0;34m,\u001b[0m \u001b[0;34m\"rb\"\u001b[0m \u001b[0;34m)\u001b[0m\u001b[0;34m\u001b[0m\u001b[0m\n\u001b[0m\u001b[1;32m      3\u001b[0m \u001b[0mBCG_data\u001b[0m \u001b[0;34m=\u001b[0m \u001b[0mpickle\u001b[0m\u001b[0;34m.\u001b[0m\u001b[0mload\u001b[0m\u001b[0;34m(\u001b[0m\u001b[0mBCG_file\u001b[0m\u001b[0;34m)\u001b[0m\u001b[0;34m\u001b[0m\u001b[0m\n",
      "\u001b[0;31mIOError\u001b[0m: [Errno 2] No such file or directory: '/home/zzbenjamin94/Desktop/Astronomy/Research/DES_Galaxy_Cluster/data//buzzard_halo/truth_galaxy/BCG_info.data'"
     ]
    }
   ],
   "source": [
    "BCG_filename = datadir + 'buzzard_halo/truth_galaxy/'+'BCG_info.data'    \n",
    "BCG_file = open(BCG_filename, \"rb\" )\n",
    "BCG_data = pickle.load(BCG_file)\n"
   ]
  },
  {
   "cell_type": "raw",
   "metadata": {
    "collapsed": false
   },
   "source": [
    "BCG_Data = BCG_data.view(np.recarray)\n",
    "print BCG_data.dtype.names, len(BCG_data.dtype)\n",
    "print BCG_data.ID"
   ]
  },
  {
   "cell_type": "raw",
   "metadata": {
    "collapsed": false
   },
   "source": [
    "#Create a FITS file from scratch\n",
    "#hdu = fits.PrimaryHDU()\n",
    "\n",
    "#Creating colums\n",
    "cols = fits.ColDefs([ \\\n",
    "        fits.Column(name='ID', format='J', array=BCG_data['ID']), \\\n",
    "        fits.Column(name='HALOID', format='J', array=BCG_data['HALOID']), \\\n",
    "        fits.Column(name='RA_obs', format='D', array=BCG_data['RA']), \\\n",
    "        fits.Column(name='DEC_obs', format='D', array=BCG_data['DEC']), \\\n",
    "        fits.Column(name='TRA', format='D', array=BCG_data['TRA']), \\\n",
    "        fits.Column(name='TDEC', format='D', array=BCG_data['TDEC']), \\\n",
    "        fits.Column(name='Z', format='D', array=BCG_data['Z']) ])\n",
    "    \n",
    "hdu = fits.BinTableHDU.from_columns(cols)\n",
    "hdu.writeto('Chinchilla-0_BCG_coord.fits')\n",
    "\n",
    "\n",
    "'''\n",
    "#Save as FITS file\n",
    "orig_cols = halos_data.columns\n",
    "new_cols = fits.ColDefs([ \\\n",
    "    fits.Column(name='RA_obs', format='D', array=hrun_data.RA), \\\n",
    "    fits.Column(name='DEC_obs', format='D', array=hrun_data.DEC), \\\n",
    "    fits.Column(name='LAMBDA_CHISQ_hrun', format='D', array=hrun_data.LAMBDA_CHISQ)])\n",
    "'''\n",
    "print 'Done'\n",
    "#hdu = fits.BinTableHDU.from_columns(orig_cols + new_cols)\n",
    "#print orig_cols\n",
    "#hdu.writeto('Chinchilla-0_unique_all_mergehrun.fits')"
   ]
  },
  {
   "cell_type": "raw",
   "metadata": {
    "collapsed": false
   },
   "source": [
    "print BCG.dtype.names, \n",
    "print len(BCG_data)"
   ]
  },
  {
   "cell_type": "raw",
   "metadata": {
    "collapsed": false
   },
   "source": [
    "halos_dir = datadir + 'buzzard_halo/chinchilla/Chinchilla-0_halos_unique_all.fits'\n",
    "halos_list = fits.open(halos_dir)\n",
    "halos_data = halos_list[1].data\n",
    "BCG_Data = BCG_data.view(np.recarray)\n",
    "\n",
    "#Checking FITS into\n",
    "#hrun_list.info()\n",
    "print \"Names of columns in halos_data are: \\n\"\n",
    "print halos_data.names\n",
    "\n",
    "#Converting FITS files into record array\n",
    "#halos_data = np.array(halos_data, dtype=halos_data.dtype)\n",
    "#halos_data = halos_data.view(np.recarray)\n",
    "\n",
    "print \"\\n Number of halos is\", len(halos_data.ID)"
   ]
  },
  {
   "cell_type": "markdown",
   "metadata": {},
   "source": [
    "## Matching by coordinates"
   ]
  },
  {
   "cell_type": "raw",
   "metadata": {
    "collapsed": false
   },
   "source": []
  },
  {
   "cell_type": "markdown",
   "metadata": {
    "collapsed": true
   },
   "source": [
    "# Merging shape, clusters and halos. \n",
    "Ignore the shapes for v1.4 of cluster-halo. Particle info from v1.6 is deleted."
   ]
  },
  {
   "cell_type": "markdown",
   "metadata": {},
   "source": [
    "## Import catalogs"
   ]
  },
  {
   "cell_type": "raw",
   "metadata": {
    "collapsed": false
   },
   "source": [
    "from repo.halo_shape.read_shape_param import read_shape_param\n",
    "import numpy.lib.recfunctions as rfn\n",
    "\n",
    "filename = homedir +'output/buzzard/halo_shape/halo_shape_redM_matched_v1.2.npy'\n",
    "redM_shape = np.load(filename)\n",
    "redM_shape = redM_shape.view(np.recarray)\n",
    "\n",
    "print \"Number of halos in the redM catalog is \", len(redM_shape)\n",
    "print redM_shape.dtype\n",
    "\n",
    "#Apply mass cut\n",
    "#masscut = np.where(redM_data.M200b > 1e13)\n",
    "#redM_data = redM_data[masscut]\n",
    "print \"After mass cut number of halos is \", len(redM_shape)"
   ]
  },
  {
   "cell_type": "code",
   "execution_count": 35,
   "metadata": {
    "collapsed": false
   },
   "outputs": [
    {
     "name": "stdout",
     "output_type": "stream",
     "text": [
      "(numpy.record, [('ID', '>i8'), ('HALOID', '>i8'), ('RA', '>f8'), ('TRA', '>f8'), ('DEC', '>f8'), ('TDEC', '>f8'), ('Z', '>f8')])\n",
      "11161403\n"
     ]
    }
   ],
   "source": [
    "##Import BCG file\n",
    "BCG_dir = datadir + 'v1.6/BCG_v1.6_data.fits'\n",
    "BCG_list = fits.open(BCG_dir)\n",
    "BCG_data = BCG_list[1].data\n",
    "print BCG_data.dtype\n",
    "print len(BCG_data)"
   ]
  },
  {
   "cell_type": "code",
   "execution_count": 36,
   "metadata": {
    "collapsed": false
   },
   "outputs": [
    {
     "name": "stdout",
     "output_type": "stream",
     "text": [
      "(numpy.record, [('RA', '>f8'), ('TRA', '>f8'), ('DEC', '>f8'), ('TDEC', '>f8'), ('Z', '>f8'), ('HALOID', '>i8'), ('DESCID', '>i8'), ('MVIR', '>f8'), ('VMAX', '>f8'), ('VRMS', '>f8'), ('RVIR', '>f8'), ('RS', '>f8'), ('NP', '>f8'), ('PX', '>f8'), ('PY', '>f8'), ('PZ', '>f8'), ('VX', '>f8'), ('VY', '>f8'), ('VZ', '>f8'), ('JX', '>f8'), ('JY', '>f8'), ('JZ', '>f8'), ('SPIN', '>f8'), ('RS_KLYPIN', '>f8'), ('MVIR_ALL', '>f8'), ('M200B', '>f8'), ('M200C', '>f8'), ('M500C', '>f8'), ('M2500C', '>f8'), ('XOFF', '>f8'), ('VOFF', '>f8'), ('SPIN_BULLOCK', '>f8'), ('B_TO_A', '>f8'), ('C_TO_A', '>f8'), ('PID', '>i8'), ('LUMTOT', '>f8'), ('LUM20', '>f8'), ('LBCG', '>f8'), ('NGALS', '>i8'), ('N18', '>i8'), ('N19', '>i8'), ('N20', '>i8'), ('N21', '>i8'), ('N22', '>i8'), ('matching_ID', '<i8')])\n",
      "(numpy.record, [('MEM_MATCH_ID', '>i4'), ('RA', '>f8'), ('DEC', '>f8'), ('MODEL_MAG', '>f4', (4,)), ('MODEL_MAGERR', '>f4', (4,)), ('REFMAG', '>f4'), ('REFMAG_ERR', '>f4'), ('ZRED', '>f4'), ('ZRED_E', '>f4'), ('ZRED_CHISQ', '>f4'), ('BCG_SPEC_Z', '>f4'), ('Z_SPEC_INIT', '>f4'), ('Z_INIT', '>f4'), ('Z', '>f4'), ('LAMBDA_CHISQ', '>f4'), ('LAMBDA_CHISQ_E', '>f4'), ('LAMBDA_ZRED', '>f4'), ('LAMBDA_ZRED_E', '>f4'), ('R_LAMBDA', '>f4'), ('SCALEVAL', '>f4'), ('MASKFRAC', '>f4'), ('GEOMASKFRAC', '>f4'), ('C_LAMBDA', '>f4', (3,)), ('C_LAMBDA_ERR', '>f4', (3,)), ('MAG_LAMBDA_ERR', '>f4', (4,)), ('CHISQ', '>f4'), ('Z_LAMBDA', '>f4'), ('Z_LAMBDA_E', '>f4'), ('Z_LAMBDA_NITER', '>i2'), ('EBV_MEAN', '>f4'), ('LNLAMLIKE', '>f4'), ('LNBCGLIKE', '>f4'), ('LNLIKE', '>f4'), ('PZBINS', '>f4', (21,)), ('PZ', '>f4', (21,)), ('NCROSS', '>i2'), ('RMASK', '>f4'), ('RA_ORIG', '>f8'), ('DEC_ORIG', '>f8'), ('W', '>f4'), ('DLAMBDA_DZ', '>f4'), ('DLAMBDA_DZ2', '>f4'), ('DLAMBDAVAR_DZ', '>f4'), ('DLAMBDAVAR_DZ2', '>f4'), ('LAMBDA_CHISQ_C', '>f4'), ('LAMBDA_CHISQ_CE', '>f4'), ('NCENT', '>i2'), ('NCENT_GOOD', '>i2'), ('RA_CENT', '>f8', (5,)), ('DEC_CENT', '>f8', (5,)), ('ID_CENT', '>i8', (5,)), ('LAMBDA_CHISQ_CENT', '>f4', (5,)), ('ZLAMBDA_CENT', '>f4', (5,)), ('P_BCG', '>f4', (5,)), ('P_CEN', '>f4', (5,)), ('Q_CEN', '>f4', (5,)), ('P_FG', '>f4', (5,)), ('Q_MISS', '>f4'), ('P_SAT', '>f4', (5,)), ('P_C', '>f4', (5,)), ('BCG_ILUM', '>f4'), ('ILUM', '>f4'), ('Z_LAMBDA_RAW', '>f4'), ('Z_LAMBDA_E_RAW', '>f4'), ('LIM_EXPTIME', '>f4'), ('LIM_LIMMAG_DERED', '>f4'), ('LIM_LIMMAG', '>f4'), ('LIM_LIMMAG_HARD', '>f4'), ('centered_flag', '<i8'), ('matching_ID', '<i8')])\n"
     ]
    }
   ],
   "source": [
    "#Miscentering cut\n",
    "import pickle\n",
    "\n",
    "#Loading the centered/miscentered halo IDs\n",
    "matched_redM = homedir + 'output/buzzard/redM_matched_v1.4_redMv1.6.dat'\n",
    "matched_halos = homedir + 'output/buzzard/halos_matched_v1.4_redMv1.6.dat'\n",
    "\n",
    "infile = open(matched_redM,'rb')\n",
    "matched_redM = pickle.load(infile)\n",
    "\n",
    "infile = open(matched_halos,'rb')\n",
    "redM_halos = pickle.load(infile)\n",
    "\n",
    "redM_halos = redM_halos.view(np.recarray)\n",
    "matched_redM = matched_redM.view(np.recarray)\n",
    "\n",
    "print redM_halos.dtype\n",
    "print matched_redM.dtype\n"
   ]
  },
  {
   "cell_type": "markdown",
   "metadata": {},
   "source": [
    "## Match and divide shape file into centered/miscentered"
   ]
  },
  {
   "cell_type": "markdown",
   "metadata": {},
   "source": [
    "### Apply cuts"
   ]
  },
  {
   "cell_type": "code",
   "execution_count": 37,
   "metadata": {
    "collapsed": false
   },
   "outputs": [
    {
     "name": "stdout",
     "output_type": "stream",
     "text": [
      "After mass cut matched halos has num  23658\n",
      "After z cut matched halos has num  23658\n"
     ]
    },
    {
     "data": {
      "text/plain": [
       "'\\n#Converge cut\\nconvcut = np.where(redM_shape.converge == True)\\nredM_shape = redM_shape[convcut]\\nprint \"After convcut redM-shape has num \", len(redM_shape)\\n\\n#Shape has repeating halos. \\nunique_ID, unique_ind = np.unique(redM_shape.halos_ID, return_index=True)\\nredM_shape = redM_shape[unique_ind]\\n'"
      ]
     },
     "execution_count": 37,
     "metadata": {},
     "output_type": "execute_result"
    }
   ],
   "source": [
    "#Apply cuts\n",
    "#mass cut\n",
    "mcut = np.where(redM_halos.M200B >= 1e13)\n",
    "redM_halos = redM_halos[mcut]\n",
    "matched_redM = matched_redM[mcut]\n",
    "print \"After mass cut matched halos has num \", len(redM_halos)\n",
    "\n",
    "#Redshift cut\n",
    "zcut = np.where(redM_halos.Z <= 0.90)\n",
    "redM_halos = redM_halos[zcut]\n",
    "matched_redM = matched_redM[zcut]\n",
    "print \"After z cut matched halos has num \", len(redM_halos)\n",
    "\n",
    "'''\n",
    "#Converge cut\n",
    "convcut = np.where(redM_shape.converge == True)\n",
    "redM_shape = redM_shape[convcut]\n",
    "print \"After convcut redM-shape has num \", len(redM_shape)\n",
    "\n",
    "#Shape has repeating halos. \n",
    "unique_ID, unique_ind = np.unique(redM_shape.halos_ID, return_index=True)\n",
    "redM_shape = redM_shape[unique_ind]\n",
    "'''\n"
   ]
  },
  {
   "cell_type": "markdown",
   "metadata": {},
   "source": [
    "### Find intersection of halo/cluster and shape"
   ]
  },
  {
   "cell_type": "raw",
   "metadata": {
    "collapsed": false
   },
   "source": [
    "# Find halos that are in redM_shape only\n",
    "shape_bool = np.isin(redM_halos.HALOID, redM_shape.halos_ID)\n",
    "shape_ind = np.where(shape_bool == True)[0]\n",
    "redM_halos = redM_halos[shape_ind]\n",
    "matched_redM = matched_redM[shape_ind]\n",
    "\n",
    "#print len(matched_redM), len(redM_halos), len(redM_shape)\n",
    "\n",
    "#Sorting \n",
    "sort_idx = redM_shape.matching_ID.argsort()\n",
    "sort_idx = sort_idx[np.searchsorted(redM_shape.matching_ID, redM_halos.matching_ID, sorter = sort_idx)]\n",
    "redM_shape = redM_shape[sort_idx]\n",
    "\n",
    "#print redM_shape.matching_ID\n",
    "#print redM_halos.matching_ID\n",
    "#print np.where((redM_shape.matching_ID - redM_halos.matching_ID) != 0)"
   ]
  },
  {
   "cell_type": "code",
   "execution_count": 41,
   "metadata": {
    "collapsed": false
   },
   "outputs": [
    {
     "name": "stdout",
     "output_type": "stream",
     "text": [
      "[ 16116697   2240565  15080442 ... 118818676 118877712 125182034]\n",
      "[110385189 124235235 117984266 ... 128971535 118272367 128975390]\n",
      "[    0     1     2 ... 23655 23656 23657]\n"
     ]
    }
   ],
   "source": [
    "#Match BCG to haloID\n",
    "haloid_bool = np.isin(BCG_data.HALOID, redM_halos.HALOID)\n",
    "haloid_ind = np.where(haloid_bool == True)[0]\n",
    "BCG_data = BCG_data[haloid_ind]"
   ]
  },
  {
   "cell_type": "code",
   "execution_count": 43,
   "metadata": {
    "collapsed": false
   },
   "outputs": [
    {
     "name": "stdout",
     "output_type": "stream",
     "text": [
      "[110385189 124235235 117984266 ... 128971535 118272367 128975390]\n",
      "[110385189 124235235 117984266 ... 128971535 118272367 128975390]\n",
      "[    0     1     2 ... 23655 23656 23657]\n"
     ]
    }
   ],
   "source": [
    "## Sort BCG to match redM_halos\n",
    "sort_idx = BCG_data.HALOID.argsort()\n",
    "sort_idx = sort_idx[np.searchsorted(BCG_data.HALOID, redM_halos.HALOID, sorter = sort_idx)]\n",
    "BCG_data = BCG_data[sort_idx]\n",
    "print BCG_data.HALOID\n",
    "print redM_halos.HALOID\n",
    "print redM_halos.matching_ID\n",
    "\n",
    "#How to sort BCG_ID by haloID"
   ]
  },
  {
   "cell_type": "code",
   "execution_count": 46,
   "metadata": {
    "collapsed": false
   },
   "outputs": [
    {
     "name": "stdout",
     "output_type": "stream",
     "text": [
      "[    0     1     2 ... 23655 23656 23657]\n",
      "[    0     1     2 ... 23655 23656 23657]\n"
     ]
    }
   ],
   "source": [
    "## Sort by matching ID\n",
    "sort_idx = matched_redM.matching_ID.argsort()\n",
    "sort_idx = sort_idx[np.searchsorted(matched_redM.matching_ID, redM_halos.matching_ID, sorter = sort_idx)]\n",
    "matched_redM = matched_redM[sort_idx]\n",
    "\n",
    "print matched_redM.matching_ID\n",
    "print redM_halos.matching_ID"
   ]
  },
  {
   "cell_type": "markdown",
   "metadata": {},
   "source": [
    "## Extract Shape Parameters"
   ]
  },
  {
   "cell_type": "raw",
   "metadata": {
    "collapsed": false
   },
   "source": [
    "##Shorthand name for relevant halo/redM parameters\n",
    "halos_ID, q, s, cos_i = read_shape_param(np.array(redM_shape), convcut=True)\n",
    "#Choose only convergent halos\n",
    "conv_cut = [i for (i,x) in enumerate(redM_shape.halos_ID) if x in halos_ID]\n",
    "redM_shape = redM_shape[conv_cut]\n",
    "print \"After convergence cut number of halos is \", len(redM_shape)"
   ]
  },
  {
   "cell_type": "markdown",
   "metadata": {},
   "source": [
    "## Combine into a single record array"
   ]
  },
  {
   "cell_type": "code",
   "execution_count": 47,
   "metadata": {
    "collapsed": true
   },
   "outputs": [],
   "source": [
    "def add_field(a, descr):\n",
    "    \"\"\"Return a new array that is like \"a\", but has additional fields.\n",
    "\n",
    "    Arguments:\n",
    "      a     -- a structured numpy array\n",
    "      descr -- a numpy type description of the new fields\n",
    "\n",
    "    The contents of \"a\" are copied over to the appropriate fields in\n",
    "    the new array, whereas the new fields are uninitialized.  The\n",
    "    arguments are not modified.\n",
    "\n",
    "    >>> sa = numpy.array([(1, 'Foo'), (2, 'Bar')], \\\n",
    "                         dtype=[('id', int), ('name', 'S3')])\n",
    "    >>> sa.dtype.descr == numpy.dtype([('id', int), ('name', 'S3')])\n",
    "    True\n",
    "    >>> sb = add_field(sa, [('score', float)])\n",
    "    >>> sb.dtype.descr == numpy.dtype([('id', int), ('name', 'S3'), \\\n",
    "                                       ('score', float)])\n",
    "    True\n",
    "    >>> numpy.all(sa['id'] == sb['id'])\n",
    "    True\n",
    "    >>> numpy.all(sa['name'] == sb['name'])\n",
    "    True\n",
    "    \"\"\"\n",
    "    dt = a.dtype.descr\n",
    "    dt.extend(descr)\n",
    "    \n",
    "    if a.dtype.fields is None:\n",
    "        raise ValueError, \"`A' must be a structured numpy array\"\n",
    "    b = np.empty(a.shape, dtype=dt)\n",
    "    for name in a.dtype.names:\n",
    "        b[name] = a[name]\n",
    "    return b"
   ]
  },
  {
   "cell_type": "code",
   "execution_count": 49,
   "metadata": {
    "collapsed": false
   },
   "outputs": [],
   "source": [
    "new_fields = np.dtype([('MEM_MATCH_ID', int), ('LAMBDA_CHISQ', float), ('RA_REDM', float), ('DEC_REDM', float), \n",
    "                       ('centered_flag', int), ('ID_CENT', int), ('BCG_ID',int)]).descr\\\n",
    "             #('q', float), ('s', float), ('cosi', float), ]).descr\n",
    "\n",
    "redM_halos = add_field(redM_halos, new_fields)"
   ]
  },
  {
   "cell_type": "code",
   "execution_count": 50,
   "metadata": {
    "collapsed": false
   },
   "outputs": [
    {
     "name": "stdout",
     "output_type": "stream",
     "text": [
      "(numpy.record, [('RA', '>f8'), ('TRA', '>f8'), ('DEC', '>f8'), ('TDEC', '>f8'), ('Z', '>f8'), ('HALOID', '>i8'), ('DESCID', '>i8'), ('MVIR', '>f8'), ('VMAX', '>f8'), ('VRMS', '>f8'), ('RVIR', '>f8'), ('RS', '>f8'), ('NP', '>f8'), ('PX', '>f8'), ('PY', '>f8'), ('PZ', '>f8'), ('VX', '>f8'), ('VY', '>f8'), ('VZ', '>f8'), ('JX', '>f8'), ('JY', '>f8'), ('JZ', '>f8'), ('SPIN', '>f8'), ('RS_KLYPIN', '>f8'), ('MVIR_ALL', '>f8'), ('M200B', '>f8'), ('M200C', '>f8'), ('M500C', '>f8'), ('M2500C', '>f8'), ('XOFF', '>f8'), ('VOFF', '>f8'), ('SPIN_BULLOCK', '>f8'), ('B_TO_A', '>f8'), ('C_TO_A', '>f8'), ('PID', '>i8'), ('LUMTOT', '>f8'), ('LUM20', '>f8'), ('LBCG', '>f8'), ('NGALS', '>i8'), ('N18', '>i8'), ('N19', '>i8'), ('N20', '>i8'), ('N21', '>i8'), ('N22', '>i8'), ('matching_ID', '<i8'), ('MEM_MATCH_ID', '<i8'), ('LAMBDA_CHISQ', '<f8'), ('RA_REDM', '<f8'), ('DEC_REDM', '<f8'), ('centered_flag', '<i8'), ('ID_CENT', '<i8'), ('BCG_ID', '<i8')])\n",
      "23658\n"
     ]
    }
   ],
   "source": [
    "redM_halos = redM_halos.view(np.recarray)\n",
    "\n",
    "redM_halos.MEM_MATCH_ID = matched_redM.MEM_MATCH_ID\n",
    "redM_halos.LAMBDA_CHISQ = matched_redM.LAMBDA_CHISQ\n",
    "redM_halos.RA_REDM = matched_redM.RA; redM_halos.DEC_REDM = matched_redM.DEC\n",
    "redM_halos.centered_flag = matched_redM.centered_flag\n",
    "redM_halos.ID_CENT = matched_redM.ID_CENT[:,0]\n",
    "redM_halos.BCG_ID = BCG_data.ID\n",
    "#redM_halos.q = q\n",
    "#redM_halos.s = s\n",
    "#redM_halos.cosi = cos_i\n",
    "\n",
    "print redM_halos.dtype\n",
    "print len(redM_halos)"
   ]
  },
  {
   "cell_type": "code",
   "execution_count": 51,
   "metadata": {
    "collapsed": false
   },
   "outputs": [
    {
     "name": "stdout",
     "output_type": "stream",
     "text": [
      "[ 90002853535 376001981071 381002415978 ...  38003541492 110004207654\n",
      "  41003249860]\n",
      "[ 90002140438 376002466800 381003157622 ...  38002542337 110003856442\n",
      "  41004414006]\n"
     ]
    }
   ],
   "source": [
    "print redM_halos.BCG_ID\n",
    "print redM_halos.ID_CENT"
   ]
  },
  {
   "cell_type": "code",
   "execution_count": 52,
   "metadata": {
    "collapsed": true
   },
   "outputs": [],
   "source": [
    "#Save onto a pickle file\n",
    "import pickle\n",
    "filehandler = open(\"redM_halos_noshape_v1.4_redMv1.6.data\",\"wb\")\n",
    "pickle.dump(redM_halos, filehandler)\n",
    "filehandler.close()"
   ]
  },
  {
   "cell_type": "markdown",
   "metadata": {
    "collapsed": true
   },
   "source": [
    "## Merging BCG ID with Parent Halo ID.\n",
    "\n",
    "BCGs are found from truth_data.CENTRAL == 1\n",
    "Parent halos are found from truth_data.PID == -1\n",
    "\n",
    "More parent halos than BCGs. This is good.\n",
    "Parent halo cut removes a fraction of BCGs. Should this happen?"
   ]
  },
  {
   "cell_type": "code",
   "execution_count": 18,
   "metadata": {
    "collapsed": false
   },
   "outputs": [],
   "source": [
    "BCG_filename = datadir + 'v1.9.2/BCG_info_v1.9.2_Chinchilla-4.data'    \n",
    "BCG_file = open(BCG_filename, \"rb\" )\n",
    "BCG_data = pickle.load(BCG_file)\n",
    "\n",
    "#Import IDs that aren't subhalos.\n",
    "hosthalo_filename = datadir + 'v1.9.2/hosthalo_v1.9.2_Chinchilla-4.data'  \n",
    "hosthalo_file = open(hosthalo_filename, 'rb')\n",
    "hosthalo_ID = pickle.load(hosthalo_file)"
   ]
  },
  {
   "cell_type": "code",
   "execution_count": 19,
   "metadata": {
    "collapsed": false
   },
   "outputs": [
    {
     "name": "stdout",
     "output_type": "stream",
     "text": [
      "Before matching:\n",
      "6647993 12769538\n"
     ]
    }
   ],
   "source": [
    "print \"Before matching:\"\n",
    "print len(BCG_data), len(hosthalo_ID)"
   ]
  },
  {
   "cell_type": "code",
   "execution_count": 21,
   "metadata": {
    "collapsed": true
   },
   "outputs": [],
   "source": [
    "#Uniqueness for halos\n",
    "unique_ID, unique_ind = np.unique(hosthalo_ID, return_index=True)\n",
    "hosthalo_ID = hosthalo_ID[unique_ind]\n",
    "\n",
    "#Uniqueness for BCGs\n",
    "unique_ID, unique_ind = np.unique(BCG_data['HALOID'], return_index=True)\n",
    "BCG_data = BCG_data[unique_ind]\n",
    "\n",
    "#Cut the BCGs \n",
    "halos_matched_bool = np.isin(BCG_data['HALOID'], hosthalo_ID)\n",
    "halocut = np.where(halos_matched_bool == True)[0]\n",
    "BCG_data = BCG_data[halocut]\n",
    "\n",
    "#Cut the halos\n",
    "BCG_matched_bool = np.isin(hosthalo_ID, BCG_data['HALOID'])\n",
    "BCG_cut = np.where(BCG_matched_bool == True)[0]\n",
    "hosthalo_ID = hosthalo_ID[BCG_cut]"
   ]
  },
  {
   "cell_type": "code",
   "execution_count": 22,
   "metadata": {
    "collapsed": false
   },
   "outputs": [
    {
     "name": "stdout",
     "output_type": "stream",
     "text": [
      "After matching: \n",
      "3109744 3109744\n"
     ]
    }
   ],
   "source": [
    "print \"After matching: \"\n",
    "print len(BCG_data), len(hosthalo_ID)"
   ]
  },
  {
   "cell_type": "code",
   "execution_count": 23,
   "metadata": {
    "collapsed": true
   },
   "outputs": [],
   "source": [
    "##Output to a pickle file\n",
    "import pickle\n",
    "BCG_file = 'BCG_hosthalo_matched_v1.9.2_Chinchilla-4.data'\n",
    "outfile = open(BCG_file, 'wb')\n",
    "pickle.dump(BCG_data, outfile)\n",
    "outfile.close()"
   ]
  },
  {
   "cell_type": "markdown",
   "metadata": {},
   "source": [
    "## Create a record array of halos with TRA, TDEC info from BCGs. \n",
    "\n",
    "Note on the catalog:\n",
    "\n",
    "Chinchilla-4 v1.9.2 halos only have TRA, TDEC. \n",
    "\n",
    "Chinchilla-4 v1.9.2 BCGs only have lensed RA, DEC. \n",
    "\n",
    "Need to patch the BCG coordinates onto the halo coordinates for matching to redM. "
   ]
  },
  {
   "cell_type": "markdown",
   "metadata": {},
   "source": [
    "### Import halo & BCG file. "
   ]
  },
  {
   "cell_type": "code",
   "execution_count": 2,
   "metadata": {
    "collapsed": false
   },
   "outputs": [
    {
     "name": "stdout",
     "output_type": "stream",
     "text": [
      "Names of columns in halos_data are: \n",
      "\n",
      "['A[Z]', 'A[Y]', 'RA', 'C[Y]', 'VMAX', 'C_TO_A', 'Z', 'Z_COS', 'JX', 'B[Z]', 'TRA', 'VZ', 'B[X]', 'VY', 'HOST_HALOID', 'M200C', 'B[Y]', 'VX', 'JZ', 'A[X]', 'VRMS', 'M200B', 'M500C', 'TDEC', 'RS', 'C[Z]', 'ID', 'SPIN', 'VOFF', 'NP', 'PY', 'RVIR', 'M2500C', 'DEC', 'MVIR', 'C[X]', 'PZ', 'JY', 'XOFF', 'PX', 'B_TO_A']\n",
      "\n",
      " Number of halos is 13368118\n"
     ]
    }
   ],
   "source": [
    "halos_dir = bigdatadir + 'Buzzard_Sims/v1.9.2/Chinchilla-4/halos/Chinchilla-4_halos.all.fits'\n",
    "halos_list = fits.open(halos_dir)\n",
    "halos_data = halos_list[1].data\n",
    "\n",
    "#Checking FITS into\n",
    "#hrun_list.info()\n",
    "print \"Names of columns in halos_data are: \\n\"\n",
    "print halos_data.names\n",
    "\n",
    "#Converting FITS files into record array\n",
    "halos_data = np.array(halos_data, dtype=halos_data.dtype)\n",
    "halos_data = halos_data.view(np.recarray)\n",
    "\n",
    "print \"\\n Number of halos is\", len(halos_data.ID)"
   ]
  },
  {
   "cell_type": "code",
   "execution_count": 3,
   "metadata": {
    "collapsed": false
   },
   "outputs": [
    {
     "name": "stdout",
     "output_type": "stream",
     "text": [
      "Number of BCG after matching to hosthalos. Should match number of halos. \n",
      "3109744\n",
      "(numpy.record, [('ID', '<i8'), ('HALOID', '<i8'), ('RA', '<f4'), ('TRA', '<f4'), ('DEC', '<f4'), ('TDEC', '<f4'), ('Z', '<f4')])\n"
     ]
    }
   ],
   "source": [
    "## Open BCG file after matching if not done yet. \n",
    "BCG_filename = datadir + 'v1.9.2/BCG_hosthalo_matched_v1.9.2_Chinchilla-4.data'    \n",
    "BCG_file = open(BCG_filename, \"rb\" )\n",
    "BCG_data = pickle.load(BCG_file)\n",
    "BCG_data = BCG_data.view(np.recarray)\n",
    "print \"Number of BCG after matching to hosthalos. Should match number of halos. \"\n",
    "print len(BCG_data)\n",
    "print BCG_data.dtype"
   ]
  },
  {
   "cell_type": "markdown",
   "metadata": {},
   "source": [
    "### Reduce and re-shuffle the BCG file to match halo file"
   ]
  },
  {
   "cell_type": "code",
   "execution_count": 4,
   "metadata": {
    "collapsed": false
   },
   "outputs": [
    {
     "name": "stdout",
     "output_type": "stream",
     "text": [
      "Number of halos after matching to BCG and cutting non-host halos. Should match number of BCGs.\n",
      "3109744\n"
     ]
    }
   ],
   "source": [
    "#Cut the halos\n",
    "BCG_matched_bool = np.isin(halos_data.ID, BCG_data['HALOID'])\n",
    "BCG_cut = np.where(BCG_matched_bool == True)[0]\n",
    "halos_data = halos_data[BCG_cut]\n",
    "\n",
    "#Uniqueness for halos\n",
    "unique_ID, unique_ind = np.unique(halos_data.ID, return_index=True)\n",
    "halos_data = halos_data[unique_ind]\n",
    "\n",
    "print \"Number of halos after matching to BCG and cutting non-host halos. Should match number of BCGs.\"\n",
    "print len(halos_data)"
   ]
  },
  {
   "cell_type": "code",
   "execution_count": 31,
   "metadata": {
    "collapsed": false
   },
   "outputs": [],
   "source": [
    "#Sorting \n",
    "##! This step not strictly necessary as the matching already does it, but just in case. \n",
    "sort_idx = halos_data.ID.argsort()\n",
    "sort_idx = sort_idx[np.searchsorted(halos_data.ID, BCG_data['HALOID'], sorter = sort_idx)]\n",
    "halos_data = halos_data[sort_idx]"
   ]
  },
  {
   "cell_type": "markdown",
   "metadata": {},
   "source": [
    "### Testing and plotting"
   ]
  },
  {
   "cell_type": "code",
   "execution_count": 36,
   "metadata": {
    "collapsed": false
   },
   "outputs": [
    {
     "data": {
      "image/png": "[encoded data removed]",
      "text/plain": [
       "<Figure size 288x216 with 1 Axes>"
      ]
     },
     "metadata": {},
     "output_type": "display_data"
    }
   ],
   "source": [
    "#Scatter plot to inspect that halos match clusters\n",
    "plt.figure(figsize=(4,3))\n",
    "#plt.scatter(halos_data.TRA[::100], halos_data.TDEC[::100], c='r', s=7, marker='o',linewidth=0.0, label='halo')\n",
    "#plt.scatter(BCG_data.RA[::100], BCG_data.DEC[::100], c='b', s=7, marker='o',linewidth=0.0, label='BCG')\n",
    "#RA_diff = halos_data.TRA - BCG_data.RA; DEC_diff = halos_data.TDEC - BCG_data.TDEC\n",
    "plt.scatter(RA_diff[::500], DEC_diff[::500], c='b', s=1, marker='o',linewidth=0.0, label='BCG')\n",
    "\n",
    "plt.xlabel('RA'); plt.ylabel('DEC ')\n",
    "plt.legend(fontsize=8, loc='upper center')\n",
    "plt.title('Position of halos and galaxies')\n",
    "plt.tight_layout()\n",
    "#plt.savefig('halo_cluster_pos.png')\n",
    "plt.show()"
   ]
  },
  {
   "cell_type": "markdown",
   "metadata": {},
   "source": [
    "### Add BCG coordintes onto halo and store record array as pickle file "
   ]
  },
  {
   "cell_type": "code",
   "execution_count": 7,
   "metadata": {
    "collapsed": true
   },
   "outputs": [],
   "source": [
    "#Add BCG RA, DEC onto the halos RA, DEC\n",
    "halos_data.RA = BCG_data.RA; halos_data.DEC = BCG_data.DEC"
   ]
  },
  {
   "cell_type": "code",
   "execution_count": 8,
   "metadata": {
    "collapsed": false
   },
   "outputs": [],
   "source": [
    "filehandler = open(\"halos_BCG_hosthalo_cut_v1.9.2_Chinchilla_4.data\",\"wb\")\n",
    "pickle.dump(halos_data, filehandler)\n",
    "filehandler.close()"
   ]
  }
 ],
 "metadata": {
  "anaconda-cloud": {},
  "kernelspec": {
   "display_name": "Python [conda root]",
   "language": "python",
   "name": "conda-root-py"
  },
  "language_info": {
   "codemirror_mode": {
    "name": "ipython",
    "version": 2
   },
   "file_extension": ".py",
   "mimetype": "text/x-python",
   "name": "python",
   "nbconvert_exporter": "python",
   "pygments_lexer": "ipython2",
   "version": "2.7.14"
  }
 },
 "nbformat": 4,
 "nbformat_minor": 1
}
