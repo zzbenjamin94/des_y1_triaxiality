{
 "cells": [
  {
   "cell_type": "code",
   "execution_count": 3,
   "metadata": {
    "collapsed": false
   },
   "outputs": [
    {
     "name": "stderr",
     "output_type": "stream",
     "text": [
      "/home/zzbenjamin94/anaconda2/lib/python2.7/site-packages/ipykernel/__main__.py:5: UserWarning: \n",
      "This call to matplotlib.use() has no effect because the backend has already\n",
      "been chosen; matplotlib.use() must be called *before* pylab, matplotlib.pyplot,\n",
      "or matplotlib.backends is imported for the first time.\n",
      "\n",
      "The backend was *originally* set to 'module://ipykernel.pylab.backend_inline' by the following code:\n",
      "  File \"/home/zzbenjamin94/anaconda2/lib/python2.7/runpy.py\", line 174, in _run_module_as_main\n",
      "    \"__main__\", fname, loader, pkg_name)\n",
      "  File \"/home/zzbenjamin94/anaconda2/lib/python2.7/runpy.py\", line 72, in _run_code\n",
      "    exec code in run_globals\n",
      "  File \"/home/zzbenjamin94/anaconda2/lib/python2.7/site-packages/ipykernel/__main__.py\", line 3, in <module>\n",
      "    app.launch_new_instance()\n",
      "  File \"/home/zzbenjamin94/anaconda2/lib/python2.7/site-packages/traitlets/config/application.py\", line 653, in launch_instance\n",
      "    app.start()\n",
      "  File \"/home/zzbenjamin94/anaconda2/lib/python2.7/site-packages/ipykernel/kernelapp.py\", line 474, in start\n",
      "    ioloop.IOLoop.instance().start()\n",
      "  File \"/home/zzbenjamin94/anaconda2/lib/python2.7/site-packages/zmq/eventloop/ioloop.py\", line 162, in start\n",
      "    super(ZMQIOLoop, self).start()\n",
      "  File \"/home/zzbenjamin94/anaconda2/lib/python2.7/site-packages/tornado/ioloop.py\", line 887, in start\n",
      "    handler_func(fd_obj, events)\n",
      "  File \"/home/zzbenjamin94/anaconda2/lib/python2.7/site-packages/tornado/stack_context.py\", line 275, in null_wrapper\n",
      "    return fn(*args, **kwargs)\n",
      "  File \"/home/zzbenjamin94/anaconda2/lib/python2.7/site-packages/zmq/eventloop/zmqstream.py\", line 440, in _handle_events\n",
      "    self._handle_recv()\n",
      "  File \"/home/zzbenjamin94/anaconda2/lib/python2.7/site-packages/zmq/eventloop/zmqstream.py\", line 472, in _handle_recv\n",
      "    self._run_callback(callback, msg)\n",
      "  File \"/home/zzbenjamin94/anaconda2/lib/python2.7/site-packages/zmq/eventloop/zmqstream.py\", line 414, in _run_callback\n",
      "    callback(*args, **kwargs)\n",
      "  File \"/home/zzbenjamin94/anaconda2/lib/python2.7/site-packages/tornado/stack_context.py\", line 275, in null_wrapper\n",
      "    return fn(*args, **kwargs)\n",
      "  File \"/home/zzbenjamin94/anaconda2/lib/python2.7/site-packages/ipykernel/kernelbase.py\", line 276, in dispatcher\n",
      "    return self.dispatch_shell(stream, msg)\n",
      "  File \"/home/zzbenjamin94/anaconda2/lib/python2.7/site-packages/ipykernel/kernelbase.py\", line 228, in dispatch_shell\n",
      "    handler(stream, idents, msg)\n",
      "  File \"/home/zzbenjamin94/anaconda2/lib/python2.7/site-packages/ipykernel/kernelbase.py\", line 390, in execute_request\n",
      "    user_expressions, allow_stdin)\n",
      "  File \"/home/zzbenjamin94/anaconda2/lib/python2.7/site-packages/ipykernel/ipkernel.py\", line 196, in do_execute\n",
      "    res = shell.run_cell(code, store_history=store_history, silent=silent)\n",
      "  File \"/home/zzbenjamin94/anaconda2/lib/python2.7/site-packages/ipykernel/zmqshell.py\", line 501, in run_cell\n",
      "    return super(ZMQInteractiveShell, self).run_cell(*args, **kwargs)\n",
      "  File \"/home/zzbenjamin94/anaconda2/lib/python2.7/site-packages/IPython/core/interactiveshell.py\", line 2717, in run_cell\n",
      "    interactivity=interactivity, compiler=compiler, result=result)\n",
      "  File \"/home/zzbenjamin94/anaconda2/lib/python2.7/site-packages/IPython/core/interactiveshell.py\", line 2821, in run_ast_nodes\n",
      "    if self.run_code(code, result):\n",
      "  File \"/home/zzbenjamin94/anaconda2/lib/python2.7/site-packages/IPython/core/interactiveshell.py\", line 2881, in run_code\n",
      "    exec(code_obj, self.user_global_ns, self.user_ns)\n",
      "  File \"<ipython-input-1-b63aa1ebeb88>\", line 4, in <module>\n",
      "    import matplotlib.pyplot as plt\n",
      "  File \"/home/zzbenjamin94/anaconda2/lib/python2.7/site-packages/matplotlib/pyplot.py\", line 71, in <module>\n",
      "    from matplotlib.backends import pylab_setup\n",
      "  File \"/home/zzbenjamin94/anaconda2/lib/python2.7/site-packages/matplotlib/backends/__init__.py\", line 16, in <module>\n",
      "    line for line in traceback.format_stack()\n",
      "\n",
      "\n"
     ]
    }
   ],
   "source": [
    "import numpy as np\n",
    "\n",
    "# import pyplot and set some parameters to make plots prettier\n",
    "import matplotlib\n",
    "matplotlib.use('TkAgg')\n",
    "import matplotlib.pyplot as plt\n",
    "\n",
    "import sys\n",
    "sys.path.append('/home/zzbenjamin94/Desktop/Astronomy/Research/DES_Galaxy_Cluster')\n",
    "from mpl_toolkits.mplot3d import Axes3D\n",
    "from tools.setup.setup import tools_home_dir, home_dir\n",
    "import pyfits\n",
    "shapedir = home_dir()+'output/buzzard/halo_shape/'\n",
    "tpltdir = home_dir() + 'output/lmda_cosi_chains/hrun/'\n",
    "buzzdir = home_dir() + 'output/buzzard/'\n",
    "toolsdir = tools_home_dir()\n",
    "homedir = home_dir()\n",
    "\n",
    "import astropy.io.fits as pyfits\n",
    "import ConfigParser\n",
    "import healpy as hp\n",
    "import treecorr\n",
    "import os\n",
    "\n",
    "from repo.halo_shape.halo_shape_stats_backend import kmeans_stats, student_t_test\n",
    "from repo.halo_shape.read_shape_param import halo_bin_stat, read_shape_param\n",
    "\n",
    "\n",
    "from repo.richness_mass.lmda_cosi_model import make_model, make_model2, make_model3\n",
    "from pymc import *\n",
    "from pymc import DiscreteUniform, Normal, uniform_like, TruncatedNormal\n",
    "from pymc import Metropolis\n",
    "from numpy.random import randn\n",
    "import matplotlib.pyplot as plt\n",
    "from scipy.special import erf\n",
    "from chainconsumer import ChainConsumer"
   ]
  },
  {
   "cell_type": "code",
   "execution_count": null,
   "metadata": {
    "collapsed": true
   },
   "outputs": [],
   "source": [
    "from scipy.stats import sem\n",
    "c = ChainConsumer() #contains multiple chains across different models"
   ]
  },
  {
   "cell_type": "code",
   "execution_count": null,
   "metadata": {
    "collapsed": true
   },
   "outputs": [],
   "source": [
    "mcmc_folder = tpltdir + 'p_lmda_cosi_'+'all'+'_model2'\n",
    "\n",
    "for i in range(len(cosi_bins)):\n",
    "    cosi_bin_min = cosi_bins[i][0]; cosi_bin_max = cosi_bins[i][1]\n",
    "    As=np.genfromtxt(mcmc_folder+'/Chain_0/A_{}.txt'.format(i))\n",
    "    Bs=np.genfromtxt(mcmc_folder+'/Chain_0/B.txt')\n",
    "    sig0s=np.genfromtxt(mcmc_folder+'/Chain_0/sigma0.txt')\n",
    "\n",
    "    # plot the parameter constraints\n",
    "\n",
    "    data=np.vstack( (As, Bs, sig0s) ).T\n",
    "    c.add_chain(data, parameters=[r\"$A$\", r\"$B$\", r\"$\\sigma_0$\"], \\\n",
    "                name=r'Template for $cos(i)\\in[%.1f, %.1f)$'%(cosi_bin_min, cosi_bin_max))\n",
    "\n",
    "    c.configure(statistics=\"max_shortest\")\n",
    "    c.plot(figsize=\"column\")"
   ]
  }
 ],
 "metadata": {
  "kernelspec": {
   "display_name": "Python [conda root]",
   "language": "python",
   "name": "conda-root-py"
  },
  "language_info": {
   "codemirror_mode": {
    "name": "ipython",
    "version": 2
   },
   "file_extension": ".py",
   "mimetype": "text/x-python",
   "name": "python",
   "nbconvert_exporter": "python",
   "pygments_lexer": "ipython2",
   "version": "2.7.14"
  }
 },
 "nbformat": 4,
 "nbformat_minor": 1
}
