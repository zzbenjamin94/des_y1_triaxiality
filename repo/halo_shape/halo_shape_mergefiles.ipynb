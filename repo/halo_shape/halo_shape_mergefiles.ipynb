{
 "cells": [
  {
   "cell_type": "markdown",
   "metadata": {},
   "source": [
    "## Combine files from different redshift into a single file\n",
    "Combines halos_shape_highz.npy and halos_shape_lowz.npy into a single halos_shape_allz.npy.\n",
    "Can apply also to the randomly sampled halos. "
   ]
  },
  {
   "cell_type": "code",
   "execution_count": 5,
   "metadata": {
    "collapsed": false
   },
   "outputs": [],
   "source": [
    "import numpy as np\n",
    "\n",
    "# import pyplot and set some parameters to make plots prettier\n",
    "import matplotlib.pyplot as plt\n",
    "\n",
    "from mpl_toolkits.mplot3d import Axes3D\n",
    "#from tools.halo_shape_calc import quad_moment\n",
    "#from tools.lightcone_query_ra_dec import query_file, read_radial_bin\n",
    "import sys\n",
    "sys.path.append('/home/zzbenjamin94/Desktop/Astronomy/Research/DES_Galaxy_Cluster')\n",
    "from tools.setup.setup import home_dir\n",
    "import pyfits\n",
    "datadir = home_dir() + 'output/buzzard/halo_shape'\n",
    "from tools.plot_utils import plot_pretty\n",
    "plot_pretty()\n",
    "%matplotlib inline"
   ]
  },
  {
   "cell_type": "code",
   "execution_count": 3,
   "metadata": {
    "collapsed": false
   },
   "outputs": [
    {
     "name": "stdout",
     "output_type": "stream",
     "text": [
      "Error: File halo_shape_highz.npy cannot be opened\n",
      "Error: File halos_shape_lowz.npy cannot be opened\n"
     ]
    },
    {
     "ename": "NameError",
     "evalue": "name 'halo_shape_lowz' is not defined",
     "output_type": "error",
     "traceback": [
      "\u001b[0;31m---------------------------------------------------------------------------\u001b[0m",
      "\u001b[0;31mNameError\u001b[0m                                 Traceback (most recent call last)",
      "\u001b[0;32m<ipython-input-3-8c183d98f1e9>\u001b[0m in \u001b[0;36m<module>\u001b[0;34m()\u001b[0m\n\u001b[1;32m     18\u001b[0m     \u001b[0;32mprint\u001b[0m \u001b[0;34m\"Number of halos is {}\"\u001b[0m\u001b[0;34m.\u001b[0m\u001b[0mformat\u001b[0m\u001b[0;34m(\u001b[0m\u001b[0mlen\u001b[0m\u001b[0;34m(\u001b[0m\u001b[0mhalo_shape_lowz\u001b[0m\u001b[0;34m)\u001b[0m\u001b[0;34m)\u001b[0m\u001b[0;34m\u001b[0m\u001b[0m\n\u001b[1;32m     19\u001b[0m \u001b[0;34m\u001b[0m\u001b[0m\n\u001b[0;32m---> 20\u001b[0;31m \u001b[0mhalo_shape\u001b[0m \u001b[0;34m=\u001b[0m \u001b[0mnp\u001b[0m\u001b[0;34m.\u001b[0m\u001b[0mhstack\u001b[0m\u001b[0;34m(\u001b[0m\u001b[0;34m(\u001b[0m\u001b[0mhalo_shape_lowz\u001b[0m\u001b[0;34m,\u001b[0m \u001b[0mhalo_shape_highz\u001b[0m\u001b[0;34m)\u001b[0m\u001b[0;34m)\u001b[0m\u001b[0;34m\u001b[0m\u001b[0m\n\u001b[0m\u001b[1;32m     21\u001b[0m \u001b[0;32mprint\u001b[0m \u001b[0;34m\"total number of redMapper selected halos initially is {}\"\u001b[0m\u001b[0;34m.\u001b[0m\u001b[0mformat\u001b[0m\u001b[0;34m(\u001b[0m\u001b[0mlen\u001b[0m\u001b[0;34m(\u001b[0m\u001b[0mhalos_shape\u001b[0m\u001b[0;34m)\u001b[0m\u001b[0;34m)\u001b[0m\u001b[0;34m\u001b[0m\u001b[0m\n\u001b[1;32m     22\u001b[0m \u001b[0;32mprint\u001b[0m \u001b[0;34m\"Number of halos is {}\"\u001b[0m\u001b[0;34m.\u001b[0m\u001b[0mformat\u001b[0m\u001b[0;34m(\u001b[0m\u001b[0mlen\u001b[0m\u001b[0;34m(\u001b[0m\u001b[0mhalo_shape\u001b[0m\u001b[0;34m)\u001b[0m\u001b[0;34m)\u001b[0m\u001b[0;34m\u001b[0m\u001b[0m\n",
      "\u001b[0;31mNameError\u001b[0m: name 'halo_shape_lowz' is not defined"
     ]
    }
   ],
   "source": [
    "#Combining data for redMapper selected halos\n",
    "try:\n",
    "    filename = 'halo_shape_highz.npy'\n",
    "    halo_shape_highz = np.load(datadir+filename)\n",
    "except IOError:\n",
    "    print\"Error: File {0} cannot be opened\".format(filename)\n",
    "else:\n",
    "    print\"Created from {} record array\".format(filename)\n",
    "    print \"Number of halos is {}\".format(len(halo_shape_highz))\n",
    "    \n",
    "try:\n",
    "    filename = 'halos_shape_lowz.npy'\n",
    "    halo_shape_lowz = np.load(datadir+filename)\n",
    "except IOError:\n",
    "    print\"Error: File {0} cannot be opened\".format(filename)\n",
    "else:\n",
    "    print \"Created from {} record array\".format(filename)\n",
    "    print \"Number of halos is {}\".format(len(halo_shape_lowz))\n",
    "    \n",
    "halo_shape = np.hstack((halo_shape_lowz, halo_shape_highz))\n",
    "print \"total number of redMapper selected halos initially is {}\".format(len(halos_shape))\n",
    "print \"Number of halos is {}\".format(len(halo_shape))\n",
    "print \"Highest redshift is \", np.max(halo_shape['redshift'])\n",
    "\n",
    "np.save(datadir+'halo_shape_allz.npy', halo_shape)\n",
    "print \"halos_shape saved\""
   ]
  },
  {
   "cell_type": "code",
   "execution_count": null,
   "metadata": {
    "collapsed": true
   },
   "outputs": [],
   "source": []
  }
 ],
 "metadata": {
  "anaconda-cloud": {},
  "kernelspec": {
   "display_name": "Python [conda env:anaconda2]",
   "language": "python",
   "name": "conda-env-anaconda2-py"
  },
  "language_info": {
   "codemirror_mode": {
    "name": "ipython",
    "version": 2
   },
   "file_extension": ".py",
   "mimetype": "text/x-python",
   "name": "python",
   "nbconvert_exporter": "python",
   "pygments_lexer": "ipython2",
   "version": "2.7.14"
  }
 },
 "nbformat": 4,
 "nbformat_minor": 1
}
