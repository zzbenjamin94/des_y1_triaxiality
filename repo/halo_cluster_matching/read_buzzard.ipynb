{
 "cells": [
  {
   "cell_type": "markdown",
   "metadata": {},
   "source": [
    "## For Matching buzzard halos with redMaPPer clusters. \n",
    "### Created Jan, 2018\n",
    "### Zhuowen Zhang\n",
    "\n",
    "**Update April 29, 2018:** \n",
    "\n",
    "Halo files are halos_unique in Buzzard Y3 to get rid of overlapping halos in boxes with overlapping regions. Mass definition is M200b. Cosmology used for comoving distance measurements reflect \n",
    "Buzzard cosmology. \n",
    "\n",
    "**Update April 25, 2019:** \n",
    "\n",
    "1. Use the Chinchilla-0_halos_unique_all.fits which combines all *_unique_X FITs files, so that no need to merge files for each run. Saves time. \n",
    "\n",
    "\n",
    "2. Change of halo matching algorithm. For some clusters halos and cluster centers have exact match, when both are centerd on the BCG. The algo now only applies mass-richness priority matcihng to none (RA,DEC,Z) matched cluster/halos. This should reduce the number of miscentering from ~50% of 20,000 redM halos to something more like the real data, refer Y.Zhang et al 2019. \n"
   ]
  },
  {
   "cell_type": "code",
   "execution_count": 47,
   "metadata": {
    "collapsed": false
   },
   "outputs": [],
   "source": [
    "import numpy as np\n",
    "import sys\n",
    "#sys.path.append('/home/zzbenjamin94/Desktop/Astronomy/Research/DES_Galaxy_Cluster')\n",
    "from tools.setup.setup import home_dir\n",
    "home_dir = home_dir()\n",
    "\n",
    "# import pyplot and set some parameters to make plots prettier\n",
    "import matplotlib.pyplot as plt\n",
    "from tools.plot_utils import plot_pretty\n",
    "plot_pretty()\n",
    "\n",
    "# setup notebook for inline figures\n",
    "%matplotlib inline"
   ]
  },
  {
   "cell_type": "code",
   "execution_count": 48,
   "metadata": {
    "collapsed": false
   },
   "outputs": [],
   "source": [
    "#Convert from z to comoving distance in fiducial cosmology\n",
    "from astropy import units as u\n",
    "from astropy import cosmology\n",
    "from astropy.cosmology import WMAP9 as cosmo\n",
    "from astropy.coordinates import SkyCoord"
   ]
  },
  {
   "cell_type": "code",
   "execution_count": 49,
   "metadata": {
    "collapsed": false
   },
   "outputs": [],
   "source": [
    "from tools.setup.setup import *\n",
    "import astropy.io.fits as fits\n",
    "#Read http://pythonhosted.org/pyfits/\n",
    "\n",
    "datadir = data_home_dir()\n",
    "bigdatadir = bigdata_home_dir()"
   ]
  },
  {
   "cell_type": "markdown",
   "metadata": {},
   "source": [
    "### Extracting Halo and Cluster Files\n",
    "From buzzard and Chinchilla in Slac_Stanford simulation repository"
   ]
  },
  {
   "cell_type": "code",
   "execution_count": 63,
   "metadata": {
    "collapsed": false
   },
   "outputs": [
    {
     "name": "stdout",
     "output_type": "stream",
     "text": [
      "/data/DES/Cluster/\n",
      "Names of columns in redM_data are: \n",
      "\n",
      "['MEM_MATCH_ID', 'RA', 'DEC', 'MODEL_MAG', 'MODEL_MAGERR', 'REFMAG', 'REFMAG_ERR', 'ZRED', 'ZRED_E', 'ZRED_CHISQ', 'BCG_SPEC_Z', 'Z_SPEC_INIT', 'Z_INIT', 'Z', 'LAMBDA_CHISQ', 'LAMBDA_CHISQ_E', 'LAMBDA_ZRED', 'LAMBDA_ZRED_E', 'R_LAMBDA', 'SCALEVAL', 'MASKFRAC', 'GEOMASKFRAC', 'C_LAMBDA', 'C_LAMBDA_ERR', 'MAG_LAMBDA_ERR', 'CHISQ', 'Z_LAMBDA', 'Z_LAMBDA_E', 'Z_LAMBDA_NITER', 'EBV_MEAN', 'LNLAMLIKE', 'LNBCGLIKE', 'LNLIKE', 'PZBINS', 'PZ', 'NCROSS', 'RMASK', 'RA_ORIG', 'DEC_ORIG', 'W', 'DLAMBDA_DZ', 'DLAMBDA_DZ2', 'DLAMBDAVAR_DZ', 'DLAMBDAVAR_DZ2', 'LAMBDA_CHISQ_C', 'LAMBDA_CHISQ_CE', 'NCENT', 'NCENT_GOOD', 'RA_CENT', 'DEC_CENT', 'ID_CENT', 'LAMBDA_CHISQ_CENT', 'ZLAMBDA_CENT', 'P_BCG', 'P_CEN', 'Q_CEN', 'P_FG', 'Q_MISS', 'P_SAT', 'P_C', 'BCG_ILUM', 'ILUM', 'Z_LAMBDA_RAW', 'Z_LAMBDA_E_RAW', 'LIM_EXPTIME', 'LIM_LIMMAG_DERED', 'LIM_LIMMAG', 'LIM_LIMMAG_HARD', 'MASKGAL_INDEX']\n",
      "Number of clusters is  8886\n",
      "Lambda cut is  19.8967\n"
     ]
    }
   ],
   "source": [
    "bigdatadir = bigdata_home_dir()\n",
    "print bigdatadir\n",
    "redM_data = bigdatadir+'Buzzard_Sims/v1.9.2/Chinchilla-4/redMaPPer/'+'buzzard-4_1.9.2+allruns_redmapper_v6.4.22_lgt20_vl02_catalog.fit'\n",
    "redM_list = fits.open(redM_data)\n",
    "redM_data = redM_list[1].data\n",
    "\n",
    "print \"Names of columns in redM_data are: \\n\"\n",
    "print redM_data.names\n",
    "\n",
    "print \"Number of clusters is \", len(redM_data)\n",
    "print \"Lambda cut is \", min(redM_data.LAMBDA_CHISQ)"
   ]
  },
  {
   "cell_type": "raw",
   "metadata": {
    "collapsed": false
   },
   "source": [
    "#Reading halo files\n",
    "halo_filenum = [0,1,17,19,2,21,22,23,26,27,3,4,5,6,7]\n",
    "halo_iter = np.shape(halo_filenum)[0]\n",
    "\n",
    "#halos_data, the rec_array that combines all halo files, reads from first halo file, and then stacks to it.\n",
    "halo_data = datadir+'buzzard_halo/chinchilla/'+'Chinchilla-0_halos_unique.'+str(halo_filenum[0])+'.fits'\n",
    "halo_list = pyfits.open(halo_data)\n",
    "cols = halo_list[1].data.columns\n",
    "halos_data = pyfits.FITS_rec.from_columns(cols) #stores as record array\n",
    "\n",
    "#check that halos_data match halo_data\n",
    "print 'number of rows in halo_data/halos_data (initial) ', len(halos_data) \n",
    "\n",
    "#check that files_num has rows totaling the number of rows combined from each halo file\n",
    "tot_row = np.append(0,halos_data.shape[0])\n",
    "\n",
    "#Iterate through rest of halo files. Each iteration creates a new and updated halos_file record array\n",
    "#with new rows added that correspond to data from each halo file.\n",
    "for i in xrange(1,halo_iter):\n",
    "    halo_data = datadir+'buzzard_halo/chinchilla/'+'Chinchilla-0_halos_unique.'+str(halo_filenum[i])+'.fits'\n",
    "    halo_list = pyfits.open(halo_data)\n",
    "    halo_data = halo_list[1].data\n",
    "\n",
    "    nrows1 = halos_data.shape[0]\n",
    "    nrows2 = halo_data.shape[0]\n",
    "    nrows = nrows1 + nrows2\n",
    "    tot_row = np.append(tot_row, nrows)\n",
    "    \n",
    "    #Warning: from_columns appends rows to halos_data, but does not update column array. Need to manually \n",
    "    #copy data each time. Inefficient code, but will do. \n",
    "    copy_halos_data = pyfits.FITS_rec.copy(halos_data) #Need to make copy of previous halos_data\n",
    "    halos_data = pyfits.FITS_rec.from_columns(halos_data, nrows=nrows, fill=False) #Warning: Does not update column data in halos_data\n",
    "       \n",
    "    #Fill in the extra rows with data from new halo file\n",
    "    for colname in halo_data.columns.names:\n",
    "        halos_data[colname][:nrows1] = copy_halos_data[colname]\n",
    "        halos_data[colname][nrows1:] = halo_data[colname]\n",
    "    print \"Halo file number \", halo_filenum[i]\n"
   ]
  },
  {
   "cell_type": "raw",
   "metadata": {
    "collapsed": false
   },
   "source": [
    "#Check that halos_file is combining the files properly.\n",
    "#For more info on record arrays, pyFITS:\n",
    "#https://pythonhosted.org/pyfits/usage/table.html#table-data-as-a-record-array\n",
    "#http://pythonhosted.org/pyfits/api/tables.html#pyfits.FITS_rec\n",
    "\n",
    "#Check 1: Field values match that in the last halo file read\n",
    "test_num = 14\n",
    "halo_data = datadir+'buzzard_halo/chinchilla/'+'Chinchilla-0_halos_unique.'+str(halo_filenum[test_num])+'.fits'\n",
    "halo_list = pyfits.open(halo_data)\n",
    "halo_data = halo_list[1].data\n",
    "\n",
    "#Check 2: The length of halos_file equals that of all halo_file rows combined.\n",
    "if tot_row[-1] == len(halos_data):\n",
    "    print \"Number of rows match. It is \", len(halos_data)\n"
   ]
  },
  {
   "cell_type": "markdown",
   "metadata": {},
   "source": [
    "### Halo file after BCG and hosthalo cut"
   ]
  },
  {
   "cell_type": "code",
   "execution_count": 82,
   "metadata": {
    "collapsed": false
   },
   "outputs": [
    {
     "name": "stdout",
     "output_type": "stream",
     "text": [
      "Names of columns in halos_data are: \n",
      "\n",
      "(numpy.record, [('A[Z]', '>f8'), ('A[Y]', '>f8'), ('RA', '>f8'), ('C[Y]', '>f8'), ('VMAX', '>f8'), ('C_TO_A', '>f8'), ('Z', '>f8'), ('Z_COS', '>f8'), ('JX', '>f8'), ('B[Z]', '>f8'), ('TRA', '>f8'), ('VZ', '>f8'), ('B[X]', '>f8'), ('VY', '>f8'), ('HOST_HALOID', '>i8'), ('M200C', '>f8'), ('B[Y]', '>f8'), ('VX', '>f8'), ('JZ', '>f8'), ('A[X]', '>f8'), ('VRMS', '>f8'), ('M200B', '>f8'), ('M500C', '>f8'), ('TDEC', '>f8'), ('RS', '>f8'), ('C[Z]', '>f8'), ('ID', '>i8'), ('SPIN', '>f8'), ('VOFF', '>f8'), ('NP', '>f8'), ('PY', '>f8'), ('RVIR', '>f8'), ('M2500C', '>f8'), ('DEC', '>f8'), ('MVIR', '>f8'), ('C[X]', '>f8'), ('PZ', '>f8'), ('JY', '>f8'), ('XOFF', '>f8'), ('PX', '>f8'), ('B_TO_A', '>f8')])\n",
      "\n",
      " Number of halos is 3109744\n"
     ]
    }
   ],
   "source": [
    "#Only record array pickle file\n",
    "import pickle\n",
    "halo_file = bigdatadir + 'Buzzard_Sims/v1.9.2/Chinchilla-4/halos/' + 'halos_BCG_hosthalo_cut_v1.9.2_Chinchilla_4.data'\n",
    "halo_file = open(halo_file, \"rb\" )\n",
    "halos_data = pickle.load(halo_file)\n",
    "\n",
    "#Checking FITS into\n",
    "#hrun_list.info()\n",
    "print \"Names of columns in halos_data are: \\n\"\n",
    "print halos_data.dtype\n",
    "\n",
    "#Converting FITS files into record array\n",
    "halos_data = np.array(halos_data, dtype=halos_data.dtype)\n",
    "halos_data = halos_data.view(np.recarray)\n",
    "\n",
    "print \"\\n Number of halos is\", len(halos_data.ID)"
   ]
  },
  {
   "cell_type": "markdown",
   "metadata": {},
   "source": [
    "### Cuts and filters\n",
    "#### Mass cut"
   ]
  },
  {
   "cell_type": "markdown",
   "metadata": {
    "collapsed": false
   },
   "source": [
    "mcut_val = 1e13\n",
    "mass_cutoff = halos_data['M200B'] > mcut_val\n",
    "halos_data = halos_data[mass_cutoff]\n",
    "print \"After mass cut of M > {} M_sun number of halos is \".format(mcut_val), len(halos_data)"
   ]
  },
  {
   "cell_type": "markdown",
   "metadata": {},
   "source": [
    "## Extract Parameters from Files\n",
    "Note that RA, DEC are in radians, unusal way of expressing them."
   ]
  },
  {
   "cell_type": "raw",
   "metadata": {
    "collapsed": false
   },
   "source": [
    "# Distance calculations for proximity matching\n",
    "from colossus.cosmology import cosmology\n",
    "\n",
    "#Conform to Buzzard cosmology\n",
    "h = 0.70\n",
    "my_cosmo = {'flat': True, 'H0': h*100, 'Om0': 0.286, 'Ob0': 0.045714, 'sigma8': 0.82, \\\n",
    "            'ns': 0.951, 'Neff':3.04}\n",
    "# set my_cosmo to be the current cosmology\n",
    "cosmo = cosmology.setCosmology('my_cosmo', my_cosmo)   \n",
    "\n",
    "#Set to transverse or line of sight comoving distance? Can't tell. \n",
    "#comoving_r = cosmo.comovingDistance(zmin, zmax, transverse=True)"
   ]
  },
  {
   "cell_type": "code",
   "execution_count": 84,
   "metadata": {
    "collapsed": false
   },
   "outputs": [],
   "source": [
    "#Parameters for matching\n",
    "redM_ID = redM_data['MEM_MATCH_ID']\n",
    "#Convert to radians to match halos\n",
    "redM_RA = redM_data['RA']; redM_DEC = redM_data['DEC']\n",
    "redM_z = redM_data['Z_LAMBDA']\n",
    "redM_lmda = redM_data['LAMBDA_CHISQ']; \n",
    "\n",
    "halos_ID = halos_data['ID']; \n",
    "halos_RA = halos_data['RA']; halos_DEC = halos_data['DEC']; \n",
    "halos_z = halos_data['Z']\n",
    "\n",
    "halos_M200b = halos_data['M200B']; halos_Mvir = halos_data['MVIR']\n",
    "\n",
    "halos_Rvir = halos_data['RVIR'] #in kpc\n",
    "halos_X = halos_data['PX']; halos_Y = halos_data['PY']; halos_Z = halos_data['PZ']"
   ]
  },
  {
   "cell_type": "markdown",
   "metadata": {},
   "source": [
    "## Rotate the halo files\n",
    "\n",
    "**Update April 26, 2019** \n",
    "\n",
    "Chunhao uses np.dot(rmat.T, halos_posvec), or the transpose of that if you make halos_posvec a Nx3 matrix.\n",
    "\n",
    "It should however be np.dot(rmat, halos_posvec), no transpose.\n",
    "\n",
    "Rotation not needed if using the halo run observed coordinates. "
   ]
  },
  {
   "cell_type": "code",
   "execution_count": 85,
   "metadata": {
    "collapsed": false
   },
   "outputs": [],
   "source": [
    "# Rotate the halo files\n",
    "import healpy as hp\n",
    "import fitsio\n",
    "from tools.setup.setup import tools_home_dir\n",
    "import pickle\n",
    "\n",
    "toolsdir = tools_home_dir()\n",
    "\n",
    "#file containing the rotation matrix \n",
    "rotfile = toolsdir+'desy3_irot.pkl'\n",
    "\n",
    "with open(rotfile, 'r') as fp:\n",
    "    rmat = pickle.load(fp)\n",
    "    \n",
    "#This is done with the true coordinates.\n",
    "#halos_norm = np.sqrt(halos_data['PX']**2. + halos_data['PY']**2. + halos_data['PZ']**2. )    \n",
    "#halos_posvec = np.array([halos_data['PX'], halos_data['PY'], halos_data['PZ']])/halos_norm\n",
    "\n",
    "#Need to convert from ang to vec.\n",
    "theta = np.pi/2 - halos_DEC*np.pi/180.\n",
    "phi = halos_RA*np.pi/180\n",
    "halos_posvec = hp.ang2vec(theta, phi).T\n",
    "\n",
    "#Rotation\n",
    "halos_rposvec = np.matmul(rmat, halos_posvec)\n",
    "\n",
    "#Rotate the Cartesian positions.\n",
    "#halos_X = halos_rposvec[0]*halos_norm; halos_Y = halos_rposvec[1]*halos_norm; halos_Z = halos_rposvec[2]*halos_norm\n",
    "\n",
    "#convert to angular coords (in degrees)\n",
    "theta2, phi2 = hp.vec2ang(halos_rposvec.T)\n",
    "halos_DEC = (np.pi/2 - theta2) * 180/np.pi\n",
    "halos_RA = phi2 * 180/np.pi"
   ]
  },
  {
   "cell_type": "raw",
   "metadata": {
    "collapsed": false
   },
   "source": [
    "#Derotate the coordinates\n",
    "from numpy.linalg import inv\n",
    "\n",
    "inv_rmat = inv(rmat)\n",
    "halos_posvec2 = np.dot(inv_rmat, halos_rposvec)\n",
    "print halos_posvec2 - halos_posvec"
   ]
  },
  {
   "cell_type": "code",
   "execution_count": 86,
   "metadata": {
    "collapsed": false
   },
   "outputs": [
    {
     "data": {
      "image/png": "[encoded data removed]",
      "text/plain": [
       "<Figure size 288x216 with 1 Axes>"
      ]
     },
     "metadata": {},
     "output_type": "display_data"
    }
   ],
   "source": [
    "#Scatter plot to inspect that halos match clusters\n",
    "plt.figure(figsize=(4,3))\n",
    "plt.scatter(redM_RA, redM_DEC, c='r', s=7, marker='o',linewidth=0.0, label='redMapper')\n",
    "plt.scatter(halos_RA[::50], halos_DEC[::50], c='b', marker='.', s=7, linewidth=0.0, alpha=0.2, label='rotated halos')\n",
    "\n",
    "plt.xlabel('RA'); plt.ylabel('DEC ')\n",
    "plt.legend(fontsize=8, loc='upper center')\n",
    "plt.title('Position of halos and clusters')\n",
    "plt.tight_layout()\n",
    "#plt.savefig('halo_cluster_pos.png')\n",
    "plt.show()"
   ]
  },
  {
   "cell_type": "markdown",
   "metadata": {},
   "source": [
    "## Finding miscentered clusters \n",
    "\n",
    "For those with (RA,DEC) targeted on the same BCG automatically assumes as centered. The rest are miscentered and the halo-cluster matching applies to those. \n",
    "\n",
    "Note that halos are initially unrotated and redM rotated, so this should come after rotation algo. "
   ]
  },
  {
   "cell_type": "markdown",
   "metadata": {},
   "source": [
    "### Testing: find least angular separation of halos with redM, using single redM clusters. "
   ]
  },
  {
   "cell_type": "code",
   "execution_count": 90,
   "metadata": {
    "collapsed": false
   },
   "outputs": [
    {
     "name": "stdout",
     "output_type": "stream",
     "text": [
      "redM index:  0\n",
      "Halo matched index: 2855463\n",
      "Total angular separation:  0.0707904848064\n",
      "RA difference:  -0.03715632510990474\n",
      "DEC difference:  0.0664440195875926\n",
      "Redshift difference: -0.467266 \n",
      "\n",
      "redM index:  100\n",
      "Halo matched index: 2862563\n",
      "Total angular separation:  0.0592608806875\n",
      "RA difference:  -0.03602085262791377\n",
      "DEC difference:  0.05483732938129293\n",
      "Redshift difference: -0.602643 \n",
      "\n",
      "redM index:  200\n",
      "Halo matched index: 2299995\n",
      "Total angular separation:  0.0155020320221\n",
      "RA difference:  0.029463258601637676\n",
      "DEC difference:  -0.0005247265642012167\n",
      "Redshift difference: -0.265165 \n",
      "\n",
      "redM index:  300\n",
      "Halo matched index: 2687477\n",
      "Total angular separation:  0.0368972612823\n",
      "RA difference:  0.06894018624207376\n",
      "DEC difference:  -0.002525111249887857\n",
      "Redshift difference: -0.00513718 \n",
      "\n",
      "redM index:  400\n",
      "Halo matched index: 2724107\n",
      "Total angular separation:  0.011548735766\n",
      "RA difference:  0.015997242807685552\n",
      "DEC difference:  0.006608655938102004\n",
      "Redshift difference: -0.46409 \n",
      "\n",
      "redM index:  500\n",
      "Halo matched index: 2251658\n",
      "Total angular separation:  0.0270627986368\n",
      "RA difference:  -0.027355371221425173\n",
      "DEC difference:  0.019813235878942237\n",
      "Redshift difference: -0.297253 \n",
      "\n",
      "redM index:  600\n",
      "Halo matched index: 2222678\n",
      "Total angular separation:  0.0336751262888\n",
      "RA difference:  -0.0061058263172775185\n",
      "DEC difference:  0.033409944801505276\n",
      "Redshift difference: -0.168897 \n",
      "\n",
      "redM index:  700\n",
      "Halo matched index: 3010731\n",
      "Total angular separation:  0.0594337026955\n",
      "RA difference:  -0.06665046347481507\n",
      "DEC difference:  0.033909061198230006\n",
      "Redshift difference: -0.53709 \n",
      "\n",
      "redM index:  800\n",
      "Halo matched index: 2103055\n",
      "Total angular separation:  0.0768405993561\n",
      "RA difference:  -0.04203626067662469\n",
      "DEC difference:  0.0727278261981823\n",
      "Redshift difference: -0.183118 \n",
      "\n",
      "redM index:  900\n",
      "Halo matched index: 814673\n",
      "Total angular separation:  0.0127884253681\n",
      "RA difference:  0.0012565839060485473\n",
      "DEC difference:  0.012772026555822436\n",
      "Redshift difference: -0.44819 \n",
      "\n"
     ]
    }
   ],
   "source": [
    "#Finding mismatch between RA, DEC, Z in halorun versus redM_galaxy\n",
    "from astropy.coordinates import SkyCoord\n",
    "from astropy import units as u\n",
    "from astropy.cosmology import WMAP9 as cosmo\n",
    "from astropy.coordinates import SkyCoord\n",
    "\n",
    "#Using find_nearest iterate through the array and find index of matched ones, also index of unmatched. \n",
    "#Go through the richness-mass template finder. \n",
    "redM_coord = SkyCoord(redM_data.RA*u.deg, redM_data.DEC*u.deg,  frame='icrs')\n",
    "halos_coord = SkyCoord(halos_RA*u.deg, halos_DEC*u.deg, frame='icrs')\n",
    "\n",
    "#Finding nearest neighbor to the halorun catalog.\n",
    "def find_nearest(ind):\n",
    "    dist_sep = halos_coord.separation(redM_coord[ind])\n",
    "    idx = (np.abs(dist_sep)).argmin()\n",
    "    return idx, dist_sep[idx].value\n",
    "\n",
    "#Testing match of specific halo using index testn\n",
    "testarr = np.arange(0,1000,100)\n",
    "for i, testn in enumerate(testarr):\n",
    "    ind, dist = find_nearest(testn)\n",
    "    print \"redM index: \", testn\n",
    "    print \"Halo matched index:\", ind\n",
    "    print \"Total angular separation: \", dist\n",
    "    print \"RA difference: \", halos_RA[ind] -  redM_RA[testn]\n",
    "    print \"DEC difference: \", halos_DEC[ind] - redM_data.DEC[testn]\n",
    "    #print hrun_data.Z[testn] - redM_gal_data.Z[ind] #Some error in redshift\n",
    "    print \"Redshift difference: {:2g} \\n\".format(redM_data.Z[testn] - halos_data.Z[ind]) #Small error in redshift"
   ]
  },
  {
   "cell_type": "code",
   "execution_count": null,
   "metadata": {
    "collapsed": false
   },
   "outputs": [],
   "source": []
  },
  {
   "cell_type": "markdown",
   "metadata": {},
   "source": [
    "#### Running miscentering code for all clusters\n",
    "The SkyCoord coordinate matching algo takes some time to run. Few hours. "
   ]
  },
  {
   "cell_type": "code",
   "execution_count": 40,
   "metadata": {
    "collapsed": false
   },
   "outputs": [
    {
     "name": "stdout",
     "output_type": "stream",
     "text": [
      "Processing cluster number  0\n",
      "Number of centered are 0\n",
      "Processing cluster number  10\n",
      "Number of centered are 0\n",
      "Processing cluster number  20\n",
      "Number of centered are 0\n",
      "Processing cluster number  30\n",
      "Number of centered are 0\n",
      "Processing cluster number  40\n",
      "Number of centered are 0\n",
      "Processing cluster number  50\n",
      "Number of centered are 0\n",
      "Processing cluster number  60\n",
      "Number of centered are 0\n",
      "Processing cluster number  70\n",
      "Number of centered are 0\n",
      "Processing cluster number  80\n",
      "Number of centered are 0\n",
      "Processing cluster number  90\n",
      "Number of centered are 0\n",
      "Processing cluster number  100\n",
      "Number of centered are 0\n"
     ]
    },
    {
     "ename": "KeyboardInterrupt",
     "evalue": "",
     "output_type": "error",
     "traceback": [
      "\u001b[0;31m---------------------------------------------------------------------------\u001b[0m",
      "\u001b[0;31mKeyboardInterrupt\u001b[0m                         Traceback (most recent call last)",
      "\u001b[0;32m<ipython-input-40-d6e4f23b6ee2>\u001b[0m in \u001b[0;36m<module>\u001b[0;34m()\u001b[0m\n\u001b[1;32m     18\u001b[0m     \u001b[0mcur_RA\u001b[0m \u001b[0;34m=\u001b[0m \u001b[0mcur_cl\u001b[0m\u001b[0;34m[\u001b[0m\u001b[0;34m'RA'\u001b[0m\u001b[0;34m]\u001b[0m\u001b[0;34m\u001b[0m\u001b[0m\n\u001b[1;32m     19\u001b[0m     \u001b[0mcur_DEC\u001b[0m \u001b[0;34m=\u001b[0m \u001b[0mcur_cl\u001b[0m\u001b[0;34m[\u001b[0m\u001b[0;34m'DEC'\u001b[0m\u001b[0;34m]\u001b[0m\u001b[0;34m\u001b[0m\u001b[0m\n\u001b[0;32m---> 20\u001b[0;31m     \u001b[0mind\u001b[0m\u001b[0;34m,\u001b[0m \u001b[0mang_sep\u001b[0m \u001b[0;34m=\u001b[0m \u001b[0mfind_nearest\u001b[0m\u001b[0;34m(\u001b[0m\u001b[0mi\u001b[0m\u001b[0;34m)\u001b[0m\u001b[0;34m\u001b[0m\u001b[0m\n\u001b[0m\u001b[1;32m     21\u001b[0m     \u001b[0mz_sep\u001b[0m \u001b[0;34m=\u001b[0m \u001b[0mnp\u001b[0m\u001b[0;34m.\u001b[0m\u001b[0mabs\u001b[0m\u001b[0;34m(\u001b[0m\u001b[0mcur_cl\u001b[0m\u001b[0;34m[\u001b[0m\u001b[0;34m'Z_LAMBDA'\u001b[0m\u001b[0;34m]\u001b[0m \u001b[0;34m-\u001b[0m \u001b[0mhalos_z\u001b[0m\u001b[0;34m[\u001b[0m\u001b[0mind\u001b[0m\u001b[0;34m]\u001b[0m\u001b[0;34m)\u001b[0m\u001b[0;34m\u001b[0m\u001b[0m\n\u001b[1;32m     22\u001b[0m \u001b[0;34m\u001b[0m\u001b[0m\n",
      "\u001b[0;32m<ipython-input-40-d6e4f23b6ee2>\u001b[0m in \u001b[0;36mfind_nearest\u001b[0;34m(ind)\u001b[0m\n\u001b[1;32m      1\u001b[0m \u001b[0;31m#Finding redM's nearest halo neighbor.\u001b[0m\u001b[0;34m\u001b[0m\u001b[0;34m\u001b[0m\u001b[0m\n\u001b[1;32m      2\u001b[0m \u001b[0;32mdef\u001b[0m \u001b[0mfind_nearest\u001b[0m\u001b[0;34m(\u001b[0m\u001b[0mind\u001b[0m\u001b[0;34m)\u001b[0m\u001b[0;34m:\u001b[0m\u001b[0;34m\u001b[0m\u001b[0m\n\u001b[0;32m----> 3\u001b[0;31m     \u001b[0mdist_sep\u001b[0m \u001b[0;34m=\u001b[0m \u001b[0mhalos_coord\u001b[0m\u001b[0;34m.\u001b[0m\u001b[0mseparation\u001b[0m\u001b[0;34m(\u001b[0m\u001b[0mredM_coord\u001b[0m\u001b[0;34m[\u001b[0m\u001b[0mind\u001b[0m\u001b[0;34m]\u001b[0m\u001b[0;34m)\u001b[0m\u001b[0;34m\u001b[0m\u001b[0m\n\u001b[0m\u001b[1;32m      4\u001b[0m     \u001b[0midx\u001b[0m \u001b[0;34m=\u001b[0m \u001b[0;34m(\u001b[0m\u001b[0mnp\u001b[0m\u001b[0;34m.\u001b[0m\u001b[0mabs\u001b[0m\u001b[0;34m(\u001b[0m\u001b[0mdist_sep\u001b[0m\u001b[0;34m)\u001b[0m\u001b[0;34m)\u001b[0m\u001b[0;34m.\u001b[0m\u001b[0margmin\u001b[0m\u001b[0;34m(\u001b[0m\u001b[0;34m)\u001b[0m\u001b[0;34m\u001b[0m\u001b[0m\n\u001b[1;32m      5\u001b[0m     \u001b[0;32mreturn\u001b[0m \u001b[0midx\u001b[0m\u001b[0;34m,\u001b[0m \u001b[0mdist_sep\u001b[0m\u001b[0;34m[\u001b[0m\u001b[0midx\u001b[0m\u001b[0;34m]\u001b[0m\u001b[0;34m.\u001b[0m\u001b[0mvalue\u001b[0m\u001b[0;34m\u001b[0m\u001b[0m\n",
      "\u001b[0;32m/home/zzbenjamin94/anaconda2/lib/python2.7/site-packages/astropy/coordinates/sky_coordinate.pyc\u001b[0m in \u001b[0;36mseparation\u001b[0;34m(self, other)\u001b[0m\n\u001b[1;32m    765\u001b[0m \u001b[0;34m\u001b[0m\u001b[0m\n\u001b[1;32m    766\u001b[0m         \u001b[0;31m# Get the separation as a Quantity, convert to Angle in degrees\u001b[0m\u001b[0;34m\u001b[0m\u001b[0;34m\u001b[0m\u001b[0m\n\u001b[0;32m--> 767\u001b[0;31m         \u001b[0msep\u001b[0m \u001b[0;34m=\u001b[0m \u001b[0mangular_separation\u001b[0m\u001b[0;34m(\u001b[0m\u001b[0mlon1\u001b[0m\u001b[0;34m,\u001b[0m \u001b[0mlat1\u001b[0m\u001b[0;34m,\u001b[0m \u001b[0mlon2\u001b[0m\u001b[0;34m,\u001b[0m \u001b[0mlat2\u001b[0m\u001b[0;34m)\u001b[0m\u001b[0;34m\u001b[0m\u001b[0m\n\u001b[0m\u001b[1;32m    768\u001b[0m         \u001b[0;32mreturn\u001b[0m \u001b[0mAngle\u001b[0m\u001b[0;34m(\u001b[0m\u001b[0msep\u001b[0m\u001b[0;34m,\u001b[0m \u001b[0munit\u001b[0m\u001b[0;34m=\u001b[0m\u001b[0mu\u001b[0m\u001b[0;34m.\u001b[0m\u001b[0mdegree\u001b[0m\u001b[0;34m)\u001b[0m\u001b[0;34m\u001b[0m\u001b[0m\n\u001b[1;32m    769\u001b[0m \u001b[0;34m\u001b[0m\u001b[0m\n",
      "\u001b[0;32m/home/zzbenjamin94/anaconda2/lib/python2.7/site-packages/astropy/coordinates/angle_utilities.pyc\u001b[0m in \u001b[0;36mangular_separation\u001b[0;34m(lon1, lat1, lon2, lat2)\u001b[0m\n\u001b[1;32m    656\u001b[0m     \"\"\"\n\u001b[1;32m    657\u001b[0m \u001b[0;34m\u001b[0m\u001b[0m\n\u001b[0;32m--> 658\u001b[0;31m     \u001b[0msdlon\u001b[0m \u001b[0;34m=\u001b[0m \u001b[0mnp\u001b[0m\u001b[0;34m.\u001b[0m\u001b[0msin\u001b[0m\u001b[0;34m(\u001b[0m\u001b[0mlon2\u001b[0m \u001b[0;34m-\u001b[0m \u001b[0mlon1\u001b[0m\u001b[0;34m)\u001b[0m\u001b[0;34m\u001b[0m\u001b[0m\n\u001b[0m\u001b[1;32m    659\u001b[0m     \u001b[0mcdlon\u001b[0m \u001b[0;34m=\u001b[0m \u001b[0mnp\u001b[0m\u001b[0;34m.\u001b[0m\u001b[0mcos\u001b[0m\u001b[0;34m(\u001b[0m\u001b[0mlon2\u001b[0m \u001b[0;34m-\u001b[0m \u001b[0mlon1\u001b[0m\u001b[0;34m)\u001b[0m\u001b[0;34m\u001b[0m\u001b[0m\n\u001b[1;32m    660\u001b[0m     \u001b[0mslat1\u001b[0m \u001b[0;34m=\u001b[0m \u001b[0mnp\u001b[0m\u001b[0;34m.\u001b[0m\u001b[0msin\u001b[0m\u001b[0;34m(\u001b[0m\u001b[0mlat1\u001b[0m\u001b[0;34m)\u001b[0m\u001b[0;34m\u001b[0m\u001b[0m\n",
      "\u001b[0;32m/home/zzbenjamin94/anaconda2/lib/python2.7/site-packages/astropy/units/quantity.pyc\u001b[0m in \u001b[0;36m__array_ufunc__\u001b[0;34m(self, function, method, *inputs, **kwargs)\u001b[0m\n\u001b[1;32m    639\u001b[0m         \u001b[0;31m# Call our superclass's __array_ufunc__\u001b[0m\u001b[0;34m\u001b[0m\u001b[0;34m\u001b[0m\u001b[0m\n\u001b[1;32m    640\u001b[0m         result = super(Quantity, self).__array_ufunc__(function, method,\n\u001b[0;32m--> 641\u001b[0;31m                                                        *arrays, **kwargs)\n\u001b[0m\u001b[1;32m    642\u001b[0m         \u001b[0;31m# If unit is None, a plain array is expected (e.g., comparisons), which\u001b[0m\u001b[0;34m\u001b[0m\u001b[0;34m\u001b[0m\u001b[0m\n\u001b[1;32m    643\u001b[0m         \u001b[0;31m# means we're done.\u001b[0m\u001b[0;34m\u001b[0m\u001b[0;34m\u001b[0m\u001b[0m\n",
      "\u001b[0;31mKeyboardInterrupt\u001b[0m: "
     ]
    }
   ],
   "source": [
    "#Finding redM's nearest halo neighbor.\n",
    "def find_nearest(ind):\n",
    "    dist_sep = halos_coord.separation(redM_coord[ind])\n",
    "    idx = (np.abs(dist_sep)).argmin()\n",
    "    return idx, dist_sep[idx].value\n",
    "\n",
    "centered_ID = [] #for clusters\n",
    "cent_halo_ID = []\n",
    "\n",
    "#Find the centered ones\n",
    "ang_lim = 1e-5\n",
    "z_lim = 0.01\n",
    "redM_coord = SkyCoord(redM_data.RA*u.deg, redM_data.DEC*u.deg,  frame='icrs')\n",
    "halos_coord = SkyCoord(halos_RA*u.deg, halos_DEC*u.deg, frame='icrs')\n",
    "\n",
    "for i, cur_cl in enumerate(redM_data):\n",
    "    cur_ID = cur_cl['MEM_MATCH_ID']\n",
    "    cur_RA = cur_cl['RA']\n",
    "    cur_DEC = cur_cl['DEC']\n",
    "    ind, ang_sep = find_nearest(i)\n",
    "    z_sep = np.abs(cur_cl['Z_LAMBDA'] - halos_z[ind])\n",
    "\n",
    "    #ind = np.argmin(np.abs(cur_RA-halos_RA)) #this speeds up the calculation, asssuming minRA gives min_distance\n",
    "    \n",
    "    halo_ID = halos_ID[ind]\n",
    "    RA_val = halos_RA[ind]\n",
    "    DEC_val = halos_DEC[ind]\n",
    "    #ang_sep = np.sqrt((RA_val-cur_RA)**2 + (DEC_val-cur_DEC)**2)\n",
    "\n",
    "    if (ang_sep <= ang_lim) & (z_sep <= z_lim): \n",
    "        centered_ID.append(cur_ID)\n",
    "        cent_halo_ID.append(halo_ID)\n",
    "        \n",
    "    if i % 10 == 0: \n",
    "        print \"Processing cluster number \", i\n",
    "        print \"Number of centered are\", len(centered_ID)\n",
    "print \"Total number of centered clusters are\", len(centered_ID)\n",
    "print \"Out of total number of clusters of \", len(redM_data)"
   ]
  },
  {
   "cell_type": "code",
   "execution_count": null,
   "metadata": {
    "collapsed": false
   },
   "outputs": [],
   "source": [
    "from scipy.spatial import cKDTree\n",
    "#Arrays of halos and clusters are one to one matched.\n",
    "#Matching clusters\n",
    "cent_ind = [i for i, x in enumerate(redM_data.MEM_MATCH_ID) if x in centered_ID]\n",
    "miscent_ind = [i for i, x in enumerate(redM_data.MEM_MATCH_ID) if x not in centered_ID]\n",
    "redM_cent = redM_data[cent_ind]\n",
    "redM_miscent = redM_data[miscent_ind]\n",
    "\n",
    "print \"Number of centered clusters are \", len(redM_cent)\n",
    "print \"Number of miscentered clusters are \", len(redM_miscent)\n",
    "print \"Total number of clusters are\", len(redM_data)\n",
    "\n",
    "##For finding halos\n",
    "#mytree.query is much faster than enumerate for 1e6 halos\n",
    "HALOID_2d = np.dstack([halos_data['HALOID'],halos_data['HALOID']])[0]  # needs to be 2D arrays\n",
    "mytree = cKDTree(HALOID_2d)  \n",
    "dist, cent_ind = mytree.query(np.dstack([cent_halo_ID,cent_halo_ID])[0])\n",
    "miscent_ind = np.delete(range(len(halos_data)), cent_ind)\n",
    "halos_cent = halos_data[cent_ind]\n",
    "halos_miscent = halos_data[miscent_ind]\n",
    "\n",
    "print \"\\nNumber of centered halos are \", len(halos_cent)\n",
    "print \"Number of miscentered halos are \", len(halos_miscent)\n",
    "print \"Total number of halos are\", len(halos_data)"
   ]
  },
  {
   "cell_type": "markdown",
   "metadata": {},
   "source": [
    "## Diagnosis plots for centered halos"
   ]
  },
  {
   "cell_type": "markdown",
   "metadata": {},
   "source": [
    "#### Mass distribution"
   ]
  },
  {
   "cell_type": "code",
   "execution_count": null,
   "metadata": {
    "collapsed": false
   },
   "outputs": [],
   "source": [
    "m_range = (1e13, 1e15)\n",
    "#plt.hist(halos_data.M200B, 1000, m_range, density=True, alpha=0.5)\n",
    "plt.hist(halos_cent.M200B, 1000, m_range, density=True, alpha=0.5)\n",
    "plt.xscale('log')\n",
    "plt.show()"
   ]
  },
  {
   "cell_type": "markdown",
   "metadata": {},
   "source": [
    "#### Redshift distribution. Introduce a cutoff at z < 0.01"
   ]
  },
  {
   "cell_type": "code",
   "execution_count": null,
   "metadata": {
    "collapsed": false
   },
   "outputs": [],
   "source": [
    "#Plot the redshift difference of halos and redM\n",
    "z_diff = redM_cent.Z_LAMBDA - halos_cent.Z\n",
    "plt.scatter(halos_cent.M200B, z_diff, s=0.5)\n",
    "plt.ylabel('z diff')\n",
    "plt.xlabel('Mass')\n",
    "#plt.ylim([-0.1,0.1])\n",
    "plt.xscale('log')\n",
    "plt.show()"
   ]
  },
  {
   "cell_type": "markdown",
   "metadata": {},
   "source": [
    "#### Angular separation. Introduce cutoff at deg < 1e-5"
   ]
  },
  {
   "cell_type": "code",
   "execution_count": null,
   "metadata": {
    "collapsed": false
   },
   "outputs": [],
   "source": [
    "ang_sep = np.sqrt((halos_cent.RA_OBS-redM_cent.RA)**2 + (halos_cent.DEC_OBS-redM_cent.DEC)**2)\n",
    "print np.min(ang_sep), np.max(ang_sep), np.mean(ang_sep), np.median(ang_sep)\n",
    "plt.scatter(halos_cent.M200B, ang_sep, s=0.5)\n",
    "plt.xscale('log')\n",
    "plt.ylim([-1e-6,1e-5])\n",
    "plt.show()"
   ]
  },
  {
   "cell_type": "markdown",
   "metadata": {},
   "source": [
    "#### Lambda-mass relation. The lambda cutoff may be reason for the sharp mass cutoff."
   ]
  },
  {
   "cell_type": "code",
   "execution_count": null,
   "metadata": {
    "collapsed": false
   },
   "outputs": [],
   "source": [
    "#Plot the lambda mass relation \n",
    "plt.scatter(halos_cent.M200B, redM_cent.LAMBDA_CHISQ, s=0.5)\n",
    "plt.xscale('log')\n",
    "plt.show()"
   ]
  },
  {
   "cell_type": "markdown",
   "metadata": {},
   "source": [
    "## Randomly select halos"
   ]
  },
  {
   "cell_type": "markdown",
   "metadata": {
    "collapsed": false
   },
   "source": [
    "import os\n",
    "print os.getcwd()\n",
    "print os.path.exists('/home/zzbenjamin94/Desktop/Astronomy/Research/DES_Galaxy_Cluster/output')"
   ]
  },
  {
   "cell_type": "markdown",
   "metadata": {
    "collapsed": false
   },
   "source": [
    "import numpy.random as rand\n",
    "\n",
    "#First apply a redshift cut, and then randomly select in that redshift. \n",
    "halos_cut = np.where((halos_data['Z']<0.90) & (halos_data['M200b'] > 1e13))\n",
    "halos_rand = halos_data[halos_cut]\n",
    "\n",
    "#Select 100,000 random samples\n",
    "num_rand = 10000\n",
    "rand_samp = rand.randint(0,len(halos_rand), num_rand)\n",
    "halos_rand = halos_rand[rand_samp]\n",
    "\n",
    "#Retreive columns\n",
    "halos_rand_ID = halos_rand['ID']; halos_rand_RA = halos_rand['RA'] \n",
    "halos_rand_DEC = halos_rand['DEC']; halos_rand_z = halos_rand['Z']\n",
    "\n",
    "halos_rand_M200b = halos_rand['M200b']; halos_rand_Mvir = halos_rand['MVIR']\n",
    "\n",
    "halos_rand_Rvir = halos_rand['RVIR'] #in kpc\n",
    "halos_rand_X = halos_rand['PX']; halos_rand_Y = halos_rand['PY']; halos_rand_Z = halos_rand['PZ']\n",
    "\n",
    "#Need to convert Radius to MPC for units to work in the read_halo_particle code\n",
    "halos_rand_Rvir /= 1000"
   ]
  },
  {
   "cell_type": "markdown",
   "metadata": {},
   "source": [
    "#### Writing to file\n",
    "For improvement, this code should check if file exists. If so write a new file. "
   ]
  },
  {
   "cell_type": "raw",
   "metadata": {
    "collapsed": false
   },
   "source": [
    "#Write to file\n",
    "name_str = ('halos_ID','halos_RA', 'halos_DEC', 'halos_z', 'halos_X', \\\n",
    "            'halos_Y', 'halos_Z', 'halos_M200b', 'halos_Mvir', 'halos_Rvir')\n",
    "outfile = open(home_dir +'/output/buzzard/halo_rand_allz.dat','w')\n",
    "outfile.write('%12s %12s %12s %12s %12s %12s %12s %12s %12s %12s \\n'%name_str)\n",
    "for i in range(num_rand):\n",
    "    outfile.write('%d %f16 %f16 %f16 %f16 %f16 %f16 %f16 %f16 %f16 \\n' \\\n",
    "                  %(halos_rand_ID[i], halos_rand_RA[i], halos_rand_DEC[i], halos_rand_z[i], \\\n",
    "                    halos_rand_X[i], halos_rand_Y[i], halos_rand_Z[i], \\\n",
    "                    halos_rand_M200b[i], halos_rand_Mvir[i], halos_rand_Rvir[i]))\n",
    "outfile.close()"
   ]
  },
  {
   "cell_type": "markdown",
   "metadata": {},
   "source": [
    "## IDs from the Projection Catalog\n",
    "IDs from the projection catalog as found through proximity matching to the buzzard catalog. "
   ]
  },
  {
   "cell_type": "raw",
   "metadata": {
    "collapsed": false
   },
   "source": [
    "# outfile = home_dir +'data/projection/proj_ID.npy'\n",
    "proj_ID = np.load(outfile)\n",
    "#Find halos in buzzard that are in the projection catalog\n",
    "ind_proj = np.isin(halos_data.ID, proj_ID)\n",
    "proj_data = halos_data[ind_proj]\n",
    "print \"Number of halos in the projection catalog is (numbers should match) \", len(np.where(ind_proj==True)[0]), len(proj_ID) "
   ]
  },
  {
   "cell_type": "raw",
   "metadata": {
    "collapsed": false
   },
   "source": [
    "import numpy.random as rand\n",
    "\n",
    "#First apply a redshift cut, and then randomly select in that redshift. \n",
    "proj_cut = np.where((proj_data['Z']<0.90) & (proj_data['M200b'] > 1e13))\n",
    "proj_data = proj_data[proj_cut]\n",
    "\n",
    "#Retreive columns\n",
    "proj_ID = proj_data['ID']; proj_RA = proj_data['RA'] \n",
    "proj_DEC = proj_data['DEC']; proj_z = proj_data['Z']\n",
    "proj_M200b = proj_data['M200b']; proj_Mvir = proj_data['MVIR']\n",
    "proj_Rvir = proj_data['RVIR'] #in kpc\n",
    "proj_X = proj_data['PX']; proj_Y = proj_data['PY']; proj_Z = proj_data['PZ']\n",
    "\n",
    "#Need to convert Radius to MPC for units to work in the read_halo_particle code\n",
    "proj_Rvir /= 1000"
   ]
  },
  {
   "cell_type": "raw",
   "metadata": {
    "collapsed": false
   },
   "source": [
    "#Write to file\n",
    "name_str = ('halos_ID','halos_RA', 'halos_DEC', 'halos_z', 'halos_X', \\\n",
    "            'halos_Y', 'halos_Z', 'halos_M200b', 'halos_Mvir', 'halos_Rvir')\n",
    "outfile = open(home_dir +'/output/buzzard/proj_allz.dat','w')\n",
    "outfile.write('%12s %12s %12s %12s %12s %12s %12s %12s %12s %12s \\n'%name_str)\n",
    "for i in range(len(proj_data.ID)):\n",
    "    outfile.write('%d %f16 %f16 %f16 %f16 %f16 %f16 %f16 %f16 %f16 \\n' \\\n",
    "                  %(proj_ID[i], proj_RA[i], proj_DEC[i], proj_z[i], \\\n",
    "                    proj_X[i], proj_Y[i], proj_Z[i], \\\n",
    "                    proj_M200b[i], proj_Mvir[i], proj_Rvir[i]))\n",
    "outfile.close()"
   ]
  },
  {
   "cell_type": "markdown",
   "metadata": {},
   "source": [
    "## Halo and cluster matching algorithm\n",
    "All centered clusters are automatically assigned a halo. Algorithm applies to miscentered clusters. \n",
    "\n",
    "**Important** RA, DEC need to be in radians for the matching to work. Create new array in RA, DEC. Does not change old ones. "
   ]
  },
  {
   "cell_type": "code",
   "execution_count": null,
   "metadata": {
    "collapsed": false
   },
   "outputs": [],
   "source": [
    "#Extract parameters again, but only for miscentered ones. \n",
    "\n",
    "#Parameters for matching\n",
    "redM_ID = redM_miscent['MEM_MATCH_ID']\n",
    "#Convert to radians to match halos\n",
    "redM_RA = redM_miscent['RA'] * np.pi/180; redM_DEC = redM_miscent['DEC'] * np.pi/180\n",
    "redM_z = redM_miscent['Z_LAMBDA']\n",
    "redM_lmda = redM_miscent['LAMBDA_CHISQ']; \n",
    "\n",
    "halos_ID = halos_miscent['HALOID']; \n",
    "\n",
    "##The RA, DEC have to be in radians for trig distance finder to output correct results!!\n",
    "halos_RA = halos_miscent['RA_OBS'] * np.pi/180; halos_DEC = halos_miscent['DEC_OBS'] * np.pi/180; \n",
    "halos_z = halos_miscent['Z']\n",
    "\n",
    "halos_M200b = halos_miscent['M200B']; halos_Mvir = halos_miscent['MVIR']\n",
    "\n",
    "halos_Rvir = halos_data['RVIR'] #in kpc\n",
    "halos_X = halos_miscent['PX']; halos_Y = halos_miscent['PY']; halos_Z = halos_miscent['PZ']\n",
    "\n",
    "##Extract distance.\n",
    "redM_comvr = cosmo.comoving_distance(redM_miscent.Z).value\n",
    "halos_comvr = cosmo.comoving_distance(halos_miscent.Z).value"
   ]
  },
  {
   "cell_type": "code",
   "execution_count": null,
   "metadata": {
    "collapsed": false
   },
   "outputs": [],
   "source": [
    "plt.scatter(halos_RA[::100], halos_DEC[::100], s=0.1)\n",
    "plt.scatter(redM_RA, redM_DEC, s=0.1)\n",
    "plt.show()"
   ]
  },
  {
   "cell_type": "code",
   "execution_count": null,
   "metadata": {
    "collapsed": false
   },
   "outputs": [],
   "source": [
    "#Cluster matching algorithm: Go down list of halos, \n",
    "#from most to least massive, and find potential cluster matches\n",
    "\n",
    "#Find sorted indices for halos_M\n",
    "halos_sort=np.asarray(sorted(range(len(halos_M200b)),key=lambda x:halos_M200b[x],reverse=True))\n",
    "print \"Number of halos is \", halos_sort.shape[0]\n",
    "\n",
    "#Build SkyCoord distance\n",
    "redM_coord = SkyCoord(redM_data.RA*u.deg, redM_data.DEC*u.deg,  frame='icrs')\n",
    "halos_coord = SkyCoord(halos_RA*u.deg, halos_DEC*u.deg, frame='icrs')\n",
    "\n",
    "\n",
    "cl_match_ind = np.array([]) #indices of (potentially) matched clusters \n",
    "cl_uniq_ind = np.array([]) #unique indices to select uniquely matched clusters\n",
    "for i in range(halos_sort.shape[0]):\n",
    "    cur_halo_RA = halos_RA[halos_sort[i]]; cur_halo_DEC = halos_DEC[halos_sort[i]]\n",
    "    cur_halo_comvr = halos_comvr[halos_sort[i]]; cur_halo_z = halos_z[halos_sort[i]]\n",
    "    \n",
    "    #Assume clusters that fall into this redshift range have the same redshift as the halo. \n",
    "    #Find the distance to the halo according to this assumption, and find ones local to the halo.\n",
    "    \n",
    "    #Find clusters within redshift bin of +/- 0.01\n",
    "    zbin = 0.01\n",
    "    zbin_cl_ind = np.asarray(np.where(np.abs(cur_halo_z-redM_z)<zbin)[0])\n",
    "    \n",
    "    #Filter clusters in redshift proximity region\n",
    "    redM_DEC_zfilt = redM_DEC[zbin_cl_ind]; redM_RA_zfilt = redM_RA[zbin_cl_ind]\n",
    "    \n",
    "    #Angle difference from RA, DEC using spherical law of cosines\n",
    "    d_lmda = redM_RA_zfilt - cur_halo_RA\n",
    "    d_Sigma = np.arccos(np.sin(redM_DEC_zfilt)*np.sin(cur_halo_DEC)+\\\n",
    "                        np.cos(redM_DEC_zfilt)*np.cos(cur_halo_DEC)*np.cos(d_lmda))\n",
    "    \n",
    "    #comoving distance between halo and clusters from law of cosines for clusters in same comoving distance,\n",
    "    #using the halos's redshift\n",
    "    d_cmvr = np.sqrt(2*cur_halo_comvr**2.*(1.-np.cos(d_Sigma)))\n",
    "    \n",
    "    #find eligible local clusters based on proxmity, and remove repeat cluster already taken by higher mass halos\n",
    "    max_d_cmvr = 1.0 #set to 2Mpc\n",
    "    loc_cl_ind = zbin_cl_ind[np.where(d_cmvr<max_d_cmvr)]\n",
    "    loc_cl_ind = np.setdiff1d(loc_cl_ind, cl_uniq_ind) #remove clusters already taken by higher mass halos\n",
    "    \n",
    "    #if local clusters present find richest one\n",
    "    if np.size(loc_cl_ind) > 0:\n",
    "        cur_cl_match_ind = loc_cl_ind[np.argmax(redM_lmda[loc_cl_ind])]\n",
    "        cl_uniq_ind= np.append(cl_uniq_ind, cur_cl_match_ind)\n",
    "    else:\n",
    "        cur_cl_match_ind = -1 #-1 for no match\n",
    "        \n",
    "    cl_match_ind = np.concatenate((cl_match_ind, [cur_cl_match_ind]))\n",
    "    \n",
    "    if i%1e5 == 0:\n",
    "        print \"\\nMatching halo number \", i\n",
    "        print \"Number of clusters in redshift bin is \", np.shape(zbin_cl_ind)\n",
    "        print \"Number of local clusters in distance range is \", np.shape(loc_cl_ind)  \n",
    "        print 'Number of clusters matched to halos are ', np.shape(np.where(cl_match_ind>-1))[1]\n",
    "        #print 'cl_match indices are ', np.where(cl_match_ind > -1)\n",
    "        #print 'd_cmvr ', d_cmvr[0:50]\n",
    "        #print 'zbin_cl_ind is ', zbin_cl_ind\n",
    "        \n",
    "        #Check for duplicates\n",
    "        #print 'Unique clusters indices are', cl_uniq_ind\n",
    "        #dupes = [x for n, x in enumerate(cl_uniq_ind) if x in cl_uniq_ind[:n]]\n",
    "        #print 'Duplicate clusters are ', dupes # [[1], [3]]\n",
    "\n",
    "print 'Number of clusters matched to halos are ', np.shape(np.where(cl_match_ind>-1))[1]\n"
   ]
  },
  {
   "cell_type": "code",
   "execution_count": null,
   "metadata": {
    "collapsed": false
   },
   "outputs": [],
   "source": [
    "#Sample test of mass richness using matched clusters only\n",
    "halos_match_ind = np.where(cl_match_ind != -1)\n",
    "halos_M200b_match = halos_M200b[halos_sort[halos_match_ind]]\n",
    "#print halos_match_ind\n",
    "redM_lmda_match = redM_lmda[np.asarray(cl_match_ind[halos_match_ind],dtype=int)]\n",
    "plt.plot(halos_M200b_match, redM_lmda_match, '.', alpha=0.5)\n",
    "plt.xscale('log')\n",
    "plt.title('Halo-Cluster (match halos onto clusters only)')\n",
    "#plt.ylabel(r'Richness (\\lambda)'); plt.xlabel(r'Mass (M_\\odot)')\n",
    "#plt.tight_layout()\n",
    "#plt.savefig('Halo_Cluster_clmatch_only.png')\n",
    "plt.show()\n"
   ]
  },
  {
   "cell_type": "code",
   "execution_count": null,
   "metadata": {
    "collapsed": false
   },
   "outputs": [],
   "source": []
  },
  {
   "cell_type": "code",
   "execution_count": null,
   "metadata": {
    "collapsed": false
   },
   "outputs": [],
   "source": [
    "#Halo matching algorithm: Go down list of redMapper clusters and find potential halo matches\n",
    "#Repeat the same process for clusters. \n",
    "#Test and debug code. \n",
    "\n",
    "redM_sort=np.asarray(sorted(range(len(redM_lmda)),key=lambda x:redM_lmda[x],reverse=True))\n",
    "print 'Number of redMapper clusters are ', len(redM_sort)\n",
    "halos_match_ind = np.array([]) #indices of (potentially) matched halos \n",
    "halos_uniq_ind = np.array([])\n",
    "for i in range(redM_miscent.shape[0]):\n",
    "    cur_cl_RA = redM_RA[redM_sort[i]]; cur_cl_DEC = redM_DEC[redM_sort[i]]\n",
    "    cur_cl_comvr = redM_comvr[redM_sort[i]]; cur_cl_z = redM_z[redM_sort[i]]\n",
    "    \n",
    "    #Assume clusters that fall into this redshift range have the same redshift as the halo. \n",
    "    #Find the distance to the halo according to this assumption, and find ones local to the halo.\n",
    "    \n",
    "    #Find clusters within redshift bin of +/- 0.05 \n",
    "    zbin = 0.05\n",
    "    zbin_halos_ind = np.asarray(np.where(np.abs(halos_z-cur_cl_z)<zbin))\n",
    "    \n",
    "    #Filter clusters in redshift proximity region\n",
    "    halos_DEC_zfilt = halos_DEC[zbin_halos_ind]; halos_RA_zfilt = halos_RA[zbin_halos_ind]\n",
    "    \n",
    "    #Angle difference from RA, DEC using spherical law of cosines\n",
    "    d_lmda = halos_RA_zfilt - cur_cl_RA\n",
    "    d_Sigma = np.arccos(np.sin(halos_DEC_zfilt)*np.sin(cur_cl_DEC)+\\\n",
    "                        np.cos(halos_DEC_zfilt)*np.cos(cur_cl_DEC)*np.cos(d_lmda))\n",
    "    \n",
    "    #comoving distance between halo and clusters from law of cosines for clusters in same comoving distance\n",
    "    d_cmvr = np.sqrt(2*cur_cl_comvr**2.*(1.-np.cos(d_Sigma)))\n",
    "    \n",
    "    #find local clusters\n",
    "    max_d_cmvr = 2.0 #set to 1Mpc\n",
    "    loc_halos_ind = zbin_halos_ind[np.where(d_cmvr<max_d_cmvr)]\n",
    "    loc_halos_ind = np.setdiff1d(loc_halos_ind, halos_uniq_ind) #remove halos taken by richer clusters\n",
    "    \n",
    "    #if local halos present find most massive one\n",
    "    if np.size(loc_halos_ind) > 0:\n",
    "        cur_halos_match_ind = loc_halos_ind[np.argmax(halos_M200b[loc_halos_ind])]\n",
    "        halos_uniq_ind = np.append(halos_uniq_ind, cur_halos_match_ind)\n",
    "    else:\n",
    "        cur_halos_match_ind = -1 #-1 for no match\n",
    "        \n",
    "    halos_match_ind = np.concatenate((halos_match_ind, [cur_halos_match_ind]))\n",
    "    \n",
    "    if i%1e3 == 0:\n",
    "        print \"Matching cluster number \", i\n",
    "        #print 'Halo_match indices are ', np.where(halos_match_ind > -1)\n",
    "                              \n",
    "        #Check for duplicates\n",
    "        #print 'Unique halo indices are', halos_uniq_ind\n",
    "        #dupes = [x for n, x in enumerate(cl_uniq_ind) if x in cl_uniq_ind[:n]]\n",
    "        #print 'Duplicate clusters are ', dupes # [[1], [3]]\n",
    "\n",
    "print 'Number of halos matched to clusters are ', np.shape(np.where(halos_match_ind>-1))[1]                    "
   ]
  },
  {
   "cell_type": "code",
   "execution_count": null,
   "metadata": {
    "collapsed": false
   },
   "outputs": [],
   "source": [
    "clusters_match_ind = np.where(halos_match_ind != -1)\n",
    "redM_lmda_match = redM_lmda[redM_sort[clusters_match_ind]]\n",
    "#print halos_match_ind\n",
    "halos_M200_match = halos_M200b[np.asarray(halos_match_ind[clusters_match_ind],dtype=int)]\n",
    "\n",
    "print np.shape(halos_M200_match), np.shape(redM_lmda_match)\n",
    "plt.plot(halos_M200_match, redM_lmda_match, '.', alpha=0.5)\n",
    "plt.xscale('log')\n",
    "plt.title('Halo-Cluster (match clusters onto halos only)')\n",
    "plt.ylabel(r'Richness ($\\lambda$)'); plt.xlabel(r'Mass ($M_\\odot$)')\n",
    "plt.tight_layout()\n",
    "#plt.savefig('Halo_Cluster_halosmatch_only.png')\n",
    "plt.show()"
   ]
  },
  {
   "cell_type": "markdown",
   "metadata": {},
   "source": [
    "### Debugging\n"
   ]
  },
  {
   "cell_type": "code",
   "execution_count": null,
   "metadata": {
    "collapsed": false
   },
   "outputs": [],
   "source": [
    "#Check that in cl_match_ind the clusters matched to halos are physically adjacent. Check for redshift.\n",
    "print \"Check for cl_match_ind matching \"\n",
    "cl_match_ind_full = np.where(cl_match_ind != -1)\n",
    "cl_zfilt = np.asarray(cl_match_ind[cl_match_ind_full], dtype=int)\n",
    "halos_z_sorted = np.asarray(halos_z[halos_sort])\n",
    "cl_zdiff =  halos_z_sorted[cl_match_ind_full] - redM_z[cl_zfilt]\n",
    "#print cl_zdiff[0:50]\n",
    "cl_z_excess = [x for i, x in enumerate(cl_zdiff) if x>0.05 ]\n",
    "print 'Redshifts differences outside of specified range: ', len(cl_z_excess), '\\n'\n",
    "\n",
    "#Repeat same code for halos\n",
    "print \"Check for halos_match_ind matching \"\n",
    "halos_match_ind_full = np.where(halos_match_ind != -1)\n",
    "halos_zfilt = np.asarray(halos_match_ind[halos_match_ind_full], dtype=int)\n",
    "redM_z_sorted = np.asarray(redM_z[redM_sort])\n",
    "halos_zdiff =  redM_z_sorted[halos_match_ind_full] - halos_z[halos_zfilt]\n",
    "#print halos_zdiff[0:50]\n",
    "halos_z_excess = [x for i, x in enumerate(halos_zdiff) if x>0.05 ]\n",
    "print 'Redshifts differences outside of specified range: ', len(halos_z_excess), '\\n'\n",
    "\n",
    "#See if the unsorting algorithm works as specified. cl_match_ind and halos_match_ind have indices sorted\n",
    "#by halo mass and cluster rank. Once again check for redshift. \n",
    "\n",
    "#Find unsorted halos to match to clusters\n",
    "print \"Check for redM_match_ind_unsorted matching \"\n",
    "a = np.asarray(cl_match_ind[cl_match_ind_full], dtype=int)\n",
    "b = np.asarray(halos_sort[cl_match_ind_full], dtype=int)\n",
    "cl_zdiff2 = halos_z[b] - redM_z[a]\n",
    "#print cl_zdiff2[0:50]\n",
    "cl_z_excess2 = [x for i, x in enumerate(cl_zdiff2) if x>0.05 ]\n",
    "print 'Redshifts differences outside of specified range: ', len(cl_z_excess2), '\\n'\n",
    "\n",
    "#Find unsorted clusters to match to halos\n",
    "print \"Check for halos_match_ind_unsorted matching \"\n",
    "c = np.asarray(halos_match_ind[halos_match_ind_full], dtype=int)\n",
    "d = np.asarray(redM_sort[halos_match_ind_full], dtype=int)\n",
    "halos_zdiff2 = redM_z[d] - halos_z[c]\n",
    "#print halos_zdiff2[0:50]\n",
    "halos_z_excess2 = [x for i, x in enumerate(halos_zdiff2) if x>0.05 ]\n",
    "print 'Redshifts differences outside of specified range: ', len(halos_z_excess2), '\\n'\n",
    "\n",
    "print 'Unsort full arrays and then check for match'\n",
    "cl_match_ind_unsorted = np.array(cl_match_ind, dtype=int)\n",
    "cl_match_ind_unsorted[halos_sort] = cl_match_ind\n",
    "\n",
    "uniq_match_ind = np.where(cl_match_ind_unsorted != -1) #these refer to unsorted halos\n",
    "uniq_match_val = cl_match_ind_unsorted[uniq_match_ind] #matched clusters to the unsorted halos\n",
    "cl_zdiff3 = halos_z[uniq_match_ind] - redM_z[uniq_match_val]\n",
    "#print cl_zdiff3[0:50]\n",
    "cl_z_excess3 = [x for i, x in enumerate(cl_zdiff3) if x>0.05 ]\n",
    "print 'Redshifts differences outside of specified range: ', len(cl_z_excess3), '\\n'\n",
    "\n",
    "print \"Check that uniq_match_ind are indeed same halos, albeit in wrong order\"\n",
    "a = halos_z[uniq_match_ind]\n",
    "b = halos_z_sorted[cl_match_ind_full]\n",
    "c = np.setdiff1d(a,b)\n",
    "print 'Different halos in sorted and unsorted (order does not matter)', len(c)\n"
   ]
  },
  {
   "cell_type": "markdown",
   "metadata": {},
   "source": [
    "### Uniqueness matching algorithm\n",
    "If a cluster matches onto a halo, and that halo matches onto the same cluster. "
   ]
  },
  {
   "cell_type": "code",
   "execution_count": null,
   "metadata": {
    "collapsed": false
   },
   "outputs": [],
   "source": [
    "cl_match_ind_unsorted = np.array(cl_match_ind, dtype=int)\n",
    "cl_match_ind_unsorted[halos_sort] = cl_match_ind\n",
    "halos_match_ind_unsorted = np.array(halos_match_ind, dtype=int)\n",
    "halos_match_ind_unsorted[redM_sort] = halos_match_ind\n",
    "\n",
    "uniq_match_ind = np.where(cl_match_ind_unsorted != -1) #these refer to unsorted halos\n",
    "uniq_match_val = cl_match_ind_unsorted[uniq_match_ind] #matched clusters to the unsorted halos\n",
    "nonuniq_match_val = [x for x in range(len(halos_match_ind_unsorted)) if x not in uniq_match_val] #assign all non_uniq halos to -1\n",
    "uniq_match_bool = halos_match_ind_unsorted[uniq_match_val] == uniq_match_ind\n",
    "uniq_match_bool = uniq_match_bool[0]\n",
    "print 'Number of one way clusters matched to halos are ', np.shape(halos_match_ind_unsorted[uniq_match_val])\n",
    "print 'Number of unique matches are ',np.shape(np.where(uniq_match_bool == True))\n",
    "\n",
    "a = np.array(halos_match_ind_unsorted[uniq_match_val])\n",
    "np.place(a , uniq_match_bool==False, -1)\n",
    "halos_match_ind_unsorted[uniq_match_val] = a\n",
    "halos_match_ind_unsorted[nonuniq_match_val] = -1\n",
    "halos_uniq_ind_unsorted = np.copy(halos_match_ind_unsorted)\n",
    "\n",
    "#Final cuts\n",
    "redM_cut = np.where(halos_uniq_ind_unsorted != -1)\n",
    "halos_cut = halos_uniq_ind_unsorted[redM_cut]\n",
    "\n",
    "print 'After cutting out non-unique matched number of unique matches are', np.shape(np.where(halos_uniq_ind_unsorted != -1))\n"
   ]
  },
  {
   "cell_type": "code",
   "execution_count": null,
   "metadata": {
    "collapsed": false
   },
   "outputs": [],
   "source": [
    "redM_lmda_uniq = redM_lmda[redM_cut]\n",
    "halos_M200b_uniq = halos_M200b[halos_cut]\n",
    "\n",
    "plt.plot(halos_M200b_uniq, redM_lmda_uniq, '.', alpha=0.5)\n",
    "plt.xscale('log'); plt.yscale('log')\n",
    "plt.title('Halo-Cluster (Uniquess two way matching)')\n",
    "plt.ylabel(r'Richness ($\\lambda$)'); plt.xlabel(r'Mass ($M_\\odot$)')\n",
    "plt.tight_layout()\n",
    "#plt.savefig('Halo_Cluster_unique.png')\n",
    "plt.show()"
   ]
  },
  {
   "cell_type": "markdown",
   "metadata": {},
   "source": [
    "## Merging data\n",
    "\n",
    "Add a centered_flag to tell whether the matching is done automatically by centering, or after having through the proximity matching"
   ]
  },
  {
   "cell_type": "code",
   "execution_count": null,
   "metadata": {
    "collapsed": false
   },
   "outputs": [],
   "source": [
    "redM_miscent_matched = redM_miscent[redM_cut]\n",
    "halos_miscent_matched = halos_miscent[halos_cut]\n",
    "\n",
    "print \"Number of matched miscentered: \", len(redM_miscent_matched), len(halos_miscent_matched)\n",
    "print \"Number of matched centered: \", len(redM_cent), len(halos_cent)"
   ]
  },
  {
   "cell_type": "code",
   "execution_count": null,
   "metadata": {
    "collapsed": false
   },
   "outputs": [],
   "source": [
    "#https://stackoverflow.com/questions/1201817/adding-a-field-to-a-structured-numpy-array\n",
    "def add_field(a, descr):\n",
    "    \"\"\"Return a new array that is like \"a\", but has additional fields.\n",
    "\n",
    "    Arguments:\n",
    "      a     -- a structured numpy array\n",
    "      descr -- a numpy type description of the new fields\n",
    "\n",
    "    The contents of \"a\" are copied over to the appropriate fields in\n",
    "    the new array, whereas the new fields are uninitialized.  The\n",
    "    arguments are not modified.\n",
    "\n",
    "    >>> sa = numpy.array([(1, 'Foo'), (2, 'Bar')], \\\n",
    "                         dtype=[('id', int), ('name', 'S3')])\n",
    "    >>> sa.dtype.descr == numpy.dtype([('id', int), ('name', 'S3')])\n",
    "    True\n",
    "    >>> sb = add_field(sa, [('score', float)])\n",
    "    >>> sb.dtype.descr == numpy.dtype([('id', int), ('name', 'S3'), \\\n",
    "                                       ('score', float)])\n",
    "    True\n",
    "    >>> numpy.all(sa['id'] == sb['id'])\n",
    "    True\n",
    "    >>> numpy.all(sa['name'] == sb['name'])\n",
    "    True\n",
    "    \"\"\"\n",
    "    if a.dtype.fields is None:\n",
    "        raise ValueError, \"`A' must be a structured numpy array\"\n",
    "    b = np.empty(a.shape, dtype=a.dtype.descr + descr)\n",
    "    for name in a.dtype.names:\n",
    "        b[name] = a[name]\n",
    "    return b\n",
    "\n",
    "#Adding centered_flag\n",
    "centered_flag = [('centered_flag', int)]\n",
    "matching_ID = [('matching_ID', int)]\n",
    "\n",
    "#redM_miscent_matched = add_field(redM_miscent_matched, centered_flag)\n",
    "redM_miscent_matched = add_field(redM_miscent_matched, matching_ID)\n",
    "redM_miscent_matched['centered_flag'] = 0\n",
    "\n",
    "#For centered\n",
    "#redM_cent = add_field(redM_cent, centered_flag)\n",
    "redM_cent = add_field(redM_cent, matching_ID)\n",
    "redM_cent['centered_flag'] = 1\n",
    "\n",
    "#For halos\n",
    "halos_miscent_matched = add_field(halos_miscent_matched, matching_ID)\n",
    "halos_cent = add_field(halos_cent, matching_ID)\n"
   ]
  },
  {
   "cell_type": "code",
   "execution_count": null,
   "metadata": {
    "collapsed": false
   },
   "outputs": [],
   "source": [
    "#Merging the two\n",
    "redM_matched = np.append(redM_cent, redM_miscent_matched)\n",
    "halos_matched = np.append(halos_cent, halos_miscent_matched)\n",
    "\n",
    "#Assign unique matching ID\n",
    "matching_IDs = range(0, len(redM_matched))\n",
    "redM_matched['matching_ID'] = matching_IDs\n",
    "halos_matched['matching_ID'] = matching_IDs\n",
    "\n",
    "#Convert RVIR from kpc to MPc\n",
    "halos_matched['RVIR'] /= 1000.\n",
    "\n",
    "print redM_matched.dtype\n",
    "print halos_matched.dtype\n",
    "\n"
   ]
  },
  {
   "cell_type": "code",
   "execution_count": null,
   "metadata": {
    "collapsed": false
   },
   "outputs": [],
   "source": [
    "plt.scatter(halos_matched['RA_OBS'], halos_matched['DEC_OBS'], s=1, alpha=0.2, color='red')\n",
    "plt.scatter(redM_matched['RA'], redM_matched['DEC'], s=0.5, alpha=0.2, color='blue')\n",
    "plt.show()"
   ]
  },
  {
   "cell_type": "code",
   "execution_count": null,
   "metadata": {
    "collapsed": false
   },
   "outputs": [],
   "source": [
    "centered = np.where(redM_matched['centered_flag'] == 1)\n",
    "miscentered = np.where(redM_matched['centered_flag'] == 0)\n",
    "\n",
    "plt.scatter(halos_matched[centered]['M200B'], redM_matched[centered]['LAMBDA_CHISQ'], s=0.5, alpha=0.5, color='red')\n",
    "plt.scatter(halos_matched[miscentered]['M200B'], redM_matched[miscentered]['LAMBDA_CHISQ'], s=0.5, alpha=0.2, color='blue')\n",
    "plt.xscale('log'); plt.yscale('log')\n",
    "plt.show()"
   ]
  },
  {
   "cell_type": "code",
   "execution_count": null,
   "metadata": {
    "collapsed": false
   },
   "outputs": [],
   "source": [
    "plt.hist(halos_matched[centered]['M200B'], bins=1000, alpha=0.5, color='red')\n",
    "plt.hist(halos_matched[miscentered]['M200B'], bins=1000, alpha=0.5, color='blue')\n",
    "plt.xscale('log')\n",
    "plt.show()"
   ]
  },
  {
   "cell_type": "markdown",
   "metadata": {
    "collapsed": false
   },
   "source": [
    "## Outputting into pickle file."
   ]
  },
  {
   "cell_type": "code",
   "execution_count": null,
   "metadata": {
    "collapsed": false
   },
   "outputs": [],
   "source": [
    "import pickle\n",
    "redM_file = 'redM_matched_v1.2_redMv1.6'\n",
    "outfile = open(redM_file, 'wb')\n",
    "pickle.dump(redM_matched, outfile)\n",
    "outfile.close()\n",
    "\n",
    "halos_file = 'halos_matched_v1.2_redMv1.6'\n",
    "outfile = open(halos_file, 'wb')\n",
    "pickle.dump(halos_matched, outfile)\n",
    "outfile.close()"
   ]
  },
  {
   "cell_type": "raw",
   "metadata": {
    "collapsed": false
   },
   "source": [
    "from tools.setup.setup import home_dir\n",
    "homedir = home_dir()\n",
    "\n",
    "redM_ID_cut = redM_ID[redM_cut]; redM_RA_cut = redM_RA[redM_cut]; redM_DEC_cut = redM_DEC[redM_cut]; redM_z_cut = redM_z[redM_cut]; redM_lmda_cut = redM_lmda[redM_cut]\n",
    "halos_ID_cut = halos_ID[halos_cut]; halos_RA_cut = halos_RA[halos_cut]; halos_DEC_cut = halos_DEC[halos_cut]; halos_z_cut = halos_z[halos_cut]; \n",
    "halos_M200b_cut = halos_M200b[halos_cut]; halos_Mvir_cut = halos_Mvir[halos_cut]\n",
    "halos_Rvir_cut = halos_Rvir[halos_cut]; halos_X_cut = halos_X[halos_cut]; halos_Y_cut = halos_Y[halos_cut]; halos_Z_cut = halos_Z[halos_cut]\n",
    "#RA,DEC are in rad. Convert back to degrees\n",
    "redM_RA_cut *= 180./np.pi; redM_DEC_cut *= 180./np.pi; halos_RA_cut *= 180./np.pi; halos_DEC_cut *= 180./np.pi\n",
    "\n",
    "#halos_RVir in Kpc/h. Convert to Mpc/h\n",
    "halos_Rvir_cut /= 1000\n",
    "\n",
    "name_str = ('redM_ID', 'redM_RA', 'redM_DEC', 'redM_z', 'redM_lmda', \\\n",
    "            'halos_ID', 'halos_RA', 'halos_DEC', 'halos_z', 'halos_X', 'halos_Y', 'halos_Z', \\\n",
    "            'halos_M200b', 'halos_Mvir', 'halos_Rvir')\n",
    "outfile = open(homedir+'/output/buzzard/halo_redM_matched.dat','w')\n",
    "outfile.write('%12s %12s %12s %12s %12s %12s %12s %12s %12s %12s %12s %12s %12s %12s %12s \\n'%name_str)\n",
    "                  \n",
    "match_num = len(redM_ID_cut)\n",
    "for i in range(match_num):\n",
    "    outfile.write('%d %f8 %f8 %f8 %f8 %d %f8 %f8 %f8 %f8 %f8 %f8 %f8 %f8 %f8 \\n' \\\n",
    "                  %(redM_ID_cut[i], redM_RA_cut[i], redM_DEC_cut[i], redM_z_cut[i], redM_lmda_cut[i], \\\n",
    "                   halos_ID_cut[i], halos_RA_cut[i], halos_DEC_cut[i], halos_z_cut[i], \\\n",
    "                    halos_X_cut[i], halos_Y_cut[i], halos_Z_cut[i], halos_M200b_cut[i], halos_Mvir_cut[i], halos_Rvir_cut[i]))\n",
    "\n",
    "outfile.close()"
   ]
  },
  {
   "cell_type": "raw",
   "metadata": {
    "collapsed": false
   },
   "source": [
    "#Check that data is properly stored. \n",
    "homedir = home_dir()\n",
    "redM_dir = homedir + 'output/buzzard/'+'halo_redM_matched.dat'\n",
    "\n",
    "#Field names of the files from first row of file. Shoule be:\n",
    "#('redM_ID', 'redM_RA', 'redM_DEC', 'redM_z', 'redM_lmda', 'halos_ID', 'halos_RA', 'halos_DEC', \n",
    "#'halos_z', 'halos_X', 'halos_Y', 'halos_Z', 'halos_M200b', 'halos_Mvir', 'halos_Rvir')\n",
    "redM_halos = np.genfromtxt(redM_dir, dtype =\"i, f8, f8, f8, f8, i, f8, f8, f8, f8, f8, f8, f8, f8, f8\", \\\n",
    "                  unpack=True, usecols=range(0,15), names=True)\n",
    "\n",
    "redM_halos = redM_halos.view(np.recarray)\n",
    "print redM_halos.dtype, np.shape(redM_halos)"
   ]
  },
  {
   "cell_type": "markdown",
   "metadata": {
    "collapsed": true
   },
   "source": [
    "### Testing shit"
   ]
  },
  {
   "cell_type": "code",
   "execution_count": null,
   "metadata": {
    "collapsed": false
   },
   "outputs": [],
   "source": [
    "from scipy.spatial import cKDTree\n",
    "\n",
    "arr1 = np.arange(0, 1e7)\n",
    "arr2 = np.arange(1e5, 1.1e6)\n",
    "\n",
    "arr1_2d = np.dstack([arr1, arr1])[0]\n",
    "\n",
    "print arr1_2d\n",
    "mytree = cKDTree(arr1_2d)\n",
    "dist, match_ind = mytree.query(np.dstack([arr2, arr2])[0])\n",
    "print match_ind, dist"
   ]
  },
  {
   "cell_type": "code",
   "execution_count": null,
   "metadata": {
    "collapsed": true
   },
   "outputs": [],
   "source": []
  }
 ],
 "metadata": {
  "anaconda-cloud": {},
  "kernelspec": {
   "display_name": "Python [conda root]",
   "language": "python",
   "name": "conda-root-py"
  },
  "language_info": {
   "codemirror_mode": {
    "name": "ipython",
    "version": 2
   },
   "file_extension": ".py",
   "mimetype": "text/x-python",
   "name": "python",
   "nbconvert_exporter": "python",
   "pygments_lexer": "ipython2",
   "version": "2.7.14"
  }
 },
 "nbformat": 4,
 "nbformat_minor": 1
}
