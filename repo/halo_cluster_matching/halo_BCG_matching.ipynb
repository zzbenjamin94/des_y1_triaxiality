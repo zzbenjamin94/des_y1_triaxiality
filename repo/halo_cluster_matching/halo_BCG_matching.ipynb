{
 "cells": [
  {
   "cell_type": "markdown",
   "metadata": {},
   "source": [
    "## halo_BCG_matching\n",
    "#### Created Sept. 20, 2019"
   ]
  },
  {
   "cell_type": "code",
   "execution_count": 19,
   "metadata": {
    "collapsed": true
   },
   "outputs": [],
   "source": [
    "import numpy as np\n",
    "import sys\n",
    "sys.path.append('/home/zzbenjamin94/Desktop/Astronomy/Research/DES_Galaxy_Cluster')\n",
    "from tools.setup.setup import *\n",
    "home_dir = home_dir()\n",
    "datadir = data_home_dir()\n",
    "bigdatadir = bigdata_home_dir()\n",
    "\n",
    "# import pyplot and set some parameters to make plots prettier\n",
    "import matplotlib.pyplot as plt\n",
    "from tools.plot_utils import plot_pretty\n",
    "plot_pretty()\n",
    "\n",
    "# setup notebook for inline figures\n",
    "%matplotlib inline\n",
    "\n",
    "from tools.setup.setup import *\n",
    "import astropy.io.fits as fits\n",
    "#Read http://pythonhosted.org/pyfits/"
   ]
  },
  {
   "cell_type": "markdown",
   "metadata": {},
   "source": [
    "## Import Files\n",
    "### Import Halo File"
   ]
  },
  {
   "cell_type": "code",
   "execution_count": 18,
   "metadata": {
    "collapsed": false
   },
   "outputs": [
    {
     "name": "stdout",
     "output_type": "stream",
     "text": [
      "Names of columns in halos_data are:\n",
      "(numpy.record, [('ID', '>i8'), ('DESCID', '>i8'), ('MVIR', '>f8'), ('VMAX', '>f8'), ('VRMS', '>f8'), ('RVIR', '>f8'), ('RS', '>f8'), ('NP', '>f8'), ('PX', '>f8'), ('PY', '>f8'), ('PZ', '>f8'), ('VX', '>f8'), ('VY', '>f8'), ('VZ', '>f8'), ('JX', '>f8'), ('JY', '>f8'), ('JZ', '>f8'), ('SPIN', '>f8'), ('RS_KLYPIN', '>f8'), ('MVIR_ALL', '>f8'), ('M200B', '>f8'), ('M200C', '>f8'), ('M500C', '>f8'), ('M2500C', '>f8'), ('XOFF', '>f8'), ('VOFF', '>f8'), ('SPIN_BULLOCK', '>f8'), ('B_TO_A', '>f8'), ('C_TO_A', '>f8'), ('PID', '>i8'), ('LUMTOT', '>f8'), ('LUM20', '>f8'), ('LBCG', '>f8'), ('NGALS', '>i8'), ('N18', '>i8'), ('N19', '>i8'), ('N20', '>i8'), ('N21', '>i8'), ('N22', '>i8'), ('Z', '>f8'), ('RA', '>f8'), ('DEC', '>f8')])\n",
      "\n",
      " Number of halos is 12198813\n"
     ]
    }
   ],
   "source": [
    "#Only record array pickle file\n",
    "import pickle\n",
    "halos_file = bigdatadir + 'Buzzard_Sims/v1.6/buzzard_halo/halos/' + 'Chinchilla-0_halos_unique.all.fits'\n",
    "halos_list = fits.open(halos_file)\n",
    "halos_data = halos_list[1].data\n",
    "\n",
    "#Checking FITS into\n",
    "#hrun_list.info()\n",
    "print \"Names of columns in halos_data are:\"\n",
    "print halos_data.dtype\n",
    "\n",
    "#Converting FITS files into record array\n",
    "halos_data = np.array(halos_data, dtype=halos_data.dtype)\n",
    "halos_data = halos_data.view(np.recarray)\n",
    "\n",
    "print \"\\n Number of halos is\", len(halos_data.ID)"
   ]
  },
  {
   "cell_type": "code",
   "execution_count": null,
   "metadata": {
    "collapsed": true
   },
   "outputs": [],
   "source": []
  },
  {
   "cell_type": "markdown",
   "metadata": {},
   "source": [
    "### Import BCG File"
   ]
  },
  {
   "cell_type": "code",
   "execution_count": 20,
   "metadata": {
    "collapsed": false
   },
   "outputs": [],
   "source": [
    "BCG_filename = datadir + 'v1.6/BCG_v1.6_info.data' \n",
    "BCG_file = open(BCG_filename, \"rb\" )\n",
    "BCG_data = pickle.load(BCG_file)\n",
    "BCG_data = BCG_data.view(np.recarray)"
   ]
  },
  {
   "cell_type": "code",
   "execution_count": 21,
   "metadata": {
    "collapsed": false
   },
   "outputs": [
    {
     "name": "stdout",
     "output_type": "stream",
     "text": [
      "(numpy.record, [('ID', '<i8'), ('HALOID', '<i8'), ('RA', '<f4'), ('TRA', '<f4'), ('DEC', '<f4'), ('TDEC', '<f4'), ('Z', '<f4')])\n",
      "Number of BCGs are  11161403\n"
     ]
    }
   ],
   "source": [
    "##Testing BCG file properties. \n",
    "print BCG_data.dtype\n",
    "print \"Number of BCGs are \", len(BCG_data)"
   ]
  },
  {
   "cell_type": "markdown",
   "metadata": {},
   "source": [
    "## Create BCG Fits File from Record Array"
   ]
  },
  {
   "cell_type": "code",
   "execution_count": 32,
   "metadata": {
    "collapsed": true
   },
   "outputs": [],
   "source": [
    "from astropy.io import fits\n",
    "##Table datatypes\n",
    "#K: 64 bit integer\n",
    "#E: single precision float\n",
    "#D: double precision float\n",
    "\n",
    "c1 = fits.Column(name='ID', array=BCG_data.ID, format='K')\n",
    "c2 = fits.Column(name='HALOID', array=BCG_data.HALOID, format='K')\n",
    "c3 = fits.Column(name='RA', array=BCG_data.RA, format='D')\n",
    "c4 = fits.Column(name='TRA', array=BCG_data.TRA, format='D')\n",
    "c5 = fits.Column(name='DEC', array=BCG_data.DEC, format='D')\n",
    "c6 = fits.Column(name='TDEC', array=BCG_data.TDEC, format='D')\n",
    "c7 = fits.Column(name='Z', array=BCG_data.Z, format='D')\n",
    "\n",
    "t = fits.BinTableHDU.from_columns([c1, c2, c3, c4, c5, c6, c7])\n",
    "t.writeto('BCG_v1.6_data.fits')"
   ]
  },
  {
   "cell_type": "markdown",
   "metadata": {},
   "source": [
    "## Match halos to BCGs by RA, DEC"
   ]
  },
  {
   "cell_type": "code",
   "execution_count": 31,
   "metadata": {
    "collapsed": false
   },
   "outputs": [
    {
     "name": "stdout",
     "output_type": "stream",
     "text": [
      "BCG index & ID:  0 1008492304\n",
      "Halo matched index & ID: 5624780 4528806\n",
      "Total angular separation:  4.39557663776e-06\n",
      "RA difference:  -4.424237744160564e-06\n",
      "DEC difference:  -1.9649285576406328e-07\n",
      "Redshift difference: 9.49143e-06 \n",
      "\n",
      "BCG index & ID:  100 1010531327\n",
      "Halo matched index & ID: 5625069 3415599\n",
      "Total angular separation:  4.40421478078e-06\n",
      "RA difference:  4.4230769447040075e-06\n",
      "DEC difference:  -7.944066382492565e-08\n",
      "Redshift difference: 7.93817e-06 \n",
      "\n",
      "BCG index & ID:  200 1008419345\n",
      "Halo matched index & ID: 5624968 3449708\n",
      "Total angular separation:  8.12207190894e-07\n",
      "RA difference:  -4.4125837916908495e-07\n",
      "DEC difference:  -6.842911846050015e-07\n",
      "Redshift difference: 9.08883e-06 \n",
      "\n",
      "BCG index & ID:  300 130075054\n",
      "Halo matched index & ID: 5622663 5053423\n",
      "Total angular separation:  6.35748174879e-06\n",
      "RA difference:  -6.372460433112792e-06\n",
      "DEC difference:  1.1903274277358378e-07\n",
      "Redshift difference: 8.12658e-06 \n",
      "\n",
      "BCG index & ID:  400 1008515446\n",
      "Halo matched index & ID: 5626197 5053183\n",
      "Total angular separation:  5.86818306867e-06\n",
      "RA difference:  5.907326425358406e-06\n",
      "DEC difference:  -2.790226947269048e-07\n",
      "Redshift difference: 8.4518e-06 \n",
      "\n",
      "BCG index & ID:  500 1008415623\n",
      "Halo matched index & ID: 5625517 4545452\n",
      "Total angular separation:  9.95656840847e-07\n",
      "RA difference:  9.767457243015087e-07\n",
      "DEC difference:  2.0237225228925126e-07\n",
      "Redshift difference: 8.21339e-06 \n",
      "\n",
      "BCG index & ID:  600 1008564735\n",
      "Halo matched index & ID: 5627578 4529005\n",
      "Total angular separation:  2.55168798536e-06\n",
      "RA difference:  -2.5556556977335276e-06\n",
      "DEC difference:  2.0202136852276453e-08\n",
      "Redshift difference: 8.02638e-06 \n",
      "\n",
      "BCG index & ID:  700 1008415673\n",
      "Halo matched index & ID: 5625841 4528202\n",
      "Total angular separation:  1.21639231665e-06\n",
      "RA difference:  -1.0452232857005583e-06\n",
      "DEC difference:  6.382191388709657e-07\n",
      "Redshift difference: 9.14738e-06 \n",
      "\n",
      "BCG index & ID:  800 1008495027\n",
      "Halo matched index & ID: 5625365 4545592\n",
      "Total angular separation:  5.24920188276e-06\n",
      "RA difference:  -5.249216457059447e-06\n",
      "DEC difference:  3.1359689844912e-10\n",
      "Redshift difference: 8.3992e-06 \n",
      "\n"
     ]
    },
    {
     "ename": "KeyboardInterrupt",
     "evalue": "",
     "output_type": "error",
     "traceback": [
      "\u001b[0;31m---------------------------------------------------------------------------\u001b[0m",
      "\u001b[0;31mKeyboardInterrupt\u001b[0m                         Traceback (most recent call last)",
      "\u001b[0;32m<ipython-input-31-c1ba1df9dc29>\u001b[0m in \u001b[0;36m<module>\u001b[0;34m()\u001b[0m\n\u001b[1;32m     19\u001b[0m \u001b[0mtestarr\u001b[0m \u001b[0;34m=\u001b[0m \u001b[0mnp\u001b[0m\u001b[0;34m.\u001b[0m\u001b[0marange\u001b[0m\u001b[0;34m(\u001b[0m\u001b[0;36m0\u001b[0m\u001b[0;34m,\u001b[0m\u001b[0;36m1000\u001b[0m\u001b[0;34m,\u001b[0m\u001b[0;36m100\u001b[0m\u001b[0;34m)\u001b[0m\u001b[0;34m\u001b[0m\u001b[0m\n\u001b[1;32m     20\u001b[0m \u001b[0;32mfor\u001b[0m \u001b[0mi\u001b[0m\u001b[0;34m,\u001b[0m \u001b[0mtestn\u001b[0m \u001b[0;32min\u001b[0m \u001b[0menumerate\u001b[0m\u001b[0;34m(\u001b[0m\u001b[0mtestarr\u001b[0m\u001b[0;34m)\u001b[0m\u001b[0;34m:\u001b[0m\u001b[0;34m\u001b[0m\u001b[0m\n\u001b[0;32m---> 21\u001b[0;31m     \u001b[0mind\u001b[0m\u001b[0;34m,\u001b[0m \u001b[0mdist\u001b[0m \u001b[0;34m=\u001b[0m \u001b[0mfind_nearest\u001b[0m\u001b[0;34m(\u001b[0m\u001b[0mtestn\u001b[0m\u001b[0;34m)\u001b[0m\u001b[0;34m\u001b[0m\u001b[0m\n\u001b[0m\u001b[1;32m     22\u001b[0m     \u001b[0;32mprint\u001b[0m \u001b[0;34m\"BCG index & ID: \"\u001b[0m\u001b[0;34m,\u001b[0m \u001b[0mtestn\u001b[0m\u001b[0;34m,\u001b[0m \u001b[0mBCG_data\u001b[0m\u001b[0;34m.\u001b[0m\u001b[0mHALOID\u001b[0m\u001b[0;34m[\u001b[0m\u001b[0mind\u001b[0m\u001b[0;34m]\u001b[0m\u001b[0;34m\u001b[0m\u001b[0m\n\u001b[1;32m     23\u001b[0m     \u001b[0;32mprint\u001b[0m \u001b[0;34m\"Halo matched index & ID:\"\u001b[0m\u001b[0;34m,\u001b[0m \u001b[0mind\u001b[0m\u001b[0;34m,\u001b[0m \u001b[0mhalos_data\u001b[0m\u001b[0;34m.\u001b[0m\u001b[0mID\u001b[0m\u001b[0;34m[\u001b[0m\u001b[0mtestn\u001b[0m\u001b[0;34m]\u001b[0m\u001b[0;34m\u001b[0m\u001b[0m\n",
      "\u001b[0;32m<ipython-input-31-c1ba1df9dc29>\u001b[0m in \u001b[0;36mfind_nearest\u001b[0;34m(ind)\u001b[0m\n\u001b[1;32m     12\u001b[0m \u001b[0;31m#Finding nearest neighbor to the halorun catalog.\u001b[0m\u001b[0;34m\u001b[0m\u001b[0;34m\u001b[0m\u001b[0m\n\u001b[1;32m     13\u001b[0m \u001b[0;32mdef\u001b[0m \u001b[0mfind_nearest\u001b[0m\u001b[0;34m(\u001b[0m\u001b[0mind\u001b[0m\u001b[0;34m)\u001b[0m\u001b[0;34m:\u001b[0m\u001b[0;34m\u001b[0m\u001b[0m\n\u001b[0;32m---> 14\u001b[0;31m     \u001b[0mdist_sep\u001b[0m \u001b[0;34m=\u001b[0m \u001b[0mhalos_coord\u001b[0m\u001b[0;34m.\u001b[0m\u001b[0mseparation\u001b[0m\u001b[0;34m(\u001b[0m\u001b[0mBCG_coord\u001b[0m\u001b[0;34m[\u001b[0m\u001b[0mind\u001b[0m\u001b[0;34m]\u001b[0m\u001b[0;34m)\u001b[0m\u001b[0;34m\u001b[0m\u001b[0m\n\u001b[0m\u001b[1;32m     15\u001b[0m     \u001b[0midx\u001b[0m \u001b[0;34m=\u001b[0m \u001b[0;34m(\u001b[0m\u001b[0mnp\u001b[0m\u001b[0;34m.\u001b[0m\u001b[0mabs\u001b[0m\u001b[0;34m(\u001b[0m\u001b[0mdist_sep\u001b[0m\u001b[0;34m)\u001b[0m\u001b[0;34m)\u001b[0m\u001b[0;34m.\u001b[0m\u001b[0margmin\u001b[0m\u001b[0;34m(\u001b[0m\u001b[0;34m)\u001b[0m\u001b[0;34m\u001b[0m\u001b[0m\n\u001b[1;32m     16\u001b[0m     \u001b[0;32mreturn\u001b[0m \u001b[0midx\u001b[0m\u001b[0;34m,\u001b[0m \u001b[0mdist_sep\u001b[0m\u001b[0;34m[\u001b[0m\u001b[0midx\u001b[0m\u001b[0;34m]\u001b[0m\u001b[0;34m.\u001b[0m\u001b[0mvalue\u001b[0m\u001b[0;34m\u001b[0m\u001b[0m\n",
      "\u001b[0;32m/home/zzbenjamin94/anaconda2/lib/python2.7/site-packages/astropy/coordinates/sky_coordinate.pyc\u001b[0m in \u001b[0;36mseparation\u001b[0;34m(self, other)\u001b[0m\n\u001b[1;32m    765\u001b[0m \u001b[0;34m\u001b[0m\u001b[0m\n\u001b[1;32m    766\u001b[0m         \u001b[0;31m# Get the separation as a Quantity, convert to Angle in degrees\u001b[0m\u001b[0;34m\u001b[0m\u001b[0;34m\u001b[0m\u001b[0m\n\u001b[0;32m--> 767\u001b[0;31m         \u001b[0msep\u001b[0m \u001b[0;34m=\u001b[0m \u001b[0mangular_separation\u001b[0m\u001b[0;34m(\u001b[0m\u001b[0mlon1\u001b[0m\u001b[0;34m,\u001b[0m \u001b[0mlat1\u001b[0m\u001b[0;34m,\u001b[0m \u001b[0mlon2\u001b[0m\u001b[0;34m,\u001b[0m \u001b[0mlat2\u001b[0m\u001b[0;34m)\u001b[0m\u001b[0;34m\u001b[0m\u001b[0m\n\u001b[0m\u001b[1;32m    768\u001b[0m         \u001b[0;32mreturn\u001b[0m \u001b[0mAngle\u001b[0m\u001b[0;34m(\u001b[0m\u001b[0msep\u001b[0m\u001b[0;34m,\u001b[0m \u001b[0munit\u001b[0m\u001b[0;34m=\u001b[0m\u001b[0mu\u001b[0m\u001b[0;34m.\u001b[0m\u001b[0mdegree\u001b[0m\u001b[0;34m)\u001b[0m\u001b[0;34m\u001b[0m\u001b[0m\n\u001b[1;32m    769\u001b[0m \u001b[0;34m\u001b[0m\u001b[0m\n",
      "\u001b[0;32m/home/zzbenjamin94/anaconda2/lib/python2.7/site-packages/astropy/coordinates/angle_utilities.pyc\u001b[0m in \u001b[0;36mangular_separation\u001b[0;34m(lon1, lat1, lon2, lat2)\u001b[0m\n\u001b[1;32m    656\u001b[0m     \"\"\"\n\u001b[1;32m    657\u001b[0m \u001b[0;34m\u001b[0m\u001b[0m\n\u001b[0;32m--> 658\u001b[0;31m     \u001b[0msdlon\u001b[0m \u001b[0;34m=\u001b[0m \u001b[0mnp\u001b[0m\u001b[0;34m.\u001b[0m\u001b[0msin\u001b[0m\u001b[0;34m(\u001b[0m\u001b[0mlon2\u001b[0m \u001b[0;34m-\u001b[0m \u001b[0mlon1\u001b[0m\u001b[0;34m)\u001b[0m\u001b[0;34m\u001b[0m\u001b[0m\n\u001b[0m\u001b[1;32m    659\u001b[0m     \u001b[0mcdlon\u001b[0m \u001b[0;34m=\u001b[0m \u001b[0mnp\u001b[0m\u001b[0;34m.\u001b[0m\u001b[0mcos\u001b[0m\u001b[0;34m(\u001b[0m\u001b[0mlon2\u001b[0m \u001b[0;34m-\u001b[0m \u001b[0mlon1\u001b[0m\u001b[0;34m)\u001b[0m\u001b[0;34m\u001b[0m\u001b[0m\n\u001b[1;32m    660\u001b[0m     \u001b[0mslat1\u001b[0m \u001b[0;34m=\u001b[0m \u001b[0mnp\u001b[0m\u001b[0;34m.\u001b[0m\u001b[0msin\u001b[0m\u001b[0;34m(\u001b[0m\u001b[0mlat1\u001b[0m\u001b[0;34m)\u001b[0m\u001b[0;34m\u001b[0m\u001b[0m\n",
      "\u001b[0;32m/home/zzbenjamin94/anaconda2/lib/python2.7/site-packages/astropy/units/quantity.pyc\u001b[0m in \u001b[0;36m__array_ufunc__\u001b[0;34m(self, function, method, *inputs, **kwargs)\u001b[0m\n\u001b[1;32m    639\u001b[0m         \u001b[0;31m# Call our superclass's __array_ufunc__\u001b[0m\u001b[0;34m\u001b[0m\u001b[0;34m\u001b[0m\u001b[0m\n\u001b[1;32m    640\u001b[0m         result = super(Quantity, self).__array_ufunc__(function, method,\n\u001b[0;32m--> 641\u001b[0;31m                                                        *arrays, **kwargs)\n\u001b[0m\u001b[1;32m    642\u001b[0m         \u001b[0;31m# If unit is None, a plain array is expected (e.g., comparisons), which\u001b[0m\u001b[0;34m\u001b[0m\u001b[0;34m\u001b[0m\u001b[0m\n\u001b[1;32m    643\u001b[0m         \u001b[0;31m# means we're done.\u001b[0m\u001b[0;34m\u001b[0m\u001b[0;34m\u001b[0m\u001b[0m\n",
      "\u001b[0;31mKeyboardInterrupt\u001b[0m: "
     ]
    }
   ],
   "source": [
    "# Finding mismatch between RA, DEC, Z in halorun versus BCG_galaxy\n",
    "from astropy.coordinates import SkyCoord\n",
    "from astropy import units as u\n",
    "from astropy.cosmology import WMAP9 as cosmo\n",
    "from astropy.coordinates import SkyCoord\n",
    "\n",
    "#Using find_nearest iterate through the array and find index of matched ones, also index of unmatched. \n",
    "#Go through the richness-mass template finder. \n",
    "BCG_coord = SkyCoord(BCG_data.TRA*u.deg, BCG_data.TDEC*u.deg,  frame='icrs')\n",
    "halos_coord = SkyCoord(halos_data.RA*u.deg, halos_data.DEC*u.deg, frame='icrs')\n",
    "\n",
    "#Finding nearest neighbor to the halorun catalog.\n",
    "def find_nearest(ind):\n",
    "    dist_sep = halos_coord.separation(BCG_coord[ind])\n",
    "    idx = (np.abs(dist_sep)).argmin()\n",
    "    return idx, dist_sep[idx].value\n",
    "\n",
    "#Testing match of specific halo using index testn\n",
    "testarr = np.arange(0,1000,100)\n",
    "for i, testn in enumerate(testarr):\n",
    "    ind, dist = find_nearest(testn)\n",
    "    print \"BCG index & ID: \", testn, BCG_data.HALOID[ind]\n",
    "    print \"Halo matched index & ID:\", ind, halos_data.ID[testn]\n",
    "    print \"Total angular separation: \", dist\n",
    "    print \"RA difference: \", halos_data.RA[ind] -  BCG_data.TRA[testn]\n",
    "    print \"DEC difference: \", halos_data.DEC[ind] - BCG_data.TDEC[testn]\n",
    "    #print hrun_data.Z[testn] - redM_gal_data.Z[ind] #Some error in redshift\n",
    "    print \"Redshift difference: {:2g} \\n\".format(BCG_data.Z[testn] - halos_data.Z[ind]) #Small error in redshift\n"
   ]
  },
  {
   "cell_type": "code",
   "execution_count": 30,
   "metadata": {
    "collapsed": false
   },
   "outputs": [
    {
     "name": "stdout",
     "output_type": "stream",
     "text": [
      "Processing BCG number  0\n",
      "Number of centered are 1\n",
      "Processing BCG number  10\n",
      "Number of centered are 11\n",
      "Processing BCG number  20\n",
      "Number of centered are 21\n",
      "Processing BCG number  30\n",
      "Number of centered are 31\n",
      "Processing BCG number  40\n",
      "Number of centered are 41\n"
     ]
    },
    {
     "ename": "KeyboardInterrupt",
     "evalue": "",
     "output_type": "error",
     "traceback": [
      "\u001b[0;31m---------------------------------------------------------------------------\u001b[0m",
      "\u001b[0;31mKeyboardInterrupt\u001b[0m                         Traceback (most recent call last)",
      "\u001b[0;32m<ipython-input-30-fe7e40bf845b>\u001b[0m in \u001b[0;36m<module>\u001b[0;34m()\u001b[0m\n\u001b[1;32m     18\u001b[0m     \u001b[0mcur_RA\u001b[0m \u001b[0;34m=\u001b[0m \u001b[0mcur_BCG\u001b[0m\u001b[0;34m[\u001b[0m\u001b[0;34m'TRA'\u001b[0m\u001b[0;34m]\u001b[0m\u001b[0;34m\u001b[0m\u001b[0m\n\u001b[1;32m     19\u001b[0m     \u001b[0mcur_DEC\u001b[0m \u001b[0;34m=\u001b[0m \u001b[0mcur_BCG\u001b[0m\u001b[0;34m[\u001b[0m\u001b[0;34m'TDEC'\u001b[0m\u001b[0;34m]\u001b[0m\u001b[0;34m\u001b[0m\u001b[0m\n\u001b[0;32m---> 20\u001b[0;31m     \u001b[0mind\u001b[0m\u001b[0;34m,\u001b[0m \u001b[0mang_sep\u001b[0m \u001b[0;34m=\u001b[0m \u001b[0mfind_nearest\u001b[0m\u001b[0;34m(\u001b[0m\u001b[0mi\u001b[0m\u001b[0;34m)\u001b[0m\u001b[0;34m\u001b[0m\u001b[0m\n\u001b[0m\u001b[1;32m     21\u001b[0m     \u001b[0mz_sep\u001b[0m \u001b[0;34m=\u001b[0m \u001b[0mnp\u001b[0m\u001b[0;34m.\u001b[0m\u001b[0mabs\u001b[0m\u001b[0;34m(\u001b[0m\u001b[0mcur_BCG\u001b[0m\u001b[0;34m[\u001b[0m\u001b[0;34m'Z'\u001b[0m\u001b[0;34m]\u001b[0m \u001b[0;34m-\u001b[0m \u001b[0mhalos_data\u001b[0m\u001b[0;34m.\u001b[0m\u001b[0mZ\u001b[0m\u001b[0;34m[\u001b[0m\u001b[0mind\u001b[0m\u001b[0;34m]\u001b[0m\u001b[0;34m)\u001b[0m\u001b[0;34m\u001b[0m\u001b[0m\n\u001b[1;32m     22\u001b[0m \u001b[0;34m\u001b[0m\u001b[0m\n",
      "\u001b[0;32m<ipython-input-30-fe7e40bf845b>\u001b[0m in \u001b[0;36mfind_nearest\u001b[0;34m(ind)\u001b[0m\n\u001b[1;32m      1\u001b[0m \u001b[0;31m#Finding BCG's nearest halo neighbor.\u001b[0m\u001b[0;34m\u001b[0m\u001b[0;34m\u001b[0m\u001b[0m\n\u001b[1;32m      2\u001b[0m \u001b[0;32mdef\u001b[0m \u001b[0mfind_nearest\u001b[0m\u001b[0;34m(\u001b[0m\u001b[0mind\u001b[0m\u001b[0;34m)\u001b[0m\u001b[0;34m:\u001b[0m\u001b[0;34m\u001b[0m\u001b[0m\n\u001b[0;32m----> 3\u001b[0;31m     \u001b[0mdist_sep\u001b[0m \u001b[0;34m=\u001b[0m \u001b[0mhalos_coord\u001b[0m\u001b[0;34m.\u001b[0m\u001b[0mseparation\u001b[0m\u001b[0;34m(\u001b[0m\u001b[0mBCG_coord\u001b[0m\u001b[0;34m[\u001b[0m\u001b[0mind\u001b[0m\u001b[0;34m]\u001b[0m\u001b[0;34m)\u001b[0m\u001b[0;34m\u001b[0m\u001b[0m\n\u001b[0m\u001b[1;32m      4\u001b[0m     \u001b[0midx\u001b[0m \u001b[0;34m=\u001b[0m \u001b[0;34m(\u001b[0m\u001b[0mnp\u001b[0m\u001b[0;34m.\u001b[0m\u001b[0mabs\u001b[0m\u001b[0;34m(\u001b[0m\u001b[0mdist_sep\u001b[0m\u001b[0;34m)\u001b[0m\u001b[0;34m)\u001b[0m\u001b[0;34m.\u001b[0m\u001b[0margmin\u001b[0m\u001b[0;34m(\u001b[0m\u001b[0;34m)\u001b[0m\u001b[0;34m\u001b[0m\u001b[0m\n\u001b[1;32m      5\u001b[0m     \u001b[0;32mreturn\u001b[0m \u001b[0midx\u001b[0m\u001b[0;34m,\u001b[0m \u001b[0mdist_sep\u001b[0m\u001b[0;34m[\u001b[0m\u001b[0midx\u001b[0m\u001b[0;34m]\u001b[0m\u001b[0;34m.\u001b[0m\u001b[0mvalue\u001b[0m\u001b[0;34m\u001b[0m\u001b[0m\n",
      "\u001b[0;32m/home/zzbenjamin94/anaconda2/lib/python2.7/site-packages/astropy/coordinates/sky_coordinate.pyc\u001b[0m in \u001b[0;36mseparation\u001b[0;34m(self, other)\u001b[0m\n\u001b[1;32m    765\u001b[0m \u001b[0;34m\u001b[0m\u001b[0m\n\u001b[1;32m    766\u001b[0m         \u001b[0;31m# Get the separation as a Quantity, convert to Angle in degrees\u001b[0m\u001b[0;34m\u001b[0m\u001b[0;34m\u001b[0m\u001b[0m\n\u001b[0;32m--> 767\u001b[0;31m         \u001b[0msep\u001b[0m \u001b[0;34m=\u001b[0m \u001b[0mangular_separation\u001b[0m\u001b[0;34m(\u001b[0m\u001b[0mlon1\u001b[0m\u001b[0;34m,\u001b[0m \u001b[0mlat1\u001b[0m\u001b[0;34m,\u001b[0m \u001b[0mlon2\u001b[0m\u001b[0;34m,\u001b[0m \u001b[0mlat2\u001b[0m\u001b[0;34m)\u001b[0m\u001b[0;34m\u001b[0m\u001b[0m\n\u001b[0m\u001b[1;32m    768\u001b[0m         \u001b[0;32mreturn\u001b[0m \u001b[0mAngle\u001b[0m\u001b[0;34m(\u001b[0m\u001b[0msep\u001b[0m\u001b[0;34m,\u001b[0m \u001b[0munit\u001b[0m\u001b[0;34m=\u001b[0m\u001b[0mu\u001b[0m\u001b[0;34m.\u001b[0m\u001b[0mdegree\u001b[0m\u001b[0;34m)\u001b[0m\u001b[0;34m\u001b[0m\u001b[0m\n\u001b[1;32m    769\u001b[0m \u001b[0;34m\u001b[0m\u001b[0m\n",
      "\u001b[0;32m/home/zzbenjamin94/anaconda2/lib/python2.7/site-packages/astropy/coordinates/angle_utilities.pyc\u001b[0m in \u001b[0;36mangular_separation\u001b[0;34m(lon1, lat1, lon2, lat2)\u001b[0m\n\u001b[1;32m    667\u001b[0m     \u001b[0mdenominator\u001b[0m \u001b[0;34m=\u001b[0m \u001b[0mslat1\u001b[0m \u001b[0;34m*\u001b[0m \u001b[0mslat2\u001b[0m \u001b[0;34m+\u001b[0m \u001b[0mclat1\u001b[0m \u001b[0;34m*\u001b[0m \u001b[0mclat2\u001b[0m \u001b[0;34m*\u001b[0m \u001b[0mcdlon\u001b[0m\u001b[0;34m\u001b[0m\u001b[0m\n\u001b[1;32m    668\u001b[0m \u001b[0;34m\u001b[0m\u001b[0m\n\u001b[0;32m--> 669\u001b[0;31m     \u001b[0;32mreturn\u001b[0m \u001b[0mnp\u001b[0m\u001b[0;34m.\u001b[0m\u001b[0marctan2\u001b[0m\u001b[0;34m(\u001b[0m\u001b[0mnp\u001b[0m\u001b[0;34m.\u001b[0m\u001b[0mhypot\u001b[0m\u001b[0;34m(\u001b[0m\u001b[0mnum1\u001b[0m\u001b[0;34m,\u001b[0m \u001b[0mnum2\u001b[0m\u001b[0;34m)\u001b[0m\u001b[0;34m,\u001b[0m \u001b[0mdenominator\u001b[0m\u001b[0;34m)\u001b[0m\u001b[0;34m\u001b[0m\u001b[0m\n\u001b[0m\u001b[1;32m    670\u001b[0m \u001b[0;34m\u001b[0m\u001b[0m\n\u001b[1;32m    671\u001b[0m \u001b[0;34m\u001b[0m\u001b[0m\n",
      "\u001b[0;32m/home/zzbenjamin94/anaconda2/lib/python2.7/site-packages/astropy/units/quantity.pyc\u001b[0m in \u001b[0;36m__array_ufunc__\u001b[0;34m(self, function, method, *inputs, **kwargs)\u001b[0m\n\u001b[1;32m    639\u001b[0m         \u001b[0;31m# Call our superclass's __array_ufunc__\u001b[0m\u001b[0;34m\u001b[0m\u001b[0;34m\u001b[0m\u001b[0m\n\u001b[1;32m    640\u001b[0m         result = super(Quantity, self).__array_ufunc__(function, method,\n\u001b[0;32m--> 641\u001b[0;31m                                                        *arrays, **kwargs)\n\u001b[0m\u001b[1;32m    642\u001b[0m         \u001b[0;31m# If unit is None, a plain array is expected (e.g., comparisons), which\u001b[0m\u001b[0;34m\u001b[0m\u001b[0;34m\u001b[0m\u001b[0m\n\u001b[1;32m    643\u001b[0m         \u001b[0;31m# means we're done.\u001b[0m\u001b[0;34m\u001b[0m\u001b[0;34m\u001b[0m\u001b[0m\n",
      "\u001b[0;31mKeyboardInterrupt\u001b[0m: "
     ]
    }
   ],
   "source": [
    "#Finding BCG's nearest halo neighbor.\n",
    "def find_nearest(ind):\n",
    "    dist_sep = halos_coord.separation(BCG_coord[ind])\n",
    "    idx = (np.abs(dist_sep)).argmin()\n",
    "    return idx, dist_sep[idx].value\n",
    "\n",
    "BCG_matched_ID = [] \n",
    "redM_matched_ID = []\n",
    "\n",
    "#Find the centered ones\n",
    "ang_lim = 1e-5\n",
    "z_lim = 0.01\n",
    "BCG_coord = SkyCoord(BCG_data.TRA*u.deg, BCG_data.TDEC*u.deg,  frame='icrs')\n",
    "halos_coord = SkyCoord(halos_data.RA*u.deg, halos_data.DEC*u.deg, frame='icrs')\n",
    "\n",
    "for i, cur_BCG in enumerate(BCG_data):\n",
    "    cur_ID = cur_BCG['HALOID']\n",
    "    cur_RA = cur_BCG['TRA']\n",
    "    cur_DEC = cur_BCG['TDEC']\n",
    "    ind, ang_sep = find_nearest(i)\n",
    "    z_sep = np.abs(cur_BCG['Z'] - halos_data.Z[ind])\n",
    "\n",
    "    #ind = np.argmin(np.abs(cur_RA-halos_RA)) #this speeds up the calculation, asssuming minRA gives min_distance\n",
    "    \n",
    "    halo_ID = halos_data.ID[ind]\n",
    "    RA_val = halos_data.RA[ind]\n",
    "    DEC_val = halos_data.DEC[ind]\n",
    "    #ang_sep = np.sqrt((RA_val-cur_RA)**2 + (DEC_val-cur_DEC)**2)\n",
    "\n",
    "    if (ang_sep <= ang_lim) & (z_sep <= z_lim): \n",
    "        BCG_matched_ID.append(cur_ID)\n",
    "        halo_matched_ID.append(halo_ID)\n",
    "        \n",
    "    if i % 10 == 0: \n",
    "        print \"Processing BCG number \", i\n",
    "        print \"Number of centered are\", len(BCG_matched_ID)\n",
    "print \"Total number of centered clusters are\", len(BCG_matched_ID)\n",
    "print \"Out of total number of clusters of \", len(BCG_data)"
   ]
  },
  {
   "cell_type": "markdown",
   "metadata": {},
   "source": [
    "## Add matched BCG Lensed RA, lensed DEC onto halos_data record array"
   ]
  },
  {
   "cell_type": "code",
   "execution_count": null,
   "metadata": {
    "collapsed": true
   },
   "outputs": [],
   "source": []
  },
  {
   "cell_type": "markdown",
   "metadata": {},
   "source": [
    "## Writing to record array"
   ]
  },
  {
   "cell_type": "code",
   "execution_count": null,
   "metadata": {
    "collapsed": true
   },
   "outputs": [],
   "source": []
  },
  {
   "cell_type": "markdown",
   "metadata": {},
   "source": [
    "## Randomly sample halos to produce halo shape"
   ]
  },
  {
   "cell_type": "raw",
   "metadata": {
    "collapsed": false
   },
   "source": [
    "import numpy.random as rand\n",
    "\n",
    "#First apply a redshift cut, and then randomly select in that redshift. \n",
    "halos_cut = np.where((halos_data['Z']<0.84) & (halos_data['M200B'] > 1e13))\n",
    "halos_rand = halos_data[halos_cut]\n",
    "print \"After cuts number of halos are \", len(halos_rand)\n",
    "\n",
    "#Select 100,000 random samples\n",
    "num_rand = int(5e4)\n",
    "rand_samp = rand.randint(0,len(halos_rand), num_rand)\n",
    "halos_rand = halos_rand[rand_samp]\n",
    "\n",
    "#Need to convert Radius to MPC for units to work in the read_halo_particle code\n",
    "halos_rand.RVIR /= 1000"
   ]
  },
  {
   "cell_type": "markdown",
   "metadata": {},
   "source": [
    "## Writing to record array\n"
   ]
  },
  {
   "cell_type": "raw",
   "metadata": {
    "collapsed": false
   },
   "source": [
    "# filehandler = open(\"halos_rand_v1.9.2-Chinchilla-4.data\",\"wb\")\n",
    "pickle.dump(halos_rand, filehandler)\n",
    "filehandler.close()\n",
    "print \"Done\""
   ]
  },
  {
   "cell_type": "markdown",
   "metadata": {},
   "source": [
    "## Testing"
   ]
  },
  {
   "cell_type": "code",
   "execution_count": null,
   "metadata": {
    "collapsed": false
   },
   "outputs": [],
   "source": [
    "#halos_cut = np.where((halos_rand['Z']>0.32))\n",
    "#halos_rand = halos_rand[halos_cut]\n",
    "\n",
    "r = np.sqrt(halos_rand.PX**2 + halos_rand.PY**2 + halos_rand.PZ**2)\n",
    "rbin = r//25\n",
    "print np.max(rbin), np.max(halos_rand.Z)\n",
    "rbin_ind = np.where(rbin == 72)\n",
    "halos_cut = halos_rand[rbin_ind]\n",
    "print halos_cut.Z\n",
    "print np.max(halos_cut.Z), np.min(halos_cut.Z)\n",
    "#print rbin, np.max(rbin), np.min(rbin)\n",
    "#print np.max(halos_rand.Z), np.min(halos_rand.Z)"
   ]
  },
  {
   "cell_type": "code",
   "execution_count": null,
   "metadata": {
    "collapsed": false
   },
   "outputs": [],
   "source": [
    "import matplotlib.pyplot as plt\n",
    "plt.scatter(halos_cut.TRA, halos_cut.TDEC)\n",
    "plt.show()"
   ]
  },
  {
   "cell_type": "code",
   "execution_count": null,
   "metadata": {
    "collapsed": false
   },
   "outputs": [],
   "source": [
    "## Testing for coordinate matching between PX, PY, PZ and RA, DEC, Z\n",
    "from astropy.coordinates import Distance\n",
    "from astropy import units as u\n",
    "from astropy import cosmology\n",
    "from astropy.cosmology import WMAP7 as cosmo\n",
    "from astropy.coordinates import SkyCoord\n",
    "\n",
    "#Select sample halo.\n",
    "testn= 1000\n",
    "test_halo = halos_cut[testn]\n",
    "\n",
    "d_halo = cosmo.comoving_distance([test_halo.Z])*0.702  \n",
    "c = SkyCoord(ra=test_halo.TRA*u.degree, dec=test_halo.TDEC*u.degree, distance=d_halo*u.Mpc)[0]\n",
    "  \n",
    "ptcl_c = SkyCoord(x=-1073.3064, y=483.5157, z=451.49063, representation_type='cartesian')\n",
    "print ptcl_c\n",
    "\n",
    "#print c, d_halo\n",
    "#print c.cartesian.x.value, c.cartesian.y, c.cartesian.z\n",
    "#print test_halo.PX, test_halo.PY, test_halo.PZ\n",
    "#print np.sqrt((c.cartesian.x.value-test_halo.PX)**2. + (c.cartesian.y.value-test_halo.PY)**2. \\\n",
    "#              + (c.cartesian.z.value-test_halo.PZ)**2.)\n",
    "\n",
    "\n",
    "#Set to transverse or line of sight comoving distance? Can't tell. \n",
    "#comoving_r = cosmo.comovingDistance(zmin, zmax, transverse=True)"
   ]
  }
 ],
 "metadata": {
  "anaconda-cloud": {},
  "kernelspec": {
   "display_name": "Python [conda env:anaconda2]",
   "language": "python",
   "name": "conda-env-anaconda2-py"
  },
  "language_info": {
   "codemirror_mode": {
    "name": "ipython",
    "version": 2
   },
   "file_extension": ".py",
   "mimetype": "text/x-python",
   "name": "python",
   "nbconvert_exporter": "python",
   "pygments_lexer": "ipython2",
   "version": "2.7.14"
  }
 },
 "nbformat": 4,
 "nbformat_minor": 1
}
