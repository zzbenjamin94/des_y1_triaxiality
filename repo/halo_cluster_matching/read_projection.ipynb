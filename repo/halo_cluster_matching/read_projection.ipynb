{
 "cells": [
  {
   "cell_type": "markdown",
   "metadata": {},
   "source": [
    "## Script for Projection Catalog\n",
    "### Setup"
   ]
  },
  {
   "cell_type": "code",
   "execution_count": 89,
   "metadata": {
    "collapsed": false
   },
   "outputs": [],
   "source": [
    "import numpy as np\n",
    "import sys\n",
    "sys.path.append('/home/zzbenjamin94/Desktop/Astronomy/Research/DES_Galaxy_Cluster')\n",
    "from tools.setup.setup import home_dir\n",
    "\n",
    "# import pyplot and set some parameters to make plots prettier\n",
    "import matplotlib.pyplot as plt\n",
    "from tools.plot_utils import plot_pretty\n",
    "plot_pretty()\n",
    "\n",
    "import healpy as hp\n",
    "import fitsio\n",
    "from tools.setup.setup import tools_home_dir\n",
    "import pickle\n",
    "\n",
    "from astropy import units as u\n",
    "from astropy.coordinates import SkyCoord\n",
    "\n",
    "from astropy import cosmology\n",
    "from astropy.cosmology import WMAP9 as cosmo #WMAP9 cosmology\n",
    "from astropy.coordinates import Distance\n",
    "\n",
    "from tools.setup.setup import bigdata_home_dir, data_home_dir, home_dir\n",
    "import astropy.io.fits as fits\n",
    "\n",
    "# setup notebook for inline figures\n",
    "%matplotlib inline\n",
    "\n",
    "#file containing the rotation matrix \n",
    "toolsdir = tools_home_dir()\n",
    "rotfile = toolsdir+'desy3_irot.pkl'\n",
    "with open(rotfile, 'r') as fp:\n",
    "    rmat = pickle.load(fp)\n",
    "    \n",
    "import pkg_resources\n",
    "pkg_resources.get_distribution(\"astropy\").version\n",
    "\n",
    "bigdatadir = bigdata_home_dir()\n",
    "datadir = data_home_dir()\n",
    "homedir = home_dir()"
   ]
  },
  {
   "cell_type": "markdown",
   "metadata": {},
   "source": [
    "### Projection catalog\n",
    "#### Add X,Y,Z columns into the projection catalog\n",
    "\n",
    "The Cartesian (X,Y,Z) are in units of Mpc/h when converting from spherical using the SkyCoord function and distance taken from comving_distane. h0 is given by user under e.g. WMAP9 cosmology. \n",
    "\n",
    "Buzzard halos coordinates are in units of Mpc, not Mpc/h.\n",
    "\n",
    "This step NOT needed as we are matching using RA, DEC, Z coordinates. Oh wait, for the shape catalog we still need the X,Y,Z. Still need to convert from Z to distance using some cosmology. How do we do that and make it consistent?"
   ]
  },
  {
   "cell_type": "code",
   "execution_count": 90,
   "metadata": {
    "collapsed": false
   },
   "outputs": [
    {
     "name": "stdout",
     "output_type": "stream",
     "text": [
      "Names of columns in proj_data are:\n",
      "['M200', 'Z_TR', 'Z_OB', 'RA', 'DEC', 'LAMBDA_TR', 'LAMBDA_OB', 'proj_X', 'proj_Y', 'proj_Z']\n",
      "Number of halos is 668152\n"
     ]
    }
   ],
   "source": [
    "proj_dir = bigdatadir + 'Buzzard_Sims/v1.6/projection/'+'mock_SDSS_PlM_logNorm_lM_Simet_lobg5.fit'\n",
    "proj_list = fits.open(proj_dir)\n",
    "proj_data = proj_list[1].data\n",
    "\n",
    "\n",
    "#Convert RA, DEC to Cartesian coordinates\n",
    "h0 = cosmo.H(0).value/100.#Reduced Hubble constant\n",
    "\n",
    "proj_dist = cosmo.comoving_distance(proj_data.Z_TR) #In units of Mpc/h\n",
    "c = SkyCoord(ra=proj_data.RA*u.degree, dec=proj_data.DEC*u.degree, distance=proj_dist, frame='icrs')\n",
    "proj_X = c.cartesian.x.value #in units of Mpc/h\n",
    "proj_Y = c.cartesian.y.value\n",
    "proj_Z = c.cartesian.z.value\n",
    "\n",
    "#Add X,Y,Z\n",
    "c1 = fits.Column(name='proj_X', array=proj_X, format='E') #E is single float precision, D for double. \n",
    "c2 = fits.Column(name='proj_Y', array=proj_Y, format='E')\n",
    "c3 = fits.Column(name='proj_Z', array=proj_Z, format='E')\n",
    "newcols = [c for c in proj_list[1].columns] + [c1, c2, c3]\n",
    "tnew = fits.BinTableHDU.from_columns(newcols)\n",
    "proj_list[1] = tnew\n",
    "\n",
    "\n",
    "#Extract data\n",
    "proj_data = proj_list[1].data\n",
    "#Checking FITS into\n",
    "#hrun_list.info()\n",
    "print \"Names of columns in proj_data are:\"\n",
    "print proj_data.names\n",
    "\n",
    "\n",
    "#Converting FITS files into record array\n",
    "proj_data = np.array(proj_data, dtype=proj_data.dtype)\n",
    "proj_data = proj_data.view(np.recarray)\n",
    "\n",
    "print \"Number of halos is\", len(proj_data)\n",
    "\n",
    "#proj_list.writeto('projection.fits')\n",
    "#print \"Wrote FITS with added columns onto new FITS file.\""
   ]
  },
  {
   "cell_type": "markdown",
   "metadata": {},
   "source": [
    "### redM_matched Halos"
   ]
  },
  {
   "cell_type": "code",
   "execution_count": 91,
   "metadata": {
    "collapsed": false
   },
   "outputs": [
    {
     "name": "stdout",
     "output_type": "stream",
     "text": [
      "Names of redM_matched halo column data are:\n",
      "('redM_ID', 'redM_RA', 'redM_DEC', 'redM_z', 'redM_lmda', 'halos_ID', 'halos_RA', 'halos_DEC', 'halos_z', 'halos_X', 'halos_Y', 'halos_Z', 'halos_M200b', 'halos_Mvir', 'halos_Rvir') \n",
      "\n",
      "Number of halos read is  23998\n"
     ]
    }
   ],
   "source": [
    "#RedM_matched halos\n",
    "#Read from redM_matched halos\n",
    "homedir = home_dir()\n",
    "redM_dir = homedir + 'output/buzzard/'+'halo_redM_matched.dat'\n",
    "\n",
    "#Field names of the files from first row of file. Shoule be:\n",
    "#('redM_ID', 'redM_RA', 'redM_DEC', 'redM_z', 'redM_lmda', 'halos_ID', 'halos_RA', 'halos_DEC', \n",
    "#'halos_z', 'halos_X', 'halos_Y', 'halos_Z', 'halos_M200b', 'halos_Mvir', 'halos_Rvir')\n",
    "redM_halos = np.genfromtxt(redM_dir, dtype =\"i, f8, f8, f8, f8, i, f8, f8, f8, f8, f8, f8, f8, f8, f8\", \\\n",
    "                  unpack=True, usecols=range(0,15), names=True)\n",
    "redM_halos = redM_halos.view(np.recarray)\n",
    "\n",
    "redM_dist = cosmo.comoving_distance(redM_halos.halos_z)\n",
    "\n",
    "print \"Names of redM_matched halo column data are:\"\n",
    "print redM_halos.dtype.names, \"\\n\"\n",
    "print \"Number of halos read is \", len(redM_halos)"
   ]
  },
  {
   "cell_type": "markdown",
   "metadata": {},
   "source": [
    "### Matching Projection Catalog with Chinchilla halos\n",
    "* Note: astropy.comoving in units of Mpc/h "
   ]
  },
  {
   "cell_type": "code",
   "execution_count": null,
   "metadata": {
    "collapsed": true
   },
   "outputs": [],
   "source": []
  },
  {
   "cell_type": "markdown",
   "metadata": {},
   "source": [
    "#### Checking consistency of parameters in catalogs"
   ]
  },
  {
   "cell_type": "code",
   "execution_count": 92,
   "metadata": {
    "collapsed": false
   },
   "outputs": [
    {
     "name": "stdout",
     "output_type": "stream",
     "text": [
      "[134241  79679 109881 ...  50468 278906 220279]\n",
      "[1.0013e+13 1.0013e+13 1.0013e+13 ... 2.3066e+15 2.5839e+15 3.3991e+15]\n",
      "\n",
      "Testing properties of largest halo in Projection Catalog\n",
      "('M200', 'Z_TR', 'Z_OB', 'RA', 'DEC', 'LAMBDA_TR', 'LAMBDA_OB', 'proj_X', 'proj_Y', 'proj_Z')\n",
      "(3.3991e+15, 0.38548893, 0.37671077, 148.0982, 59.208557, 279.9802, 396.04456, -661.15247, 411.56, 1306.8656)\n",
      "\n",
      "Testing the Chinchilla catalog\n",
      "('redM_ID', 'redM_RA', 'redM_DEC', 'redM_z', 'redM_lmda', 'halos_ID', 'halos_RA', 'halos_DEC', 'halos_z', 'halos_X', 'halos_Y', 'halos_Z', 'halos_M200b', 'halos_Mvir', 'halos_Rvir')\n",
      "(25, 328.8614288, -55.6656258, 0.3902748, 247.1500558, 115444861, 328.8543058, -55.6614458, 0.3898808, 514.4646928, -310.9048198, -879.9248528, 3.403e+15, 3.2463e+15, 3.3968578)\n",
      "-458.3108893066406 285.29339030761713 905.9192343261718 \n",
      "\n",
      "1054.57612507 Mpc\n",
      "1065.40138633 Mpc\n"
     ]
    }
   ],
   "source": [
    "#Sort halos by mass, and see if the most massive ones have matching properties. \n",
    "proj_sortind = np.argsort(proj_data.M200)\n",
    "proj_indmax = proj_sortind[-1]\n",
    "print proj_sortind\n",
    "print proj_data.M200[proj_sortind]\n",
    "print '\\nTesting properties of largest halo in Projection Catalog'\n",
    "print proj_data.dtype.names\n",
    "print proj_data[proj_indmax]\n",
    "\n",
    "#For the Chinchilla catalog. \n",
    "print '\\nTesting the Chinchilla catalog'\n",
    "redM_sortind = np.argsort(redM_halos.halos_M200b)\n",
    "redM_indmax = redM_sortind[-1]\n",
    "print redM_halos.dtype.names\n",
    "redM_maxM = redM_halos[redM_indmax]\n",
    "print redM_maxM\n",
    "\n",
    "print proj_data[proj_indmax].proj_X*h0, proj_data[proj_indmax].proj_Y*h0, proj_data[proj_indmax].proj_Z*h0, '\\n'\n",
    "print proj_dist[proj_indmax] *h0\n",
    "#Find comoving distance of Chinchilla and cf. with Pythagoreous\n",
    "print redM_dist[redM_indmax] *h0\n",
    "#print np.sqrt(redM_maxM.PX**2. + redM_maxM.PY**2. +  redM_maxM.PZ**2.)"
   ]
  },
  {
   "cell_type": "markdown",
   "metadata": {},
   "source": [
    "### Matched Catalog for testing\n",
    "Use topcat for matching RA, DEC, Z"
   ]
  },
  {
   "cell_type": "markdown",
   "metadata": {
    "collapsed": false
   },
   "source": [
    "datadir = data_home_dir()\n",
    "homedir = home_dir()\n",
    "proj_dir = datadir + 'projection/'+'proj_buzzmatched_test.fits'\n",
    "proj_list = fits.open(proj_dir)\n",
    "proj_data = proj_list[1].data\n",
    "print proj_data.names\n",
    "print \"Number of halos is \", len(proj_data)\n",
    "proj_data = proj_data.view(np.recarray)"
   ]
  },
  {
   "cell_type": "markdown",
   "metadata": {},
   "source": [
    "#### Old code for proximity matching with the astropy package"
   ]
  },
  {
   "cell_type": "raw",
   "metadata": {
    "collapsed": false
   },
   "source": [
    "#Astropy has coordinate matching algorithm\n",
    "#http://docs.astropy.org/en/stable/coordinates/matchsep.html\n",
    "\n",
    "\n",
    "#Find distances to the catalog from redshift using WMAP9 cosmology\n",
    "proj_c = SkyCoord(ra=proj_data.RA*u.degree, dec=proj_data.DEC*u.degree, distance=proj_dist.value*u.Mpc)  \n",
    "redM_c = SkyCoord(ra=redM_halos.halos_RA*u.degree, dec=redM_halos.halos_DEC*u.degree, distance=redM_dist.value*u.Mpc) \n",
    "\n",
    "#For c.match_to_catalog_3d(catalog), c should be a subset of catalog.\n",
    "idx, d2d, d3d = proj_c.match_to_catalog_3d(redM_c) \n",
    "z_diff = proj_data.Z_TR - redM_halos.halos_z[idx]"
   ]
  },
  {
   "cell_type": "raw",
   "metadata": {},
   "source": [
    "print \"Number of matched halos are \", len(idx)\n",
    "uniq_idx, uniq_index = np.unique(idx, return_index=True)\n",
    "idx = idx[uniq_index]; d2d = d2d[uniq_index]; d3d = d3d[uniq_index]\n",
    "print \"Out of which \", len(idx), \" are unique\"\n",
    "redM_data_matched = redM_halos[idx]\n",
    "proj_ID = redM_data_matched.halos_ID"
   ]
  },
  {
   "cell_type": "markdown",
   "metadata": {},
   "source": [
    "### Testing the matched catalogs"
   ]
  },
  {
   "cell_type": "markdown",
   "metadata": {
    "collapsed": false
   },
   "source": [
    "#Seeing the offset in distance, redshift after catalog matching\n",
    "f, ax = plt.subplots(1, 2, figsize=(6,3), tight_layout=True)\n",
    "f.suptitle('Offset comparison')\n",
    "M_line = np.linspace(1e13,5e15,100)\n",
    "z_line = np.linspace(0,1,100)\n",
    "ax[0].scatter(proj_data.M200_2, proj_data.M200B, s=1)\n",
    "ax[0].plot(M_line, M_line, linestyle='dashed', c='orange')\n",
    "ax[0].set_xlabel(r'M200$_{2}$ $(M_{\\odot})$')\n",
    "ax[0].set_ylabel(r'M200B $(M_{\\odot})$')\n",
    "ax[1].scatter(proj_data.Z, proj_data.Z_TR, s=1)\n",
    "ax[1].plot(z_line, z_line, linestyle='dashed', c='orange')\n",
    "ax[1].set_xlabel(r'$z$')\n",
    "ax[1].set_ylabel(r'$\\textrm{z}_{Tr}$')\n",
    "plt.show()"
   ]
  },
  {
   "cell_type": "markdown",
   "metadata": {},
   "source": [
    "#### Original coordinates of the projection catalog UN-rotated. Plot shows after rotation"
   ]
  },
  {
   "cell_type": "markdown",
   "metadata": {
    "collapsed": false
   },
   "source": [
    "#Rotate the halo files\n",
    "import healpy as hp\n",
    "import fitsio\n",
    "from tools.setup.setup import tools_home_dir\n",
    "import pickle\n",
    "\n",
    "from astropy import units as u\n",
    "from astropy.coordinates import SkyCoord\n",
    "\n",
    "#file containing the rotation matrix \n",
    "toolsdir = tools_home_dir()\n",
    "rotfile = toolsdir+'desy3_irot.pkl'\n",
    "with open(rotfile, 'r') as fp:\n",
    "    rmat = pickle.load(fp)\n",
    "    \n",
    "halos_posvec = np.array([proj_data.HALOPX, proj_data.HALOPY, proj_data.HALOPZ])\n",
    "halos_rposvec = np.dot(rmat, halos_posvec)\n",
    "\n",
    "#Rotate the Cartesian positions.\n",
    "proj_X = halos_rposvec[0]; proj_Y = halos_rposvec[1]; proj_Z = halos_rposvec[2]\n",
    "#convert to angular coords (in Radians)\n",
    "theta, phi = hp.vec2ang(proj_rposvec.T)\n",
    "proj_DEC = (np.pi/2 - theta) * 180/np.pi\n",
    "proj_RA  = phi * 180/np.pi"
   ]
  },
  {
   "cell_type": "markdown",
   "metadata": {
    "collapsed": false
   },
   "source": [
    "from astropy.cosmology import WMAP9 as cosmo\n",
    "\n",
    "sparse_ind = rand.choice(len(proj_data), 50000, replace=False)\n",
    "proj_data = proj_data[sparse_ind]\n",
    "\n",
    "#h-scaling\n",
    "h0 = cosmo.H(0).value/100\n",
    "\n",
    "#Compare the comoving distances and see if one has a h-scaling\n",
    "proj_comv = cosmo.comoving_distance(proj_data.Z_TR).value *h0\n",
    "proj_dist = np.sqrt(proj_data.HALOPX**2. + proj_data.HALOPY**2. + proj_data.HALOPZ**2.)\n",
    "print proj_dist\n",
    "test_comv = cosmo.comoving_distance(0.90).value\n",
    "print test_comv//25\n",
    "print max(proj_dist)//25\n",
    "print max(proj_data.Z_TR)\n",
    "\n",
    "comv_line = np.linspace(0,2000,1000)\n",
    "plt.figure(figsize=(4,3))\n",
    "plt.scatter(proj_comv, proj_dist, s=0.1)\n",
    "plt.plot(comv_line, comv_line, linestyle='--', c='orange')\n",
    "plt.show()"
   ]
  },
  {
   "cell_type": "markdown",
   "metadata": {
    "collapsed": false
   },
   "source": [
    "## Import the matched catalog that's been vetted"
   ]
  },
  {
   "cell_type": "code",
   "execution_count": 93,
   "metadata": {
    "collapsed": false
   },
   "outputs": [
    {
     "name": "stdout",
     "output_type": "stream",
     "text": [
      "['HALOID', 'M200', 'R200', 'M200B', 'R200B', 'M500', 'R500', 'MVIR', 'RVIR', 'M2500', 'R2500', 'VRMS', 'RS', 'JX', 'JY', 'JZ', 'SPIN', 'HALOPX', 'HALOPY', 'HALOPZ', 'HALOVX', 'HALOVY', 'HALOVZ', 'LUMTOT', 'LUM20', 'LBCG', 'RA', 'DEC', 'NGALS', 'N18', 'N19', 'N20', 'N21', 'N22', 'EDGE', 'HOST_HALOID', 'XOFF', 'VOFF', 'B_TO_A', 'C_TO_A', 'AX', 'AY', 'AZ', 'LAMBDA', 'VIRIAL_RATIO', 'Z_TR', 'Z_OB', 'LAMBDA_TR', 'LAMBDA_OB', 'Separation']\n",
      "Initially projection catalog has halo number  668152\n"
     ]
    }
   ],
   "source": [
    "datadir = data_home_dir()\n",
    "homedir = home_dir()\n",
    "proj_dir = bigdatadir + 'Buzzard_Sims/v1.6/projection/'+'proj_buzzmatched.fits'\n",
    "proj_list = fits.open(proj_dir)\n",
    "proj_data = proj_list[1].data\n",
    "print proj_data.names\n",
    "proj_data = proj_data.view(np.recarray)\n",
    "print \"Initially projection catalog has halo number \", len(proj_data)"
   ]
  },
  {
   "cell_type": "markdown",
   "metadata": {},
   "source": [
    "#### Applying cuts\n",
    "\n",
    "* Mass cut M > 1e13\n",
    "* $\\lambda_{obs}$ > 5\n",
    "* redshift cut at $z < 0.34$\n",
    "* shape convergence cut\n",
    "* sparse sampling"
   ]
  },
  {
   "cell_type": "code",
   "execution_count": 99,
   "metadata": {
    "collapsed": false
   },
   "outputs": [
    {
     "name": "stdout",
     "output_type": "stream",
     "text": [
      "After mass cut projection catalog has halo number  3762\n",
      "After lmda cut projection catalog has halo number  3762\n",
      "After redshift cut projection catalog has halo number  3762\n",
      "Done\n"
     ]
    }
   ],
   "source": [
    "import numpy.random as rand\n",
    "#Mass cut\n",
    "mass_cut = np.where(proj_data['M200B'] >= 1e13)\n",
    "proj_data = proj_data[mass_cut]\n",
    "print \"After mass cut projection catalog has halo number \", len(proj_data)\n",
    "\n",
    "#Lambda cut\n",
    "lmda_cut = np.where(proj_data['LAMBDA_OB'] >= 20)\n",
    "proj_data = proj_data[lmda_cut]\n",
    "print \"After lmda cut projection catalog has halo number \", len(proj_data)\n",
    "\n",
    "#Redshift cut\n",
    "z_cut = np.where((proj_data['Z_TR']<0.9))\n",
    "proj_data = proj_data[z_cut]\n",
    "print \"After redshift cut projection catalog has halo number \", len(proj_data)\n",
    "\n",
    "'''\n",
    "#shape convergence cut\n",
    "conv_cut = np.where(proj_shape['converge'] == True)\n",
    "proj_data = proj_data[conv_cut]\n",
    "print \"After conv cut projection catalog has halo number \", len(proj_data)\n",
    "'''\n",
    "\n",
    "'''\n",
    "#Make into a sparse array\n",
    "sparse_num = 20000\n",
    "sparse_ind = rand.choice(len(proj_data), sparse_num, replace=False)\n",
    "#sparse_ind = xrange(sparse_num)\n",
    "proj_data = proj_data[sparse_ind]\n",
    "print \"After sparse sampling proj_data has length \", len(proj_data)\n",
    "'''\n",
    "\n",
    "print \"Done\""
   ]
  },
  {
   "cell_type": "markdown",
   "metadata": {},
   "source": [
    "#### Save the file into halo_shape format\n",
    "\n",
    "I think using rand.choice might change the order of different parameters so they are not paired up anymore. It turns out to be the case. See what's going on in the morning. "
   ]
  },
  {
   "cell_type": "markdown",
   "metadata": {
    "collapsed": false
   },
   "source": [
    "#Retreive columns\n",
    "proj_ID = proj_data['HALOID']; proj_RA = proj_data['RA'] \n",
    "proj_DEC = proj_data['DEC']; proj_z = proj_data['Z_TR']\n",
    "proj_M200b = proj_data['M200B']; proj_Mvir = proj_data['MVIR']\n",
    "proj_Rvir = proj_data['RVIR'] #in Mpc\n",
    "proj_X = proj_data['HALOPX']; proj_Y = proj_data['HALOPY']; proj_Z = proj_data['HALOPZ']"
   ]
  },
  {
   "cell_type": "markdown",
   "metadata": {
    "collapsed": false
   },
   "source": [
    "#Write to file\n",
    "name_str = ('halos_ID','halos_RA', 'halos_DEC', 'halos_z', 'halos_X', \\\n",
    "            'halos_Y', 'halos_Z', 'halos_M200b', 'halos_Mvir', 'halos_Rvir')\n",
    "\n",
    "outfile = open(homedir +'/data/projection/proj_lowz.dat','w')\n",
    "outfile.write('%12s %12s %12s %12s %12s %12s %12s %12s %12s %12s \\n'%name_str)\n",
    "\n",
    "for i in range(len(proj_data.HALOID)):\n",
    "    outfile.write('%d %f8 %f8 %f8 %f8 %f8 %f8 %f8 %f8 %f8 \\n' \\\n",
    "                  %(proj_ID[i], proj_RA[i], proj_DEC[i], proj_z[i], \\\n",
    "                        proj_X[i], proj_Y[i], proj_Z[i], proj_M200b[i], proj_Mvir[i], proj_Rvir[i]))\n",
    "outfile.close()"
   ]
  },
  {
   "cell_type": "markdown",
   "metadata": {},
   "source": [
    "## Adding parameters into the projection catalog\n",
    "* Convert from (RA, DEC, Z) to (X, Y, Z)\n",
    "* IDs from proximity matching to Chinchilla\n",
    "* cos(i) shape information\n"
   ]
  },
  {
   "cell_type": "code",
   "execution_count": 105,
   "metadata": {
    "collapsed": false
   },
   "outputs": [
    {
     "name": "stdout",
     "output_type": "stream",
     "text": [
      "After shape matching number of halos in the projection catalog is  3762\n",
      "Number of halos not converged  169\n",
      "Over 20000 number of total halos\n",
      "Number of cosine is  3762\n",
      "[ 136583  136606  136667 ... 2329295 2329344 2329499]\n",
      "[ 136583  136606  136667 ... 2329295 2329344 2329499]\n"
     ]
    }
   ],
   "source": [
    "from repo.halo_shape.read_shape_param import read_shape_param\n",
    "from numpy.lib.recfunctions import append_fields\n",
    "\n",
    "#Adding ID and shape info\n",
    "shapedir = home_dir()+'output/projection/halo_shape/'\n",
    "proj_shape = np.load(shapedir + 'halo_shape_projection_lowz.npy')\n",
    "\n",
    "#Extract shape parameters \n",
    "halos_ID, q, s, cos_i = read_shape_param(proj_shape, convcut=False) #set convcut to false and apply cut later\n",
    "\n",
    "#Match proj_data with shape using HALOID.\n",
    "proj_ind = np.nonzero(np.in1d(proj_data.HALOID, halos_ID))[0]\n",
    "proj_data = proj_data[proj_ind]\n",
    "print  \"After shape matching number of halos in the projection catalog is \", len(proj_data)\n",
    "print \"Number of halos not converged \", len(np.where(proj_shape['converge'] == False)[0])\n",
    "print \"Over {} number of total halos\".format(len(proj_shape))\n",
    "\n",
    "#Match proj_shape with proj_data\n",
    "proj_ind = np.nonzero(np.in1d(halos_ID, proj_data.HALOID))[0]\n",
    "cos_i = cos_i[proj_ind]\n",
    "halos_ID = halos_ID[proj_ind]\n",
    "print \"Number of cosine is \", len(cos_i)\n",
    "#proj_data = proj_data[proj_ind]\n",
    "\n",
    "print halos_ID\n",
    "print proj_data.HALOID"
   ]
  },
  {
   "cell_type": "code",
   "execution_count": 106,
   "metadata": {
    "collapsed": false
   },
   "outputs": [
    {
     "name": "stdout",
     "output_type": "stream",
     "text": [
      "(numpy.record, [('HALOID', '>i8'), ('M200', '>f4'), ('R200', '>f4'), ('M200B', '>f4'), ('R200B', '>f4'), ('M500', '>f4'), ('R500', '>f4'), ('MVIR', '>f4'), ('RVIR', '>f4'), ('M2500', '>f4'), ('R2500', '>f4'), ('VRMS', '>f4'), ('RS', '>f4'), ('JX', '>f4'), ('JY', '>f4'), ('JZ', '>f4'), ('SPIN', '>f4'), ('HALOPX', '>f4'), ('HALOPY', '>f4'), ('HALOPZ', '>f4'), ('HALOVX', '>f4'), ('HALOVY', '>f4'), ('HALOVZ', '>f4'), ('LUMTOT', '>f4'), ('LUM20', '>f4'), ('LBCG', '>f4'), ('RA', '>f4'), ('DEC', '>f4'), ('NGALS', '>i4'), ('N18', '>i4'), ('N19', '>i4'), ('N20', '>i4'), ('N21', '>i4'), ('N22', '>i4'), ('EDGE', '>i2'), ('HOST_HALOID', '>i8'), ('XOFF', '>f4'), ('VOFF', '>f4'), ('B_TO_A', '>f4'), ('C_TO_A', '>f4'), ('AX', '>f4'), ('AY', '>f4'), ('AZ', '>f4'), ('LAMBDA', '>f4'), ('VIRIAL_RATIO', '>f4'), ('Z_TR', '>f4'), ('Z_OB', '>f4'), ('LAMBDA_TR', '>f4'), ('LAMBDA_OB', '>f4'), ('Separation', '>f8')])\n"
     ]
    }
   ],
   "source": [
    "#Need to re-run the proj_data reading before running this again\n",
    "#proj_data = append_fields(proj_data, ['ID', 'q', 's', 'cosi'], [halos_ID, q, s, cos_i], usemask=False)\n",
    "proj_data =  proj_data.view(np.recarray)\n",
    "print proj_data.dtype"
   ]
  },
  {
   "cell_type": "markdown",
   "metadata": {
    "collapsed": false
   },
   "source": [
    "#Save the projection data as a record array\n",
    "outfile = outfile = homedir +'output/projection/proj_shapedata_lowz.npy'\n",
    "np.save(outfile, proj_data)"
   ]
  },
  {
   "cell_type": "markdown",
   "metadata": {},
   "source": [
    "## Tests\n"
   ]
  },
  {
   "cell_type": "markdown",
   "metadata": {},
   "source": [
    "#### Check for orientation dependence of $\\Delta\\lambda$"
   ]
  },
  {
   "cell_type": "code",
   "execution_count": 107,
   "metadata": {
    "collapsed": false
   },
   "outputs": [
    {
     "name": "stdout",
     "output_type": "stream",
     "text": [
      "Maximum richness after cuts is  234.0411\n"
     ]
    }
   ],
   "source": [
    "from repo.halo_shape.read_shape_param import halo_bin_stat\n",
    "\n",
    "#Bin by cosine\n",
    "cosi_num_bin = 5\n",
    "cosi_bin_edge = np.linspace(0,1,cosi_num_bin+1)\n",
    "cosi_bins = []\n",
    "for i in range(cosi_num_bin):\n",
    "    cosi_bins.append([cosi_bin_edge[i], cosi_bin_edge[i+1]])\n",
    "    \n",
    "cosi_bins_ind = halo_bin_stat(cos_i, cosi_bins)\n",
    "\n",
    "#Bin by richness observed\n",
    "lmda_max = np.max(proj_data.LAMBDA_OB)\n",
    "lmda_bins = [[20,30],[30,50],[50, np.inf]] #upper limit must match lower limit of next bin\n",
    "lmda_num_bin = len(lmda_bins)\n",
    "num_lmda_bins = len(lmda_bins)\n",
    "lmda_bins_ind = halo_bin_stat(proj_data.LAMBDA_OB, lmda_bins)\n",
    "lnM_lmda_binned = np.zeros_like(lmda_bins_ind)\n",
    "lnM_lmda_binned = np.array([np.log(proj_data.M200B[lmda_bins_ind[x]]) for x in range(len(lmda_bins_ind))])\n",
    "\n",
    "#print lnM_lmda_binned\n",
    "print 'Maximum richness after cuts is ', lmda_max"
   ]
  },
  {
   "cell_type": "code",
   "execution_count": 108,
   "metadata": {
    "collapsed": false
   },
   "outputs": [],
   "source": [
    "from scipy.stats import sem\n",
    "from scipy.stats import binned_statistic as bin_stat\n",
    "d_lmdafrac = (proj_data['LAMBDA_OB'] - proj_data['LAMBDA_TR'])/proj_data['LAMBDA_OB']\n",
    "\n",
    "#Binned by lambda\n",
    "x = np.linspace(0,1, cosi_num_bin)\n",
    "y = np.empty((lmda_num_bin, cosi_num_bin)); yerr = np.empty((lmda_num_bin, cosi_num_bin))\n",
    "for i, lmda_bin in enumerate(lmda_bins):\n",
    "    #print lmda_bin\n",
    "    for j, cosi_bin_ind in enumerate(cosi_bins_ind):\n",
    "        lmda_ob_binned = proj_data.LAMBDA_OB[cosi_bin_ind]\n",
    "        lmda_bin_ind = halo_bin_stat(lmda_ob_binned, [lmda_bin])\n",
    "        lmda_ob_binned = lmda_ob_binned[lmda_bin_ind][0]\n",
    "        d_lmdafrac_binned= d_lmdafrac[cosi_bin_ind]\n",
    "        d_lmdafrac_binned = d_lmdafrac_binned[lmda_bin_ind][0]\n",
    "        \n",
    "        #lists are mutable \n",
    "        y[i,j] = np.mean(d_lmdafrac_binned)\n",
    "        yerr[i,j] = np.std(d_lmdafrac_binned)     \n",
    "        #print np.shape(d_lmdafrac_binned), np.mean(d_lmdafrac_binned), sem(d_lmdafrac_binned)\n",
    "    #print '\\n'\n",
    "\n",
    "    \n",
    "##Global trend, no binning by richness\n",
    "#Error bars\n",
    "nbins = 10\n",
    "cosi_range = (0.0,1)\n",
    "dlmda_range = (-1,1.1)\n",
    "n, _ = np.histogram(cos_i, bins=nbins, range=cosi_range)\n",
    "sy, _ = np.histogram(cos_i, bins=nbins, weights=d_lmdafrac, range=cosi_range)\n",
    "sy2, cosi_bins = np.histogram(cos_i, bins=nbins, weights=d_lmdafrac**2., range=cosi_range)\n",
    "dlmda_cosi_mean = sy / n\n",
    "dlmda_cosi_std = np.sqrt(sy2/n - dlmda_cosi_mean**2.)"
   ]
  },
  {
   "cell_type": "code",
   "execution_count": 115,
   "metadata": {
    "collapsed": false
   },
   "outputs": [
    {
     "data": {
      "image/png": "[encoded data removed]",
      "text/plain": [
       "<Figure size 288x216 with 1 Axes>"
      ]
     },
     "metadata": {},
     "output_type": "display_data"
    }
   ],
   "source": [
    "#Make it plot of the fractional lambda difference in different richness bins\n",
    "fig, ax = plt.subplots(1,1, figsize = (4,3))\n",
    "#Scatter plot\n",
    "ax.scatter(cos_i, d_lmdafrac, s=0.5, alpha=0.5, color='black')\n",
    "#Error bar plot\n",
    "ax.errorbar((cosi_bins[1:] + cosi_bins[:-1])/2, dlmda_cosi_mean, yerr=dlmda_cosi_std, fmt='ro')\n",
    "\n",
    "'''\n",
    "for i, lmda_bin_ind in enumerate(lmda_bins_ind):\n",
    "    ax.errorbar(x, y[i], yerr=yerr[i], \\\n",
    "                 label=r'$\\lambda \\in [{:.2f},{:.2f})$'.format(lmda_bins[i][0],lmda_bins[i][1]), \\\n",
    "                 marker='o', markersize=2, alpha=0.8, capsize=2)\n",
    "'''\n",
    "\n",
    "plt.xlabel(r'$\\cos{(i)}$', fontsize=14)\n",
    "plt.ylabel(r'$\\frac{\\lambda^{\\rm obs} - \\lambda^{\\rm true}}{\\lambda^{\\rm obs}}$', fontsize=14)\n",
    "#plt.title(r'$\\Delta\\lambda$ in $\\cos{i}$ bins \\newline in Projection catalog')\n",
    "#plt.legend(loc='upper left', fontsize=9)\n",
    "plt.ylim([-0.5,1])\n",
    "plt.show()"
   ]
  },
  {
   "cell_type": "markdown",
   "metadata": {},
   "source": [
    "#### Checking if halos are out of the filebin boundaries of the lightcones"
   ]
  },
  {
   "cell_type": "raw",
   "metadata": {},
   "source": [
    "# from repo.halo_shape.shape_model import query_file, read_radial_bin\n",
    "\n",
    "#Master function to call the helper functions to read halo pixel and radius profiles\n",
    "'''\n",
    "Checks if halo bin number of format snapshot_Lightcone_{}_{}, with first {} the radial bin number and\n",
    "the second {} the pixel number. \n",
    "\n",
    "Inputs:\n",
    "RA, DEC, r, z: the (RA,DEC) and comoving distance and redshifts of halos. Must have same length. \n",
    "r is the comoving distance in Mpc (without h-scaling)\n",
    "'''\n",
    "def read_halo_filebin(ra, dec, r, z):\n",
    "    halo_len = [len(ra), len(dec), len(r), len(z)]\n",
    "    #Check that lengths of each element are the same\n",
    "    assert halo_len.count(halo_len[0]) == len(halo_len), \"Elements have different lengths\"\n",
    "    \n",
    "    basepath = set_basepath(z)\n",
    "    filename = query_file(basepath, ra, dec, r)\n",
    "    \n",
    "    print \"All halos inside lightcone files.\"\n",
    "    return\n",
    "    \n",
    "    \n",
    "def set_basepath(red_cen):\n",
    "    if (red_cen > 0.34) & (red_cen < 0.90):\n",
    "        basepath = setup.buzzard_particles_highz_dir()\n",
    "    elif (red_cen <= 0.34):\n",
    "        basepath = setup.buzzard_particles_lowz_dir()\n",
    "    else:\n",
    "        raise Exception('redshift z={} outside of Buzzard range'.format(red_cen))\n",
    "    return basepath"
   ]
  },
  {
   "cell_type": "markdown",
   "metadata": {},
   "source": [
    "#### Finding a specific halo"
   ]
  },
  {
   "cell_type": "code",
   "execution_count": null,
   "metadata": {
    "collapsed": false
   },
   "outputs": [],
   "source": [
    "\"Element in nd array `a` closest to the scalar value `a0`\"\n",
    "def find_nearest(a, a0):\n",
    "    a0 = np.array(a0)\n",
    "    idx = np.empty(len(a0))\n",
    "    for i in range(len(idx)):\n",
    "        idx[i] = np.abs(a - a0[i]).argmin()\n",
    "    return idx\n",
    "\n",
    "\n",
    "#Open up the file and from nearest in RA,DEC find the halo index\n",
    "proj_dir = homedir + 'data/projection/proj_allz.dat'\n",
    "halos_ID, halos_RA, halos_DEC, halos_z, halos_X, halos_Y, halos_Z, halos_M200B, halos_Mvir, halos_Rvir \\\n",
    "        = np.loadtxt(proj_dir, dtype =\"i, f, f, f, f, f, f, f, f, f\", unpack=True, usecols=range(0,10), skiprows=1)\n",
    "\n",
    "#Checked that the DEC of halos matches too. \n",
    "#DEC_bug = [5.314832, 32.36425, 8.469979, 27.166033, 35.252964, 10.443577, 0.42193112, 28.524832, 24.96024, 4.001432]\n",
    "RA_bug = np.array([0.826730787754, 131.528915405, 8.21925354004, 9.20631217957, 158.795761108, 163.899871826, \\\n",
    "                  27.3393783569, 4.24623680115, 143.395095825, 164.901733398]) \n",
    "ind_bug = find_nearest(halos_RA, RA_bug).astype(int).tolist()\n",
    "print ind_bug, type(ind_bug)\n",
    "print proj_data.RA[ind_bug], proj_data.DEC[ind_bug], proj_data.Z_TR[ind_bug]\n",
    "print max(proj_data.Z_TR)\n",
    "#Run the program using that halo index first and see if it generates a bug\n",
    "#If not run the whole program and wait. "
   ]
  },
  {
   "cell_type": "code",
   "execution_count": null,
   "metadata": {
    "collapsed": false
   },
   "outputs": [],
   "source": [
    "x = np.linspace(0,len(proj_data.Z_TR), len(proj_data.Z_TR))\n",
    "plt.figure(figsize=(4,3))\n",
    "plt.hist(proj_data.Z_TR)\n",
    "plt.show()\n",
    "\n",
    "num_highz = float(len(np.where(proj_data.Z_TR >= 0.34)[0]))\n",
    "num_lowz = float(len(np.where(proj_data.Z_TR < 0.34)[0]))\n",
    "highz_frac = (num_highz)/(num_lowz + num_highz)\n",
    "print highz_frac, num_highz, num_lowz"
   ]
  },
  {
   "cell_type": "markdown",
   "metadata": {},
   "source": [
    "#### Checking sky footprint of halos"
   ]
  },
  {
   "cell_type": "code",
   "execution_count": null,
   "metadata": {
    "collapsed": false
   },
   "outputs": [],
   "source": [
    "#Rotate the halo files\n",
    "import healpy as hp\n",
    "import fitsio\n",
    "from tools.setup.setup import tools_home_dir\n",
    "import pickle\n",
    "\n",
    "from astropy import units as u\n",
    "from astropy.coordinates import SkyCoord\n",
    "\n",
    "\n",
    "#file containing the rotation matrix \n",
    "toolsdir = tools_home_dir()\n",
    "rotfile = toolsdir+'desy3_irot.pkl'\n",
    "with open(rotfile, 'r') as fp:\n",
    "    rmat = pickle.load(fp)\n",
    "    \n",
    "proj_posvec = np.array([proj_X, proj_Y, proj_Z])\n",
    "proj_rposvec = np.dot(rmat, proj_posvec)\n",
    "\n",
    "#Rotate the Cartesian positions.\n",
    "proj_X = proj_rposvec[0]; proj_Y = proj_rposvec[1]; proj_Z = proj_rposvec[2]\n",
    "#convert to angular coords (in Radians)\n",
    "theta, phi = hp.vec2ang(proj_rposvec.T)\n",
    "proj_DEC_rot = (np.pi/2 - theta) * 180/np.pi\n",
    "proj_RA_rot = phi * 180/np.pi"
   ]
  },
  {
   "cell_type": "code",
   "execution_count": null,
   "metadata": {
    "collapsed": false
   },
   "outputs": [],
   "source": [
    "plt.figure(figsize=(4,3))\n",
    "plt.scatter(proj_RA_rot[ind_bug], proj_DEC_rot[ind_bug], s=5)\n",
    "plt.scatter(proj_RA_rot, proj_DEC_rot, s=0.1, alpha=0.1)\n",
    "plt.show()"
   ]
  },
  {
   "cell_type": "markdown",
   "metadata": {},
   "source": [
    "#### cos(i) distribution across richness mass\n",
    "make this into a color-density plot"
   ]
  },
  {
   "cell_type": "code",
   "execution_count": null,
   "metadata": {
    "collapsed": false
   },
   "outputs": [],
   "source": [
    "#On colomaps: https://plot.ly/matplotlib/colors-and-colormaps/\n",
    "#Another good one: https://matplotlib.org/examples/pylab_examples/pcolor_demo.html\n",
    "from matplotlib import cm\n",
    "from matplotlib.colors import ListedColormap, LinearSegmentedColormap\n",
    "from collections import OrderedDict\n",
    "\n",
    "viridis = cm.get_cmap('viridis', 256)\n",
    "fig, axs = plt.subplots(1 ,1, tight_layout=True, figsize=(4,3))\n",
    "\n",
    "cbin = cosi_bins_ind[4]\n",
    "cb1 = plt.scatter(proj_data['M200B'][cbin], proj_data['LAMBDA_OB'][cbin], c = proj_data['cosi'][cbin], cmap = viridis, \\\n",
    "            s =0.1, label='Matteo Projection Catalog')\n",
    "cbar = plt.colorbar(cb1, ax=axs)\n",
    "\n",
    "cbar.set_label(r'$cos(i)$')\n",
    "\n",
    "#plt.scatter(redM_halos['halos_M200b'], redM_halos['redM_lmda'], s =0.1, color='b', label='Buzzard redMaPPer matched')\n",
    "plt.xscale('log'); plt.yscale('log')\n",
    "plt.xlim([1e13,1e15])\n",
    "plt.ylim([5,200])\n",
    "plt.title(r'Projection Catalog, $N = {}$'.format(len(proj_data)))\n",
    "#plt.legend()\n",
    "plt.show()\n",
    "\n",
    "'''\n",
    "#y, x = np.mgrid[slice(-3, 3 + dy, dy), slice(-3, 3 + dx, dx)]\n",
    "\n",
    "#Forget about this part for now. \n",
    "x = proj_data['M200']; y = proj_data['LAMBDA_OB']; z = proj_data['cosi']\n",
    "plt.pcolor(x, y, z, cmap=viridis, vmin=0, vmax=1)\n",
    "plt.title('pcolor')\n",
    "# set the limits of the plot to the limits of the data\n",
    "plt.axis([x.min(), x.max(), y.min(), y.max()])\n",
    "plt.colorbar()\n",
    "plt.xscale('log'); plt.yscale('log')\n",
    "plt.xlim([1e13,1e15])\n",
    "plt.ylim([5,200])\n",
    "plt.show()\n",
    "'''\n",
    "print \"Done\""
   ]
  },
  {
   "cell_type": "markdown",
   "metadata": {},
   "source": [
    "#### Shape information"
   ]
  },
  {
   "cell_type": "code",
   "execution_count": 237,
   "metadata": {
    "collapsed": false
   },
   "outputs": [
    {
     "data": {
      "image/png": "[encoded data removed]",
      "text/plain": [
       "<Figure size 576x576 with 4 Axes>"
      ]
     },
     "metadata": {},
     "output_type": "display_data"
    }
   ],
   "source": [
    "fig, axs = plt.subplots(2, 2, tight_layout=True, figsize=(8,8))\n",
    "num_bin = np.linspace(0.0,1.0,15)\n",
    "\n",
    "#Plotting halo distribution\n",
    "#Plotting redMaPPer selected by cos_i bins\n",
    "for i, lmda_bin_ind in enumerate(lmda_bins_ind):   \n",
    "    lmda_bin_num = len(lmda_bin_ind)\n",
    "    lmda_bin_min = lmda_bins[i][0]; lmda_bin_max = lmda_bins[i][1]\n",
    "    \n",
    "    #Convert to probability in each bin\n",
    "    weights = np.ones_like(q[lmda_bin_ind], dtype=float)/lmda_bin_num * 100\n",
    "    #print weights\n",
    "    axs[0,0].hist(q[lmda_bin_ind], num_bin, density=False, fill=False, weights=weights, histtype='step', \\\n",
    "               label=r'$\\lambda \\in [{:.2f}, {:.2f}),\\quad N = {:d}$'.format(lmda_bin_min, lmda_bin_max, lmda_bin_num)) \n",
    "\n",
    "    axs[0,1].hist(s[lmda_bin_ind], num_bin, density=False, fill=False, weights=weights, histtype='step', \\\n",
    "               label=r'$\\lambda \\in [{:.2f}, {:.2f}), N = {:d}$'.format(lmda_bin_min, lmda_bin_max, lmda_bin_num)) \n",
    "    \n",
    "    axs[1,0].hist(cos_i[lmda_bin_ind], num_bin, density=False, fill=False, weights=weights, histtype='step', \\\n",
    "               label=r'$\\lambda \\in [{:.2f}, {:.2f}), N = {:d}$'.format(lmda_bin_min, lmda_bin_max, lmda_bin_num)) \n",
    "    \n",
    "axs[0,0].set_xlabel(r'$q \\equiv \\frac{c}{a}$', size=15)\n",
    "axs[0,0].set_ylabel('$p(q)$', size=15)\n",
    "#axs[0,0].set_title(r'Ellipticity: Minor to major axis ratio', fontsize=10)\n",
    "\n",
    "axs[0,0].set_ylim((0,60))\n",
    "axs[0,0].legend(loc='upper left', fontsize=12, frameon=False)\n",
    "\n",
    "axs[0,1].set_xlabel(r'$s \\equiv \\frac{b}{a}$', size=15)\n",
    "axs[0,1].set_ylabel('$p(s)$', size=15)\n",
    "#axs[0,1].set_title(r'Ellipticity: Intermediate to major axis ratio', fontsize=10)    \n",
    "\n",
    "axs[1,0].set_xlabel(r'$\\cos{i}$', size=15)\n",
    "axs[1,0].set_ylabel('$p(\\cos{i})$', size=15)\n",
    "axs[-1, -1].axis('off')\n",
    "plt.show()\n",
    "    "
   ]
  },
  {
   "cell_type": "markdown",
   "metadata": {},
   "source": [
    "## Comparing hmf\n",
    "* Buzzard v1.1\n",
    "* Buzzard v1.3\n",
    "* Halorun\n",
    "\n",
    "Halorun and Buzzard v1.3 pdf should be the same as they use the same halos.\n",
    "\n",
    "Run a Somolgorov test for hmf to check for consistency. "
   ]
  },
  {
   "cell_type": "markdown",
   "metadata": {},
   "source": [
    "#### Import Buzzard v1.1"
   ]
  },
  {
   "cell_type": "code",
   "execution_count": 254,
   "metadata": {
    "collapsed": false
   },
   "outputs": [
    {
     "name": "stdout",
     "output_type": "stream",
     "text": [
      "Names of columns in buzz_data are:\n",
      "['HALOID', 'M200', 'R200', 'M200B', 'R200B', 'M500', 'R500', 'MVIR', 'RVIR', 'M2500', 'R2500', 'VRMS', 'RS', 'JX', 'JY', 'JZ', 'SPIN', 'HALOPX', 'HALOPY', 'HALOPZ', 'HALOVX', 'HALOVY', 'HALOVZ', 'LUMTOT', 'LUM20', 'LBCG', 'RA', 'DEC', 'Z', 'NGALS', 'N18', 'N19', 'N20', 'N21', 'N22', 'EDGE', 'HOST_HALOID', 'XOFF', 'VOFF', 'LAMBDA', 'B_TO_A', 'C_TO_A', 'AX', 'AY', 'AZ', 'VIRIAL_RATIO']\n",
      "\n",
      "Number of halos is 11212838\n"
     ]
    }
   ],
   "source": [
    "buzzard_dir = datadir + 'buzzard_halo/chinchilla/' + 'Buzzard_v1.1_halos.fit'\n",
    "buzz_list = fits.open(buzzard_dir)\n",
    "buzz_data = buzz_list[1].data\n",
    "\n",
    "#Checking FITS into\n",
    "print \"Names of columns in buzz_data are:\"\n",
    "print buzz_data.names\n",
    "\n",
    "#Converting FITS files into record array\n",
    "buzz_data = np.array(buzz_data, dtype=buzz_data.dtype)\n",
    "buzz_v11_data = buzz_data.view(np.recarray)\n",
    "#buzz_dist = cosmo.comoving_distance(buzz_data.Z)\n",
    "\n",
    "print \"\\nNumber of halos is\", len(buzz_v11_data)"
   ]
  },
  {
   "cell_type": "markdown",
   "metadata": {},
   "source": [
    "#### HMF from Buzzard v1.3 random halos"
   ]
  },
  {
   "cell_type": "code",
   "execution_count": 255,
   "metadata": {
    "collapsed": false
   },
   "outputs": [
    {
     "name": "stdout",
     "output_type": "stream",
     "text": [
      "Names of columns in buzz_data are:\n",
      "['ID', 'DESCID', 'MVIR', 'VMAX', 'VRMS', 'RVIR', 'RS', 'NP', 'PX', 'PY', 'PZ', 'VX', 'VY', 'VZ', 'JX', 'JY', 'JZ', 'SPIN', 'RS_KLYPIN', 'MVIR_ALL', 'M200B', 'M200C', 'M500C', 'M2500C', 'XOFF', 'VOFF', 'SPIN_BULLOCK', 'B_TO_A', 'C_TO_A', 'PID', 'LUMTOT', 'LUM20', 'LBCG', 'NGALS', 'N18', 'N19', 'N20', 'N21', 'N22', 'Z', 'RA', 'DEC']\n",
      "\n",
      "Number of halos is 12198813\n"
     ]
    }
   ],
   "source": [
    "buzzard_dir = datadir + 'buzzard_halo/chinchilla/' + 'Chinchilla-0_halos_all.fits'\n",
    "buzz_list = fits.open(buzzard_dir)\n",
    "buzz_data = buzz_list[1].data\n",
    "\n",
    "#Checking FITS into\n",
    "print \"Names of columns in buzz_data are:\"\n",
    "print buzz_data.names\n",
    "\n",
    "#Converting FITS files into record array\n",
    "buzz_data = np.array(buzz_data, dtype=buzz_data.dtype)\n",
    "buzz_v13_data = buzz_data.view(np.recarray)\n",
    "#buzz_dist = cosmo.comoving_distance(buzz_data.Z)\n",
    "\n",
    "print \"\\nNumber of halos is\", len(buzz_v13_data)"
   ]
  },
  {
   "cell_type": "markdown",
   "metadata": {},
   "source": [
    "#### Halorun hmf"
   ]
  },
  {
   "cell_type": "code",
   "execution_count": 263,
   "metadata": {
    "collapsed": false
   },
   "outputs": [
    {
     "name": "stdout",
     "output_type": "stream",
     "text": [
      "Names of columns in hrun_data are: \n",
      "\n",
      "['HALOID', 'M200', 'R200', 'MEM_MATCH_ID', 'RA', 'DEC', 'Z', 'P_BCG', 'Z_LAMBDA', 'LAMBDA_CHISQ', 'LAMBDA_CHISQ_E', 'LAMBDA_CHISQ_ZORIG', 'SCALEVAL', 'LAMBDA_ZRED', 'LAMBDA_ZRED_E', 'MASKFRAC', 'GEOMASKFRAC', 'R_LAMBDA', 'R_MASK', 'Z_LAMBDA_E', 'NCROSS', 'Z_LAMBDA_NITER', 'DLAMBDA_DZ', 'DLAMBDA_DZ2', 'DLAMBDAVAR_DZ', 'DLAMBDAVAR_DZ2', 'C_LAMBDA', 'C_LAMBDA_ERR', 'MAG_LAMBDA_ERR', 'PZBINS', 'PZ', 'Z_LAMBDA_RAW', 'Z_LAMBDA_E_RAW', 'BCG_SPEC_Z', 'LIM_EXPTIME', 'LIM_LIMMAG_DERED', 'LIM_LIMMAG', 'LIM_LIMMAG_HARD', 'ra_cent', 'dec_cent', 'p_cen', 'p_sat', 'ID_CENT']\n",
      "\n",
      " Number of halos is 124403\n"
     ]
    }
   ],
   "source": [
    "hrun_dir = datadir + 'halo_run/'+'buzzard-0_1.6_y3_run_halos_lambda_chisq_chto.fit'\n",
    "hrun_list = fits.open(hrun_dir)\n",
    "hrun_data = hrun_list[1].data\n",
    "\n",
    "#Checking FITS into\n",
    "#hrun_list.info()\n",
    "print \"Names of columns in hrun_data are: \\n\"\n",
    "print hrun_data.names\n",
    "\n",
    "#Converting FITS files into record array\n",
    "hrun_data = np.array(hrun_data, dtype=hrun_data.dtype)\n",
    "hrun_data = hrun_data.view(np.recarray)\n",
    "\n",
    "print \"\\n Number of halos is\", len(hrun_data)"
   ]
  },
  {
   "cell_type": "code",
   "execution_count": 280,
   "metadata": {
    "collapsed": false
   },
   "outputs": [
    {
     "data": {
      "image/png": "[encoded data removed]",
      "text/plain": [
       "<Figure size 432x288 with 1 Axes>"
      ]
     },
     "metadata": {},
     "output_type": "display_data"
    }
   ],
   "source": [
    "m_range = (5e13, 1e15)\n",
    "mbins = 50\n",
    "plt.hist(buzz_v11_data.M200B, mbins, m_range, label='v1.1', density=True, alpha=0.5)\n",
    "plt.hist(buzz_v13_data.M200B, mbins, m_range, label='v1.3', density=True, alpha=0.5)\n",
    "plt.hist(hrun_data.M200,      mbins, m_range, label='halorun', density=True, alpha=0.5)\n",
    "plt.yscale('log'); plt.xscale('log')\n",
    "plt.legend(loc='best')\n",
    "plt.show()"
   ]
  },
  {
   "cell_type": "code",
   "execution_count": null,
   "metadata": {
    "collapsed": true
   },
   "outputs": [],
   "source": [
    "#Apply Somolgorov test for consistency between distributions. "
   ]
  }
 ],
 "metadata": {
  "anaconda-cloud": {},
  "kernelspec": {
   "display_name": "Python [conda root]",
   "language": "python",
   "name": "conda-root-py"
  },
  "language_info": {
   "codemirror_mode": {
    "name": "ipython",
    "version": 2
   },
   "file_extension": ".py",
   "mimetype": "text/x-python",
   "name": "python",
   "nbconvert_exporter": "python",
   "pygments_lexer": "ipython2",
   "version": "2.7.14"
  }
 },
 "nbformat": 4,
 "nbformat_minor": 1
}
