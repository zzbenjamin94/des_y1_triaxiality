{
 "cells": [
  {
   "cell_type": "markdown",
   "metadata": {},
   "source": [
    "## Testing the halo_run catalog\n",
    "#### Zhuowen Zhang; Created Oct. 10, 2018\n",
    "\n",
    "Testing properties of the halo_run catalog and comparing it with the Chinchilla_unique catalog. "
   ]
  },
  {
   "cell_type": "markdown",
   "metadata": {},
   "source": [
    "### Initial setup"
   ]
  },
  {
   "cell_type": "code",
   "execution_count": 3,
   "metadata": {
    "collapsed": false
   },
   "outputs": [],
   "source": [
    "import numpy as np\n",
    "\n",
    "# import pyplot and set some parameters to make plots prettier\n",
    "import matplotlib.pyplot as plt\n",
    "from tools.plot_utils import plot_pretty\n",
    "plot_pretty()\n",
    "\n",
    "# setup notebook for inline figures\n",
    "%matplotlib inline"
   ]
  },
  {
   "cell_type": "markdown",
   "metadata": {},
   "source": [
    "### Importing Halo Files"
   ]
  },
  {
   "cell_type": "markdown",
   "metadata": {},
   "source": [
    "#### Halo_Run Catalog"
   ]
  },
  {
   "cell_type": "code",
   "execution_count": 70,
   "metadata": {
    "collapsed": false
   },
   "outputs": [
    {
     "name": "stdout",
     "output_type": "stream",
     "text": [
      "Number of halos is 124403\n"
     ]
    }
   ],
   "source": [
    "from tools.setup.setup import data_home_dir, home_dir\n",
    "import pyfits\n",
    "datadir = data_home_dir()\n",
    "hrun_dir = datadir + 'halo_run/'+'buzzard-0_1.6_y3_run_halos_lambda_chisq_chto.fit'\n",
    "hrun_list = pyfits.open(hrun_dir)\n",
    "hrun_data = hrun_list[1].data\n",
    "\n",
    "hrun_haloID = hrun_data['HALOID']; hrun_redMID = hrun_data['MEM_MATCH_ID']\n",
    "hrun_lmda = hrun_data['LAMBDA_CHISQ']; \\\n",
    "hrun_z = hrun_data['Z']; hrun_RA = hrun_data['RA']; hrun_DEC = hrun_data['DEC']; \\\n",
    "hrun_M200 = hrun_data['M200']; hrun_R200 = hrun_data['R200']\n",
    "\n",
    "print \"Number of halos is\", len(hrun_data)\n",
    "#print hrun_data.columns"
   ]
  },
  {
   "cell_type": "markdown",
   "metadata": {},
   "source": [
    "#### redMaPPer matched halos from Chinchilla"
   ]
  },
  {
   "cell_type": "code",
   "execution_count": 71,
   "metadata": {
    "collapsed": false
   },
   "outputs": [],
   "source": [
    "homedir = home_dir()\n",
    "redM_dir = homedir + 'output/buzzard/'+'halo_redM_matched.dat'\n",
    "\n",
    "#Import parameters from halo_redM_matched\n",
    "redM_ID, redM_RA, redM_DEC, redM_z, redM_lmda, \\\n",
    "        halos_matched_ID, halos_matched_RA, halos_matched_DEC, halos_matched_z, \\\n",
    "        halos_matched_X, halos_matched_Y, halos_matched_Z, halos_matched_M, halos_matched_Rvir = \\\n",
    "        np.loadtxt(redM_dir, dtype =\"i, f, f, f, f, i, f, f, f, f, f, f, f, f\", \\\n",
    "                     unpack=True, usecols=range(0,14), skiprows=1)"
   ]
  },
  {
   "cell_type": "markdown",
   "metadata": {},
   "source": [
    "### Comparing halo_run vs. halo_redM_matched"
   ]
  },
  {
   "cell_type": "markdown",
   "metadata": {},
   "source": [
    "#### Build fiducial cosmology for calc. comoving distance and other cosmological metrics"
   ]
  },
  {
   "cell_type": "code",
   "execution_count": 33,
   "metadata": {
    "collapsed": true
   },
   "outputs": [],
   "source": [
    "#Distance calculations for proximity matching\n",
    "from colossus.cosmology import cosmology\n",
    "\n",
    "#Conform to Buzzard cosmology\n",
    "h = 0.70\n",
    "my_cosmo = {'flat': True, 'H0': h*100, 'Om0': 0.286, 'Ob0': 0.045714, 'sigma8': 0.82, \\\n",
    "            'ns': 0.951, 'Neff':3.04}\n",
    "# set my_cosmo to be the current cosmology\n",
    "cosmo = cosmology.setCosmology('my_cosmo', my_cosmo)   \n",
    "\n",
    "#Set to transverse or line of sight comoving distance? Can't tell. \n",
    "#comoving_r = cosmo.comovingDistance(zmin, zmax, transverse=True)"
   ]
  },
  {
   "cell_type": "markdown",
   "metadata": {},
   "source": [
    "#### Sanity check: All halos in halo_redM_matched should be in halo_run"
   ]
  },
  {
   "cell_type": "code",
   "execution_count": 53,
   "metadata": {
    "collapsed": false
   },
   "outputs": [
    {
     "name": "stdout",
     "output_type": "stream",
     "text": [
      "Number of matched_halos in hrun is  19165 out of  23997\n",
      "Number of clusters in hrun is  21545 out of  23997\n"
     ]
    }
   ],
   "source": [
    "halos_matched_bool = np.isin(halos_matched_ID,  halos_hrun_haloID)\n",
    "redM_matched_bool = np.isin(redM_ID, halos_hrun_redMID)\n",
    "halocut = np.where(halos_matched_bool == True)[0]\n",
    "clcut = np.where(redM_matched_bool == True)[0]\n",
    "print \"Number of matched_halos in hrun is \", len(halocut), \"out of \", len(halos_matched_ID)\n",
    "print \"Number of clusters in hrun is \", len(clcut), \"out of \", len(redM_ID)"
   ]
  },
  {
   "cell_type": "markdown",
   "metadata": {},
   "source": [
    "#### Apply cuts\n",
    "e.g. for matched_halos found in halo_run; or for clusters with MEM_MATCH_ID found in halo_run"
   ]
  },
  {
   "cell_type": "code",
   "execution_count": 59,
   "metadata": {
    "collapsed": false
   },
   "outputs": [],
   "source": [
    "#for matched_halos with IDs also found in halo-run\n",
    "redM_lmda_halocut = redM_lmda[halocut]\n",
    "redM_RA_halocut = redM_RA[halocut] \n",
    "redM_DEC_halocut = redM_DEC[halocut]\n",
    "halos_matched_RA_halocut = halos_matched_RA[halocut]\n",
    "halos_matched_DEC_halocut = halos_matched_DEC[halocut]\n",
    "halos_matched_z_halocut = halos_matched_z[halocut]\n",
    "\n",
    "#for matched_halos with MEM_MATCH_ID cluster IDs also found in halo_run\n",
    "redM_lmda_clcut = redM_lmda[clcut]\n",
    "redM_RA_clcut = redM_RA[clcut] \n",
    "redM_DEC_clcut = redM_DEC[clcut]\n",
    "halos_matched_RA_clcut = halos_matched_RA[clcut]\n",
    "halos_matched_DEC_clcut = halos_matched_DEC[clcut]\n",
    "halos_matched_z_clcut = halos_matched_z[clcut]"
   ]
  },
  {
   "cell_type": "markdown",
   "metadata": {},
   "source": [
    "#### Cluster miscentering from matched halos"
   ]
  },
  {
   "cell_type": "code",
   "execution_count": 60,
   "metadata": {
    "collapsed": false
   },
   "outputs": [],
   "source": [
    "#Find comoving distance to observer\n",
    "redM_comvr = cosmo.comovingDistance(0.0,redM_z)\n",
    "halos_matched_comvr = cosmo.comovingDistance(0.0, halos_matched_z)\n",
    "halos_matched_comvr_halocut = cosmo.comovingDistance(0.0, halos_matched_z_halocut) \n",
    "\n",
    "#Angle difference from RA, DEC using law of cosines\n",
    "d_RA = redM_RA - halos_matched_RA\n",
    "cos_theta = np.sin(redM_DEC)*np.sin(halos_matched_DEC)+\\\n",
    "            np.cos(redM_DEC)*np.cos(halos_matched_DEC)*np.cos(d_RA)\n",
    "    \n",
    "d_RA_halocut = redM_RA_halocut - halos_matched_RA_halocut\n",
    "cos_theta_halocut = np.sin(redM_DEC_halocut)*np.sin(halos_matched_DEC_halocut)+\\\n",
    "            np.cos(redM_DEC_halocut)*np.cos(halos_matched_DEC_halocut)*np.cos(d_RA_halocut)\n",
    "    \n",
    "#comoving distance between halo and clusters from law of cosines\n",
    "#find projected comving distance using redshift of the center halo. \n",
    "d_cmvr = np.sqrt(2*halos_matched_comvr**2. * (1-cos_theta))\n",
    "d_cmvr_halocut = np.sqrt(2*halos_matched_comvr_halocut**2. * (1-cos_theta_halocut))\n",
    "#d_cmvr = np.sqrt(halos_matched_comvr**2. + redM_comvr**2. - 2*redM_comvr*halos_matched_comvr*cos_theta)"
   ]
  },
  {
   "cell_type": "code",
   "execution_count": 69,
   "metadata": {
    "collapsed": false
   },
   "outputs": [
    {
     "data": {
      "image/png": "[encoded data removed]",
      "text/plain": [
       "<Figure size 432x288 with 2 Axes>"
      ]
     },
     "metadata": {},
     "output_type": "display_data"
    }
   ],
   "source": [
    "fig, axs = plt.subplots(1, 2, tight_layout=True)\n",
    "num_bin=13;\n",
    "hist_range = (0,100)\n",
    "\n",
    "#Plotting random halos\n",
    "axs[0].hist(d_cmvr, num_bin, range=hist_range, label='all redM-matched halos')\n",
    "axs[1].hist(d_cmvr_halocut, num_bin, range=hist_range, label='red-matched halos in hrun')\n",
    "\n",
    "#Plot config   \n",
    "axs[0].set_ylim((0,8000))\n",
    "axs[0].set_xlabel('Distance Mpc/h')\n",
    "axs[0].set_ylabel('N')\n",
    "#axs[0].set_title(r'Ellipticity: Minor to major axis ratio', fontsize=10)\n",
    "axs[0].legend(loc='best', fontsize=8, frameon=False)\n",
    "\n",
    "axs[1].set_ylim((0,6000))\n",
    "axs[1].set_xlabel(r'Distance Mpc/h')\n",
    "axs[1].set_ylabel('N')\n",
    "#axs[1].set_title(r'Ellipticity: Intermediate to major axis ratio', fontsize=10)\n",
    "axs[1].legend(loc='best', fontsize=8, frameon=False)\n",
    "#plt.savefig('ellipticity_032018.png')\n",
    "plt.show()"
   ]
  },
  {
   "cell_type": "markdown",
   "metadata": {},
   "source": [
    "#### !TODO!\n",
    "Match hrun_lmda to redM_lmda. See scatter plot. Should be in theory a line if no bias. "
   ]
  },
  {
   "cell_type": "code",
   "execution_count": 81,
   "metadata": {
    "collapsed": false
   },
   "outputs": [
    {
     "name": "stdout",
     "output_type": "stream",
     "text": [
      "19165\n",
      "4379 19165\n"
     ]
    },
    {
     "data": {
      "text/plain": [
       "'\\nfor i, cur_ID in enumerate(halos_matched_ID):\\n    if i %10000 == 0: print i\\n    if np.isin(cur_ID, hrun_haloID):\\n        ind = np.where(hrun_haloID == cur_ID)[0]\\n        lmda_a.append(redM_lmda[i])\\n        lmda_b.append(ind[0])\\n'"
      ]
     },
     "execution_count": 81,
     "metadata": {},
     "output_type": "execute_result"
    }
   ],
   "source": [
    "cut = np.where(np.isin(hrun_haloID, halos_matched_ID)==True)\n",
    "hrun_haloID_cut = hrun_haloID[cut]\n",
    "hrun_haloID_cut = np.unique(hrun_haloID_cut)\n",
    "\n",
    "#hrun_lmda_cut = hrun_lmda[cut]\n",
    "#hrun_lmda_cut = np.unique(hrun_lmda_cut)\n",
    "print len(hrun_haloID_cut)\n",
    "print len(hrun_lmda_cut), len(redM_lmda_halocut)\n",
    "\n",
    "lmda_a = []\n",
    "lmda_b = []\n",
    "for i, cur_ID in enumerate(hrun_haloID_cut):\n",
    "    if i %10000 == 0: print i\n",
    "    ind_a = np.where(hrun_haloID_cut)    \n",
    "        \n",
    "    if np.isin(cur_ID, hrun_haloID):\n",
    "        ind = np.where(hrun_haloID == cur_ID)[0]\n",
    "        lmda_a.append(redM_lmda[i])\n",
    "        lmda_b.append(ind[0])\n",
    "\n",
    "        \n",
    "\n",
    "#plt.scatter(lmda_a, lmda_b, s=0.1)\n",
    "#plt.show()"
   ]
  },
  {
   "cell_type": "code",
   "execution_count": null,
   "metadata": {
    "collapsed": true
   },
   "outputs": [],
   "source": []
  }
 ],
 "metadata": {
  "anaconda-cloud": {},
  "kernelspec": {
   "display_name": "Python [conda env:anaconda2]",
   "language": "python",
   "name": "conda-env-anaconda2-py"
  },
  "language_info": {
   "codemirror_mode": {
    "name": "ipython",
    "version": 2
   },
   "file_extension": ".py",
   "mimetype": "text/x-python",
   "name": "python",
   "nbconvert_exporter": "python",
   "pygments_lexer": "ipython2",
   "version": "2.7.14"
  }
 },
 "nbformat": 4,
 "nbformat_minor": 1
}
