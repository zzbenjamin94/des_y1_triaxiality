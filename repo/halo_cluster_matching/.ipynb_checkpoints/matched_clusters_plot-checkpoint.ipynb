{
 "cells": [
  {
   "cell_type": "markdown",
   "metadata": {},
   "source": [
    "## Run diagnostic plots/statistics (e.g. HMF, richness) for halo-matched cluster. \n",
    "Useful for comparing matching algos. "
   ]
  },
  {
   "cell_type": "code",
   "execution_count": 1,
   "metadata": {
    "collapsed": true
   },
   "outputs": [],
   "source": [
    "import numpy as np\n",
    "\n",
    "# import pyplot and set some parameters to make plots prettier\n",
    "import matplotlib.pyplot as plt\n",
    "from tools.plot_utils import plot_pretty\n",
    "plot_pretty()\n",
    "%matplotlib inline\n",
    "\n",
    "import sys\n",
    "sys.path.append('/home/zzbenjamin94/Desktop/Astronomy/Research/DES_Galaxy_Cluster')\n",
    "from mpl_toolkits.mplot3d import Axes3D\n",
    "from tools.setup.setup import tools_home_dir, home_dir, bigdata_home_dir\n",
    "import astropy.io.fits as fits\n",
    "toolsdir = tools_home_dir()\n",
    "homedir = home_dir()\n",
    "bigdatadir = bigdata_home_dir()\n",
    "\n",
    "import astropy.io.fits as pyfits\n",
    "import ConfigParser\n",
    "import healpy as hp\n",
    "import treecorr\n",
    "import os"
   ]
  },
  {
   "cell_type": "markdown",
   "metadata": {},
   "source": [
    "## Import catalogs"
   ]
  },
  {
   "cell_type": "markdown",
   "metadata": {},
   "source": [
    "### Farahi16_Chinchilla_v1.9.9 matched clusters"
   ]
  },
  {
   "cell_type": "code",
   "execution_count": 53,
   "metadata": {
    "collapsed": false
   },
   "outputs": [
    {
     "name": "stdout",
     "output_type": "stream",
     "text": [
      "(numpy.record, [('index', '<i8'), ('HALOID', '<i8'), ('PMEM', '<f8'), ('Strength', '<f8'), ('MEM_MATCH_ID', '<i8'), ('Rank', '<i8')])\n",
      "(57460,)\n",
      "[8.48976910e-01 2.08422113e-02 1.91132575e-02 ... 1.34766591e-03\n",
      " 6.36687619e-04 5.28566190e-04]\n"
     ]
    }
   ],
   "source": [
    "import pandas as pd\n",
    "filename = homedir+'output/buzzard/'+'matched_cluster_Farahi16_Chinchilla_v1.9.9.csv'\n",
    "matchedcl_membership = pd.read_csv(homedir+'output/buzzard/'+'matched_cluster_Farahi16_Chinchilla_v1.9.9.csv')\n",
    "\n",
    "#Convert to record array\n",
    "matchedcl_membership= matchedcl_membership.to_records()\n",
    "print matchedcl_membership.dtype\n",
    "print np.shape(matchedcl_membership)\n",
    "print matchedcl_membership['Strength']"
   ]
  },
  {
   "cell_type": "markdown",
   "metadata": {},
   "source": [
    "### redM cluster v1.9.9"
   ]
  },
  {
   "cell_type": "code",
   "execution_count": 13,
   "metadata": {
    "collapsed": false
   },
   "outputs": [
    {
     "name": "stdout",
     "output_type": "stream",
     "text": [
      "Names of redM_matched halo column data are:\n",
      "('mem_match_id', 'ra', 'dec', 'z', 'refmag', 'refmag_err', 'lambda', 'lambda_e', 'z_lambda', 'z_lambda_e', 'cg_spec_z', 'z_spec_init', 'z_init', 'r_lambda', 'r_mask', 'scaleval', 'maskfrac', 'zred', 'zred_e', 'zred_chisq', 'chisq', 'z_lambda_niter', 'ebv_mean', 'lnlamlike', 'lncglike', 'lnlike', 'ra_orig', 'dec_orig', 'w', 'dlambda_dz', 'dlambda_dz2', 'dlambdavar_dz', 'dlambdavar_dz2', 'z_lambda_raw', 'z_lambda_e_raw', 'lim_exptime', 'lim_limmag', 'lim_limmag_hard', 'lambda_c', 'lambda_ce', 'ncent_good', 'maskgal_index', 'mag', 'mag_err', 'pzbins', 'pz', 'ra_cent', 'dec_cent', 'id_cent', 'lambda_cent', 'zlambda_cent', 'p_cen', 'q_cen', 'p_fg', 'q_miss', 'p_sat', 'p_c') \n",
      "\n",
      "Number of redM read is  2849\n"
     ]
    }
   ],
   "source": [
    "#Import the redMaPPer galaxy catalog\n",
    "homedir = home_dir()\n",
    "redM_dir = bigdatadir + '/Buzzard_Sims/v1.9.9/redMaPPer/'+'buzzard_1.9.9_3y3a_rsshift_run_redmapper_v0.5.1_lgt20_vl02_catalog.fit'\n",
    "\n",
    "redM_list = fits.open(redM_dir)\n",
    "redM_data = redM_list[1].data\n",
    "redM_data = redM_data.view(np.recarray)\n",
    "\n",
    "print \"Names of redM_matched halo column data are:\"\n",
    "print redM_data.dtype.names, \"\\n\"\n",
    "print \"Number of redM read is \", len(redM_data)"
   ]
  },
  {
   "cell_type": "markdown",
   "metadata": {},
   "source": [
    "### Halos"
   ]
  },
  {
   "cell_type": "code",
   "execution_count": 14,
   "metadata": {
    "collapsed": false
   },
   "outputs": [
    {
     "name": "stdout",
     "output_type": "stream",
     "text": [
      "Names of halo column data are:\n",
      "('ID', 'DESCID', 'MVIR', 'VMAX', 'VRMS', 'RVIR', 'RS', 'NP', 'PX', 'PY', 'PZ', 'VX', 'VY', 'VZ', 'JX', 'JY', 'JZ', 'SPIN', 'RS_KLYPIN', 'MVIR_ALL', 'M200B', 'M200C', 'M500C', 'M2500C', 'XOFF', 'VOFF', 'SPIN_BULLOCK', 'B_TO_A', 'C_TO_A', 'PID', 'LUMTOT', 'LUM20', 'LBCG', 'NGALS', 'N18', 'N19', 'N20', 'N21', 'N22', 'Z', 'RA', 'DEC') \n",
      "\n",
      "Number of halos read is  14946507\n"
     ]
    }
   ],
   "source": [
    "#Import the redMaPPer galaxy catalog\n",
    "homedir = home_dir()\n",
    "halos_dir = bigdatadir + '/Buzzard_Sims/v1.9.9/halos/'+'Chinchilla-3_v1.9.9_halos_all.fit'\n",
    "\n",
    "halos_list = fits.open(halos_dir)\n",
    "halos_data = halos_list[1].data\n",
    "halos_data = halos_data.view(np.recarray)\n",
    "\n",
    "print \"Names of halo column data are:\"\n",
    "print halos_data.dtype.names, \"\\n\"\n",
    "print \"Number of halos read is \", len(halos_data)"
   ]
  },
  {
   "cell_type": "markdown",
   "metadata": {},
   "source": [
    "## Match best halo to cluster"
   ]
  },
  {
   "cell_type": "code",
   "execution_count": 54,
   "metadata": {
    "collapsed": false
   },
   "outputs": [
    {
     "name": "stdout",
     "output_type": "stream",
     "text": [
      "[     1      2      3 ...  43100  86587 273420] 2849\n",
      "2849\n"
     ]
    }
   ],
   "source": [
    "#Find unique MEM_MATCH_IDs\n",
    "uniq_cl_id = np.unique(matchedcl_membership['MEM_MATCH_ID'])\n",
    "cl_ids = matchedcl_membership['MEM_MATCH_ID']\n",
    "print uniq_cl_id, len(uniq_cl_id)\n",
    "\n",
    "matched_ind = []\n",
    "for i, cur_cl_id in enumerate(uniq_cl_id):\n",
    "    \n",
    "    cur_ids_ind = np.where(cl_ids == cur_cl_id)\n",
    "    cur_cl = matchedcl_membership[cur_ids_ind]\n",
    "    \n",
    "    dummy_ind = np.argmax(cur_cl['Strength']) ## Find halo with highest strength\n",
    "    cur_matched_ind = cur_cl[dummy_ind]['index'] ##Obtain index in the full array\n",
    "    matched_ind.append(cur_matched_ind)\n",
    "    \n",
    "print len(matched_ind)\n",
    "matchedcl_membership = matchedcl_membership[matched_ind] #Filter out the lower strength halos"
   ]
  },
  {
   "cell_type": "code",
   "execution_count": 57,
   "metadata": {
    "collapsed": false
   },
   "outputs": [
    {
     "name": "stdout",
     "output_type": "stream",
     "text": [
      "After filtering number of matched clusters is  2849\n",
      "Number of unique halo matches is  2848\n"
     ]
    }
   ],
   "source": [
    "print \"After filtering number of matched clusters is \", len(matchedcl_membership)\n",
    "\n",
    "#Filter out non-unique halos\n",
    "unique_ID, unique_ind = np.unique(np.unique(matchedcl_membership['HALOID']), return_index=True)\n",
    "matchedcl_membership = matchedcl_membership[unique_ind]\n",
    "print \"Number of unique halo matches is \", len(matchedcl_membership)"
   ]
  },
  {
   "cell_type": "code",
   "execution_count": 58,
   "metadata": {
    "collapsed": false
   },
   "outputs": [
    {
     "name": "stdout",
     "output_type": "stream",
     "text": [
      "372 372\n"
     ]
    }
   ],
   "source": [
    "## Match redM_data and halos_data onto unique\n",
    "\n",
    "intersect1d, comm1, comm2 = np.intersect1d(matchedcl_membership['HALOID'], halos_data['ID'], \\\n",
    "      assume_unique=True, return_indices=True)\n",
    "#matchedcl_membership = matchedcl_membership[comm1]\n",
    "halos_data = halos_data[comm2]\n",
    "print len(matchedcl_membership), len(halos_data)\n",
    "\n",
    "intersect1d, comm1, comm2 = np.intersect1d(matchedcl_membership['MEM_MATCH_ID'], redM_data['mem_match_id'], \\\n",
    "      assume_unique=True, return_indices=True)\n",
    "#matchedcl_membership = matchedcl_membership[comm1]\n",
    "redM_data = redM_data[comm2]\n",
    "print len(matchedcl_membership), len(redM_data)"
   ]
  },
  {
   "cell_type": "code",
   "execution_count": null,
   "metadata": {
    "collapsed": true
   },
   "outputs": [],
   "source": []
  }
 ],
 "metadata": {
  "anaconda-cloud": {},
  "kernelspec": {
   "display_name": "Python [conda env:anaconda2]",
   "language": "python",
   "name": "conda-env-anaconda2-py"
  },
  "language_info": {
   "codemirror_mode": {
    "name": "ipython",
    "version": 2
   },
   "file_extension": ".py",
   "mimetype": "text/x-python",
   "name": "python",
   "nbconvert_exporter": "python",
   "pygments_lexer": "ipython2",
   "version": "2.7.14"
  }
 },
 "nbformat": 4,
 "nbformat_minor": 1
}
