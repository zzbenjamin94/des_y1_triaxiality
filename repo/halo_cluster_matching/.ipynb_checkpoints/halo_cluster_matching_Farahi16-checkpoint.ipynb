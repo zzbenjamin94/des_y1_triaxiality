{
 "cells": [
  {
   "cell_type": "markdown",
   "metadata": {},
   "source": [
    "## Extract parameters from redM galaxies and halo using Farahi16 method. \n",
    "**Parameters needed**\n",
    "1. MEM_MATCH_ID of redMaPPer galaxise. \n",
    "2. HALOID -- IDs of the true cluster\n",
    "3. P_mem, membership probability of redMaPPer galaxies. Sum gives richness. \n",
    "\n",
    "**Method**\n",
    "For each galaxy in cluster redMaPPer number MEM_MATCH_ID, check which HALOID it belongs to. \n",
    "Halo with highest P_mem weighted sum of HALOIDs that intersect MEM_MATCH_ID gets selected. "
   ]
  },
  {
   "cell_type": "code",
   "execution_count": 1,
   "metadata": {
    "collapsed": false
   },
   "outputs": [
    {
     "name": "stdout",
     "output_type": "stream",
     "text": [
      "/home/zzbenjamin94/Desktop/Astronomy/Research/DES_Galaxy_Cluster/\n"
     ]
    }
   ],
   "source": [
    "import numpy as np\n",
    "import sys\n",
    "sys.path.append('/home/zzbenjamin94/Desktop/Astronomy/Research/DES_Galaxy_Cluster')\n",
    "\n",
    "# import pyplot and set some parameters to make plots prettier\n",
    "import matplotlib.pyplot as plt\n",
    "from tools.plot_utils import plot_pretty\n",
    "import pickle\n",
    "plot_pretty()\n",
    "\n",
    "# setup notebook for inline figures\n",
    "%matplotlib inline\n",
    "\n",
    "from tools.setup.setup import data_home_dir, home_dir, bigdata_home_dir\n",
    "import astropy.io.fits as fits\n",
    "\n",
    "datadir = data_home_dir()\n",
    "homedir = home_dir()\n",
    "bigdatadir = bigdata_home_dir()\n",
    "print homedir"
   ]
  },
  {
   "cell_type": "markdown",
   "metadata": {},
   "source": [
    "## Import halo-cluster matched galaxies\n",
    "Galaxies matched in ID of halo truth catalog and the redMaPPer catalog in v1.9.9\n",
    "pickled record array. "
   ]
  },
  {
   "cell_type": "code",
   "execution_count": 2,
   "metadata": {
    "collapsed": false
   },
   "outputs": [
    {
     "name": "stdout",
     "output_type": "stream",
     "text": [
      "Number of halos in the matched_gal is  184815\n",
      "(numpy.record, [('ID', '<i8'), ('MEM_MATCH_ID', '<i8'), ('HALOID', '<i8'), ('RA_OBS_NOROT', '<f4'), ('DEC_OBS_NOROT', '<f4'), ('RA_OBS', '<f4'), ('DEC_OBS', '<f4'), ('TRA', '<f4'), ('TDEC', '<f4'), ('Z', '<f4'), ('PMEM', '<f4'), ('CENTRAL', '?')])\n"
     ]
    }
   ],
   "source": [
    "import pickle\n",
    "\n",
    "filename = homedir +'data/v1.9.9/matchedgal_Farahi16_Chinchilla_v1.9.9.data'\n",
    "infile = open(filename,'rb')\n",
    "matched_gal = pickle.load(infile)\n",
    "matched_gal = matched_gal.view(np.recarray)\n",
    "\n",
    "print \"Number of halos in the matched_gal is \", len(matched_gal)\n",
    "print matched_gal.dtype"
   ]
  },
  {
   "cell_type": "markdown",
   "metadata": {},
   "source": [
    "## Extract parameters and store into panda DataFrame"
   ]
  },
  {
   "cell_type": "code",
   "execution_count": 3,
   "metadata": {
    "collapsed": false,
    "scrolled": true
   },
   "outputs": [
    {
     "name": "stdout",
     "output_type": "stream",
     "text": [
      "          HALOID  MEM_MATCH_ID      PMEM\n",
      "0       10595761          1300  0.953828\n",
      "1       10595761          1300  0.890223\n",
      "2       10595761          1300  0.926485\n",
      "3       13034095           106  0.499008\n",
      "4       10595761          1300  0.725568\n",
      "5       10595761          1300  0.166988\n",
      "6       10595761          1300  0.730331\n",
      "7       10595761          1300  0.586466\n",
      "8       10595761          1300  0.685438\n",
      "9       10595761          1300  0.966997\n",
      "10      10595761          1300  0.648980\n",
      "11      10595761          1300  0.770478\n",
      "12      10595761          1300  0.865716\n",
      "13      10595761          1300  0.595579\n",
      "14      10595761          1300  0.897257\n",
      "15      10595761          1300  0.829169\n",
      "16      10595761          1300  0.935501\n",
      "17      10595761          1300  0.919212\n",
      "18      10595761          1300  0.736871\n",
      "19      10595761          1300  0.867154\n",
      "20      10595761          1300  0.880917\n",
      "21      10595761          1300  0.916934\n",
      "22      10595761          1300  0.813801\n",
      "23      10595761          1300  0.675484\n",
      "24      10595761          1300  0.979417\n",
      "25      10595761          1300  0.813402\n",
      "26      10595761          1300  0.915475\n",
      "27      10595761          1300  0.108039\n",
      "28      10595761          1300  0.535890\n",
      "29      10595761          1300  0.846977\n",
      "...          ...           ...       ...\n",
      "184785  33711510          1956  0.484410\n",
      "184786  33662600          6797  0.384788\n",
      "184787  33662600          6797  0.262592\n",
      "184788  33666140         16127  0.250932\n",
      "184789  33711513          1956  0.372585\n",
      "184790  33711518          1956  0.374953\n",
      "184791  29840086         16127  0.140884\n",
      "184792  29831672          6797  0.120577\n",
      "184793  29836720          6797  0.094023\n",
      "184794  29842407          6797  0.827626\n",
      "184795  29830082         16127  0.166205\n",
      "184796  33730174          9333  0.368999\n",
      "184797  33732926          9333  0.257370\n",
      "184798  29831673         16127  0.638688\n",
      "184799  33744069          9333  0.035641\n",
      "184800  33792467          1956  0.148009\n",
      "184801  29831672          6797  0.307078\n",
      "184802  29831673         16127  0.403390\n",
      "184803  33747743          1160  0.066511\n",
      "184804  33738557          1160  0.056938\n",
      "184805  29913110          9333  0.249313\n",
      "184806  29885710          6797  0.020550\n",
      "184807  29896576          6797  0.059489\n",
      "184808  29894135          6797  0.042900\n",
      "184809  29896576          6797  0.019834\n",
      "184810  29930024          1956  0.148434\n",
      "184811  29930026          1956  0.011534\n",
      "184812  29854784         16127  0.033723\n",
      "184813  29886063          1160  0.139441\n",
      "184814  29934272          1956  0.215878\n",
      "\n",
      "[184815 rows x 3 columns]\n"
     ]
    }
   ],
   "source": [
    "import pandas as pd\n",
    "from tools.membership_matching_algorithm import membership_matching, read_matched_clusters\n",
    "matchedgal_pd = pd.DataFrame.from_records(matched_gal)\n",
    "matchedgal_pd = matchedgal_pd[['HALOID', 'MEM_MATCH_ID', 'PMEM']]\n",
    "print matchedgal_pd"
   ]
  },
  {
   "cell_type": "markdown",
   "metadata": {},
   "source": [
    "### Run the matching algo. This will create a bunch of files so proceed with caution. "
   ]
  },
  {
   "cell_type": "raw",
   "metadata": {},
   "source": [
    "# membership_matching(matchedgal_pd, 'MEM_MATCH_ID', 'HALOID', 'PMEM')\n",
    "matched_clusters = read_matched_clusters()"
   ]
  },
  {
   "cell_type": "markdown",
   "metadata": {},
   "source": []
  },
  {
   "cell_type": "code",
   "execution_count": null,
   "metadata": {
    "collapsed": true
   },
   "outputs": [],
   "source": []
  }
 ],
 "metadata": {
  "anaconda-cloud": {},
  "kernelspec": {
   "display_name": "Python [conda env:anaconda2]",
   "language": "python",
   "name": "conda-env-anaconda2-py"
  },
  "language_info": {
   "codemirror_mode": {
    "name": "ipython",
    "version": 2
   },
   "file_extension": ".py",
   "mimetype": "text/x-python",
   "name": "python",
   "nbconvert_exporter": "python",
   "pygments_lexer": "ipython2",
   "version": "2.7.14"
  }
 },
 "nbformat": 4,
 "nbformat_minor": 1
}
