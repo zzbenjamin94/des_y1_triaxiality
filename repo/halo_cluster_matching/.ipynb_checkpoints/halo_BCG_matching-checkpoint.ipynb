{
 "cells": [
  {
   "cell_type": "markdown",
   "metadata": {},
   "source": [
    "## halo_BCG_matching\n",
    "#### Created Sept. 20, 2019"
   ]
  },
  {
   "cell_type": "code",
   "execution_count": 13,
   "metadata": {
    "collapsed": true
   },
   "outputs": [],
   "source": [
    "import numpy as np\n",
    "import sys\n",
    "sys.path.append('/home/zzbenjamin94/Desktop/Astronomy/Research/DES_Galaxy_Cluster')\n",
    "\n",
    "# import pyplot and set some parameters to make plots prettier\n",
    "import matplotlib.pyplot as plt\n",
    "from tools.plot_utils import plot_pretty\n",
    "import pickle\n",
    "plot_pretty()\n",
    "\n",
    "# setup notebook for inline figures\n",
    "%matplotlib inline\n",
    "\n",
    "from tools.setup.setup import data_home_dir, home_dir, bigdata_home_dir\n",
    "import astropy.io.fits as fits\n",
    "\n",
    "datadir = data_home_dir()\n",
    "homedir = home_dir()\n",
    "bigdatadir = bigdata_home_dir()"
   ]
  },
  {
   "cell_type": "markdown",
   "metadata": {},
   "source": [
    "## Import Files\n",
    "### Import Halo File"
   ]
  },
  {
   "cell_type": "code",
   "execution_count": 14,
   "metadata": {
    "collapsed": false
   },
   "outputs": [
    {
     "name": "stdout",
     "output_type": "stream",
     "text": [
      "Names of columns in halos_data are: \n",
      "\n",
      "['A[Z]', 'A[Y]', 'RA', 'C[Y]', 'VMAX', 'C_TO_A', 'Z', 'Z_COS', 'JX', 'B[Z]', 'TRA', 'VZ', 'B[X]', 'VY', 'HOST_HALOID', 'M200C', 'B[Y]', 'VX', 'JZ', 'A[X]', 'VRMS', 'M200B', 'M500C', 'TDEC', 'RS', 'C[Z]', 'ID', 'SPIN', 'VOFF', 'NP', 'PY', 'RVIR', 'M2500C', 'DEC', 'MVIR', 'C[X]', 'PZ', 'JY', 'XOFF', 'PX', 'B_TO_A']\n",
      "\n",
      " Number of halos is 13368118\n"
     ]
    }
   ],
   "source": [
    "halos_dir = bigdatadir + 'Buzzard_Sims/v1.9.2/Chinchilla-4/halos/Chinchilla-4_halos.all.fits'\n",
    "halos_list = fits.open(halos_dir)\n",
    "halos_data = halos_list[1].data\n",
    "\n",
    "#Checking FITS into\n",
    "#hrun_list.info()\n",
    "print \"Names of columns in halos_data are: \\n\"\n",
    "print halos_data.names\n",
    "\n",
    "#Converting FITS files into record array\n",
    "halos_data = np.array(halos_data, dtype=halos_data.dtype)\n",
    "halos_data = halos_data.view(np.recarray)\n",
    "\n",
    "print \"\\n Number of halos is\", len(halos_data.ID)"
   ]
  },
  {
   "cell_type": "markdown",
   "metadata": {},
   "source": [
    "### Import BCG File"
   ]
  },
  {
   "cell_type": "code",
   "execution_count": 18,
   "metadata": {
    "collapsed": false
   },
   "outputs": [],
   "source": [
    "BCG_filename = bigdatadir + 'Buzzard_Sims/v1.9.2/Chinchilla-4/truth/BCG_info_v1.9.2_Chinchilla-4_lensed.data' \n",
    "BCG_file = open(BCG_filename, \"rb\" )\n",
    "BCG_data = pickle.load(BCG_file)\n",
    "BCG_data = BCG_data.view(np.recarray)"
   ]
  },
  {
   "cell_type": "code",
   "execution_count": 19,
   "metadata": {
    "collapsed": false
   },
   "outputs": [
    {
     "name": "stdout",
     "output_type": "stream",
     "text": [
      "(numpy.record, [('ID', '<i8'), ('HALOID', '<i8'), ('RA', '<f4'), ('TRA', '<f4'), ('DEC', '<f4'), ('TDEC', '<f4'), ('Z', '<f4')])\n",
      "Number of BCGs are  6647993\n"
     ]
    }
   ],
   "source": [
    "##Testing BCG file properties. \n",
    "print BCG_data.dtype\n",
    "print \"Number of BCGs are \", len(BCG_data)"
   ]
  },
  {
   "cell_type": "markdown",
   "metadata": {},
   "source": [
    "## Match halos to BCGs by RA, DEC\n",
    "This program may take way too long. May be better to do it with topcat. "
   ]
  },
  {
   "cell_type": "code",
   "execution_count": 20,
   "metadata": {
    "collapsed": false
   },
   "outputs": [
    {
     "name": "stdout",
     "output_type": "stream",
     "text": [
      "redM index:  0\n",
      "Halo matched index: 2945218\n",
      "Total angular separation:  0.0153837342679\n",
      "RA difference:  0.01114795169857467\n",
      "DEC difference:  0.010601059115501243\n",
      "Redshift difference: 0.598484 \n",
      "\n",
      "redM index:  100\n",
      "Halo matched index: 2945218\n",
      "Total angular separation:  0.0153837342679\n",
      "RA difference:  0.01114795169857467\n",
      "DEC difference:  0.010601059115501243\n",
      "Redshift difference: 0.608851 \n",
      "\n",
      "redM index:  200\n",
      "Halo matched index: 2945218\n",
      "Total angular separation:  0.0153837342679\n",
      "RA difference:  0.01114795169857467\n",
      "DEC difference:  0.010601059115501243\n",
      "Redshift difference: 0.485703 \n",
      "\n",
      "redM index:  300\n",
      "Halo matched index: 2945218\n",
      "Total angular separation:  0.0153837342679\n",
      "RA difference:  0.01114795169857467\n",
      "DEC difference:  0.010601059115501243\n",
      "Redshift difference: 0.58862 \n",
      "\n",
      "redM index:  400\n",
      "Halo matched index: 2945218\n",
      "Total angular separation:  0.0153837342679\n",
      "RA difference:  0.01114795169857467\n",
      "DEC difference:  0.010601059115501243\n",
      "Redshift difference: 0.577555 \n",
      "\n",
      "redM index:  500\n",
      "Halo matched index: 2945218\n",
      "Total angular separation:  0.0153837342679\n",
      "RA difference:  0.01114795169857467\n",
      "DEC difference:  0.010601059115501243\n",
      "Redshift difference: 0.623267 \n",
      "\n",
      "redM index:  600\n",
      "Halo matched index: 2945218\n",
      "Total angular separation:  0.0153837342679\n",
      "RA difference:  0.01114795169857467\n",
      "DEC difference:  0.010601059115501243\n",
      "Redshift difference: 0.542983 \n",
      "\n"
     ]
    },
    {
     "ename": "KeyboardInterrupt",
     "evalue": "",
     "output_type": "error",
     "traceback": [
      "\u001b[0;31m---------------------------------------------------------------------------\u001b[0m",
      "\u001b[0;31mKeyboardInterrupt\u001b[0m                         Traceback (most recent call last)",
      "\u001b[0;32m<ipython-input-20-422428d16ce8>\u001b[0m in \u001b[0;36m<module>\u001b[0;34m()\u001b[0m\n\u001b[1;32m     19\u001b[0m \u001b[0mtestarr\u001b[0m \u001b[0;34m=\u001b[0m \u001b[0mnp\u001b[0m\u001b[0;34m.\u001b[0m\u001b[0marange\u001b[0m\u001b[0;34m(\u001b[0m\u001b[0;36m0\u001b[0m\u001b[0;34m,\u001b[0m\u001b[0;36m1000\u001b[0m\u001b[0;34m,\u001b[0m\u001b[0;36m100\u001b[0m\u001b[0;34m)\u001b[0m\u001b[0;34m\u001b[0m\u001b[0m\n\u001b[1;32m     20\u001b[0m \u001b[0;32mfor\u001b[0m \u001b[0mi\u001b[0m\u001b[0;34m,\u001b[0m \u001b[0mtestn\u001b[0m \u001b[0;32min\u001b[0m \u001b[0menumerate\u001b[0m\u001b[0;34m(\u001b[0m\u001b[0mtestarr\u001b[0m\u001b[0;34m)\u001b[0m\u001b[0;34m:\u001b[0m\u001b[0;34m\u001b[0m\u001b[0m\n\u001b[0;32m---> 21\u001b[0;31m     \u001b[0mind\u001b[0m\u001b[0;34m,\u001b[0m \u001b[0mdist\u001b[0m \u001b[0;34m=\u001b[0m \u001b[0mfind_nearest\u001b[0m\u001b[0;34m(\u001b[0m\u001b[0mtestn\u001b[0m\u001b[0;34m)\u001b[0m\u001b[0;34m\u001b[0m\u001b[0m\n\u001b[0m\u001b[1;32m     22\u001b[0m     \u001b[0;32mprint\u001b[0m \u001b[0;34m\"redM index: \"\u001b[0m\u001b[0;34m,\u001b[0m \u001b[0mtestn\u001b[0m\u001b[0;34m\u001b[0m\u001b[0m\n\u001b[1;32m     23\u001b[0m     \u001b[0;32mprint\u001b[0m \u001b[0;34m\"Halo matched index:\"\u001b[0m\u001b[0;34m,\u001b[0m \u001b[0mind\u001b[0m\u001b[0;34m\u001b[0m\u001b[0m\n",
      "\u001b[0;32m<ipython-input-20-422428d16ce8>\u001b[0m in \u001b[0;36mfind_nearest\u001b[0;34m(ind)\u001b[0m\n\u001b[1;32m     12\u001b[0m \u001b[0;31m#Finding nearest neighbor to the halorun catalog.\u001b[0m\u001b[0;34m\u001b[0m\u001b[0;34m\u001b[0m\u001b[0m\n\u001b[1;32m     13\u001b[0m \u001b[0;32mdef\u001b[0m \u001b[0mfind_nearest\u001b[0m\u001b[0;34m(\u001b[0m\u001b[0mind\u001b[0m\u001b[0;34m)\u001b[0m\u001b[0;34m:\u001b[0m\u001b[0;34m\u001b[0m\u001b[0m\n\u001b[0;32m---> 14\u001b[0;31m     \u001b[0mdist_sep\u001b[0m \u001b[0;34m=\u001b[0m \u001b[0mhalos_coord\u001b[0m\u001b[0;34m.\u001b[0m\u001b[0mseparation\u001b[0m\u001b[0;34m(\u001b[0m\u001b[0mBCG_coord\u001b[0m\u001b[0;34m[\u001b[0m\u001b[0mind\u001b[0m\u001b[0;34m]\u001b[0m\u001b[0;34m)\u001b[0m\u001b[0;34m\u001b[0m\u001b[0m\n\u001b[0m\u001b[1;32m     15\u001b[0m     \u001b[0midx\u001b[0m \u001b[0;34m=\u001b[0m \u001b[0;34m(\u001b[0m\u001b[0mnp\u001b[0m\u001b[0;34m.\u001b[0m\u001b[0mabs\u001b[0m\u001b[0;34m(\u001b[0m\u001b[0mdist_sep\u001b[0m\u001b[0;34m)\u001b[0m\u001b[0;34m)\u001b[0m\u001b[0;34m.\u001b[0m\u001b[0margmin\u001b[0m\u001b[0;34m(\u001b[0m\u001b[0;34m)\u001b[0m\u001b[0;34m\u001b[0m\u001b[0m\n\u001b[1;32m     16\u001b[0m     \u001b[0;32mreturn\u001b[0m \u001b[0midx\u001b[0m\u001b[0;34m,\u001b[0m \u001b[0mdist_sep\u001b[0m\u001b[0;34m[\u001b[0m\u001b[0midx\u001b[0m\u001b[0;34m]\u001b[0m\u001b[0;34m.\u001b[0m\u001b[0mvalue\u001b[0m\u001b[0;34m\u001b[0m\u001b[0m\n",
      "\u001b[0;32m/home/zzbenjamin94/anaconda2/lib/python2.7/site-packages/astropy/coordinates/sky_coordinate.pyc\u001b[0m in \u001b[0;36mseparation\u001b[0;34m(self, other)\u001b[0m\n\u001b[1;32m    765\u001b[0m \u001b[0;34m\u001b[0m\u001b[0m\n\u001b[1;32m    766\u001b[0m         \u001b[0;31m# Get the separation as a Quantity, convert to Angle in degrees\u001b[0m\u001b[0;34m\u001b[0m\u001b[0;34m\u001b[0m\u001b[0m\n\u001b[0;32m--> 767\u001b[0;31m         \u001b[0msep\u001b[0m \u001b[0;34m=\u001b[0m \u001b[0mangular_separation\u001b[0m\u001b[0;34m(\u001b[0m\u001b[0mlon1\u001b[0m\u001b[0;34m,\u001b[0m \u001b[0mlat1\u001b[0m\u001b[0;34m,\u001b[0m \u001b[0mlon2\u001b[0m\u001b[0;34m,\u001b[0m \u001b[0mlat2\u001b[0m\u001b[0;34m)\u001b[0m\u001b[0;34m\u001b[0m\u001b[0m\n\u001b[0m\u001b[1;32m    768\u001b[0m         \u001b[0;32mreturn\u001b[0m \u001b[0mAngle\u001b[0m\u001b[0;34m(\u001b[0m\u001b[0msep\u001b[0m\u001b[0;34m,\u001b[0m \u001b[0munit\u001b[0m\u001b[0;34m=\u001b[0m\u001b[0mu\u001b[0m\u001b[0;34m.\u001b[0m\u001b[0mdegree\u001b[0m\u001b[0;34m)\u001b[0m\u001b[0;34m\u001b[0m\u001b[0m\n\u001b[1;32m    769\u001b[0m \u001b[0;34m\u001b[0m\u001b[0m\n",
      "\u001b[0;32m/home/zzbenjamin94/anaconda2/lib/python2.7/site-packages/astropy/coordinates/angle_utilities.pyc\u001b[0m in \u001b[0;36mangular_separation\u001b[0;34m(lon1, lat1, lon2, lat2)\u001b[0m\n\u001b[1;32m    656\u001b[0m     \"\"\"\n\u001b[1;32m    657\u001b[0m \u001b[0;34m\u001b[0m\u001b[0m\n\u001b[0;32m--> 658\u001b[0;31m     \u001b[0msdlon\u001b[0m \u001b[0;34m=\u001b[0m \u001b[0mnp\u001b[0m\u001b[0;34m.\u001b[0m\u001b[0msin\u001b[0m\u001b[0;34m(\u001b[0m\u001b[0mlon2\u001b[0m \u001b[0;34m-\u001b[0m \u001b[0mlon1\u001b[0m\u001b[0;34m)\u001b[0m\u001b[0;34m\u001b[0m\u001b[0m\n\u001b[0m\u001b[1;32m    659\u001b[0m     \u001b[0mcdlon\u001b[0m \u001b[0;34m=\u001b[0m \u001b[0mnp\u001b[0m\u001b[0;34m.\u001b[0m\u001b[0mcos\u001b[0m\u001b[0;34m(\u001b[0m\u001b[0mlon2\u001b[0m \u001b[0;34m-\u001b[0m \u001b[0mlon1\u001b[0m\u001b[0;34m)\u001b[0m\u001b[0;34m\u001b[0m\u001b[0m\n\u001b[1;32m    660\u001b[0m     \u001b[0mslat1\u001b[0m \u001b[0;34m=\u001b[0m \u001b[0mnp\u001b[0m\u001b[0;34m.\u001b[0m\u001b[0msin\u001b[0m\u001b[0;34m(\u001b[0m\u001b[0mlat1\u001b[0m\u001b[0;34m)\u001b[0m\u001b[0;34m\u001b[0m\u001b[0m\n",
      "\u001b[0;32m/home/zzbenjamin94/anaconda2/lib/python2.7/site-packages/astropy/units/quantity.pyc\u001b[0m in \u001b[0;36m__array_ufunc__\u001b[0;34m(self, function, method, *inputs, **kwargs)\u001b[0m\n\u001b[1;32m    639\u001b[0m         \u001b[0;31m# Call our superclass's __array_ufunc__\u001b[0m\u001b[0;34m\u001b[0m\u001b[0;34m\u001b[0m\u001b[0m\n\u001b[1;32m    640\u001b[0m         result = super(Quantity, self).__array_ufunc__(function, method,\n\u001b[0;32m--> 641\u001b[0;31m                                                        *arrays, **kwargs)\n\u001b[0m\u001b[1;32m    642\u001b[0m         \u001b[0;31m# If unit is None, a plain array is expected (e.g., comparisons), which\u001b[0m\u001b[0;34m\u001b[0m\u001b[0;34m\u001b[0m\u001b[0m\n\u001b[1;32m    643\u001b[0m         \u001b[0;31m# means we're done.\u001b[0m\u001b[0;34m\u001b[0m\u001b[0;34m\u001b[0m\u001b[0m\n",
      "\u001b[0;31mKeyboardInterrupt\u001b[0m: "
     ]
    }
   ],
   "source": [
    "# Finding mismatch between RA, DEC, Z in halorun versus BCG_galaxy\n",
    "from astropy.coordinates import SkyCoord\n",
    "from astropy import units as u\n",
    "from astropy.cosmology import WMAP9 as cosmo\n",
    "from astropy.coordinates import SkyCoord\n",
    "\n",
    "#Using find_nearest iterate through the array and find index of matched ones, also index of unmatched. \n",
    "#Go through the richness-mass template finder. \n",
    "BCG_coord = SkyCoord(BCG_data.TRA*u.deg, BCG_data.TDEC*u.deg,  frame='icrs')\n",
    "halos_coord = SkyCoord(halos_data.TRA*u.deg, halos_data.TDEC*u.deg, frame='icrs')\n",
    "\n",
    "#Finding nearest neighbor to the halorun catalog.\n",
    "def find_nearest(ind):\n",
    "    dist_sep = halos_coord.separation(BCG_coord[ind])\n",
    "    idx = (np.abs(dist_sep)).argmin()\n",
    "    return idx, dist_sep[idx].value\n",
    "\n",
    "#Testing match of specific halo using index testn\n",
    "testarr = np.arange(0,1000,100)\n",
    "for i, testn in enumerate(testarr):\n",
    "    ind, dist = find_nearest(testn)\n",
    "    print \"BCG index: \", testn\n",
    "    print \"Halo matched index:\", ind\n",
    "    print \"Total angular separation: \", dist\n",
    "    print \"RA difference: \", halos_data.TRA[ind] -  BCG_data.TRA[testn]\n",
    "    print \"DEC difference: \", halos_data.TDEC[ind] - BCG_data.TDEC[testn]\n",
    "    #print hrun_data.Z[testn] - redM_gal_data.Z[ind] #Some error in redshift\n",
    "    print \"Redshift difference: {:2g} \\n\".format(BCG_data.Z[testn] - halos_data.Z[ind]) #Small error in redshift"
   ]
  },
  {
   "cell_type": "raw",
   "metadata": {},
   "source": [
    "#Finding BCG's nearest halo neighbor.\n",
    "def find_nearest(ind):\n",
    "    dist_sep = halos_coord.separation(BCG_coord[ind])\n",
    "    idx = (np.abs(dist_sep)).argmin()\n",
    "    return idx, dist_sep[idx].value\n",
    "\n",
    "BCG_matched_ID = [] \n",
    "halo_matched_ID = []\n",
    "\n",
    "#Find the centered ones\n",
    "ang_lim = 1e-5\n",
    "z_lim = 0.01\n",
    "BCG_coord = SkyCoord(BCG_data.TRA*u.deg, BCG_data.TDEC*u.deg,  frame='icrs')\n",
    "halos_coord = SkyCoord(halos_RA*u.deg, halos_DEC*u.deg, frame='icrs')\n",
    "\n",
    "for i, cur_BCG in enumerate(BCG_data):\n",
    "    cur_ID = cur_BCG['HALOID']\n",
    "    cur_RA = cur_BCG['TRA']\n",
    "    cur_DEC = cur_BCG['TDEC']\n",
    "    ind, ang_sep = find_nearest(i)\n",
    "    z_sep = np.abs(cur_BCG['Z'] - halos_z[ind])\n",
    "\n",
    "    #ind = np.argmin(np.abs(cur_RA-halos_RA)) #this speeds up the calculation, asssuming minRA gives min_distance\n",
    "    \n",
    "    halo_ID = halos_ID[ind]\n",
    "    RA_val = halos_RA[ind]\n",
    "    DEC_val = halos_DEC[ind]\n",
    "    #ang_sep = np.sqrt((RA_val-cur_RA)**2 + (DEC_val-cur_DEC)**2)\n",
    "\n",
    "    if (ang_sep <= ang_lim) & (z_sep <= z_lim): \n",
    "        BCG_matched_ID.append(cur_ID)\n",
    "        halo_matched_ID.append(halo_ID)\n",
    "        \n",
    "    if i % 10 == 0: \n",
    "        print \"Processing BCG number \", i\n",
    "        print \"Number of centered are\", len(BCG_matched_ID)\n",
    "print \"Total number of centered clusters are\", len(BCG_matched_ID)\n",
    "print \"Out of total number of clusters of \", len(BCG_data)"
   ]
  },
  {
   "cell_type": "markdown",
   "metadata": {},
   "source": [
    "## Randomly sample halos to produce halo shape"
   ]
  },
  {
   "cell_type": "code",
   "execution_count": null,
   "metadata": {
    "collapsed": false
   },
   "outputs": [],
   "source": [
    "import numpy.random as rand\n",
    "\n",
    "#First apply a redshift cut, and then randomly select in that redshift. \n",
    "halos_cut = np.where((halos_data['Z']<0.84) & (halos_data['M200B'] > 1e13))\n",
    "halos_rand = halos_data[halos_cut]\n",
    "print \"After cuts number of halos are \", len(halos_rand)\n",
    "\n",
    "#Select 100,000 random samples\n",
    "num_rand = int(5e4)\n",
    "rand_samp = rand.randint(0,len(halos_rand), num_rand)\n",
    "halos_rand = halos_rand[rand_samp]\n",
    "\n",
    "#Need to convert Radius to MPC for units to work in the read_halo_particle code\n",
    "halos_rand.RVIR /= 1000"
   ]
  },
  {
   "cell_type": "markdown",
   "metadata": {},
   "source": [
    "## Writing to record array\n"
   ]
  },
  {
   "cell_type": "raw",
   "metadata": {
    "collapsed": false
   },
   "source": [
    "# filehandler = open(\"halos_rand_v1.9.2-Chinchilla-4.data\",\"wb\")\n",
    "pickle.dump(halos_rand, filehandler)\n",
    "filehandler.close()\n",
    "print \"Done\""
   ]
  },
  {
   "cell_type": "markdown",
   "metadata": {},
   "source": [
    "## Testing"
   ]
  },
  {
   "cell_type": "code",
   "execution_count": null,
   "metadata": {
    "collapsed": false
   },
   "outputs": [],
   "source": [
    "#halos_cut = np.where((halos_rand['Z']>0.32))\n",
    "#halos_rand = halos_rand[halos_cut]\n",
    "\n",
    "r = np.sqrt(halos_rand.PX**2 + halos_rand.PY**2 + halos_rand.PZ**2)\n",
    "rbin = r//25\n",
    "print np.max(rbin), np.max(halos_rand.Z)\n",
    "rbin_ind = np.where(rbin == 72)\n",
    "halos_cut = halos_rand[rbin_ind]\n",
    "print halos_cut.Z\n",
    "print np.max(halos_cut.Z), np.min(halos_cut.Z)\n",
    "#print rbin, np.max(rbin), np.min(rbin)\n",
    "#print np.max(halos_rand.Z), np.min(halos_rand.Z)"
   ]
  },
  {
   "cell_type": "code",
   "execution_count": null,
   "metadata": {
    "collapsed": false
   },
   "outputs": [],
   "source": [
    "import matplotlib.pyplot as plt\n",
    "plt.scatter(halos_cut.TRA, halos_cut.TDEC)\n",
    "plt.show()"
   ]
  },
  {
   "cell_type": "code",
   "execution_count": null,
   "metadata": {
    "collapsed": false
   },
   "outputs": [],
   "source": [
    "## Testing for coordinate matching between PX, PY, PZ and RA, DEC, Z\n",
    "from astropy.coordinates import Distance\n",
    "from astropy import units as u\n",
    "from astropy import cosmology\n",
    "from astropy.cosmology import WMAP7 as cosmo\n",
    "from astropy.coordinates import SkyCoord\n",
    "\n",
    "#Select sample halo.\n",
    "testn= 1000\n",
    "test_halo = halos_cut[testn]\n",
    "\n",
    "d_halo = cosmo.comoving_distance([test_halo.Z])*0.702  \n",
    "c = SkyCoord(ra=test_halo.TRA*u.degree, dec=test_halo.TDEC*u.degree, distance=d_halo*u.Mpc)[0]\n",
    "  \n",
    "ptcl_c = SkyCoord(x=-1073.3064, y=483.5157, z=451.49063, representation_type='cartesian')\n",
    "print ptcl_c\n",
    "\n",
    "#print c, d_halo\n",
    "#print c.cartesian.x.value, c.cartesian.y, c.cartesian.z\n",
    "#print test_halo.PX, test_halo.PY, test_halo.PZ\n",
    "#print np.sqrt((c.cartesian.x.value-test_halo.PX)**2. + (c.cartesian.y.value-test_halo.PY)**2. \\\n",
    "#              + (c.cartesian.z.value-test_halo.PZ)**2.)\n",
    "\n",
    "\n",
    "#Set to transverse or line of sight comoving distance? Can't tell. \n",
    "#comoving_r = cosmo.comovingDistance(zmin, zmax, transverse=True)"
   ]
  }
 ],
 "metadata": {
  "anaconda-cloud": {},
  "kernelspec": {
   "display_name": "Python [conda env:anaconda2]",
   "language": "python",
   "name": "conda-env-anaconda2-py"
  },
  "language_info": {
   "codemirror_mode": {
    "name": "ipython",
    "version": 2
   },
   "file_extension": ".py",
   "mimetype": "text/x-python",
   "name": "python",
   "nbconvert_exporter": "python",
   "pygments_lexer": "ipython2",
   "version": "2.7.14"
  }
 },
 "nbformat": 4,
 "nbformat_minor": 1
}
