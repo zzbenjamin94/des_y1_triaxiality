{
 "cells": [
  {
   "cell_type": "code",
   "execution_count": 24,
   "metadata": {
    "collapsed": false
   },
   "outputs": [
    {
     "name": "stdout",
     "output_type": "stream",
     "text": [
      "Names of columns in hrun_data are: \n",
      "\n",
      "['HALOID', 'Mvir', 'MEM_MATCH_ID', 'RA', 'DEC', 'Z', 'P_BCG', 'Z_LAMBDA', 'LAMBDA_CHISQ', 'LAMBDA_CHISQ_E', 'LAMBDA_CHISQ_ZORIG', 'SCALEVAL', 'LAMBDA_ZRED', 'LAMBDA_ZRED_E', 'MASKFRAC', 'GEOMASKFRAC', 'R_LAMBDA', 'R_MASK', 'Z_LAMBDA_E', 'NCROSS', 'Z_LAMBDA_NITER', 'DLAMBDA_DZ', 'DLAMBDA_DZ2', 'DLAMBDAVAR_DZ', 'DLAMBDAVAR_DZ2', 'C_LAMBDA', 'C_LAMBDA_ERR', 'MAG_LAMBDA_ERR', 'PZBINS', 'Z_LAMBDA_RAW', 'Z_LAMBDA_E_RAW', 'BCG_SPEC_Z', 'LIM_EXPTIME', 'LIM_LIMMAG_DERED', 'LIM_LIMMAG', 'LIM_LIMMAG_HARD', 'ra_cent', 'dec_cent', 'p_cen', 'p_sat', 'ID_CENT', 'M200B', 'RVIR', 'PX', 'PY', 'PZ']\n",
      "\n",
      " Number of halos is 144507\n"
     ]
    }
   ],
   "source": [
    "import numpy as np\n",
    "import sys\n",
    "sys.path.append('/home/zzbenjamin94/Desktop/Astronomy/Research/DES_Galaxy_Cluster')\n",
    "\n",
    "# import pyplot and set some parameters to make plots prettier\n",
    "import matplotlib.pyplot as plt\n",
    "from tools.plot_utils import plot_pretty\n",
    "plot_pretty()\n",
    "\n",
    "# setup notebook for inline figures\n",
    "%matplotlib inline\n",
    "\n",
    "from tools.setup.setup import data_home_dir, home_dir\n",
    "import astropy.io.fits as fits\n",
    "\n",
    "datadir = data_home_dir()\n",
    "homedir = home_dir()\n",
    "halos_dir = datadir + 'halo_run/'+'halorun_buzzardunique_matched.fits'\n",
    "halos_list = fits.open(halos_dir)\n",
    "halos_data = halos_list[1].data\n",
    "\n",
    "#Checking FITS into\n",
    "#hrun_list.info()\n",
    "print \"Names of columns in hrun_data are: \\n\"\n",
    "halos_data.names[1] = 'Mvir'\n",
    "print halos_data.names\n",
    "\n",
    "#Converting FITS files into record array\n",
    "halos_data = np.array(halos_data, dtype=halos_data.dtype)\n",
    "halos_data = halos_data.view(np.recarray)\n",
    "\n",
    "print \"\\n Number of halos is\", len(halos_data)\n",
    "\n"
   ]
  },
  {
   "cell_type": "code",
   "execution_count": 25,
   "metadata": {
    "collapsed": true
   },
   "outputs": [],
   "source": [
    "#Rotate the PX, PY, PZ. RA, DEC taken from halo run and are already rotated. \n",
    "#Rotate the halo files\n",
    "import healpy as hp\n",
    "import fitsio\n",
    "from tools.setup.setup import tools_home_dir\n",
    "import pickle\n",
    "\n",
    "toolsdir = tools_home_dir()\n",
    "\n",
    "#file containing the rotation matrix \n",
    "rotfile = toolsdir+'desy3_irot.pkl'\n",
    "\n",
    "with open(rotfile, 'r') as fp:\n",
    "    rmat = pickle.load(fp)\n",
    "\n",
    "halos_posvec = np.array([halos_data['PX'], halos_data['PY'], halos_data['PZ']])\n",
    "halos_rposvec = np.dot(rmat, halos_posvec)\n",
    "\n",
    "#Rotate the Cartesian positions.\n",
    "halos_X = halos_rposvec[0]; halos_Y = halos_rposvec[1]; halos_Z = halos_rposvec[2]"
   ]
  },
  {
   "cell_type": "code",
   "execution_count": 13,
   "metadata": {
    "collapsed": false
   },
   "outputs": [],
   "source": [
    "#HOW to write to the FITS file?\n",
    "#Something to do next and the run the halo_shape program. \n",
    "from astropy.io import fits\n",
    "hdul = fits.open(halos_dir)\n",
    "hdul[1].data['PX'] = halos_X; hdul[1].data['PY'] = halos_Y; hdul[1].data['PZ'] = halos_Z\n",
    "hdul.writeto('halorun_buzzardunique_rotated.fits')"
   ]
  },
  {
   "cell_type": "code",
   "execution_count": null,
   "metadata": {
    "collapsed": true
   },
   "outputs": [],
   "source": [
    "#Change name of parameters"
   ]
  }
 ],
 "metadata": {
  "anaconda-cloud": {},
  "kernelspec": {
   "display_name": "Python [conda root]",
   "language": "python",
   "name": "conda-root-py"
  },
  "language_info": {
   "codemirror_mode": {
    "name": "ipython",
    "version": 2
   },
   "file_extension": ".py",
   "mimetype": "text/x-python",
   "name": "python",
   "nbconvert_exporter": "python",
   "pygments_lexer": "ipython2",
   "version": "2.7.14"
  }
 },
 "nbformat": 4,
 "nbformat_minor": 1
}
