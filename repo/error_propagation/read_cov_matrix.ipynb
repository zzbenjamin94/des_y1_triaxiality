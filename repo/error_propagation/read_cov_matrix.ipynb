{
 "cells": [
  {
   "cell_type": "markdown",
   "metadata": {},
   "source": [
    "## Read and import covariance matrix. \n",
    "Binned by redshift and mass. \n",
    "From sims from Heidi. "
   ]
  },
  {
   "cell_type": "code",
   "execution_count": 49,
   "metadata": {
    "collapsed": true
   },
   "outputs": [],
   "source": [
    "import numpy as np\n",
    "\n",
    "# import pyplot and set some parameters to make plots prettier\n",
    "import matplotlib.pyplot as plt\n",
    "from tools.plot_utils import plot_pretty\n",
    "plot_pretty()\n",
    "%matplotlib inline\n",
    "\n",
    "import sys\n",
    "sys.path.append('/home/zzbenjamin94/Desktop/Astronomy/Research/DES_Galaxy_Cluster')\n",
    "from mpl_toolkits.mplot3d import Axes3D\n",
    "from tools.setup.setup import data_home_dir, home_dir, bigdata_home_dir, tools_home_dir\n",
    "import pyfits\n",
    "shapedir = home_dir()+'output/buzzard/halo_shape/'\n",
    "tpltdir = home_dir() + 'output/lmda_cosi_chains/redM_Buzzard/'\n",
    "ds_tplt_dir = home_dir()+'output/deltasigma/'\n",
    "datadir = data_home_dir()\n",
    "bigdatadir = bigdata_home_dir()\n",
    "toolsdir = tools_home_dir()\n",
    "homedir = home_dir()\n",
    "\n",
    "#Directory for covariance. \n",
    "cov_dir = home_dir() + 'Heidi_Triaxiality/cluster-lensing-cov-master/output/analytic_abacus_scatter0/'\n",
    "\n",
    "import astropy.io.fits as pyfits\n",
    "import ConfigParser\n",
    "import healpy as hp\n",
    "import treecorr\n",
    "import os\n",
    "\n",
    "from repo.halo_shape.halo_shape_stats_backend import kmeans_stats, student_t_test\n",
    "from repo.halo_shape.read_shape_param import halo_bin_stat, read_shape_param"
   ]
  },
  {
   "cell_type": "markdown",
   "metadata": {},
   "source": [
    "### Bin by redshift and mass"
   ]
  },
  {
   "cell_type": "code",
   "execution_count": 50,
   "metadata": {
    "collapsed": false
   },
   "outputs": [
    {
     "name": "stdout",
     "output_type": "stream",
     "text": [
      "(3, 3)\n"
     ]
    }
   ],
   "source": [
    "##3 redshift bins and 3 mass bins. \n",
    "#Make a list of matrices. \n",
    "cov_list = [[0]*3 for i in range(3)]\n",
    "print np.shape(cov_list)\n",
    "\n",
    "z_dirs = {0:cov_dir+'zh0.3_zs0.75/', 1:cov_dir+'zh0.5_zs1.25/', 2:cov_dir+'zh0.7_zs1.75/'}\n",
    "m_dirs = {0:'1e+14_2e+14_R0.1_100_nrp15/', 1:'2e+14_4e+14_R0.1_100_nrp15/', 2:'4e+14_1e+16_R0.1_100_nrp15/'}"
   ]
  },
  {
   "cell_type": "markdown",
   "metadata": {},
   "source": [
    "### Add Cov. in each bin to cov_list"
   ]
  },
  {
   "cell_type": "code",
   "execution_count": 51,
   "metadata": {
    "collapsed": false
   },
   "outputs": [],
   "source": [
    "for i, z_dir in z_dirs.items(): #z_bins\n",
    "    for j, m_dir in m_dirs.items(): #m_bins\n",
    "        cov_binned_dir = z_dir+m_dir\n",
    "        cov_shapenoise_data = np.genfromtxt(cov_binned_dir + 'DeltaSigma_cov_shape_noise.dat')\n",
    "        cov_other_data = np.genfromtxt(cov_binned_dir + 'DeltaSigma_cov_combined.dat')\n",
    "        cov_data = cov_shapenoise_data + cov_other_data\n",
    "        cov_list[i][j] = cov_data #Set as array"
   ]
  },
  {
   "cell_type": "markdown",
   "metadata": {},
   "source": [
    "### Write to file"
   ]
  },
  {
   "cell_type": "code",
   "execution_count": 52,
   "metadata": {
    "collapsed": false
   },
   "outputs": [],
   "source": [
    "import pickle\n",
    "pickle.dump(cov_list, open('DS_cov_binned.p', \"wb\"))"
   ]
  },
  {
   "cell_type": "code",
   "execution_count": null,
   "metadata": {
    "collapsed": true
   },
   "outputs": [],
   "source": []
  }
 ],
 "metadata": {
  "anaconda-cloud": {},
  "kernelspec": {
   "display_name": "Python [conda env:anaconda2]",
   "language": "python",
   "name": "conda-env-anaconda2-py"
  },
  "language_info": {
   "codemirror_mode": {
    "name": "ipython",
    "version": 2
   },
   "file_extension": ".py",
   "mimetype": "text/x-python",
   "name": "python",
   "nbconvert_exporter": "python",
   "pygments_lexer": "ipython2",
   "version": "2.7.14"
  }
 },
 "nbformat": 4,
 "nbformat_minor": 1
}
