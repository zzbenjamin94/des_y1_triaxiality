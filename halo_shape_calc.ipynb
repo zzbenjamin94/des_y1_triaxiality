{
 "cells": [
  {
   "cell_type": "code",
   "execution_count": 8,
   "metadata": {
    "collapsed": true
   },
   "outputs": [],
   "source": [
    "import numpy as np\n",
    "\n",
    "# import pyplot and set some parameters to make plots prettier\n",
    "import matplotlib.pyplot as plt\n",
    "from code.plot_utils import plot_pretty\n",
    "plot_pretty()\n",
    "%matplotlib inline\n",
    "\n",
    "from mpl_toolkits.mplot3d import Axes3D\n",
    "from code.halo_shape_calc import quad_moment\n",
    "from code.lightcone_query_ra_dec import query_file, read_radial_bin\n",
    "from code.setup.setup import data_home_dir\n",
    "import pyfits\n",
    "import healpy as hp\n",
    "datadir = data_home_dir()\n"
   ]
  },
  {
   "cell_type": "code",
   "execution_count": 32,
   "metadata": {
    "collapsed": true
   },
   "outputs": [],
   "source": [
    "\"\"\"\n",
    "Follow convention of Ken Osato: Use reduced quadropole moment to find axis ratio of ellipsoidal cluster\n",
    "1. Project onto principle axes spitted out by quadropole tensor\n",
    "2. Do not remove particles. Particles chosen for those inside Rvir\n",
    "3. Use Reduced tensor\n",
    "4. q, s refer to ratio of minor to major, and intermediate to major axis\n",
    "\n",
    "Returns:\n",
    "converge -- Boolean\n",
    "[a,b,c] -- normalized major, intermediate, minor axes lengths (only ratio matters in reduced tensor)\n",
    "[lx, ly, lz] -- direction of minor, intermediate, major (NOT WORKING YET, they output [1,0,0], [0,1,0],[0,0,1])\n",
    "\"\"\"\n",
    "\n",
    "def quad_moment(ptcl_coord, centr, rvir):\n",
    "    centr_x = centr[0]; centr_y = centr[1]; centr_z = centr[2]\n",
    "    ptcl_coord_x = ptcl_coord[0]; ptcl_coord_y = ptcl_coord[1]; ptcl_coord_z = ptcl_coord[2]\n",
    "\n",
    "    rx = ptcl_coord_x - centr_x; ry = ptcl_coord_y - centr_y; rz = ptcl_coord_z - centr_z \n",
    "\n",
    "    R_range = np.sqrt(rx**2. + ry**2. + rz**2.)\n",
    "    #rmax = np.sqrt(np.max(r_mem_ptcl[:,3]))\n",
    "    #print \"Number of particles before selection is \", len(rx)\n",
    "    \n",
    "    #Choose particles inside Rvir\n",
    "    ptcl_range = np.where(R_range < rvir)\n",
    "    rx = rx[ptcl_range]; ry = ry[ptcl_range]; rz = rz[ptcl_range]\n",
    "     \n",
    "    num_mem_ptcl = len(rx)\n",
    "    #print \"Number of particles inside virial radius is \", num_mem_ptcl\n",
    "\n",
    "    #Building quadrupole tensor. \n",
    "    Rp = np.sqrt(rx**2. + ry**2. + rz**2.)\n",
    "    r = np.matrix([rx,ry,rz])\n",
    "    r_rdu = r/Rp\n",
    "    M_rdu = r_rdu*r_rdu.T #Initial quadrupole tensor before iteration\n",
    "\n",
    "    #Finding eigvec, eigval\n",
    "    M_eigval, M_eigvec = np.linalg.eig(M_rdu)\n",
    "    sort_eigval = np.argsort(M_eigval)[::-1]\n",
    "    a, b, c = np.sqrt(M_eigval[sort_eigval]/num_mem_ptcl) #a, b, c major, intermediate, minor\n",
    "    lx, ly, lz = M_eigvec.T[sort_eigval][::-1] #lx, ly, lz minor, intermediate, major (order reversed from a, b, c)\n",
    "    lx = np.array(lx)[0]; ly = np.array(ly)[0]; lz = np.array(lz)[0]\n",
    "    \n",
    "    #Sanity check\n",
    "    \"\"\"\n",
    "    print \"r_rdu\", r_rdu\n",
    "    check_eig = M_rdu.dot(lx) - num_mem_ptcl*c**2.*lx\n",
    "    print \"M_rdu.dot(lx) \", np.dot(np.array(M_rdu), lx)\n",
    "    print \"check_eig \", check_eig\n",
    "    print \"lx is \", lx\n",
    "    print \"M_eigvec.T[sort_eigval], \", M_eigvec.T[sort_eigval]\n",
    "    print \"M_eigvec[:,0] \", M_eigvec[:,0]\n",
    "    print \"M_eigvec[sort_eigval] \", M_eigvec[sort_eigval]\n",
    "    print \"M_eigvec\", M_eigvec\n",
    "    print \"sort_eigval \", sort_eigval\n",
    "    \"\"\"\n",
    "    \n",
    "    #Initial conditions\n",
    "    q_prev = 1.; s_prev = 1.\n",
    "    converge = False\n",
    "    conv_iter = 0\n",
    "\n",
    "    P_tot = np.eye(3) #the multiplicative product of all projections done over each iteration\n",
    "    while (not converge) & (conv_iter < 100):\n",
    "        #Change of basis\n",
    "        P_axis = np.matrix([lx,ly,lz])\n",
    "        P_tot = P_axis*P_tot\n",
    "        r_proj = P_axis*r\n",
    "        rx = np.array(r_proj[0,:])[0]; ry = np.array(r_proj[1,:])[0]; rz = np.array(r_proj[2,:])[0]\n",
    "\n",
    "        #New iteration\n",
    "        q_cur = c/a; s_cur = b/a #Osato conventaion\n",
    "        Rp = np.sqrt((rx/q_cur)**2. + (ry/s_cur)**2. + rz**2.)\n",
    "        r = np.matrix([rx, ry, rz])\n",
    "        r_rdu = r/Rp\n",
    "        M_rdu = r_rdu*r_rdu.T\n",
    "        M_eigval, M_eigvec = np.linalg.eig(M_rdu)\n",
    "        sort_eigval = np.argsort(M_eigval)[::-1]\n",
    "        a, b, c = np.sqrt(M_eigval[sort_eigval]/num_mem_ptcl)\n",
    "        lx, ly, lz = M_eigvec.T[sort_eigval][::-1]\n",
    "        lx = np.array(lx)[0]; ly = np.array(ly)[0]; lz = np.array(lz)[0]\n",
    "        \n",
    "        #test converge\n",
    "        conv_err = 1e-6\n",
    "        conv_s = np.abs(1 - s_cur/s_prev); conv_q = np.abs(1 - q_cur/q_prev)\n",
    "        converge = (conv_s < conv_err) & (conv_q < conv_err)\n",
    "        #print \"Conv_s, conv_q \", conv_s, conv_q\n",
    "        #print \"Number of particles \", len(rx)\n",
    "        #print \"a, b, c \", a, b, c\n",
    "        #print \"q, s are \", q_cur, s_cur  \n",
    "        #print \"lx\", lx\n",
    "        #print 'converge is ', converge\n",
    "        #print '\\n'\n",
    "        conv_iter += 1\n",
    "        q_prev = q_cur; s_prev = s_cur\n",
    "    \n",
    "    #find lx, ly, lz in original basis\n",
    "    P_inv = np.linalg.inv(P_tot)\n",
    "    l_new_basis = np.matrix([lx,ly,lz]).T\n",
    "    l_orig_basis = np.transpose(P_inv*l_new_basis)\n",
    "    lx_orig = l_orig_basis[0]; ly_orig = l_orig_basis[1]; lz_orig = l_orig_basis[2]\n",
    "    \n",
    "    \n",
    "    return converge, [a,b,c], [lx_orig, ly_orig, lz_orig]"
   ]
  },
  {
   "cell_type": "code",
   "execution_count": 33,
   "metadata": {
    "collapsed": false
   },
   "outputs": [
    {
     "name": "stdout",
     "output_type": "stream",
     "text": [
      "nside, pix, comv-distance, rbin  2 0 659.2645944683915 26\n",
      "Filename is snapshot_Lightcone_26_0\n",
      "axes length are [0.5773504279935158, 0.31355738012861206, 0.23943732103822274]\n",
      "axes dir are [matrix([[ 0.73342967,  0.67975759, -0.00324522]]), matrix([[ 0.00301255, -0.00802432, -0.99996327]]), matrix([[ 0.67975866, -0.73339295,  0.00793308]])]\n"
     ]
    }
   ],
   "source": [
    "from code.Heidi_read_halo_particles import read_halo_ptcl\n",
    "#Test the orientation of \n",
    "#Reading a sample file. Figuring out file number\n",
    "ra = 64.3599024; dec = 16.68787569;\n",
    "x_cen = 273.26001; y_cen = 569.31482; z_cen = 189.31299\n",
    "red_cen = 0.23191588\n",
    "chi_cen = np.sqrt(x_cen**2 + y_cen**2 + z_cen**2)\n",
    "rbin = int(chi_cen//25)\n",
    "rvir = 2.549908\n",
    "\n",
    "path = '{}snapshot_Lightcone_{}_0'.format(datadir, rbin)    \n",
    "hdr, idx = read_radial_bin(path)\n",
    "nside = hdr[2]\n",
    "\n",
    "pix = hp.ang2pix(nside, (90-dec)*np.pi / 180., ra * np.pi / 180., nest=True)\n",
    "\n",
    "filename = 'snapshot_Lightcone_{}_{}'.format(rbin, pix)\n",
    "print 'nside, pix, comv-distance, rbin ', nside, pix, chi_cen, rbin\n",
    "print 'Filename is', filename\n",
    "\n",
    "filename = datadir + 'snapshot_Lightcone_26_1'\n",
    "hdr, idx, pos, vel, ptcl_ID = read_radial_bin(filename, read_pos=True, read_vel=True, read_ids=True)\n",
    "npart = len(pos)//3\n",
    "pos=pos.reshape(npart, 3); vel = vel.reshape(npart,3)\n",
    "#print 'Position \\n', pos\n",
    "#print 'Velocity \\n', vel\n",
    "#print 'Particle ID \\n', ptcl_ID\n",
    "\n",
    "#To do: Find orientation of this halo, and scale this up to all redMapper selected halos \n",
    "#Need shape algorithm, redMapper selected Halo data, \n",
    "\n",
    "x, y, z = read_halo_ptcl(ra, dec, red_cen, x_cen, y_cen, z_cen, Rmax=rvir)\n",
    "ptcl_coord = [x,y,z]; centr = [x_cen, y_cen, z_cen]\n",
    "#print ptcl_coord[0], centr[0], rvir\n",
    "#print ptcl_coord, centr\n",
    "converge, axes_len, axes_dir = quad_moment(ptcl_coord, centr, rvir)"
   ]
  },
  {
   "cell_type": "code",
   "execution_count": 29,
   "metadata": {
    "collapsed": false
   },
   "outputs": [
    {
     "name": "stdout",
     "output_type": "stream",
     "text": [
      "After projecting and inverting vectors are  [[ 1.  -0.5  2. ]] [[1.00000000e+00 2.97422566e-17 1.85659686e-17]] [[-2.22044605e-16 -1.38777878e-17  1.00000000e+00]]\n",
      "After projecting the vectors are  [[7.6 4.2 1.6]] [[0.7 1.5 2.1]] [[3.2 3.  1. ]]\n"
     ]
    }
   ],
   "source": [
    "#Checking that your code makes sense\n",
    "\n",
    "#Arbitrary rotation. Check that inverted produced same vectors\n",
    "rot = np.matrix([[0.7,-1,3.2],[1.5,6.6,3],[2.1,5,1]])\n",
    "\n",
    "#directions of vectors\n",
    "va = np.array([1,-0.5,2])\n",
    "vb = np.array([1,0,0])\n",
    "vc = np.array([0,0,1])\n",
    "vec_arr = np.matrix([va,vb,vc]).T\n",
    "\n",
    "#Rotated vectors\n",
    "P_proj = rot\n",
    "P_inv = np.linalg.inv(P_proj)\n",
    "vec_arr_rot = P_proj*vec_arr\n",
    "vec_arr = P_inv*vec_arr_rot\n",
    "va_rot = vec_arr_rot.T[0]; vb_rot = vec_arr_rot.T[1]; vc_rot = vec_arr_rot.T[2]\n",
    "va = vec_arr.T[0]; vb = vec_arr.T[1]; vc = vec_arr.T[2]"
   ]
  },
  {
   "cell_type": "code",
   "execution_count": null,
   "metadata": {
    "collapsed": true
   },
   "outputs": [],
   "source": []
  }
 ],
 "metadata": {
  "anaconda-cloud": {},
  "kernelspec": {
   "display_name": "Python [conda root]",
   "language": "python",
   "name": "conda-root-py"
  },
  "language_info": {
   "codemirror_mode": {
    "name": "ipython",
    "version": 2
   },
   "file_extension": ".py",
   "mimetype": "text/x-python",
   "name": "python",
   "nbconvert_exporter": "python",
   "pygments_lexer": "ipython2",
   "version": "2.7.12"
  }
 },
 "nbformat": 4,
 "nbformat_minor": 1
}
